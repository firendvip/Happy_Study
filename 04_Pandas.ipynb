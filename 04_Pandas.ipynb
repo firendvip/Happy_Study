{
 "cells": [
  {
   "cell_type": "markdown",
   "metadata": {},
   "source": [
    "# pandas\n",
    "## 数据读取"
   ]
  },
  {
   "cell_type": "code",
   "execution_count": 2,
   "metadata": {
    "collapsed": true
   },
   "outputs": [],
   "source": [
    "import pandas as pd"
   ]
  },
  {
   "cell_type": "code",
   "execution_count": 3,
   "metadata": {
    "collapsed": true
   },
   "outputs": [],
   "source": [
    "path = r'C:\\Users\\10746\\HappyStudy\\Data_Warehouse\\DataVisualization\\countries.csv\\countries.csv'\n",
    "f = open(path,encoding='utf-8')\n",
    "df = pd.read_csv(f)"
   ]
  },
  {
   "cell_type": "code",
   "execution_count": 6,
   "metadata": {
    "collapsed": true
   },
   "outputs": [
    {
     "name": "stdout",
     "output_type": "stream",
     "text": [
      "       country  year  population\n",
      "0  Afghanistan  1952     8425333\n",
      "1  Afghanistan  1957     9240934\n",
      "2  Afghanistan  1962    10267083\n",
      "3  Afghanistan  1967    11537966\n",
      "4  Afghanistan  1972    13079460\n"
     ]
    }
   ],
   "source": [
    "print(df.head()) # 获取前五行数据\n",
    "# print(df)"
   ]
  },
  {
   "cell_type": "markdown",
   "metadata": {},
   "source": [
    "## DataFrame类型"
   ]
  },
  {
   "cell_type": "code",
   "execution_count": 46,
   "metadata": {},
   "outputs": [
    {
     "name": "stdout",
     "output_type": "stream",
     "text": [
      "<class 'pandas.core.frame.DataFrame'>\n"
     ]
    }
   ],
   "source": [
    "print(type(df))"
   ]
  },
  {
   "cell_type": "markdown",
   "metadata": {},
   "source": [
    "## 显示设置"
   ]
  },
  {
   "cell_type": "code",
   "execution_count": 9,
   "metadata": {
    "collapsed": true
   },
   "outputs": [
    {
     "name": "stdout",
     "output_type": "stream",
     "text": [
      "          country  year  population\n",
      "0     Afghanistan  1952     8425333\n",
      "1     Afghanistan  1957     9240934\n",
      "2     Afghanistan  1962    10267083\n",
      "3     Afghanistan  1967    11537966\n",
      "4     Afghanistan  1972    13079460\n",
      "5     Afghanistan  1977    14880372\n",
      "6     Afghanistan  1982    12881816\n",
      "7     Afghanistan  1987    13867957\n",
      "8     Afghanistan  1992    16317921\n",
      "9     Afghanistan  1997    22227415\n",
      "10    Afghanistan  2002    25268405\n",
      "11    Afghanistan  2007    31889923\n",
      "12        Albania  1952     1282697\n",
      "13        Albania  1957     1476505\n",
      "14        Albania  1962     1728137\n",
      "15        Albania  1967     1984060\n",
      "16        Albania  1972     2263554\n",
      "17        Albania  1977     2509048\n",
      "18        Albania  1982     2780097\n",
      "19        Albania  1987     3075321\n",
      "20        Albania  1992     3326498\n",
      "21        Albania  1997     3428038\n",
      "22        Albania  2002     3508512\n",
      "23        Albania  2007     3600523\n",
      "24        Algeria  1952     9279525\n",
      "...           ...   ...         ...\n",
      "1679  Yemen, Rep.  2007    22211743\n",
      "1680       Zambia  1952     2672000\n",
      "1681       Zambia  1957     3016000\n",
      "1682       Zambia  1962     3421000\n",
      "1683       Zambia  1967     3900000\n",
      "1684       Zambia  1972     4506497\n",
      "1685       Zambia  1977     5216550\n",
      "1686       Zambia  1982     6100407\n",
      "1687       Zambia  1987     7272406\n",
      "1688       Zambia  1992     8381163\n",
      "1689       Zambia  1997     9417789\n",
      "1690       Zambia  2002    10595811\n",
      "1691       Zambia  2007    11746035\n",
      "1692     Zimbabwe  1952     3080907\n",
      "1693     Zimbabwe  1957     3646340\n",
      "1694     Zimbabwe  1962     4277736\n",
      "1695     Zimbabwe  1967     4995432\n",
      "1696     Zimbabwe  1972     5861135\n",
      "1697     Zimbabwe  1977     6642107\n",
      "1698     Zimbabwe  1982     7636524\n",
      "1699     Zimbabwe  1987     9216418\n",
      "1700     Zimbabwe  1992    10704340\n",
      "1701     Zimbabwe  1997    11404948\n",
      "1702     Zimbabwe  2002    11926563\n",
      "1703     Zimbabwe  2007    12311143\n",
      "\n",
      "[1704 rows x 3 columns]\n"
     ]
    }
   ],
   "source": [
    "pd.set_option('display.max_row',50) # 设置最大显示50行\n",
    "pd.set_option('display.max_columns',50) # 设置最大显示50列\n",
    "print(df)"
   ]
  },
  {
   "cell_type": "markdown",
   "metadata": {
    "collapsed": true
   },
   "source": [
    "## header调整"
   ]
  },
  {
   "cell_type": "code",
   "execution_count": 42,
   "metadata": {},
   "outputs": [
    {
     "name": "stdout",
     "output_type": "stream",
     "text": [
      "             0     1           2\n",
      "0      country  year  population\n",
      "1  Afghanistan  1952     8425333\n",
      "2  Afghanistan  1957     9240934\n",
      "3  Afghanistan  1962    10267083\n",
      "4  Afghanistan  1967    11537966\n"
     ]
    }
   ],
   "source": [
    "path = r'C:\\Users\\10746\\HappyStudy\\Data_Warehouse\\DataVisualization\\countries.csv\\countries.csv'\n",
    "f = open(path,encoding='utf-8')\n",
    "df = pd.read_csv(f,header=None) # 把第一行设置为不是标题行\n",
    "print(df.head())"
   ]
  },
  {
   "cell_type": "markdown",
   "metadata": {},
   "source": [
    "## index索引调整"
   ]
  },
  {
   "cell_type": "code",
   "execution_count": 26,
   "metadata": {
    "collapsed": true
   },
   "outputs": [
    {
     "name": "stdout",
     "output_type": "stream",
     "text": [
      "             year  population\n",
      "country                      \n",
      "Afghanistan  1952     8425333\n",
      "Afghanistan  1957     9240934\n",
      "Afghanistan  1962    10267083\n",
      "Afghanistan  1967    11537966\n",
      "Afghanistan  1972    13079460\n",
      "Afghanistan  1977    14880372\n",
      "Afghanistan  1982    12881816\n",
      "Afghanistan  1987    13867957\n",
      "Afghanistan  1992    16317921\n",
      "Afghanistan  1997    22227415\n",
      "Afghanistan  2002    25268405\n",
      "Afghanistan  2007    31889923\n",
      "Albania      1952     1282697\n",
      "Albania      1957     1476505\n",
      "Albania      1962     1728137\n",
      "Albania      1967     1984060\n",
      "Albania      1972     2263554\n",
      "Albania      1977     2509048\n",
      "Albania      1982     2780097\n",
      "Albania      1987     3075321\n",
      "Albania      1992     3326498\n",
      "Albania      1997     3428038\n",
      "Albania      2002     3508512\n",
      "Albania      2007     3600523\n",
      "Algeria      1952     9279525\n",
      "...           ...         ...\n",
      "Yemen, Rep.  2007    22211743\n",
      "Zambia       1952     2672000\n",
      "Zambia       1957     3016000\n",
      "Zambia       1962     3421000\n",
      "Zambia       1967     3900000\n",
      "Zambia       1972     4506497\n",
      "Zambia       1977     5216550\n",
      "Zambia       1982     6100407\n",
      "Zambia       1987     7272406\n",
      "Zambia       1992     8381163\n",
      "Zambia       1997     9417789\n",
      "Zambia       2002    10595811\n",
      "Zambia       2007    11746035\n",
      "Zimbabwe     1952     3080907\n",
      "Zimbabwe     1957     3646340\n",
      "Zimbabwe     1962     4277736\n",
      "Zimbabwe     1967     4995432\n",
      "Zimbabwe     1972     5861135\n",
      "Zimbabwe     1977     6642107\n",
      "Zimbabwe     1982     7636524\n",
      "Zimbabwe     1987     9216418\n",
      "Zimbabwe     1992    10704340\n",
      "Zimbabwe     1997    11404948\n",
      "Zimbabwe     2002    11926563\n",
      "Zimbabwe     2007    12311143\n",
      "\n",
      "[1704 rows x 2 columns]\n"
     ]
    }
   ],
   "source": [
    "f = open(path,encoding='utf-8')\n",
    "df = pd.read_csv(f,index_col=0) # 把第0列设置为索引列\n",
    "print(df)"
   ]
  },
  {
   "cell_type": "code",
   "execution_count": 27,
   "metadata": {
    "collapsed": true
   },
   "outputs": [
    {
     "name": "stdout",
     "output_type": "stream",
     "text": [
      "          country  population\n",
      "year                         \n",
      "1952  Afghanistan     8425333\n",
      "1957  Afghanistan     9240934\n",
      "1962  Afghanistan    10267083\n",
      "1967  Afghanistan    11537966\n",
      "1972  Afghanistan    13079460\n",
      "1977  Afghanistan    14880372\n",
      "1982  Afghanistan    12881816\n",
      "1987  Afghanistan    13867957\n",
      "1992  Afghanistan    16317921\n",
      "1997  Afghanistan    22227415\n",
      "2002  Afghanistan    25268405\n",
      "2007  Afghanistan    31889923\n",
      "1952      Albania     1282697\n",
      "1957      Albania     1476505\n",
      "1962      Albania     1728137\n",
      "1967      Albania     1984060\n",
      "1972      Albania     2263554\n",
      "1977      Albania     2509048\n",
      "1982      Albania     2780097\n",
      "1987      Albania     3075321\n",
      "1992      Albania     3326498\n",
      "1997      Albania     3428038\n",
      "2002      Albania     3508512\n",
      "2007      Albania     3600523\n",
      "1952      Algeria     9279525\n",
      "...           ...         ...\n",
      "2007  Yemen, Rep.    22211743\n",
      "1952       Zambia     2672000\n",
      "1957       Zambia     3016000\n",
      "1962       Zambia     3421000\n",
      "1967       Zambia     3900000\n",
      "1972       Zambia     4506497\n",
      "1977       Zambia     5216550\n",
      "1982       Zambia     6100407\n",
      "1987       Zambia     7272406\n",
      "1992       Zambia     8381163\n",
      "1997       Zambia     9417789\n",
      "2002       Zambia    10595811\n",
      "2007       Zambia    11746035\n",
      "1952     Zimbabwe     3080907\n",
      "1957     Zimbabwe     3646340\n",
      "1962     Zimbabwe     4277736\n",
      "1967     Zimbabwe     4995432\n",
      "1972     Zimbabwe     5861135\n",
      "1977     Zimbabwe     6642107\n",
      "1982     Zimbabwe     7636524\n",
      "1987     Zimbabwe     9216418\n",
      "1992     Zimbabwe    10704340\n",
      "1997     Zimbabwe    11404948\n",
      "2002     Zimbabwe    11926563\n",
      "2007     Zimbabwe    12311143\n",
      "\n",
      "[1704 rows x 2 columns]\n"
     ]
    }
   ],
   "source": [
    "f = open(path,encoding='utf-8')\n",
    "df = pd.read_csv(f,index_col=1) # 把第1列设置为索引列，此时第1列会显示在前面\n",
    "print(df)"
   ]
  },
  {
   "cell_type": "code",
   "execution_count": 40,
   "metadata": {
    "collapsed": true
   },
   "outputs": [
    {
     "name": "stdout",
     "output_type": "stream",
     "text": [
      "          country  year  population\n",
      "0     Afghanistan  1952     8425333\n",
      "1     Afghanistan  1957     9240934\n",
      "2     Afghanistan  1962    10267083\n",
      "3     Afghanistan  1967    11537966\n",
      "4     Afghanistan  1972    13079460\n",
      "5     Afghanistan  1977    14880372\n",
      "6     Afghanistan  1982    12881816\n",
      "7     Afghanistan  1987    13867957\n",
      "8     Afghanistan  1992    16317921\n",
      "9     Afghanistan  1997    22227415\n",
      "10    Afghanistan  2002    25268405\n",
      "11    Afghanistan  2007    31889923\n",
      "12        Albania  1952     1282697\n",
      "13        Albania  1957     1476505\n",
      "14        Albania  1962     1728137\n",
      "15        Albania  1967     1984060\n",
      "16        Albania  1972     2263554\n",
      "17        Albania  1977     2509048\n",
      "18        Albania  1982     2780097\n",
      "19        Albania  1987     3075321\n",
      "20        Albania  1992     3326498\n",
      "21        Albania  1997     3428038\n",
      "22        Albania  2002     3508512\n",
      "23        Albania  2007     3600523\n",
      "24        Algeria  1952     9279525\n",
      "...           ...   ...         ...\n",
      "1679  Yemen, Rep.  2007    22211743\n",
      "1680       Zambia  1952     2672000\n",
      "1681       Zambia  1957     3016000\n",
      "1682       Zambia  1962     3421000\n",
      "1683       Zambia  1967     3900000\n",
      "1684       Zambia  1972     4506497\n",
      "1685       Zambia  1977     5216550\n",
      "1686       Zambia  1982     6100407\n",
      "1687       Zambia  1987     7272406\n",
      "1688       Zambia  1992     8381163\n",
      "1689       Zambia  1997     9417789\n",
      "1690       Zambia  2002    10595811\n",
      "1691       Zambia  2007    11746035\n",
      "1692     Zimbabwe  1952     3080907\n",
      "1693     Zimbabwe  1957     3646340\n",
      "1694     Zimbabwe  1962     4277736\n",
      "1695     Zimbabwe  1967     4995432\n",
      "1696     Zimbabwe  1972     5861135\n",
      "1697     Zimbabwe  1977     6642107\n",
      "1698     Zimbabwe  1982     7636524\n",
      "1699     Zimbabwe  1987     9216418\n",
      "1700     Zimbabwe  1992    10704340\n",
      "1701     Zimbabwe  1997    11404948\n",
      "1702     Zimbabwe  2002    11926563\n",
      "1703     Zimbabwe  2007    12311143\n",
      "\n",
      "[1704 rows x 3 columns]\n"
     ]
    }
   ],
   "source": [
    "f = open(path,encoding='utf-8')\n",
    "df = pd.read_csv(f,index_col=False) # 和不填index_col=False一样 以整数作为索引\n",
    "print(df)"
   ]
  },
  {
   "cell_type": "markdown",
   "metadata": {},
   "source": [
    "## 修改header"
   ]
  },
  {
   "cell_type": "code",
   "execution_count": 4,
   "metadata": {
    "collapsed": true
   },
   "outputs": [
    {
     "name": "stdout",
     "output_type": "stream",
     "text": [
      "                a     b           c   d\n",
      "0         country  year  population NaN\n",
      "1     Afghanistan  1952     8425333 NaN\n",
      "2     Afghanistan  1957     9240934 NaN\n",
      "3     Afghanistan  1962    10267083 NaN\n",
      "4     Afghanistan  1967    11537966 NaN\n",
      "5     Afghanistan  1972    13079460 NaN\n",
      "6     Afghanistan  1977    14880372 NaN\n",
      "7     Afghanistan  1982    12881816 NaN\n",
      "8     Afghanistan  1987    13867957 NaN\n",
      "9     Afghanistan  1992    16317921 NaN\n",
      "10    Afghanistan  1997    22227415 NaN\n",
      "11    Afghanistan  2002    25268405 NaN\n",
      "12    Afghanistan  2007    31889923 NaN\n",
      "13        Albania  1952     1282697 NaN\n",
      "14        Albania  1957     1476505 NaN\n",
      "15        Albania  1962     1728137 NaN\n",
      "16        Albania  1967     1984060 NaN\n",
      "17        Albania  1972     2263554 NaN\n",
      "18        Albania  1977     2509048 NaN\n",
      "19        Albania  1982     2780097 NaN\n",
      "20        Albania  1987     3075321 NaN\n",
      "21        Albania  1992     3326498 NaN\n",
      "22        Albania  1997     3428038 NaN\n",
      "23        Albania  2002     3508512 NaN\n",
      "24        Albania  2007     3600523 NaN\n",
      "25        Algeria  1952     9279525 NaN\n",
      "26        Algeria  1957    10270856 NaN\n",
      "27        Algeria  1962    11000948 NaN\n",
      "28        Algeria  1967    12760499 NaN\n",
      "29        Algeria  1972    14760787 NaN\n",
      "...           ...   ...         ...  ..\n",
      "1675  Yemen, Rep.  1982     9657618 NaN\n",
      "1676  Yemen, Rep.  1987    11219340 NaN\n",
      "1677  Yemen, Rep.  1992    13367997 NaN\n",
      "1678  Yemen, Rep.  1997    15826497 NaN\n",
      "1679  Yemen, Rep.  2002    18701257 NaN\n",
      "1680  Yemen, Rep.  2007    22211743 NaN\n",
      "1681       Zambia  1952     2672000 NaN\n",
      "1682       Zambia  1957     3016000 NaN\n",
      "1683       Zambia  1962     3421000 NaN\n",
      "1684       Zambia  1967     3900000 NaN\n",
      "1685       Zambia  1972     4506497 NaN\n",
      "1686       Zambia  1977     5216550 NaN\n",
      "1687       Zambia  1982     6100407 NaN\n",
      "1688       Zambia  1987     7272406 NaN\n",
      "1689       Zambia  1992     8381163 NaN\n",
      "1690       Zambia  1997     9417789 NaN\n",
      "1691       Zambia  2002    10595811 NaN\n",
      "1692       Zambia  2007    11746035 NaN\n",
      "1693     Zimbabwe  1952     3080907 NaN\n",
      "1694     Zimbabwe  1957     3646340 NaN\n",
      "1695     Zimbabwe  1962     4277736 NaN\n",
      "1696     Zimbabwe  1967     4995432 NaN\n",
      "1697     Zimbabwe  1972     5861135 NaN\n",
      "1698     Zimbabwe  1977     6642107 NaN\n",
      "1699     Zimbabwe  1982     7636524 NaN\n",
      "1700     Zimbabwe  1987     9216418 NaN\n",
      "1701     Zimbabwe  1992    10704340 NaN\n",
      "1702     Zimbabwe  1997    11404948 NaN\n",
      "1703     Zimbabwe  2002    11926563 NaN\n",
      "1704     Zimbabwe  2007    12311143 NaN\n",
      "\n",
      "[1705 rows x 4 columns]\n"
     ]
    }
   ],
   "source": [
    "f = open(path,encoding='utf-8')\n",
    "uer_input_cols = ['a','b','c','d']\n",
    "# 把header改为uer_input_cols里设置的,设置的header名称不能重复\n",
    "df = pd.read_csv(f,names = uer_input_cols) \n",
    "print(df)"
   ]
  },
  {
   "cell_type": "markdown",
   "metadata": {},
   "source": [
    "## series显示列"
   ]
  },
  {
   "cell_type": "code",
   "execution_count": null,
   "metadata": {
    "collapsed": true
   },
   "outputs": [],
   "source": [
    "print(type(df['a'])) # series 系列类型数据\n",
    "print(df['a'])  # 显示a列数据"
   ]
  },
  {
   "cell_type": "code",
   "execution_count": 16,
   "metadata": {
    "collapsed": true
   },
   "outputs": [
    {
     "name": "stdout",
     "output_type": "stream",
     "text": [
      "0        country\n",
      "1    Afghanistan\n",
      "2    Afghanistan\n",
      "3    Afghanistan\n",
      "4    Afghanistan\n",
      "Name: a, dtype: object\n"
     ]
    }
   ],
   "source": [
    "# print(df.a)   # 显示a列， a不能为数字 或 函数关键字如 df.shape\n",
    "print(df.a.head())  # 显示a列的head"
   ]
  },
  {
   "cell_type": "markdown",
   "metadata": {},
   "source": [
    "## series相加"
   ]
  },
  {
   "cell_type": "code",
   "execution_count": 12,
   "metadata": {
    "collapsed": true
   },
   "outputs": [
    {
     "name": "stdout",
     "output_type": "stream",
     "text": [
      "<class 'pandas.core.series.Series'>\n",
      "0           countryyear\n",
      "1       Afghanistan1952\n",
      "2       Afghanistan1957\n",
      "3       Afghanistan1962\n",
      "4       Afghanistan1967\n",
      "5       Afghanistan1972\n",
      "6       Afghanistan1977\n",
      "7       Afghanistan1982\n",
      "8       Afghanistan1987\n",
      "9       Afghanistan1992\n",
      "10      Afghanistan1997\n",
      "11      Afghanistan2002\n",
      "12      Afghanistan2007\n",
      "13          Albania1952\n",
      "14          Albania1957\n",
      "15          Albania1962\n",
      "16          Albania1967\n",
      "17          Albania1972\n",
      "18          Albania1977\n",
      "19          Albania1982\n",
      "20          Albania1987\n",
      "21          Albania1992\n",
      "22          Albania1997\n",
      "23          Albania2002\n",
      "24          Albania2007\n",
      "25          Algeria1952\n",
      "26          Algeria1957\n",
      "27          Algeria1962\n",
      "28          Algeria1967\n",
      "29          Algeria1972\n",
      "             ...       \n",
      "1675    Yemen, Rep.1982\n",
      "1676    Yemen, Rep.1987\n",
      "1677    Yemen, Rep.1992\n",
      "1678    Yemen, Rep.1997\n",
      "1679    Yemen, Rep.2002\n",
      "1680    Yemen, Rep.2007\n",
      "1681         Zambia1952\n",
      "1682         Zambia1957\n",
      "1683         Zambia1962\n",
      "1684         Zambia1967\n",
      "1685         Zambia1972\n",
      "1686         Zambia1977\n",
      "1687         Zambia1982\n",
      "1688         Zambia1987\n",
      "1689         Zambia1992\n",
      "1690         Zambia1997\n",
      "1691         Zambia2002\n",
      "1692         Zambia2007\n",
      "1693       Zimbabwe1952\n",
      "1694       Zimbabwe1957\n",
      "1695       Zimbabwe1962\n",
      "1696       Zimbabwe1967\n",
      "1697       Zimbabwe1972\n",
      "1698       Zimbabwe1977\n",
      "1699       Zimbabwe1982\n",
      "1700       Zimbabwe1987\n",
      "1701       Zimbabwe1992\n",
      "1702       Zimbabwe1997\n",
      "1703       Zimbabwe2002\n",
      "1704       Zimbabwe2007\n",
      "Length: 1705, dtype: object\n"
     ]
    }
   ],
   "source": [
    "print(type(df.a+df.b))\n",
    "print(df.a+df.b)  # 两列的数据变成字符串的形式相加"
   ]
  },
  {
   "cell_type": "code",
   "execution_count": 15,
   "metadata": {
    "collapsed": true
   },
   "outputs": [
    {
     "name": "stdout",
     "output_type": "stream",
     "text": [
      "0           country,year\n",
      "1       Afghanistan,1952\n",
      "2       Afghanistan,1957\n",
      "3       Afghanistan,1962\n",
      "4       Afghanistan,1967\n",
      "5       Afghanistan,1972\n",
      "6       Afghanistan,1977\n",
      "7       Afghanistan,1982\n",
      "8       Afghanistan,1987\n",
      "9       Afghanistan,1992\n",
      "10      Afghanistan,1997\n",
      "11      Afghanistan,2002\n",
      "12      Afghanistan,2007\n",
      "13          Albania,1952\n",
      "14          Albania,1957\n",
      "15          Albania,1962\n",
      "16          Albania,1967\n",
      "17          Albania,1972\n",
      "18          Albania,1977\n",
      "19          Albania,1982\n",
      "20          Albania,1987\n",
      "21          Albania,1992\n",
      "22          Albania,1997\n",
      "23          Albania,2002\n",
      "24          Albania,2007\n",
      "25          Algeria,1952\n",
      "26          Algeria,1957\n",
      "27          Algeria,1962\n",
      "28          Algeria,1967\n",
      "29          Algeria,1972\n",
      "              ...       \n",
      "1675    Yemen, Rep.,1982\n",
      "1676    Yemen, Rep.,1987\n",
      "1677    Yemen, Rep.,1992\n",
      "1678    Yemen, Rep.,1997\n",
      "1679    Yemen, Rep.,2002\n",
      "1680    Yemen, Rep.,2007\n",
      "1681         Zambia,1952\n",
      "1682         Zambia,1957\n",
      "1683         Zambia,1962\n",
      "1684         Zambia,1967\n",
      "1685         Zambia,1972\n",
      "1686         Zambia,1977\n",
      "1687         Zambia,1982\n",
      "1688         Zambia,1987\n",
      "1689         Zambia,1992\n",
      "1690         Zambia,1997\n",
      "1691         Zambia,2002\n",
      "1692         Zambia,2007\n",
      "1693       Zimbabwe,1952\n",
      "1694       Zimbabwe,1957\n",
      "1695       Zimbabwe,1962\n",
      "1696       Zimbabwe,1967\n",
      "1697       Zimbabwe,1972\n",
      "1698       Zimbabwe,1977\n",
      "1699       Zimbabwe,1982\n",
      "1700       Zimbabwe,1987\n",
      "1701       Zimbabwe,1992\n",
      "1702       Zimbabwe,1997\n",
      "1703       Zimbabwe,2002\n",
      "1704       Zimbabwe,2007\n",
      "Length: 1705, dtype: object\n"
     ]
    }
   ],
   "source": [
    "print(df.a+','+df.b) # 两列数据以,号相连"
   ]
  },
  {
   "cell_type": "markdown",
   "metadata": {},
   "source": [
    "## 添加新列"
   ]
  },
  {
   "cell_type": "code",
   "execution_count": 18,
   "metadata": {},
   "outputs": [
    {
     "name": "stdout",
     "output_type": "stream",
     "text": [
      "             a     b           c   d                 e\n",
      "0      country  year  population NaN      country,year\n",
      "1  Afghanistan  1952     8425333 NaN  Afghanistan,1952\n",
      "2  Afghanistan  1957     9240934 NaN  Afghanistan,1957\n",
      "3  Afghanistan  1962    10267083 NaN  Afghanistan,1962\n",
      "4  Afghanistan  1967    11537966 NaN  Afghanistan,1967\n"
     ]
    }
   ],
   "source": [
    "df['e'] = df.a+','+df.b # e列为a，b两列数据以,号相连\n",
    "print(df.head())"
   ]
  },
  {
   "cell_type": "markdown",
   "metadata": {},
   "source": [
    "## 有()与无()"
   ]
  },
  {
   "cell_type": "code",
   "execution_count": 4,
   "metadata": {},
   "outputs": [
    {
     "name": "stdout",
     "output_type": "stream",
     "text": [
      "country       object\n",
      "year           int64\n",
      "population     int64\n",
      "dtype: object\n"
     ]
    }
   ],
   "source": [
    "print(df.dtypes)  # 查看各列数据类型\n",
    "# .dtypes  本身的特性，df.dtypes:df的数据类型\n",
    "print(df.head())\n",
    "# .head()  有()表示一种方法 df.head() df的head的方法"
   ]
  },
  {
   "cell_type": "markdown",
   "metadata": {},
   "source": [
    "## .describe() 描述"
   ]
  },
  {
   "cell_type": "code",
   "execution_count": 6,
   "metadata": {},
   "outputs": [
    {
     "name": "stdout",
     "output_type": "stream",
     "text": [
      "             year    population\n",
      "count  1704.00000  1.704000e+03\n",
      "mean   1979.50000  2.960121e+07\n",
      "std      17.26533  1.061579e+08\n",
      "min    1952.00000  6.001100e+04\n",
      "25%    1965.75000  2.793664e+06\n",
      "50%    1979.50000  7.023596e+06\n",
      "75%    1993.25000  1.958522e+07\n",
      "max    2007.00000  1.318683e+09\n"
     ]
    }
   ],
   "source": [
    "print(df.describe())  # std 波动性"
   ]
  },
  {
   "cell_type": "code",
   "execution_count": null,
   "metadata": {
    "collapsed": true
   },
   "outputs": [],
   "source": []
  }
 ],
 "metadata": {
  "hide_input": false,
  "kernelspec": {
   "display_name": "Python 3",
   "language": "python",
   "name": "python3"
  },
  "language_info": {
   "codemirror_mode": {
    "name": "ipython",
    "version": 3
   },
   "file_extension": ".py",
   "mimetype": "text/x-python",
   "name": "python",
   "nbconvert_exporter": "python",
   "pygments_lexer": "ipython3",
   "version": "3.6.1"
  },
  "toc": {
   "base_numbering": 1,
   "nav_menu": {},
   "number_sections": true,
   "sideBar": true,
   "skip_h1_title": false,
   "title_cell": "Table of Contents",
   "title_sidebar": "Contents",
   "toc_cell": false,
   "toc_position": {},
   "toc_section_display": true,
   "toc_window_display": true
  },
  "varInspector": {
   "cols": {
    "lenName": 16,
    "lenType": 16,
    "lenVar": 40
   },
   "kernels_config": {
    "python": {
     "delete_cmd_postfix": "",
     "delete_cmd_prefix": "del ",
     "library": "var_list.py",
     "varRefreshCmd": "print(var_dic_list())"
    },
    "r": {
     "delete_cmd_postfix": ") ",
     "delete_cmd_prefix": "rm(",
     "library": "var_list.r",
     "varRefreshCmd": "cat(var_dic_list()) "
    }
   },
   "types_to_exclude": [
    "module",
    "function",
    "builtin_function_or_method",
    "instance",
    "_Feature"
   ],
   "window_display": false
  }
 },
 "nbformat": 4,
 "nbformat_minor": 2
}
