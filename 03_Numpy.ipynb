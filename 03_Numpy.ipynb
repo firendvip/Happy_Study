{
 "cells": [
  {
   "cell_type": "markdown",
   "metadata": {},
   "source": [
    "# 03_Numpy\n",
    "## numpy 的数据类型"
   ]
  },
  {
   "cell_type": "code",
   "execution_count": 16,
   "metadata": {
    "collapsed": true
   },
   "outputs": [],
   "source": [
    "import numpy as np"
   ]
  },
  {
   "cell_type": "code",
   "execution_count": 17,
   "metadata": {
    "collapsed": true
   },
   "outputs": [
    {
     "name": "stdout",
     "output_type": "stream",
     "text": [
      "[1, 2, 3, 4, 5, 6, 7, 8, 9, 10]\n",
      "[ 1  2  3  4  5  6  7  8  9 10]\n",
      "<class 'numpy.ndarray'>\n",
      "(10,)\n"
     ]
    }
   ],
   "source": [
    "v_list1 = [1,2,3,4,5,6,7,8,9,10]\n",
    "V = np.array(v_list)  # 把列表变成 naarray 类型（数组类型）\n",
    "print(v_list)\n",
    "print(V)  # naarray 类型 与list 对比 显示中 元素之间没有,号隔开\n",
    "print(type(V))\n",
    "print(V.shape)  # 查看形状 （几行几列的数据）"
   ]
  },
  {
   "cell_type": "markdown",
   "metadata": {},
   "source": [
    "## .shape 看有几行几列"
   ]
  },
  {
   "cell_type": "code",
   "execution_count": 18,
   "metadata": {
    "collapsed": true
   },
   "outputs": [
    {
     "name": "stdout",
     "output_type": "stream",
     "text": [
      "[[ 1  2  3  4  5  6  7  8  9 10]\n",
      " [10  9  8  7  6  5  4  3  2  1]]\n",
      "<class 'numpy.ndarray'>\n",
      "(2, 10)\n"
     ]
    }
   ],
   "source": [
    "v_list2 = [10,9,8,7,6,5,4,3,2,1]\n",
    "M = np.array([v_list1,v_list2])  # 注意要加[] , 把2个列表变成 2维的 naarray 类型\n",
    "print(M)\n",
    "print(type(M))\n",
    "print(M.shape)  # 查看形状 （几行几列的数据）"
   ]
  },
  {
   "cell_type": "markdown",
   "metadata": {},
   "source": [
    "## .size 计算元素个数\n",
    "## .dtype 查看 元素类型"
   ]
  },
  {
   "cell_type": "code",
   "execution_count": 30,
   "metadata": {
    "collapsed": true
   },
   "outputs": [
    {
     "name": "stdout",
     "output_type": "stream",
     "text": [
      "[[ 1  2  3  4  5  6  7  8  9 10]\n",
      " [10  9  8  7  6  5  4  3  2  1]\n",
      " [10  9  8  7  6  5  4  3  2  1]]\n",
      "<class 'numpy.ndarray'>\n",
      "(3, 10)\n",
      "(3, 10)\n",
      "30\n",
      "30\n",
      "int32\n"
     ]
    }
   ],
   "source": [
    "v_list3 = [10,9,8,7,6,5,4,3,2,1]\n",
    "H = np.array([v_list1,v_list2,v_list3])\n",
    "print(H)\n",
    "print(type(H))\n",
    "# 查看形状 （几行几列的数据）\n",
    "# 数据需配对出现，比如v_list1有10个元素，其他list也需要10个，\n",
    "# 此时 .shape才能显示几行几列，否则不会报错\n",
    "print(H.shape)  \n",
    "print(np.shape(H)) # 同上 H.shape\n",
    "print(np.size(H))  # 计算元素个数\n",
    "print(H.size)  \n",
    "print(H.dtype)  # type() 获取数据类型 , .dtype 数组元素的类型，"
   ]
  },
  {
   "cell_type": "markdown",
   "metadata": {},
   "source": [
    "## H[0,0] 修改数组里元素"
   ]
  },
  {
   "cell_type": "code",
   "execution_count": 44,
   "metadata": {
    "collapsed": true
   },
   "outputs": [
    {
     "name": "stdout",
     "output_type": "stream",
     "text": [
      "[[ 2  2  3  4  5  6  7  8  9 10]\n",
      " [10  9  8  7  6  5  4  3  2  1]\n",
      " [10  9  8  7  6  5  4  3  2  1]]\n"
     ]
    }
   ],
   "source": [
    "# 修改0行0列的元素为2，只能改为数字，否则会报错\n",
    "H[0,0] = 2\n",
    "print(H)"
   ]
  },
  {
   "cell_type": "markdown",
   "metadata": {},
   "source": [
    "## 数据类型会自动转换"
   ]
  },
  {
   "cell_type": "code",
   "execution_count": 53,
   "metadata": {
    "collapsed": true
   },
   "outputs": [
    {
     "name": "stdout",
     "output_type": "stream",
     "text": [
      "[['2' 'b' 'c']\n",
      " ['a' 'b' 'c']]\n"
     ]
    }
   ],
   "source": [
    "v_list_str1 = ['a','b','c']\n",
    "v_list_str2 = ['a','b','c']\n",
    "V_str = np.array([v_list_str1,v_list_str2])\n",
    "V_str[0,0] = 2  # 会自动把2 变成 str类型\n",
    "print(V_str)   "
   ]
  },
  {
   "cell_type": "markdown",
   "metadata": {},
   "source": [
    "## dtype 转换数据类型"
   ]
  },
  {
   "cell_type": "code",
   "execution_count": 54,
   "metadata": {
    "collapsed": true
   },
   "outputs": [
    {
     "name": "stdout",
     "output_type": "stream",
     "text": [
      "[[  1.   2.   3.   4.   5.   6.   7.   8.   9.  10.]\n",
      " [ 10.   9.   8.   7.   6.   5.   4.   3.   2.   1.]\n",
      " [ 10.   9.   8.   7.   6.   5.   4.   3.   2.   1.]]\n"
     ]
    }
   ],
   "source": [
    "# dtype=float 把所有元素变成 float 类型\n",
    "H_change = np.array([v_list1,v_list2,v_list3],dtype=float)\n",
    "print(H_change)"
   ]
  },
  {
   "cell_type": "markdown",
   "metadata": {},
   "source": [
    "## a[0:2,0:2]  数据切分\n",
    "- 切 第0和第1排与 第0列和第2列交集的数据"
   ]
  },
  {
   "cell_type": "code",
   "execution_count": 77,
   "metadata": {
    "collapsed": true
   },
   "outputs": [
    {
     "name": "stdout",
     "output_type": "stream",
     "text": [
      "[[1 2 3]\n",
      " [4 5 6]\n",
      " [7 8 9]]\n",
      "\n",
      "[[1 2 3]\n",
      " [4 5 6]]\n",
      "\n",
      "[[1 2]\n",
      " [4 5]]\n"
     ]
    }
   ],
   "source": [
    "a = np.array([[1,2,3],[4,5,6],[7,8,9]])\n",
    "print(a)\n",
    "print()\n",
    "a_split1 = a[0:2]  # 切 第0和第1排的数据\n",
    "print(a_split1)\n",
    "print()\n",
    "a_split2 = a[0:2,0:2]  # 切 第0和第1排与 第0列和第2列交集的数据\n",
    "print(a_split2)"
   ]
  },
  {
   "cell_type": "markdown",
   "metadata": {},
   "source": [
    "### 切片后存储地址一样\n",
    "- 如修改a_split1里的值，a里的值也会跟着改变"
   ]
  },
  {
   "cell_type": "code",
   "execution_count": 79,
   "metadata": {
    "collapsed": true
   },
   "outputs": [
    {
     "name": "stdout",
     "output_type": "stream",
     "text": [
      "[[8888    2    3]\n",
      " [   4    5    6]]\n",
      "\n",
      "[[8888    2    3]\n",
      " [   4    5    6]\n",
      " [   7    8    9]]\n"
     ]
    }
   ],
   "source": [
    "a_split1[0,0] = 8888\n",
    "print(a_split1)\n",
    "print()\n",
    "print(a)"
   ]
  },
  {
   "cell_type": "markdown",
   "metadata": {},
   "source": [
    "## 快速生成array\n",
    "### .full 生成人任意数字数组"
   ]
  },
  {
   "cell_type": "code",
   "execution_count": 70,
   "metadata": {
    "collapsed": true
   },
   "outputs": [
    {
     "name": "stdout",
     "output_type": "stream",
     "text": [
      "[[ 0.  0.  0.  0.  0.  0.  0.  0.  0.  0.]\n",
      " [ 0.  0.  0.  0.  0.  0.  0.  0.  0.  0.]]\n",
      "\n",
      "[[ 1.  1.]\n",
      " [ 1.  1.]\n",
      " [ 1.  1.]\n",
      " [ 1.  1.]\n",
      " [ 1.  1.]]\n",
      "\n",
      "[[88 88 88 88 88 88 88]\n",
      " [88 88 88 88 88 88 88]\n",
      " [88 88 88 88 88 88 88]\n",
      " [88 88 88 88 88 88 88]\n",
      " [88 88 88 88 88 88 88]]\n"
     ]
    }
   ],
   "source": [
    "a = np.zeros((2,10))  # 注意2个括弧  ，生成0\n",
    "b = np.ones((5,2))   # 生成 1\n",
    "c = np.full((5,7),88)  # 生成人任意数字数组\n",
    "print(a)\n",
    "print()\n",
    "print(b)\n",
    "print()\n",
    "print(c)"
   ]
  },
  {
   "cell_type": "markdown",
   "metadata": {},
   "source": [
    "### 生成矩阵数据\n",
    "- identity matrix 单价矩阵取I再变成eye"
   ]
  },
  {
   "cell_type": "code",
   "execution_count": 72,
   "metadata": {
    "collapsed": true
   },
   "outputs": [
    {
     "name": "stdout",
     "output_type": "stream",
     "text": [
      "[[ 1.  0.  0.  0.  0.  0.  0.  0.  0.  0.]\n",
      " [ 0.  1.  0.  0.  0.  0.  0.  0.  0.  0.]\n",
      " [ 0.  0.  1.  0.  0.  0.  0.  0.  0.  0.]\n",
      " [ 0.  0.  0.  1.  0.  0.  0.  0.  0.  0.]\n",
      " [ 0.  0.  0.  0.  1.  0.  0.  0.  0.  0.]\n",
      " [ 0.  0.  0.  0.  0.  1.  0.  0.  0.  0.]\n",
      " [ 0.  0.  0.  0.  0.  0.  1.  0.  0.  0.]\n",
      " [ 0.  0.  0.  0.  0.  0.  0.  1.  0.  0.]\n",
      " [ 0.  0.  0.  0.  0.  0.  0.  0.  1.  0.]\n",
      " [ 0.  0.  0.  0.  0.  0.  0.  0.  0.  1.]]\n"
     ]
    }
   ],
   "source": [
    "d = np.eye(10) \n",
    "print(d)"
   ]
  },
  {
   "cell_type": "markdown",
   "metadata": {},
   "source": [
    "### 生成随机数据"
   ]
  },
  {
   "cell_type": "code",
   "execution_count": 75,
   "metadata": {
    "collapsed": true
   },
   "outputs": [
    {
     "name": "stdout",
     "output_type": "stream",
     "text": [
      "[[ 0.73446255  0.01942219  0.16128676]\n",
      " [ 0.73019015  0.12581249  0.94959775]]\n"
     ]
    }
   ],
   "source": [
    "e = np.random.random((2,3)) # 生成2行3列的数据数组\n",
    "print(e)"
   ]
  },
  {
   "cell_type": "markdown",
   "metadata": {},
   "source": [
    "### .empty_like生成类似数据"
   ]
  },
  {
   "cell_type": "code",
   "execution_count": 145,
   "metadata": {},
   "outputs": [
    {
     "name": "stdout",
     "output_type": "stream",
     "text": [
      "[[ 1  2  3]\n",
      " [ 4  5  6]\n",
      " [ 7  8  9]\n",
      " [ 0 11 12]]\n"
     ]
    }
   ],
   "source": [
    "x = np.array([[1,2,3],[4,5,6],[7,8,9],[10,11,12]])\n",
    "z = np.empty_like(x)  #  \n",
    "print(z)  "
   ]
  },
  {
   "cell_type": "markdown",
   "metadata": {},
   "source": [
    "## 通过index修改数据\n",
    "### 不改变原有数据"
   ]
  },
  {
   "cell_type": "code",
   "execution_count": 86,
   "metadata": {
    "collapsed": true
   },
   "outputs": [
    {
     "name": "stdout",
     "output_type": "stream",
     "text": [
      "[[1 2]\n",
      " [3 4]\n",
      " [5 6]]\n",
      "\n",
      "[2 4 5]\n",
      "\n",
      "[8888    4    5]\n",
      "\n",
      "[[1 2]\n",
      " [3 4]\n",
      " [5 6]]\n",
      "\n"
     ]
    }
   ],
   "source": [
    "h = np.array([[1,2],[3,4],[5,6]])\n",
    "print(f'{h}\\n')\n",
    "i = np.array([h[0,1],h[1,1],h[2,0]])\n",
    "print(f'{i}\\n')\n",
    "i[[0,0]] = 8888\n",
    "print(f'{i}\\n')\n",
    "print(f'{h}\\n')"
   ]
  },
  {
   "cell_type": "markdown",
   "metadata": {},
   "source": [
    "### index选取数据小技巧1\n",
    "- h[[0,1,2],[0,1,0]]) # 取 行[0,1,2] 与 列[0,1,0]的交集数据"
   ]
  },
  {
   "cell_type": "code",
   "execution_count": 88,
   "metadata": {
    "collapsed": true
   },
   "outputs": [
    {
     "name": "stdout",
     "output_type": "stream",
     "text": [
      "[[1 2]\n",
      " [3 4]\n",
      " [5 6]]\n",
      "\n",
      "[1 4 5]\n",
      "\n",
      "[8888    4    5]\n",
      "\n",
      "[[1 2]\n",
      " [3 4]\n",
      " [5 6]]\n",
      "\n"
     ]
    }
   ],
   "source": [
    "h = np.array([[1,2],[3,4],[5,6]])\n",
    "print(f'{h}\\n')\n",
    "i = np.array(h[[0,1,2],[0,1,0]]) # 取 行[0,1,2] 与 列[0,1,0]的交集数据\n",
    "print(f'{i}\\n')\n",
    "i[[0,0]] = 8888\n",
    "print(f'{i}\\n')\n",
    "print(f'{h}\\n')"
   ]
  },
  {
   "cell_type": "markdown",
   "metadata": {},
   "source": [
    "### index选取数据小技巧2"
   ]
  },
  {
   "cell_type": "code",
   "execution_count": 135,
   "metadata": {},
   "outputs": [
    {
     "name": "stdout",
     "output_type": "stream",
     "text": [
      "[[ 1  2  3]\n",
      " [ 4  5  6]\n",
      " [ 7  8  9]\n",
      " [10 11 12]]\n",
      "\n",
      "[1 2]\n",
      "[7 8 9]\n",
      "[[0 0 0]\n",
      " [0 0 0]\n",
      " [0 0 0]\n",
      " [0 0 0]]\n"
     ]
    }
   ],
   "source": [
    "x = np.array([[1,2,3],[4,5,6],[7,8,9],[10,11,12]])\n",
    "print(f'{x}\\n')\n",
    "print(x[0,0:2])  # 0行的 第0和第1个\n",
    "print(x[2,:])  # index 2行"
   ]
  },
  {
   "cell_type": "markdown",
   "metadata": {},
   "source": [
    "### index选取数据附带运算"
   ]
  },
  {
   "cell_type": "code",
   "execution_count": 134,
   "metadata": {},
   "outputs": [
    {
     "name": "stdout",
     "output_type": "stream",
     "text": [
      "[[ 1  2  3]\n",
      " [ 4  5  6]\n",
      " [ 7  8  9]\n",
      " [10 11 12]]\n",
      "\n",
      "[ 1  6  7 11]\n",
      "\n",
      "[[101   2   3]\n",
      " [  4   5 106]\n",
      " [107   8   9]\n",
      " [ 10 111  12]]\n",
      "\n"
     ]
    }
   ],
   "source": [
    "j = np.array([[1,2,3],[4,5,6],[7,8,9],[10,11,12]])\n",
    "print(f'{j}\\n')\n",
    "k = np.array([0,2,0,1])\n",
    "l = j[np.arange(4),k]  # 取第0，1，2，3行的，0,2,0,1列的交集\n",
    "print(f'{l}\\n')\n",
    "j[np.arange(4),k] += 100 # 每取的数据都+100\n",
    "print(f'{j}\\n')"
   ]
  },
  {
   "cell_type": "markdown",
   "metadata": {},
   "source": [
    "## array运算\n",
    "### bool运算"
   ]
  },
  {
   "cell_type": "code",
   "execution_count": 104,
   "metadata": {
    "collapsed": true
   },
   "outputs": [
    {
     "name": "stdout",
     "output_type": "stream",
     "text": [
      "[[False False False]\n",
      " [False False  True]\n",
      " [ True  True  True]]\n",
      "\n",
      "[6 7 8 9]\n",
      "\n"
     ]
    }
   ],
   "source": [
    "m = np.array([[1,2,3],[4,5,6],[7,8,9]])\n",
    "boolean_m = (m>5)\n",
    "n = m[m>5]\n",
    "print(f'{boolean_m}\\n')\n",
    "print(f'{n}\\n')"
   ]
  },
  {
   "cell_type": "markdown",
   "metadata": {},
   "source": [
    "### +-*/四则运算"
   ]
  },
  {
   "cell_type": "code",
   "execution_count": 105,
   "metadata": {
    "collapsed": true
   },
   "outputs": [
    {
     "name": "stdout",
     "output_type": "stream",
     "text": [
      "[[ 2  4  6]\n",
      " [ 8 10 12]\n",
      " [14 16 18]]\n",
      "[[ 2  4  6]\n",
      " [ 8 10 12]\n",
      " [14 16 18]]\n",
      "[[0 0 0]\n",
      " [0 0 0]\n",
      " [0 0 0]]\n",
      "[[0 0 0]\n",
      " [0 0 0]\n",
      " [0 0 0]]\n",
      "[[ 1  4  9]\n",
      " [16 25 36]\n",
      " [49 64 81]]\n",
      "[[ 1  4  9]\n",
      " [16 25 36]\n",
      " [49 64 81]]\n",
      "[[ 1.  1.  1.]\n",
      " [ 1.  1.  1.]\n",
      " [ 1.  1.  1.]]\n",
      "[[ 1.  1.  1.]\n",
      " [ 1.  1.  1.]\n",
      " [ 1.  1.  1.]]\n"
     ]
    }
   ],
   "source": [
    "x = np.array([[1,2,3],[4,5,6],[7,8,9]])\n",
    "y = np.array([[1,2,3],[4,5,6],[7,8,9]])\n",
    "print(x+y)\n",
    "print(np.add(x,y))\n",
    "\n",
    "print(x-y)\n",
    "print(np.subtract(x,y))\n",
    "\n",
    "print(x*y)\n",
    "print(np.multiply(x,y))\n",
    "\n",
    "print(x/y)\n",
    "print(np.divide(x,y))"
   ]
  },
  {
   "cell_type": "markdown",
   "metadata": {},
   "source": [
    "### 开方运算"
   ]
  },
  {
   "cell_type": "code",
   "execution_count": 108,
   "metadata": {
    "collapsed": true
   },
   "outputs": [
    {
     "name": "stdout",
     "output_type": "stream",
     "text": [
      "[[ 1.          1.41421356  1.73205081]\n",
      " [ 2.          2.23606798  2.44948974]\n",
      " [ 2.64575131  2.82842712  3.        ]]\n"
     ]
    }
   ],
   "source": [
    "print(np.sqrt(x))  # 只能一个一个数组来"
   ]
  },
  {
   "cell_type": "markdown",
   "metadata": {},
   "source": [
    "### 点乘余弦定理\n",
    "- 代数定义\n",
    "![jupyter](https://gss3.bdstatic.com/7Po3dSag_xI4khGkpoWK1HF6hhy/baike/pic/item/203fb80e7bec54e7b91ac93fb2389b504fc26a19.jpg)\n",
    "- 几何定义\n",
    "![jupyter](https://gss2.bdstatic.com/9fo3dSag_xI4khGkpoWK1HF6hhy/baike/pic/item/728da9773912b31b2215893f8018367adab4e1af.jpg)\n",
    "- 矩阵相乘 (几何定义)\n",
    " - 列和行一致才能相乘\n",
    " - x第0行与y第0列乘积之和 (1*5+2*7)=19\n",
    " - x第0行与y第1列乘积之和 (1*6+2*8)=22\n",
    " - x第1行与y第0列乘积之和 (3*5+4*7)=43\n",
    " - x第1行与y第1列乘积之和 (3*6+4*8)=50"
   ]
  },
  {
   "cell_type": "code",
   "execution_count": 114,
   "metadata": {
    "collapsed": true
   },
   "outputs": [
    {
     "name": "stdout",
     "output_type": "stream",
     "text": [
      "[[1 2]\n",
      " [3 4]]\n",
      "\n",
      "[[5 6]\n",
      " [7 8]]\n",
      "\n",
      "[[19 22]\n",
      " [43 50]]\n",
      "[[19 22]\n",
      " [43 50]]\n"
     ]
    }
   ],
   "source": [
    "x = np.array([[1,2],[3,4]])\n",
    "y = np.array([[5,6],[7,8]])\n",
    "print(f'{x}\\n')\n",
    "print(f'{y}\\n')\n",
    "print(x.dot(y))\n",
    "print(np.dot(x,y)) # 同上"
   ]
  },
  {
   "cell_type": "code",
   "execution_count": 115,
   "metadata": {
    "collapsed": true
   },
   "outputs": [
    {
     "name": "stdout",
     "output_type": "stream",
     "text": [
      "0\n"
     ]
    }
   ],
   "source": [
    "a = np.array([3,0])  # 直角三角形边长a\n",
    "b = np.array([0,4])  # 直角三角形边长b\n",
    "print(a.dot(b))   #   向量a*向量b = |a|*|b|*cos90°= 0"
   ]
  },
  {
   "cell_type": "markdown",
   "metadata": {},
   "source": [
    "### .sum求和 .T翻转"
   ]
  },
  {
   "cell_type": "code",
   "execution_count": 124,
   "metadata": {
    "collapsed": true
   },
   "outputs": [
    {
     "name": "stdout",
     "output_type": "stream",
     "text": [
      "10\n",
      "[4 6]\n",
      "[3 7]\n",
      "\n",
      "[[1 2]\n",
      " [3 4]]\n",
      "\n",
      "[[1 3]\n",
      " [2 4]]\n",
      "\n",
      "[[1 2]\n",
      " [3 4]\n",
      " [5 6]]\n",
      "\n",
      "[[1 3 5]\n",
      " [2 4 6]]\n",
      "\n"
     ]
    }
   ],
   "source": [
    "x = np.array([[1,2],[3,4]])\n",
    "y = np.array([[1,2],[3,4],[5,6]])\n",
    "print(np.sum(x)) # 所有元素相加 1+2+3+4=10\n",
    "print(np.sum(x,axis=0)) # 每列相加 1+3=4 , 2+4=6\n",
    "print(np.sum(x,axis=1)) # 每行相加 1+2=3 ，3+4=7\n",
    "print()\n",
    "print(f'{x}\\n')\n",
    "print(f'{x.T}\\n')\n",
    "print(f'{y}\\n')\n",
    "print(f'{y.T}\\n') # 翻转 PS翻转图片"
   ]
  },
  {
   "cell_type": "markdown",
   "metadata": {},
   "source": [
    "### broadcast自动补全"
   ]
  },
  {
   "cell_type": "code",
   "execution_count": 148,
   "metadata": {},
   "outputs": [
    {
     "name": "stdout",
     "output_type": "stream",
     "text": [
      "[[1 2 3]\n",
      " [4 6 6]\n",
      " [7 8 9]]\n",
      "\n",
      "[[ 2  2  4]\n",
      " [ 5  6  7]\n",
      " [ 8  8 10]]\n",
      "\n",
      "[[ 2  2  4]\n",
      " [ 5  6  7]\n",
      " [ 8  8 10]]\n",
      "\n"
     ]
    }
   ],
   "source": [
    "x = np.array([[1,2,3],[4,6,6],[7,8,9]])\n",
    "y = np.array([[1,0,1]])\n",
    "z = np.array([[1,0,1],[1,0,1],[1,0,1]])\n",
    "print(f'{x}\\n')\n",
    "print(f'{x+y}\\n')\n",
    "print(f'{x+z}\\n')\n",
    "# 上面两个运算结果一样"
   ]
  },
  {
   "cell_type": "markdown",
   "metadata": {},
   "source": [
    "### broadcast思维扩展"
   ]
  },
  {
   "cell_type": "code",
   "execution_count": 153,
   "metadata": {},
   "outputs": [
    {
     "name": "stdout",
     "output_type": "stream",
     "text": [
      "[[ 2  2  4]\n",
      " [ 5  6  7]\n",
      " [ 8  8 10]]\n"
     ]
    }
   ],
   "source": [
    "x = np.array([[1,2,3],[4,6,6],[7,8,9]])\n",
    "z = np.empty_like(x) # 创建一个类似x的列表，框架一样\n",
    "y = np.array([[1,0,1]])\n",
    "for i in range(3):\n",
    "    z[i,:]=x[i,:]+ y\n",
    "print(z)"
   ]
  },
  {
   "cell_type": "code",
   "execution_count": null,
   "metadata": {
    "collapsed": true
   },
   "outputs": [],
   "source": []
  }
 ],
 "metadata": {
  "hide_input": false,
  "kernelspec": {
   "display_name": "Python 3",
   "language": "python",
   "name": "python3"
  },
  "language_info": {
   "codemirror_mode": {
    "name": "ipython",
    "version": 3
   },
   "file_extension": ".py",
   "mimetype": "text/x-python",
   "name": "python",
   "nbconvert_exporter": "python",
   "pygments_lexer": "ipython3",
   "version": "3.6.1"
  },
  "toc": {
   "base_numbering": 1,
   "nav_menu": {},
   "number_sections": true,
   "sideBar": true,
   "skip_h1_title": false,
   "title_cell": "Table of Contents",
   "title_sidebar": "Contents",
   "toc_cell": false,
   "toc_position": {
    "height": "590px",
    "left": "1080px",
    "top": "52px",
    "width": "364px"
   },
   "toc_section_display": true,
   "toc_window_display": true
  },
  "varInspector": {
   "cols": {
    "lenName": 16,
    "lenType": 16,
    "lenVar": 40
   },
   "kernels_config": {
    "python": {
     "delete_cmd_postfix": "",
     "delete_cmd_prefix": "del ",
     "library": "var_list.py",
     "varRefreshCmd": "print(var_dic_list())"
    },
    "r": {
     "delete_cmd_postfix": ") ",
     "delete_cmd_prefix": "rm(",
     "library": "var_list.r",
     "varRefreshCmd": "cat(var_dic_list()) "
    }
   },
   "types_to_exclude": [
    "module",
    "function",
    "builtin_function_or_method",
    "instance",
    "_Feature"
   ],
   "window_display": false
  }
 },
 "nbformat": 4,
 "nbformat_minor": 2
}
