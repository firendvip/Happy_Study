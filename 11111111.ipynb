{
 "cells": [
  {
   "cell_type": "markdown",
   "metadata": {},
   "source": [
    "### xpath 语法知识"
   ]
  },
  {
   "cell_type": "code",
   "execution_count": null,
   "metadata": {
    "collapsed": true
   },
   "outputs": [],
   "source": [
    " # xpath 节点概念\n",
    "from lxml import etree\n",
    "\n",
    "html_str = \"\"\"\n",
    "<!DOCTYPE html>\n",
    "<html lang=\"en\">\n",
    "<head>\n",
    "    <meta charset=\"UTF-8\">\n",
    "    <title>网页名</title>\n",
    "</head>\n",
    "<body>\n",
    "    <div>\n",
    "        div-text\n",
    "        <span>span-text</span>\n",
    "        <a>a-text</a>\n",
    "        <p>p-text</p>\n",
    "    </div>\n",
    "    <table>\n",
    "        <tr>\n",
    "            <th>Heading</th>\n",
    "            <th>Another Heading</th>\n",
    "        </tr>\n",
    "        <tr>\n",
    "            <td>row 1, cell 1</td>\n",
    "            <td>row 1, cell 2</td>\n",
    "        </tr>\n",
    "        table-text-2\n",
    "    </table>\n",
    "</body>\n",
    "</html>\n",
    "\"\"\"\n",
    "\n",
    "html = etree.HTML(html_str)\n",
    "print(html.xpath('//body'))\n",
    "\n",
    " # xpath语法 contains/id/class\n",
    "from lxml import etree\n",
    "html_str = \"\"\"\n",
    "<body>\n",
    "<div class=\"container\">\n",
    "    <div id=\"first\">\n",
    "        <div class=\"one\">都市</div>\n",
    "        <div class=\"two\">德玛西亚</div>\n",
    "        <div class=\"two\">王牌对王牌</div>\n",
    "        <a>\n",
    "            <div class=\"spe\">特殊位置</div>\n",
    "        </a>\n",
    "    </div>\n",
    "    <div id=\"second\">\n",
    "        <div class=\"three four\">水电费</div>\n",
    "        <div class=\"three\">说的话房间不开封</div>\n",
    "        <div class=\"four\">三顿饭黑客技术</div>\n",
    "    </div>\n",
    "    <div id=\"third\">\n",
    "        <div class=\"three\">水电费</div>\n",
    "        <div class=\"three\">说的话房间开封</div>\n",
    "    </div>\n",
    "</div>\n",
    "</body>\n",
    "\"\"\"\n",
    "html = etree.HTML(html_str)\n",
    "print(html.xpath('.//div[@id=\"first\"]'))\n",
    "print(html.xpath('.//div[@class=\"three\"]/text()'))  # 取class 的值\n",
    "print(html.xpath('.//div[@id=\"first\"]/div/@class'))\n",
    "print(html.xpath('.//div[@id=\"first\"]/div[@class=\"one\"]/text()'))  # 取id=\"first\" class=\"one\" 的值\n",
    "print(html.xpath('.//div[contains(@class,\"three\")]/text()'))\n",
    "print(html.xpath('.//div[@class=\"four\"]/text()'))\n",
    "print(html.xpath('.//div[contains(@class,\"four\")]/text()'))\n",
    "print(html.xpath('.//div[contains(@id,\"o\")]/text()'))\n",
    "print(html.xpath('.//div[contains(@id,\"o\")]//text()'))\n",
    "print(html.xpath('.//div[contains(text(),\"水电\")]/text()'))\n",
    "\n",
    "\n",
    "# xpath and or not\n",
    "from lxml import etree\n",
    "html_str = \"\"\"\n",
    "<body>\n",
    "<div class=\"container\">\n",
    "    <div id=\"first\">\n",
    "        <div class=\"one\">都市</div>\n",
    "        <div class=\"two\">德玛西亚</div>\n",
    "        <div class=\"two three\">王牌对王牌</div>\n",
    "        <a>\n",
    "            <div class=\"spe\">特殊位置</div>\n",
    "        </a>\n",
    "    </div>\n",
    "    <div id=\"second\">\n",
    "        <div class=\"three four\">水电费</div>\n",
    "        <div class=\"three\">说的话房间不开封</div>\n",
    "        <div class=\"four\">三顿饭黑客技术</div>\n",
    "    </div>\n",
    "    <div id=\"third\">\n",
    "        <div class=\"three six\">水电费</div>\n",
    "        <div class=\"three seven\">说的话房间开封</div>\n",
    "    </div>\n",
    "</div>\n",
    "</body>\n",
    "\"\"\"\n",
    "html = etree.HTML(html_str)\n",
    "print(html.xpath('.//div[contains(@id,\"i\")]/@id'))\n",
    "print(html.xpath('.//div[contains(@class,\"three\") and contains(@class,\"six\")]/@class'))\n",
    "print(html.xpath('.//div[contains(@class,\"three\") and contains(text(),\"房间\")]/@class'))\n",
    "print(html.xpath('.//div[contains(@class,\"seven\") or contains(text(),\"德玛西亚\")]/@class'))\n",
    "divs = html.xpath('.//div')\n",
    "print(len(divs))\n",
    "\n",
    "divs = html.xpath('.//div[not(@id)]')\n",
    "print(len(divs))\n",
    "\n",
    "divs = html.xpath('.//div[not(@id=\"third\")]')\n",
    "print(len(divs))\n",
    "\n",
    "# Xpath 规则书写\n",
    "#     - 越短越好，越精简越好\n",
    "#     - 不要写很长的xpath规则\n",
    "#     - 尽可能的分块取值【后面要着重介绍】\n",
    "#     - 分步操作，不要想着一步到位\""
   ]
  },
  {
   "cell_type": "code",
   "execution_count": null,
   "metadata": {
    "collapsed": true
   },
   "outputs": [],
   "source": [
    "# xpath 各种用法\n",
    "from lxml import etree\n",
    "html_str = \"\"\"\n",
    "<body>\n",
    "<div id=\"content\" class=\"ui container\">\n",
    "\n",
    "        <table id=\"contantbody\" class=\"ui striped  table\">\n",
    "            <tr class=\"1\">\n",
    "                <th>姓名</th>\n",
    "                <th>性别</th>\n",
    "                <th>邮箱</th>\n",
    "                <th>电话</th>\n",
    "            </tr>\n",
    "            <tr class=\"2\">\n",
    "                <td><a href=\"zhangwei\">张伟</a></td>\n",
    "                <td>男</td>\n",
    "                <td>zhangwei@haoren.com</td>\n",
    "                <td>12138-111</td>\n",
    "            </tr>\n",
    "            <tr class=\"3\">\n",
    "                <td><a href=\"yifei\">一菲</a></td>\n",
    "                <td>女</td>\n",
    "                <td>yifei@haoren.com</td>\n",
    "                <td>12138-112</td>\n",
    "            </tr>\n",
    "            <tr class=\"4\">\n",
    "                <td><a href=\"xiaoxian\">小贤</a></td>\n",
    "                <td>男</td>\n",
    "                <td>xiaoxian@haoren.com</td>\n",
    "                <td>12138-113</td>\n",
    "            </tr>\n",
    "            <tr class=\"5\">\n",
    "                <td><a href=\"meijia\">美嘉</a></td>\n",
    "                <td>女</td>\n",
    "                <td>meijia@haoren.com</td>\n",
    "                <td>12138-114</td>\n",
    "            </tr>\n",
    "            <tr class=\"6\">\n",
    "                <td><a href=\"xiaobu\">小布</a></td>\n",
    "                <td>男</td>\n",
    "                <td>xiaobu@hundan.com</td>\n",
    "                <td>12138-115</td>\n",
    "            </tr>\n",
    "\n",
    "        </table>\n",
    "</div>\n",
    "<div class=\"two div\">two div</div>\n",
    "</body>\n",
    "\"\"\"\n",
    "\n",
    "html = etree.HTML(html_str)\n",
    "print(html.xpath(\".//div/@class\"))\n",
    "print(html.xpath(\".//div[@id='content']/@class\"))\n",
    "print(html.xpath(\".//div[@class='two div']/@class\"))\n",
    "print(html.xpath(\".//div[contains(@class,'o')]/@class\"))\n",
    "print(html.xpath('.//table/td')) # 子级 td，没有\n",
    "print()\n",
    "print(html.xpath('.//table//td')) # 子孙级 td，有很多\n",
    "print(html.xpath('.//table//td[text()=\"男\"]/text()'))  # 子孙级 td 检索性别为男的标签\n",
    "print(html.xpath('.//table//td[text()=\"男\"]/../td//text()')) # 子孙级 td 检索性别为男的tr标签 下的td标签下的所有值\n",
    "print(\"好人：\",html.xpath('.//table//td[contains(text(),\"haoren\")]/../td/a/text()'))\n",
    "print(\"混蛋：\",html.xpath('.//table//td[contains(text(),\"hundan\")]/../td/a/text()'))\n",
    "# print(html.xpath('.//table//td[text()=\"hundan\"]/text()'))\n",
    "\n",
    "\n",
    "# position():比较大小  last():最后一个标签   这两个都是返回当前标签的位置号 ，他们可以进行比较\n",
    "print(html.xpath(\".//table/tr[1]/@class\"))  # # 可以用[number]  xpath标签号是从1开始  不是0  ，如果0则返回空\n",
    "print(html.xpath(\".//table/tr[0]/@class\"))  # 0则返回空\n",
    "print(html.xpath(\".//table/tr[position()>1]/@class\")) # tr位置大于1的所有class\n",
    "print(html.xpath(\".//table/tr[position()!=last()]/@class\"))  # 不等于最后一个标签的class\n",
    "# 常用的：\n",
    "# following\t选取文档中当前节点的结束标签之后的所有节点。\n",
    "# preceding\t选取文档中当前节点的开始标签之前的所有节点。\n",
    "# ancestor\t选取当前节点的所有先辈（父、祖父等）。\n",
    "# descendant\t选取当前节点的所有后代元素（子、孙等）。\n",
    "# descendant-or-self\t选取当前节点的所有后代元素（子、孙等）以及当前节点本身。\n",
    "\n",
    "# 以下用的少\n",
    "# namespace\t选取当前节点的所有命名空间节点。\n",
    "# parent\t选取当前节点的父节点。\n",
    "# self\t选取当前节点。\n",
    "# ancestor-or-self\t选取当前节点的所有先辈（父、祖父等）以及当前节点本身。\n",
    "# attribute\t选取当前节点的所有属性。\n",
    "# child\t选取当前节点的所有子元素。\n",
    "# preceding-sibling\t选取当前节点之前的所有同级节点。\n",
    "\n",
    "# print(html.xpath(\".//tr/following::*/@class\"))  #选取文档中当前节点的结束标签之后的所有节点。tr之后节点的所有class\n",
    "# print(html.xpath(\".//tr/preceding::*/@class\"))  #选取文档中当前节点的开始标签之前的所有节点。 tr之前节点的所有class\n",
    "# print(html.xpath(\".//tr/ancestor::*/@class\"))   # 选取当前节点的所有先辈（父、祖父等）   tr当前节点的所有class\n",
    "# print(html.xpath(\".//table/descendant::*/@class\"))  # 选取当前节点的所有后代元素（子、孙等）。 table当前节点的所有后代元素的 class\n",
    "# print(html.xpath(\".//table/descendant-or-self::*/@class\"))  # 选取当前节点的所有后代元素（子、孙等）以及当前节点本身。 table当前节点的所有后代元素的 class 包含本身节点"
   ]
  },
  {
   "cell_type": "markdown",
   "metadata": {},
   "source": [
    "###  xpath习题"
   ]
  },
  {
   "cell_type": "code",
   "execution_count": null,
   "metadata": {
    "collapsed": true
   },
   "outputs": [],
   "source": [
    "\n",
    "html_str = \"\"\"\n",
    "<body>\n",
    "    <div class=\"job\">\n",
    "        <div class=\"job_title\">\n",
    "            Python爬虫工程师\n",
    "        </div>\n",
    "\n",
    "        <div class=\"job_request\">\n",
    "            985 211 本科 硕士\n",
    "        </div>\n",
    "        <div class=\"salary\"><span>20</span>k/m,<span>14</span>薪</div>\n",
    "        <div class=\"job_describe\">\n",
    "            java python scrapy linux docker 分布式 javascript\n",
    "        </div>\n",
    "        <address>\n",
    "            北京\n",
    "        </address>\n",
    "\n",
    "    </div>\n",
    "    <hr>\n",
    "\n",
    "\n",
    "    <div class=\"job\">\n",
    "        <div class=\"job_title\">\n",
    "            高级爬虫工程师\n",
    "        </div>\n",
    "\n",
    "        <div class=\"job_request\">\n",
    "            5年工作经验\n",
    "        </div>\n",
    "        <div class=\"salary\"> <span>20</span> k/m,<span>15</span>薪</div>\n",
    "        <div class=\"job_describe\">\n",
    "            java 电商 分布式爬虫 实时数据抓取\n",
    "        </div>\n",
    "        <address>\n",
    "            北京\n",
    "        </address>\n",
    "\n",
    "    </div>\n",
    "    <hr>\n",
    "    <div class=\"job\">\n",
    "        <div class=\"job_title\">\n",
    "            爬虫工程师\n",
    "        </div>\n",
    "\n",
    "        <div class=\"job_request\">\n",
    "            硕士及以上学历，特别优秀可降低学历要求\n",
    "        </div>\n",
    "        <div class=\"salary\"><span>20</span>k/m</div>\n",
    "        <div class=\"job_describe\">\n",
    "            Mysql、Redis、Nosql，熟悉elt数据清洗流程及常用方法\n",
    "        </div>\n",
    "        <address>\n",
    "            上海\n",
    "        </address>\n",
    "\n",
    "    </div>\n",
    "    <hr>\n",
    "    <div class=\"job\">\n",
    "        <div class=\"job_title\">\n",
    "            高级爬虫工程师\n",
    "        </div>\n",
    "\n",
    "        <div class=\"job_request\">\n",
    "            本科及以上学历，985/211优先\n",
    "        </div>\n",
    "        <div class=\"salary\"><span>8-30</span>k/m</div>\n",
    "        <div class=\"job_describe\">\n",
    "            熟悉HTML、JS、正则表达式、Jsoup或jQuery、XPath等，从结构化和非结构化数据中解析数据；\n",
    "            有验证码破解、数据挖掘、数据仓库搭建经验者优先；\n",
    "        </div>\n",
    "        <address>\n",
    "            北京\n",
    "        </address>\n",
    "\n",
    "    </div>\n",
    "    <hr>\n",
    "\n",
    "    <div class=\"job\">\n",
    "        <div class=\"job_title\">\n",
    "            高级爬虫工程师\n",
    "        </div>\n",
    "\n",
    "        <div class=\"job_request\">\n",
    "            能力者高薪资，不限学历，有大牛指导\n",
    "        </div>\n",
    "        <div class=\"salary\"><span>10-50</span>k/m,<span>13</span>薪</div>\n",
    "        <div class=\"job_describe\">\n",
    "            1.精通C#或Python或C++或Go语言等爬虫方向开发和应用\n",
    "            2.具有爬虫系统框架设计能力，以及爬虫项目规划能力\n",
    "            3.有微信/微博/APP数据抓取优先\n",
    "        </div>\n",
    "        <address>\n",
    "            北京\n",
    "        </address>\n",
    "\n",
    "    </div>\n",
    "    <hr>\n",
    "    <div class=\"job\">\n",
    "        <div class=\"job_title\">\n",
    "            Python开发工程师\n",
    "        </div>\n",
    "\n",
    "        <div class=\"job_request\">\n",
    "            本科及以上学历，985/211优先\n",
    "        </div>\n",
    "        <div class=\"salary\"><span>10-50</span>k/m,<span>14</span>薪</div>\n",
    "        <div class=\"job_describe\">\n",
    "            django flask tornado flask\n",
    "            全日制本科学历\n",
    "            熟练掌握常用数据结构和算法，并能灵活运用\n",
    "        </div>\n",
    "        <address>\n",
    "            北京\n",
    "        </address>\n",
    "\n",
    "    </div>\n",
    "    <hr>\n",
    "    <div class=\"job\">\n",
    "        <div class=\"job_title\">\n",
    "            高级Python开发工程师\n",
    "        </div>\n",
    "\n",
    "        <div class=\"job_request\">\n",
    "            5-10年工作经验\n",
    "        </div>\n",
    "        <div class=\"salary\"><span>30</span>k/m,<span>15</span>薪</div>\n",
    "        <div class=\"job_describe\">\n",
    "            Python django devops restful postgresql docker ACM\n",
    "        </div>\n",
    "        <address>\n",
    "            上海\n",
    "        </address>\n",
    "\n",
    "    </div>\n",
    "    <hr>\n",
    "</body>"
   ]
  },
  {
   "cell_type": "code",
   "execution_count": null,
   "metadata": {
    "collapsed": true
   },
   "outputs": [],
   "source": [
    "from lxml import etree\n",
    "html = etree.HTML(html_str)\n",
    "\n",
    "# 列出所有的招聘信息标题，xpath越短越好\n",
    "job_title1 = html.xpath(\".//div[@class='job_title']/text()\")\n",
    "job_title2 = html.xpath(\".//div[@class='job']/div[1]/text()\")\n",
    "print(len(job_title1),job_title1)\n",
    "print(len(job_title2),job_title2)\n",
    "print()\n",
    "\n",
    "# 分别统计python爬虫和python开发的岗位数，xpath越短越好\n",
    "job_pachong = html.xpath(\".//div[@class='job_title' and contains(text(),'爬虫')]/text()\")\n",
    "job_kaifa = html.xpath(\".//div[@class='job_title' and contains(text(),'开发')]/text()\")\n",
    "print(len(job_pachong),job_pachong)\n",
    "print(len(job_kaifa),job_kaifa)\n",
    "print()\n",
    "\n",
    "# 分别统计不同地区的岗位数，xpath越短越好\n",
    "job_shanghai = html.xpath(\".//address[contains(text(),'上海') ]/text()\")\n",
    "job_beijing = html.xpath(\".//address[contains(text(),'北京') ]/text()\")\n",
    "print(len(job_shanghai),job_shanghai)\n",
    "print(len(job_beijing),job_beijing)\n",
    "print()\n",
    "\n",
    "# 查询有多少技术用到了docker技术，xpath越短越好\n",
    "job_docker = html.xpath(\".//div[@class='job_describe' and contains(text(),'docker')]/text()\")\n",
    "print(len(job_docker),job_docker)\n",
    "print()\n",
    "\n",
    "# 查询需要本科学历的招聘信息标题\n",
    "job_benke1 = html.xpath(\".//div[@class='job_request'][contains(text(),'本科')]/../div[1]/text()\")\n",
    "job_benke2 = html.xpath(\".//div[@class='job_request' and contains(text(),'本科')]/../div[1]/text()\")\n",
    "print(len(job_benke1),job_benke1)\n",
    "print(len(job_benke2),job_benke2)\n",
    "print()\n",
    "\n",
    "# 写明薪资次数的岗位标题\n",
    "salarys = html.xpath('.//div[@class=\"salary\"]/span[2]/../../div[1]/text()')\n",
    "print(len(salarys),salarys)\n",
    "\n",
    "# 未写明自薪资次数的岗位标题\n",
    "salarys = html.xpath(\".//div[@class='salary'][not(span[2])]/../div[1]/text()\")\n",
    "print(len(salarys),salarys)\n",
    "\n",
    "# 具体薪资的岗位标题\n",
    "salarys = html.xpath(\".//div[@class='salary']/span[1][not(contains(text(),'-'))]/../../div[1]/text()\")\n",
    "print(len(salarys),salarys)\n",
    "print()\n",
    "\n",
    "print('-----------------------# 格式化输出全部的招聘信息-----------------------------')\n",
    "jobs = html.xpath('.//div[@class=\"job\"]')\n",
    "print(len(jobs))\n",
    "for job in jobs:\n",
    "    print(job.xpath(\".//div[1]/text()\")) # 加 . 表示当前位置\n",
    "    print(job.xpath(\".//div[2]/text()\"))\n",
    "    print(job.xpath(\".//div[3]//text()\"))\n",
    "    print(job.xpath(\".//div[4]/text()\"))\n",
    "    print(job.xpath(\".//address/text()\"))\n",
    "    print('-------------------------------------------------------')\n"
   ]
  },
  {
   "cell_type": "markdown",
   "metadata": {},
   "source": [
    "### 爬取淘宝搜索框下的推荐的关键词"
   ]
  },
  {
   "cell_type": "code",
   "execution_count": 1,
   "metadata": {
    "collapsed": true
   },
   "outputs": [
    {
     "name": "stdout",
     "output_type": "stream",
     "text": [
      "搜索框下推荐关键词共有:13个\n",
      "新款连衣裙\n",
      "四件套\n",
      "潮流T恤\n",
      "时尚女鞋\n",
      "短裤\n",
      "半身裙\n",
      "男士外套\n",
      "墙纸\n",
      "行车记录仪\n",
      "新款男鞋\n",
      "耳机\n",
      "时尚女包\n",
      "沙发\n"
     ]
    }
   ],
   "source": [
    "import requests\n",
    "from lxml import etree\n",
    "headers = {'User-Agent':'Mozilla/5.0 (Windows NT 10.0; Win64; x64) AppleWebKit/537.36 (KHTML, like Gecko) Chrome/78.0.3904.87 Safari/537.36'}\n",
    "response = requests.get(\"https://taobao.com\",headers = headers)\n",
    "content = response.content.decode()\n",
    "html = etree.HTML(content)\n",
    "txts = html.xpath(\".//div[@class='search-hots-fline']/a/text()\")\n",
    "print(f'搜索框下推荐关键词共有:{len(txts)}个')\n",
    "for txt in txts:\n",
    "    print(txt)"
   ]
  },
  {
   "cell_type": "markdown",
   "metadata": {},
   "source": [
    "### 爬取美女图片"
   ]
  },
  {
   "cell_type": "code",
   "execution_count": 2,
   "metadata": {
    "collapsed": true
   },
   "outputs": [
    {
     "name": "stdout",
     "output_type": "stream",
     "text": [
      "当前页码：172\n"
     ]
    },
    {
     "ename": "NameError",
     "evalue": "name 'i' is not defined",
     "output_type": "error",
     "traceback": [
      "\u001b[1;31m---------------------------------------------------------------------------\u001b[0m",
      "\u001b[1;31mFileNotFoundError\u001b[0m                         Traceback (most recent call last)",
      "\u001b[1;32m<ipython-input-2-ff549e685584>\u001b[0m in \u001b[0;36mparse_page\u001b[1;34m(url)\u001b[0m\n\u001b[0;32m     48\u001b[0m         \u001b[1;32mtry\u001b[0m\u001b[1;33m:\u001b[0m\u001b[1;33m\u001b[0m\u001b[0m\n\u001b[1;32m---> 49\u001b[1;33m             \u001b[0mdownload_img\u001b[0m\u001b[1;33m(\u001b[0m\u001b[0msrc\u001b[0m\u001b[1;33m)\u001b[0m\u001b[1;33m\u001b[0m\u001b[0m\n\u001b[0m\u001b[0;32m     50\u001b[0m         \u001b[1;32mexcept\u001b[0m\u001b[1;33m:\u001b[0m\u001b[1;33m\u001b[0m\u001b[0m\n",
      "\u001b[1;32m<ipython-input-2-ff549e685584>\u001b[0m in \u001b[0;36mdownload_img\u001b[1;34m(url)\u001b[0m\n\u001b[0;32m     38\u001b[0m     \u001b[0mfilename\u001b[0m \u001b[1;33m=\u001b[0m \u001b[0murl\u001b[0m\u001b[1;33m.\u001b[0m\u001b[0msplit\u001b[0m\u001b[1;33m(\u001b[0m\u001b[1;34m'/'\u001b[0m\u001b[1;33m)\u001b[0m\u001b[1;33m[\u001b[0m\u001b[1;33m-\u001b[0m\u001b[1;36m1\u001b[0m\u001b[1;33m]\u001b[0m  \u001b[1;31m# /作为分割url 最后一块做为文件名\u001b[0m\u001b[1;33m\u001b[0m\u001b[0m\n\u001b[1;32m---> 39\u001b[1;33m     \u001b[1;32mwith\u001b[0m \u001b[0mopen\u001b[0m\u001b[1;33m(\u001b[0m\u001b[0mpath\u001b[0m \u001b[1;33m+\u001b[0m \u001b[1;34m'/'\u001b[0m \u001b[1;33m+\u001b[0m \u001b[0mfilename\u001b[0m\u001b[1;33m,\u001b[0m \u001b[1;34m'wb'\u001b[0m\u001b[1;33m)\u001b[0m \u001b[1;32mas\u001b[0m \u001b[0mf\u001b[0m\u001b[1;33m:\u001b[0m  \u001b[1;31m# 文件名=路径+文件名 （即完整路径）  f为写入的内容\u001b[0m\u001b[1;33m\u001b[0m\u001b[0m\n\u001b[0m\u001b[0;32m     40\u001b[0m         \u001b[0mf\u001b[0m\u001b[1;33m.\u001b[0m\u001b[0mwrite\u001b[0m\u001b[1;33m(\u001b[0m\u001b[0mimgresp\u001b[0m\u001b[1;33m.\u001b[0m\u001b[0mcontent\u001b[0m\u001b[1;33m)\u001b[0m  \u001b[1;31m# 写入二进制的图片\u001b[0m\u001b[1;33m\u001b[0m\u001b[0m\n",
      "\u001b[1;31mFileNotFoundError\u001b[0m: [Errno 2] No such file or directory: 'C:/Users/10746/Desktop/爬下来的美女图片/3-1511130U152433.jpg'",
      "\nDuring handling of the above exception, another exception occurred:\n",
      "\u001b[1;31mNameError\u001b[0m                                 Traceback (most recent call last)",
      "\u001b[1;32m<ipython-input-2-ff549e685584>\u001b[0m in \u001b[0;36m<module>\u001b[1;34m()\u001b[0m\n\u001b[0;32m     72\u001b[0m \u001b[1;33m\u001b[0m\u001b[0m\n\u001b[0;32m     73\u001b[0m \u001b[1;32mif\u001b[0m \u001b[0m__name__\u001b[0m\u001b[1;33m==\u001b[0m\u001b[1;34m\"__main__\"\u001b[0m\u001b[1;33m:\u001b[0m\u001b[1;33m\u001b[0m\u001b[0m\n\u001b[1;32m---> 74\u001b[1;33m     \u001b[0mmain\u001b[0m\u001b[1;33m(\u001b[0m\u001b[1;33m)\u001b[0m\u001b[1;33m\u001b[0m\u001b[0m\n\u001b[0m",
      "\u001b[1;32m<ipython-input-2-ff549e685584>\u001b[0m in \u001b[0;36mmain\u001b[1;34m()\u001b[0m\n\u001b[0;32m     64\u001b[0m     \u001b[1;32mwhile\u001b[0m \u001b[1;32mTrue\u001b[0m\u001b[1;33m:\u001b[0m\u001b[1;33m\u001b[0m\u001b[0m\n\u001b[0;32m     65\u001b[0m         \u001b[0mprint\u001b[0m\u001b[1;33m(\u001b[0m\u001b[1;34mf'当前页码：{i}'\u001b[0m\u001b[1;33m)\u001b[0m\u001b[1;33m\u001b[0m\u001b[0m\n\u001b[1;32m---> 66\u001b[1;33m         \u001b[0mstatus\u001b[0m \u001b[1;33m=\u001b[0m \u001b[0mparse_page\u001b[0m\u001b[1;33m(\u001b[0m\u001b[0mbase_url\u001b[0m\u001b[1;33m.\u001b[0m\u001b[0mformat\u001b[0m\u001b[1;33m(\u001b[0m\u001b[0mi\u001b[0m\u001b[1;33m)\u001b[0m\u001b[1;33m)\u001b[0m  \u001b[1;31m# 将url给函数处理，并且函数返回True或False，判断是否继续还是中断死循环\u001b[0m\u001b[1;33m\u001b[0m\u001b[0m\n\u001b[0m\u001b[0;32m     67\u001b[0m         \u001b[1;32mif\u001b[0m \u001b[0mstatus\u001b[0m\u001b[1;33m:\u001b[0m\u001b[1;33m\u001b[0m\u001b[0m\n\u001b[0;32m     68\u001b[0m             \u001b[0mi\u001b[0m \u001b[1;33m+=\u001b[0m \u001b[1;36m1\u001b[0m\u001b[1;33m\u001b[0m\u001b[0m\n",
      "\u001b[1;32m<ipython-input-2-ff549e685584>\u001b[0m in \u001b[0;36mparse_page\u001b[1;34m(url)\u001b[0m\n\u001b[0;32m     49\u001b[0m             \u001b[0mdownload_img\u001b[0m\u001b[1;33m(\u001b[0m\u001b[0msrc\u001b[0m\u001b[1;33m)\u001b[0m\u001b[1;33m\u001b[0m\u001b[0m\n\u001b[0;32m     50\u001b[0m         \u001b[1;32mexcept\u001b[0m\u001b[1;33m:\u001b[0m\u001b[1;33m\u001b[0m\u001b[0m\n\u001b[1;32m---> 51\u001b[1;33m             \u001b[0mprint\u001b[0m\u001b[1;33m(\u001b[0m\u001b[1;34mf'第{i}页，下载失败'\u001b[0m\u001b[1;33m)\u001b[0m\u001b[1;33m\u001b[0m\u001b[0m\n\u001b[0m\u001b[0;32m     52\u001b[0m             \u001b[1;32mpass\u001b[0m\u001b[1;33m\u001b[0m\u001b[0m\n\u001b[0;32m     53\u001b[0m \u001b[1;33m\u001b[0m\u001b[0m\n",
      "\u001b[1;31mNameError\u001b[0m: name 'i' is not defined"
     ]
    }
   ],
   "source": [
    "def requests_view(response):     # 定义一个方法：将获取的页面在浏览器中完好的展示出来\n",
    "    import webbrowser           # 导入 webbrowser 可以在默认浏览器打开url\n",
    "    request_url = response.url   # 把 提取url并 赋值给变量 request_url\n",
    "    base_url = '<head><base href=\"%s\">'%(request_url)  #  把request_url的值（url） 放到 %s处   【%s %  %后面的替换%s处】\n",
    "    base_url = base_url.encode()   # 把上面的base_url 编码成字节类型\n",
    "\n",
    "    # response.content把源码变成字节类型, .content:返回bytes类型的数据也就是二进制数据   .replace(old,new) old替换成new\n",
    "    # b\"<head>\" ： 把 <head> 字符串 转成字节类型\n",
    "    # 把 <head> 替换成 base_url 的值  （都是字节替换）\n",
    "    # 替换好的 赋值给 content\n",
    "    # requests.get()抓下来的源码所有字节，所以用字节类型来转码后替换，不会出错\n",
    "    content = response.content.replace(b\"<head>\",base_url)\n",
    "\n",
    "    # open(\"文件名\",\"模式\")\n",
    "    # wb模式：wb\t以二进制格式打开一个文件只用于写入。如果该文件已存在则打开文件，\n",
    "    并从开头开始编辑，即原有内容会被删除。如果该文件不存在，创建新文件。\n",
    "    # 这里创建了一个新的名字叫 tmp.html 的html的文件 并打开\n",
    "    tem_html = open('tmp.html','wb')\n",
    "\n",
    "    tem_html.write(content)  #  write()方法用于向文件中写入指定字符串  把 content (已经替换好的源码头) 写入到 tem_html\n",
    "    tem_html.close()   # close() 方法用于关闭一个已打开的文件\n",
    "    webbrowser.open_new_tab(\"tmp.html\")  # 用默认浏览器窗口新的标签打开 tmp.html\n",
    "\n",
    "    # content = response.content.decode()   # .decode() 解码"
   ]
  },
  {
   "cell_type": "code",
   "execution_count": null,
   "metadata": {
    "collapsed": true
   },
   "outputs": [],
   "source": [
    "import requests\n",
    "from lxml import etree\n",
    "\n",
    "headers = {\n",
    "    'Referer':'http://www.meituba.com', # 增加请求头访问云服务器, 网址即使请求头\n",
    "    # 增加用户身份识别  network—all 里查看 User-Agent\n",
    "    'User-Agent':'Mozilla/5.0 (Windows NT 10.0; Win64; x64) AppleWebKit/537.36 (KHTML, like Gecko) Chrome/78.0.3904.87 Safari/537.36'\n",
    "}\n",
    "\n",
    "path = 'C:/Users/10746/Desktop/爬下来的美女图片'  # 图片保存的路径"
   ]
  },
  {
   "cell_type": "code",
   "execution_count": null,
   "metadata": {
    "collapsed": true
   },
   "outputs": [],
   "source": [
    "def download_img(url):  # 下载图片的方法\n",
    "    imgresp = requests.get(url,headers=headers)\n",
    "    filename = url.split('/')[-1]  # /作为分割url 最后一块做为文件名\n",
    "    with open(path + '/' + filename, 'wb') as f:  # 文件名=路径+文件名 （即完整路径）  f为写入的内容\n",
    "        f.write(imgresp.content)  # 写入二进制的图片"
   ]
  },
  {
   "cell_type": "code",
   "execution_count": null,
   "metadata": {
    "collapsed": true
   },
   "outputs": [],
   "source": [
    "def parse_page(url):\n",
    "    resp = requests.get(url,headers=headers) # 伪装头部，赋值给 resp\n",
    "    html = etree.HTML(resp.content.decode('utf8'))    # 解析resp\n",
    "\n",
    "    srcs = html.xpath('/html/body/div[4]/div[1]/div[2]/div[1]/div/ul//@src') #xpath取到当前页所有目标图片地址给到srcs\n",
    "    for src in srcs:       # 检测异常访问不到图片地址就跳过访问下一个\n",
    "        try:\n",
    "            download_img(src)\n",
    "        except:\n",
    "            print(f'第{i}页，下载失败')\n",
    "            pass\n",
    "\n",
    "    next_link = html.xpath('.//div//a[contains(text(),\"下一页\")]/text()')# 下一页的按钮路径\n",
    "\n",
    "    if next_link:       # 有下一页按钮返回真，否则返回假\n",
    "        return True\n",
    "    else:\n",
    "        return False"
   ]
  },
  {
   "cell_type": "code",
   "execution_count": 13,
   "metadata": {
    "collapsed": true
   },
   "outputs": [],
   "source": [
    "i = 100\n",
    "def main():\n",
    "    global i\n",
    "    base_url = 'http://www.meituba.com/xinggan/list8{}.html'\n",
    "    while True:\n",
    "        print(f'当前页码：{i}')\n",
    "        status = parse_page(base_url.format(i))  # 将url给函数处理，并且函数返回True或False，判断是否继续还是中断死循环\n",
    "        if status:\n",
    "            i += 1\n",
    "        else:\n",
    "            break\n",
    "    print('OVER')"
   ]
  },
  {
   "cell_type": "code",
   "execution_count": null,
   "metadata": {
    "collapsed": true
   },
   "outputs": [],
   "source": [
    "if __name__==\"__main__\":\n",
    "    main()"
   ]
  },
  {
   "cell_type": "markdown",
   "metadata": {},
   "source": [
    "### 设置代理IP 和 cookie"
   ]
  },
  {
   "cell_type": "code",
   "execution_count": null,
   "metadata": {
    "collapsed": true
   },
   "outputs": [],
   "source": [
    "======================================================\n",
    "import requests  # 导入库\n",
    "url = 'https://fanyi.baidu.com/?aldtype=16047#en/zh/'  # 定义URL参数\n",
    "response = requests.get(url) # 发起请求，并拿到响应，存入response\n",
    "print(response)  # 打印参数\n",
    "response.status_code  # 打印状态码\n",
    "\n",
    "response.text # 响应的文本，就是HTML源码，类型是字符串\n",
    "response.content # 响应的内容，就是HTML源码，类型是字节\n",
    "# 上面两个本质是一样的，只是类型不同，text 只适用文本类型，文件类型要用字节\n",
    "\n",
    "\n",
    "response.headers # 响应的头部信息，通常不用管他\n",
    "response.request # 请求\n",
    "response.request.headers # 请求头\n",
    "\n",
    "import requests\n",
    "url = 'http://daili.spbeen.com/get_api_json?token=JqC8BlLiOGw038U58ICOEsce&num=1'\n",
    "proxy = {\n",
    "    'http':'http://180.171.148.28', # 代理ip\n",
    "    'https':'https://180.171.148.28'  # 代理ip需支出https协议\n",
    "}\n",
    "cookie = {\n",
    "    'UM_distinctid':'16e4b32ba7f5a-0201dd3d01da88-7711b3e-130980-16e4b32ba80670',\n",
    "    'CNZZDATA1274503826':'909653764-1575105011-%7C1575105011',\n",
    "    'csrftoken':'ban6OXRldTx2ExZPkTUT0fqCRQEKzYRJZyKniByuZijjTVcUXidUbtQP8PmsGZGk',\n",
    "    '_dfesp':'d5o2z69xcntousypbx3nnpbyjxqrajhz'\n",
    "}  # 提取cookie ，用户登陆信息\n",
    "\n",
    "# 设置代理IP 和 cookie  timeout单位是秒，默认缺省值是180秒\n",
    "# response = requests.get(url, proxies = proxy, cookies = cookie,timeout=1)\n",
    "response = requests.get(url, cookies = cookie,timeout=1)\n",
    "info = response.json()\n",
    "print(type(info),info)\n",
    "print(response.status_code) #  打印状态码"
   ]
  },
  {
   "cell_type": "markdown",
   "metadata": {},
   "source": [
    "### 爬取赶集网租房信息"
   ]
  },
  {
   "cell_type": "code",
   "execution_count": null,
   "metadata": {
    "collapsed": true
   },
   "outputs": [],
   "source": [
    "# def requests_view(response): # 可视化源码的方法\n",
    "#     import webbrowser\n",
    "#     requests_url = response.url\n",
    "#     base_url = '<head><base href=\"%s\">'%(requests_url)\n",
    "#     base_url = base_url.encode()\n",
    "#     content = response.content.replace(b\"<head>\",base_url)\n",
    "#     tem_html = open('tmp.html','wb')\n",
    "#     tem_html.write(content)\n",
    "#     tem_html.close()\n",
    "#     webbrowser.open_new_tab(\"tmp.html\")\n",
    "#\n",
    "# requests_view(response)\n",
    "\n",
    "from sqlalchemy import create_engine # 导入 create_engine包\n",
    "\n",
    "# 创建引擎,引擎是负责连接的,echo=True  输出日志,False就是不输出\n",
    "engine = create_engine('sqlite:///ganji_zufang.sqlite',echo=True)\n",
    "\n",
    "# 导入表格类所需的内容\n",
    "# Table,Column,Integer,String,ForeignKey\n",
    "# 表格    列    整形   字符串    外键：用于表格链接表格的\n",
    "from sqlalchemy import Table,Column,Integer,String,ForeignKey\n",
    "\n",
    "#导入会话的虚拟类\n",
    "from sqlalchemy.orm import sessionmaker\n",
    "\n",
    "# 导入base【表格的基础】\n",
    "from sqlalchemy.ext.declarative import declarative_base\n",
    "\n",
    "# 基于引擎，创建会话\n",
    "DBSession = sessionmaker(bind=engine)\n",
    "\n",
    "# 会话对象初始化\n",
    "session = DBSession()\n",
    "\n",
    "# 为下面class准备的\n",
    "Base = declarative_base()\n",
    "\n",
    "# 以上的代码为固定的，不能修改，创建数据库文件及链接使用\n",
    "\n",
    "\n",
    "class ZuFang(Base):    # 创建一个ZuFang的类，参数为 Base\n",
    "    __tablename__ = \"zufang\"   #\n",
    "    id = Column(Integer,primary_key=True) # primary_key=True 设置id为主键，Integer：整型，Column：列\n",
    "    title = Column(String(400))   # 把400的字符串类型 给到title\n",
    "    money = Column(String(400))\n",
    "    info = Column(String(400))\n",
    "    people = Column(String(400))\n",
    "    address1 = Column(String(400))\n",
    "    address2 = Column(String(400))\n",
    "\n",
    "\n",
    "    @classmethod  # @classmethod 类就可以不需要实例化，直接类名.方法名()来调用\n",
    "\n",
    "    def save(cls,data):   # cls固定这么写，如果没有classmethod，就是写self\n",
    "        session.add(data)  # 添加数据\n",
    "        session.commit()   # 提交数据\n",
    "        return data.id    # 返回data的id(主键)\n",
    "\n",
    "Base.metadata.create_all(engine)\n",
    "\n",
    "import requests   # 导入获取源码的函数\n",
    "from lxml import etree  # 导入xpath语法\n",
    "\n",
    "headers = {\n",
    "    'Referer':'http://bj.ganji.com/fang1', # 增加请求头访问云服务器, 网址即使请求头\n",
    "    # 增加用户身份识别  network—all 里查看 User-Agent\n",
    "    'User-Agent':'Mozilla/5.0 (Windows NT 10.0; Win64; x64) AppleWebKit/537.36 (KHTML, like Gecko) Chrome/78.0.3904.87 Safari/537.36'\n",
    "}\n",
    "\n",
    "def parse_data(response,url):  # 定义一个获取目标信息并写到数据库的办法\n",
    "    html = etree.HTML(response.content.decode())    # 解析response的内容到html\n",
    "    items = html.xpath('.//div[@class=\"f-list-item ershoufang-list\"]')   #获取html需要的整块信息\n",
    "\n",
    "    if len(items)==0:\n",
    "        webbrowser.open_new_tab(url)\n",
    "        print(response.url)\n",
    "        strs = input(\"请输入验证问题，按Enter键继续：\")\n",
    "        if strs.upper()==\"ENTER\":\n",
    "            print(\"继续爬取\")\n",
    "            parse_data(requests.get(url,headers=headers),url)\n",
    "\n",
    "    for i in items:\n",
    "        title = i.xpath('.//dd[@class=\"dd-item title\"]/a/text()') # 整块信息里的标题\n",
    "        money = i.xpath('.//dd[@class=\"dd-item info\"]/div[@class=\"price\"]/span/text()') # 整块信息里的价格\n",
    "        info = i.xpath('.//dd[@class=\"dd-item size\"]/span/text()') # 整块信息里的  1室1厅1卫  45.00㎡  南向  简单装修  这四个信息\n",
    "        people = i.xpath('.//dd[@class=\"dd-item address\"]/span/span[@class=\"address-eara\"]/text()')   # 整块信息里的发布人信息\n",
    "        address1 = i.xpath('.//dd[@class=\"dd-item address\"]/span/a[@class=\"address-eara\"]/text()')   # 整块信息里的地址信息\n",
    "        address2 = i.xpath('.//dd[@class=\"dd-item address\"]/span/a/span[@class=\"address-eara\"]/text()')   # 整块信息里的地址信息\n",
    "        zf = ZuFang()  # 创建租房的实例\n",
    "        zf.title = \" \".join(title)  # 把上面获取的目标信息title  给到ZuFang()类里，即写入数据库\n",
    "        zf.money = \" \".join(money)\n",
    "        zf.info = \" \".join(info)\n",
    "        zf.people = \" \".join(people)\n",
    "        zf.address1 = \" \".join(address1)\n",
    "        zf.address2 = \" \".join(address2)\n",
    "        zf.save(zf)  # 保存\n",
    "\n",
    "base_url = \"http://bj.ganji.com/fang1/o{}\"\n",
    "\n",
    "for i in range(1,100):\n",
    "    requests_url = base_url.format(i)  # 每一页自动url+1\n",
    "    response = requests.get(requests_url,headers=headers)   # 给url添加 UA\n",
    "    print(requests_url,\"status_code:\",response.status_code) # 打印状态码\n",
    "    try:   # 如果页面访问成功，但没有返回数据，则跳过\n",
    "        parse_data(response,request_url)  # 获取目标信息\n",
    "        # os.remove()\n",
    "    except:\n",
    "        print(f'获取信息失败的网址：{request_url}')\n",
    "        pass"
   ]
  },
  {
   "cell_type": "markdown",
   "metadata": {},
   "source": [
    "### 爬取网易新闻"
   ]
  },
  {
   "cell_type": "code",
   "execution_count": 3,
   "metadata": {
    "collapsed": true
   },
   "outputs": [],
   "source": [
    "import requests  # 请求用的库\n",
    "from lxml import etree  # 导入解析库\n",
    "from requests_html import HTMLSession  "
   ]
  },
  {
   "cell_type": "code",
   "execution_count": 4,
   "metadata": {
    "collapsed": true
   },
   "outputs": [],
   "source": [
    "url_163news = 'https://news.163.com/'   # 爬取目标的地址\n",
    "path = r'C:\\Users\\10746\\Desktop\\ptthon-test\\163news'     # 保存txt文件的路径\n",
    "headers = {\n",
    "    'User-Agent':'Mozilla/5.0 (Windows NT 10.0; Win64; x64) AppleWebKit/537.36 (KHTML, like Gecko) Chrome/78.0.3904.87 Safari/537.36'\n",
    "}      # 请求头\n",
    "response_163news = requests.get(url_163news,headers = headers)  # 获取网页页面\n",
    "response_163news.status_code  # 看状态码\n",
    "response_163news.text  # 看源码文本信息\n",
    "html = etree.HTML(response_163news.text)  # 信息解码"
   ]
  },
  {
   "cell_type": "code",
   "execution_count": null,
   "metadata": {
    "collapsed": true
   },
   "outputs": [],
   "source": []
  },
  {
   "cell_type": "code",
   "execution_count": null,
   "metadata": {
    "collapsed": true
   },
   "outputs": [],
   "source": [
    "urls = html.xpath('.//div[@class=\"main_center_news\"]/div/ul/li/a/@href')  # 获取新闻链接\n",
    "for url in urls:   # 遍历这些链接\n",
    "    new_save(url)  # 存储新闻内容到本地"
   ]
  },
  {
   "cell_type": "code",
   "execution_count": null,
   "metadata": {
    "collapsed": true
   },
   "outputs": [],
   "source": [
    "url_163news = 'https://news.163.com/'   # 爬取目标的地址\n",
    "session = HTMLSession()\n",
    "response = session.get(url_163news)\n",
    "hrefs = response.html.xpath('.//a[@class=\"na_pic\"]/@href')"
   ]
  },
  {
   "cell_type": "code",
   "execution_count": null,
   "metadata": {
    "collapsed": true
   },
   "outputs": [],
   "source": [
    "print(len(hrefs))\n",
    "for href in hrefs:   # 遍历这些链接\n",
    "    print(href)"
   ]
  },
  {
   "cell_type": "markdown",
   "metadata": {},
   "source": [
    "### requests_html库"
   ]
  },
  {
   "cell_type": "code",
   "execution_count": 6,
   "metadata": {
    "collapsed": true
   },
   "outputs": [
    {
     "name": "stdout",
     "output_type": "stream",
     "text": [
      "['4.8']\n"
     ]
    },
    {
     "name": "stderr",
     "output_type": "stream",
     "text": [
      "Future exception was never retrieved\n",
      "future: <Future finished exception=ConnectionClosedError('code = 1006 (connection closed abnormally [internal]), no reason',)>\n",
      "Traceback (most recent call last):\n",
      "  File \"C:\\Users\\10746\\Anaconda3\\lib\\site-packages\\websockets\\protocol.py\", line 827, in transfer_data\n",
      "    message = await self.read_message()\n",
      "  File \"C:\\Users\\10746\\Anaconda3\\lib\\site-packages\\websockets\\protocol.py\", line 895, in read_message\n",
      "    frame = await self.read_data_frame(max_size=self.max_size)\n",
      "  File \"C:\\Users\\10746\\Anaconda3\\lib\\site-packages\\websockets\\protocol.py\", line 971, in read_data_frame\n",
      "    frame = await self.read_frame(max_size)\n",
      "  File \"C:\\Users\\10746\\Anaconda3\\lib\\site-packages\\websockets\\protocol.py\", line 1051, in read_frame\n",
      "    extensions=self.extensions,\n",
      "  File \"C:\\Users\\10746\\Anaconda3\\lib\\site-packages\\websockets\\framing.py\", line 105, in read\n",
      "    data = await reader(2)\n",
      "  File \"C:\\Users\\10746\\Anaconda3\\lib\\asyncio\\streams.py\", line 666, in readexactly\n",
      "    raise IncompleteReadError(incomplete, n)\n",
      "asyncio.streams.IncompleteReadError: 0 bytes read on a total of 2 expected bytes\n",
      "\n",
      "The above exception was the direct cause of the following exception:\n",
      "\n",
      "websockets.exceptions.ConnectionClosedError: code = 1006 (connection closed abnormally [internal]), no reason\n"
     ]
    },
    {
     "name": "stdout",
     "output_type": "stream",
     "text": [
      "['4.8']\n"
     ]
    },
    {
     "data": {
      "text/plain": [
       "{'User-Agent': 'Mozilla/5.0 (Macintosh; Intel Mac OS X 10_12_6) AppleWebKit/603.3.8 (KHTML, like Gecko) Version/10.1.2 Safari/603.3.8', 'Accept-Encoding': 'gzip, deflate', 'Accept': '*/*', 'Connection': 'keep-alive'}"
      ]
     },
     "execution_count": 6,
     "metadata": {},
     "output_type": "execute_result"
    }
   ],
   "source": [
    "from requests_html import HTMLSession\n",
    "session = HTMLSession()\n",
    "# url = 'http://www.spbeen.com/tool/request_info/'\n",
    "url = 'https://huashuguo.tmall.com/index.htm?spm=a220o.1000855.w5002-18327099974.2.22213907tTUohj'\n",
    "response = session.get(url)\n",
    "hrefs = response.html.xpath('/html/body/div[1]/div[2]/div/div[1]/div[2]/div[2]/div[1]/div[2]/span/text()')\n",
    "print(hrefs)\n",
    "response.html.render()\n",
    "hrefs = response.html.xpath('/html/body/div[1]/div[2]/div/div[1]/div[2]/div[2]/div[1]/div[2]/span/text()')\n",
    "print(hrefs)\n",
    "response.headers\n",
    "response.request.headers"
   ]
  },
  {
   "cell_type": "markdown",
   "metadata": {},
   "source": [
    "### selenium库"
   ]
  },
  {
   "cell_type": "code",
   "execution_count": 7,
   "metadata": {
    "collapsed": true
   },
   "outputs": [],
   "source": [
    "from selenium import webdriver  # 导入页面操作模拟库\n",
    "from selenium.webdriver.chrome.options import Options  # 导入chrome浏览器可配置选项库\n",
    "from lxml import etree  # 导入解析库\n",
    "import faker  # 导入随机生成agent的库"
   ]
  },
  {
   "cell_type": "code",
   "execution_count": 8,
   "metadata": {
    "collapsed": true
   },
   "outputs": [
    {
     "name": "stdout",
     "output_type": "stream",
     "text": [
      "Mozilla/5.0 (Android 2.1; Mobile; rv:47.0) Gecko/47.0 Firefox/47.0\n",
      "Mozilla/5.0 (iPhone; CPU iPhone OS 9_3_6 like Mac OS X) AppleWebKit/532.2 (KHTML, like Gecko) FxiOS/14.6t9051.0 Mobile/57O477 Safari/532.2\n",
      "Mozilla/5.0 (Macintosh; U; PPC Mac OS X 10_10_6 rv:2.0; raj-IN) AppleWebKit/533.20.3 (KHTML, like Gecko) Version/4.0 Safari/533.20.3\n",
      "Mozilla/5.0 (Android 4.4; Mobile; rv:46.0) Gecko/46.0 Firefox/46.0\n",
      "Opera/8.91.(Windows NT 5.0; mk-MK) Presto/2.9.164 Version/11.00\n",
      "Mozilla/5.0 (compatible; MSIE 5.0; Windows 95; Trident/4.0)\n",
      "Mozilla/5.0 (Windows; U; Windows NT 5.1) AppleWebKit/532.14.4 (KHTML, like Gecko) Version/5.0.2 Safari/532.14.4\n",
      "Mozilla/5.0 (compatible; MSIE 9.0; Windows 98; Trident/3.0)\n",
      "Mozilla/5.0 (Windows 98) AppleWebKit/535.1 (KHTML, like Gecko) Chrome/50.0.888.0 Safari/535.1\n",
      "Mozilla/5.0 (iPhone; CPU iPhone OS 12_4 like Mac OS X) AppleWebKit/533.2 (KHTML, like Gecko) FxiOS/15.3r0918.0 Mobile/59E260 Safari/533.2\n",
      "Mozilla/5.0 (iPod; U; CPU iPhone OS 4_1 like Mac OS X; af-ZA) AppleWebKit/533.38.5 (KHTML, like Gecko) Version/3.0.5 Mobile/8B114 Safari/6533.38.5\n",
      "Mozilla/5.0 (compatible; MSIE 9.0; Windows NT 6.0; Trident/5.1)\n",
      "Mozilla/5.0 (Android 6.0.1; Mobile; rv:55.0) Gecko/55.0 Firefox/55.0\n",
      "Mozilla/5.0 (Macintosh; PPC Mac OS X 10_10_6 rv:4.0; et-EE) AppleWebKit/534.27.3 (KHTML, like Gecko) Version/4.0 Safari/534.27.3\n",
      "Mozilla/5.0 (compatible; MSIE 8.0; Windows 95; Trident/5.1)\n",
      "Opera/9.37.(Windows 95; zu-ZA) Presto/2.9.170 Version/11.00\n",
      "Mozilla/5.0 (compatible; MSIE 6.0; Windows NT 6.1; Trident/5.0)\n",
      "Opera/9.79.(Windows CE; sr-RS) Presto/2.9.187 Version/11.00\n",
      "Mozilla/5.0 (Android 4.4.1; Mobile; rv:58.0) Gecko/58.0 Firefox/58.0\n"
     ]
    }
   ],
   "source": [
    "fake = faker.Faker()  # 随机生成agent的库\n",
    "for i in range(1,20):\n",
    "    print(fake.user_agent())"
   ]
  },
  {
   "cell_type": "code",
   "execution_count": null,
   "metadata": {
    "collapsed": true
   },
   "outputs": [],
   "source": [
    "# 代理IP设置\n",
    "options = webdriver.ChromeOptions() # 初始化参数\n",
    "agent_ip = 'http://171.35.146.134:9999'  # 设置代理IP\n",
    "options.add_argument('--proxy-server={}'.format(agent_ip))  # 参数加入代理IP\n",
    "br = webdriver.Chrome(options=options)  # 初始化启动谷歌浏览器 并设置代理IP\n",
    "url_spbeen = 'http://www.spbeen.com/tool/request_info' # 爬取目标2 教程\n",
    "br.get(url_spbeen)"
   ]
  },
  {
   "cell_type": "code",
   "execution_count": null,
   "metadata": {
    "collapsed": true
   },
   "outputs": [],
   "source": [
    "url_163 = 'https://study.163.com'\n",
    "cb = webdriver.Chrome()\n",
    "cb.get(url_163)"
   ]
  },
  {
   "cell_type": "code",
   "execution_count": null,
   "metadata": {
    "collapsed": true
   },
   "outputs": [],
   "source": [
    "ux_modal = cb.find_element_by_xpath('.//div[@id=\"ux-modal\"]/div[3]/span')  # 定位同意按钮\n",
    "ux_modal.click()  # 点击同意按钮\n",
    "ux_close = cb.find_element_by_xpath('.//a[@class=\"ux-modal_close\"]')   # 定位关闭按钮\n",
    "ux_close.click()  # 点击关闭按钮\n",
    "login_register_button = cb.find_element_by_xpath('//*[@id=\"j-index-nav-login\"]') # 定位登陆框\n",
    "login_register_button.click() # 点击登陆框"
   ]
  },
  {
   "cell_type": "code",
   "execution_count": null,
   "metadata": {
    "collapsed": true
   },
   "outputs": [],
   "source": [
    "ifranme_element = cb.find_element_by_xpath('//*[@id=\"x-URS-iframe1575694320727.174\"]')  # 定位至iframe标签\n",
    "cb.switch_to.frame(ifranme_element)  #切换至指定的iframe标签\n",
    "phone_input = cb.find_element_by_xpath('//*[@id=\"phoneipt\"]') # 定位到账号输入框\n",
    "phone_input.send_keys('15099919961') # 输入账号/手机号\n",
    "password_input = cb.find_element_by_xpath('//*[@id=\"auto-id-1575694321420\"]')  # 定位到密码输入框\n",
    "password_input.send_keys('ads12as445') # 输入密码"
   ]
  },
  {
   "cell_type": "code",
   "execution_count": null,
   "metadata": {
    "collapsed": true
   },
   "outputs": [],
   "source": [
    "cb.switch_to.default_content()  # 跳出ifranme，回到主页面\n",
    "phone_input = cb.find_element_by_xpath('//*[@id=\"phoneipt\"]')  # 跳出后，这里就会报错\n",
    "# br.get(url)  # 获取源码\n",
    "br.get(url_spbeen)  # 获取源码\n",
    "apython3 = br.find_element_by_xpath('.//a[contains(text(),\"Python3教程\")]')  # 定位要新建标签的位置\n",
    "apython3 # 查看位置数量"
   ]
  },
  {
   "cell_type": "code",
   "execution_count": null,
   "metadata": {
    "collapsed": true
   },
   "outputs": [],
   "source": [
    "# 打开标签页的操作\n",
    "link = apython3.get_attribute('href') # 获得完整域名 \n",
    "new_tab_js = \"window.open('{}')\".format(link)  # 用新标签打开link的网址的JS代码\n",
    "br.execute_script(new_tab_js)  # 执行js代码\n",
    "# 切换标签页，标签页必须通过代码切换，与手动选取无关\n",
    "handles = br.window_handles  # 获取全部标签页\n",
    "for handle in handles:\n",
    "    if handle != br.current_window_handle: # 如果标签不是当前的选中标签页\n",
    "        br.switch_to.window(handle)  # 切换标签\n",
    "        break"
   ]
  },
  {
   "cell_type": "code",
   "execution_count": null,
   "metadata": {
    "collapsed": true
   },
   "outputs": [],
   "source": [
    "br.window_handles # 查看所有标签页\n",
    "br.switch_to.window(br.window_handles[1]) # 根据标签页列表下标选中切换到的标签页\n",
    "br.close()  # 关闭 选中的标签页"
   ]
  },
  {
   "cell_type": "code",
   "execution_count": null,
   "metadata": {
    "collapsed": true
   },
   "outputs": [],
   "source": [
    "# 设置无头浏览器\n",
    "# chrome_options = Options()  # 初始化\n",
    "# chrome_options.add_argument('--headless') # 加入无头参数\n",
    "# br = webdriver.Chrome(chrome_options = chrome_options)  # 初始化启动谷歌浏览器"
   ]
  },
  {
   "cell_type": "code",
   "execution_count": null,
   "metadata": {
    "collapsed": true
   },
   "outputs": [],
   "source": [
    "# 懒加载，禁止浏览器加载图片\n",
    "options = webdriver.ChromeOptions()  # 初始化    \n",
    "prefs = {} # 创建一个字典\n",
    "prefs['profile.managed_default_content_settings.images'] = 2  # 设置参数\n",
    "options.add_experimental_option('prefs',prefs)   # 把不加载图片的参数加入 \n",
    "br2 = webdriver.Chrome(options = options)  # 打开浏览器时参数设置\n",
    "br2.get(url)  # 打开浏览器\n",
    "# br.maximize_window()  # 浏览器最大化\n",
    "# br.quit()  # 退出浏览器"
   ]
  },
  {
   "cell_type": "code",
   "execution_count": null,
   "metadata": {
    "collapsed": true
   },
   "outputs": [],
   "source": [
    "input_xpath = br.find_element_by_xpath('.//input[@id=\"mq\"]')  # 定位到搜索框\n",
    "input_xpath.clear() # 清空搜索框里的内容\n",
    "input_xpath.send_keys('连衣裙')  # 搜索框输入关键词\n",
    "search_element = br.find_element_by_xpath('//*[@id=\"mallSearch\"]/form/fieldset/div/button')  # 定位搜索点击按钮\n",
    "search_element.click()  # 点击搜索按钮"
   ]
  },
  {
   "cell_type": "code",
   "execution_count": null,
   "metadata": {
    "collapsed": true
   },
   "outputs": [],
   "source": [
    "next_button_element = br.find_element_by_xpath(\".//a[contains(text(),'下一页')]\")  # 定位到下一页按钮\n",
    "next_button_element.click() # 点击下一页按钮\n",
    "html_str = br.page_source # 获取当前页面源码\n",
    "html = etree.HTML(html_str) # 解析源码\n",
    "products = html.xpath('//*[@id=\"J_ItemList\"]/div') # 获取商品整块信息\n",
    "print(len(products))  #  查看有多少商品"
   ]
  },
  {
   "cell_type": "code",
   "execution_count": null,
   "metadata": {
    "collapsed": true
   },
   "outputs": [],
   "source": [
    "html.xpath('.//div[@id=\"J_ItemList\"]/div[1]/div/p[2]/a/@title')\n",
    "html.xpath(\"normalize-space(.//div[@id='J_ItemList']/div[1]/div/p[2]/a/text())\")\n",
    "html.xpath('normalize-space(//*[@id=\"J_ItemList\"]/div[1]/div/div[3]/a/text())')"
   ]
  },
  {
   "cell_type": "code",
   "execution_count": 26,
   "metadata": {},
   "outputs": [
    {
     "ename": "NameError",
     "evalue": "name 'products' is not defined",
     "output_type": "error",
     "traceback": [
      "\u001b[1;31m---------------------------------------------------------------------------\u001b[0m",
      "\u001b[1;31mNameError\u001b[0m                                 Traceback (most recent call last)",
      "\u001b[1;32m<ipython-input-26-25309cf70629>\u001b[0m in \u001b[0;36m<module>\u001b[1;34m()\u001b[0m\n\u001b[1;32m----> 1\u001b[1;33m \u001b[1;32mfor\u001b[0m \u001b[0mproduct\u001b[0m \u001b[1;32min\u001b[0m \u001b[0mproducts\u001b[0m\u001b[1;33m:\u001b[0m\u001b[1;33m\u001b[0m\u001b[0m\n\u001b[0m\u001b[0;32m      2\u001b[0m     \u001b[0mtitle_long\u001b[0m \u001b[1;33m=\u001b[0m \u001b[0mproduct\u001b[0m\u001b[1;33m.\u001b[0m\u001b[0mxpath\u001b[0m\u001b[1;33m(\u001b[0m\u001b[1;34m'normalize-space(.//div/p[2]/a/@title)'\u001b[0m\u001b[1;33m)\u001b[0m  \u001b[1;31m# 长标题\u001b[0m\u001b[1;33m\u001b[0m\u001b[0m\n\u001b[0;32m      3\u001b[0m     \u001b[0mtitle_short\u001b[0m \u001b[1;33m=\u001b[0m \u001b[0mproduct\u001b[0m\u001b[1;33m.\u001b[0m\u001b[0mxpath\u001b[0m\u001b[1;33m(\u001b[0m\u001b[1;34m\"normalize-space(.//div/p[2]/a/text())\"\u001b[0m\u001b[1;33m)\u001b[0m  \u001b[1;31m# 短标题\u001b[0m\u001b[1;33m\u001b[0m\u001b[0m\n\u001b[0;32m      4\u001b[0m     \u001b[0mprice\u001b[0m \u001b[1;33m=\u001b[0m \u001b[0mproduct\u001b[0m\u001b[1;33m.\u001b[0m\u001b[0mxpath\u001b[0m\u001b[1;33m(\u001b[0m\u001b[1;34m'normalize-space(.//div/p[1]/em/text())'\u001b[0m\u001b[1;33m)\u001b[0m  \u001b[1;31m# 价格\u001b[0m\u001b[1;33m\u001b[0m\u001b[0m\n\u001b[0;32m      5\u001b[0m     \u001b[0mshop\u001b[0m \u001b[1;33m=\u001b[0m \u001b[0mproduct\u001b[0m\u001b[1;33m.\u001b[0m\u001b[0mxpath\u001b[0m\u001b[1;33m(\u001b[0m\u001b[1;34m'normalize-space(.//div/div[3]/a/text())'\u001b[0m\u001b[1;33m)\u001b[0m   \u001b[1;31m# 旺旺名\u001b[0m\u001b[1;33m\u001b[0m\u001b[0m\n",
      "\u001b[1;31mNameError\u001b[0m: name 'products' is not defined"
     ]
    }
   ],
   "source": [
    "for product in products:\n",
    "    title_long = product.xpath('normalize-space(.//div/p[2]/a/@title)')  # 长标题\n",
    "    title_short = product.xpath(\"normalize-space(.//div/p[2]/a/text())\")  # 短标题\n",
    "    price = product.xpath('normalize-space(.//div/p[1]/em/text())')  # 价格\n",
    "    shop = product.xpath('normalize-space(.//div/div[3]/a/text())')   # 旺旺名\n",
    "    monthly_turnover = product.xpath('normalize-space(.//div/p[3]/span[1]/em/text())')  # 月成交\n",
    "    evaluate = product.xpath('normalize-space(.//div/p[3]/span[2]/a/text())')  # 评价数\n",
    "    print(shop,title_long,title_short,price,monthly_turnover,evaluate)"
   ]
  },
  {
   "cell_type": "markdown",
   "metadata": {},
   "source": [
    "### 知乎异步评论"
   ]
  },
  {
   "cell_type": "code",
   "execution_count": 9,
   "metadata": {
    "collapsed": true
   },
   "outputs": [],
   "source": [
    "import requests\n",
    "import json\n",
    "from lxml import etree\n",
    "url = 'https://www.zhihu.com/api/v4/answers/926107837/root_comments?order=normal&limit=20&offset=0&status=open'\n",
    "headers = {\n",
    "    'User-Agent':'Mozilla/5.0 (Windows NT 10.0; Win64; x64) AppleWebKit/537.36 (KHTML, like Gecko) Chrome/78.0.3904.87 Safari/537.36'\n",
    "}\n",
    "response_zhihu = requests.get(url,headers=headers)"
   ]
  },
  {
   "cell_type": "code",
   "execution_count": 10,
   "metadata": {},
   "outputs": [
    {
     "data": {
      "text/plain": [
       "200"
      ]
     },
     "execution_count": 10,
     "metadata": {},
     "output_type": "execute_result"
    }
   ],
   "source": [
    "response_zhihu.status_code"
   ]
  },
  {
   "cell_type": "code",
   "execution_count": 11,
   "metadata": {},
   "outputs": [
    {
     "name": "stdout",
     "output_type": "stream",
     "text": [
      "<class 'dict'>\n"
     ]
    }
   ],
   "source": [
    "info = json.loads(response_zhihu.content.decode('utf-8'))# 获得json的信息,gbk模式解码\n",
    "print(type(info)) # 信息为字典格式"
   ]
  },
  {
   "cell_type": "code",
   "execution_count": 12,
   "metadata": {
    "collapsed": true
   },
   "outputs": [
    {
     "name": "stdout",
     "output_type": "stream",
     "text": [
      "是，男性没有女性那么敏感，看事情会开一些。但是还是会留下很不好的印象。是吧朋友。\n",
      "这样的妹子确实，灵魂里就感觉很脏\n",
      "答主为人正派(๑❛ᴗ❛๑)\n",
      "这还不算安全问题吗？过程中感染了什么病，男生下半辈子不就毁了？\n",
      "她可能觉得男人都是饥不择食吧\n",
      "男孩子在外一定要保护好自己[飙泪笑]\n",
      "学会一句话就鹦鹉学舌一样到处乱讲乱玩梗以为自己很潮？\n",
      "我同学跟我讲过，他大一暑假回家同学聚会喝多了，第二天醒来发现被睡了，那女的都不咋熟，他觉得恶心坏了，回去之后又后怕那女的是不是有病，还自己买了药吃，还去体检了一下才放心。\n",
      "他的意思是我在做白日梦\n",
      "这其实不是什么幸运的事情。如果你的意思是想女孩主动，那其实也不难，干净整洁早睡早起慢慢来就好。\n",
      "你是不是觉得女的说自己被猥亵强奸也是在白日做梦啊\n",
      "但凡你戒过酒，你就不可能说这些胡话。\n",
      "你觉得这种事情真的很享受吗\n",
      "男的被性侵，评论就各种阴阳怪气的，简直了，就想象下被罗玉凤强奸，点同理心都么得\n",
      "她不丑，而且男生也不单单是看脸吧。我嫌弃她的灵魂。\n",
      "但凡你有一点修养都不至于随意对人开玩笑\n",
      "按照你这个逻辑，夜店女，陪酒女，以及性工作者甚至有婚前性行为的人应该被剥夺起诉他人强奸罪的权利——伤害小嘛。\n",
      "总有人不分场合的玩梗，=_=无语\n",
      "<p>换成答主是女的酒后差点被强奸你会觉得她嫌男的丑吗？这事就是差点被强奸啊</p>\n",
      "你是生活中没见过长的帅的男的？\n"
     ]
    }
   ],
   "source": [
    "for data in info['data']:\n",
    "    print(data['content'])"
   ]
  },
  {
   "cell_type": "markdown",
   "metadata": {},
   "source": [
    "### 简书异步评论"
   ]
  },
  {
   "cell_type": "code",
   "execution_count": 13,
   "metadata": {},
   "outputs": [
    {
     "data": {
      "text/plain": [
       "200"
      ]
     },
     "execution_count": 13,
     "metadata": {},
     "output_type": "execute_result"
    }
   ],
   "source": [
    "url = 'https://www.jianshu.com/shakespeare/notes/55110064/comments?page=1&count=10&author_only=false&order_by=desc'\n",
    "headers = {\n",
    "    'User-Agent':'Mozilla/5.0 (Windows NT 10.0; Win64; x64) AppleWebKit/537.36 (KHTML, like Gecko) Chrome/78.0.3904.87 Safari/537.36'\n",
    "}\n",
    "response_SimpleBook = requests.get(url,headers=headers)\n",
    "response_SimpleBook.status_code"
   ]
  },
  {
   "cell_type": "code",
   "execution_count": 14,
   "metadata": {
    "collapsed": true
   },
   "outputs": [],
   "source": [
    "info = json.loads(response_SimpleBook.content.decode('utf-8'))# 获得json的信息,gbk模式解码"
   ]
  },
  {
   "cell_type": "code",
   "execution_count": 15,
   "metadata": {
    "collapsed": true
   },
   "outputs": [
    {
     "name": "stdout",
     "output_type": "stream",
     "text": [
      "收藏了！🌹☕\n",
      "对失去一无所知，仍然往前走。所以我的生活本该如此没有痛苦\n",
      "谢谢分享🌹\n",
      "不错\n",
      "永远，都不要说永远——放牛班的春天\n",
      "“总有一天 你会不需要轰轰烈烈的爱情 你想要的只是一个不会离开你的人 冷的时候他会给你一件外套 胃里难受的时候他会给你一杯热水 难过的时候他会给你一个拥抱 就这么一直陪在你身边 陪你走过每一段路 不是整天多爱多爱 而是认真的一句 不离开 所以 等到成熟的年纪 若能最后在一起 晚点没关系” ​\n",
      "名家名句，好文好文。\n",
      "很喜欢的句子，每句都有感触\n",
      "梦开始了，一直在心里的人依旧在，无法言语的微笑，这样挺好。梦醒了，想见的人见了就忘了吧！\n",
      "不甘平凡又终于平凡\n"
     ]
    }
   ],
   "source": [
    "for comment in info['comments']:\n",
    "    print(comment['compiled_content'])"
   ]
  },
  {
   "cell_type": "markdown",
   "metadata": {},
   "source": [
    "### 简书的下拉异步数据"
   ]
  },
  {
   "cell_type": "code",
   "execution_count": 16,
   "metadata": {},
   "outputs": [
    {
     "data": {
      "text/plain": [
       "200"
      ]
     },
     "execution_count": 16,
     "metadata": {},
     "output_type": "execute_result"
    }
   ],
   "source": [
    "url = 'https://www.jianshu.com'\n",
    "headers = {\n",
    "    'User-Agent':'Mozilla/5.0 (Windows NT 10.0; Win64; x64) AppleWebKit/537.36 (KHTML, like Gecko) Chrome/78.0.3904.87 Safari/537.36'\n",
    "}\n",
    "response_SimpleBook_home = requests.get(url,headers=headers)\n",
    "response_SimpleBook_home.status_code"
   ]
  },
  {
   "cell_type": "code",
   "execution_count": 17,
   "metadata": {
    "collapsed": true
   },
   "outputs": [
    {
     "data": {
      "text/plain": [
       "'<!DOCTYPE html>\\n<!--[if IE 6]><html class=\"ie lt-ie8\"><![endif]-->\\n<!--[if IE 7]><html class=\"ie lt-ie8\"><![endif]-->\\n<!--[if IE 8]><html class=\"ie ie8\"><![endif]-->\\n<!--[if IE 9]><html class=\"ie ie9\"><![endif]-->\\n<!--[if !IE]><!--> <html> <!--<![endif]-->\\n\\n<head>\\n  <meta charset=\"utf-8\">\\n  <meta http-equiv=\"X-UA-Compatible\" content=\"IE=Edge\">\\n  <meta name=\"viewport\" content=\"width=device-width, initial-scale=1.0,user-scalable=no\">\\n\\n  <!-- Start of Baidu Transcode -->\\n  <meta http-equiv=\"Cache-Control\" content=\"no-siteapp\" />\\n  <meta http-equiv=\"Cache-Control\" content=\"no-transform\" />\\n  <meta name=\"applicable-device\" content=\"pc,mobile\">\\n  <meta name=\"MobileOptimized\" content=\"width\"/>\\n  <meta name=\"HandheldFriendly\" content=\"true\"/>\\n  <meta name=\"mobile-agent\" content=\"format=html5;url=https://www.jianshu.com/\">\\n  <!-- End of Baidu Transcode -->\\n\\n    <meta name=\"description\"  content=\"简书是一个优质的创作社区，在这里，你可以任性地创作，一篇短文、一张照片、一首诗、一幅画……我们相信，每个人都是生活中的艺术家，有着无穷的创造力。\">\\n    <meta name=\"keywords\"  content=\"简书,简书官网,图文编辑软件,简书下载,图文创作,创作软件,原创社区,小说,散文,写作,阅读\">\\n\\n  <meta name=\"360-site-verification\" content=\"604a14b53c6b871206001285921e81d8\" />\\n  <meta property=\"wb:webmaster\" content=\"294ec9de89e7fadb\" />\\n  <meta property=\"qc:admins\" content=\"104102651453316562112116375\" />\\n  <meta property=\"qc:admins\" content=\"11635613706305617\" />\\n  <meta property=\"qc:admins\" content=\"1163561616621163056375\" />\\n  <meta name=\"google-site-verification\" content=\"cV4-qkUJZR6gmFeajx_UyPe47GW9vY6cnCrYtCHYNh4\" />\\n  <meta name=\"google-site-verification\" content=\"HF7lfF8YEGs1qtCE-kPml8Z469e2RHhGajy6JPVy5XI\" />\\n  <meta http-equiv=\"mobile-agent\" content=\"format=html5; url=https://www.jianshu.com/\">\\n\\n  <!-- Apple -->\\n  <meta name=\"apple-mobile-web-app-title\" content=\"简书\">\\n\\n  \\n\\n    <title>简书 - 创作你的创作</title>\\n\\n  <meta name=\"csrf-param\" content=\"authenticity_token\" />\\n<meta name=\"csrf-token\" content=\"fo+lzfIhj0unC7yh7sivKCdpkNvyP1bGg/+vFZKYy8V5Hx6Q0+4u12txr8Ly1H50rlQsxwHh4w5yii6aNDHI3A==\" />\\n\\n  <link rel=\"stylesheet\" media=\"all\" href=\"//cdn2.jianshu.io/assets/web-30728a1164102859481d.css\" />\\n  \\n  <link rel=\"stylesheet\" media=\"all\" href=\"//cdn2.jianshu.io/assets/web/pages/home/index/entry-3c635873350a6c5950e9.css\" />\\n\\n  <link href=\"//cdn2.jianshu.io/assets/favicons/favicon-e743bfb1821442341c3ab15bdbe804f7ad97676bd07a770ccc9483473aa76f06.ico\" rel=\"shortcut icon\" type=\"image/x-icon\">\\n      <link rel=\"apple-touch-icon-precomposed\" href=\"//cdn2.jianshu.io/assets/apple-touch-icons/57-a6f1f1ee62ace44f6dc2f6a08575abd3c3b163288881c78dd8d75247682a4b27.png\" sizes=\"57x57\" />\\n      <link rel=\"apple-touch-icon-precomposed\" href=\"//cdn2.jianshu.io/assets/apple-touch-icons/72-fb9834bcfce738fd7b9c5e31363e79443e09a81a8e931170b58bc815387c1562.png\" sizes=\"72x72\" />\\n      <link rel=\"apple-touch-icon-precomposed\" href=\"//cdn2.jianshu.io/assets/apple-touch-icons/76-49d88e539ff2489475d603994988d871219141ecaa0b1a7a9a1914f4fe3182d6.png\" sizes=\"76x76\" />\\n      <link rel=\"apple-touch-icon-precomposed\" href=\"//cdn2.jianshu.io/assets/apple-touch-icons/114-24252fe693524ed3a9d0905e49bff3cbd0228f25a320aa09053c2ebb4955de97.png\" sizes=\"114x114\" />\\n      <link rel=\"apple-touch-icon-precomposed\" href=\"//cdn2.jianshu.io/assets/apple-touch-icons/120-1bb7371f5e87f93ce780a5f1a05ff1b176828ee0d1d130e768575918a2e05834.png\" sizes=\"120x120\" />\\n      <link rel=\"apple-touch-icon-precomposed\" href=\"//cdn2.jianshu.io/assets/apple-touch-icons/152-bf209460fc1c17bfd3e2b84c8e758bc11ca3e570fd411c3bbd84149b97453b99.png\" sizes=\"152x152\" />\\n\\n  <!-- Start of 访问统计 -->\\n    <script>\\n    var _hmt = _hmt || [];\\n    (function() {\\n      var hm = document.createElement(\"script\");\\n      hm.src = \"//hm.baidu.com/hm.js?0c0e9d9b1e7d617b3e6842e85b9fb068\";\\n      var s = document.getElementsByTagName(\"script\")[0];\\n      s.parentNode.insertBefore(hm, s);\\n    })();\\n  </script>\\n\\n  <!-- End of 访问统计 -->\\n</head>\\n\\n  <!-- 只给10%的用户添加代码 -->\\n  <!-- ###第四范式-智能推荐：代码直接复制 无需修改参数### -->\\n  <!-- ###功能：上报内容并反馈用户行为### -->\\n  <!--\\n  -->\\n  <body lang=\"zh-CN\" class=\"reader-song-font\">\\n    <!-- 全局顶部导航栏 -->\\n<nav class=\"navbar navbar-default navbar-fixed-top\" role=\"navigation\">\\n  <div class=\"width-limit\">\\n    <!-- 左上方 Logo -->\\n    <a class=\"logo\" href=\"/\"><img src=\"//cdn2.jianshu.io/assets/web/nav-logo-4c7bbafe27adc892f3046e6978459bac.png\" alt=\"Nav logo\" /></a>\\n\\n    <!-- 右上角 -->\\n      <!-- 未登录显示登录/注册/写文章 -->\\n      <a class=\"btn write-btn\" target=\"_blank\" href=\"/writer#/\">\\n        <i class=\"iconfont ic-write\"></i>写文章\\n</a>      <a class=\"btn sign-up\" id=\"sign_up\" href=\"/sign_up\">注册</a>\\n      <a class=\"btn log-in\" id=\"sign_in\" href=\"/sign_in\">登录</a>\\n\\n    <!-- 如果用户登录，显示下拉菜单 -->\\n\\n    <div id=\"navbar-jsds-enter\">\\n    </div>\\n\\n    <div id=\"view-mode-ctrl\">\\n    </div>\\n    <div class=\"container\">\\n      <div class=\"navbar-header\">\\n        <button type=\"button\" class=\"navbar-toggle collapsed\" data-toggle=\"collapse\" data-target=\"#menu\" aria-expanded=\"false\">\\n          <span class=\"icon-bar\"></span>\\n          <span class=\"icon-bar\"></span>\\n          <span class=\"icon-bar\"></span>\\n        </button>\\n      </div>\\n      <div class=\"collapse navbar-collapse\" id=\"menu\">\\n        <ul class=\"nav navbar-nav\">\\n            <li class=\"tab active\">\\n              <a href=\"/\">\\n                <span class=\"menu-text\">首页</span><i class=\"iconfont ic-navigation-discover menu-icon\"></i>\\n</a>            </li>\\n            <li class=\"tab \">\\n              <a id=\"web-nav-app-download-btn\" class=\"app-download-btn\" href=\"/apps?utm_medium=desktop&amp;utm_source=navbar-apps\"><span class=\"menu-text\">下载App</span><i class=\"iconfont ic-navigation-download menu-icon\"></i></a>\\n            </li>\\n          <li class=\"search\">\\n            <form target=\"_blank\" action=\"/search\" accept-charset=\"UTF-8\" method=\"get\"><input name=\"utf8\" type=\"hidden\" value=\"&#x2713;\" />\\n              <input type=\"text\" name=\"q\" id=\"q\" value=\"\" autocomplete=\"off\" placeholder=\"搜索\" class=\"search-input\" />\\n              <a class=\"search-btn\" href=\"javascript:void(null)\"><i class=\"iconfont ic-search\"></i></a>\\n</form>          </li>\\n        </ul>\\n      </div>\\n    </div>\\n  </div>\\n</nav>\\n\\n    \\n<div class=\"container index\">\\n  <div class=\"row\">\\n    <div class=\"col-xs-16 main\">\\n      <!-- Banner -->\\n          <div id=\"indexCarousel\" class=\"carousel slide\">\\n            <div class=\"carousel-inner\">\\n                <div class=\"item active\">\\n                  <div class=\"banner\" data-banner-name=\"大清后宫-行距盐选\">\\n                      <a target=\"_blank\" href=\"https://www.zhihu.com/xen/market/remix/paid_column/1187692639343800320\"><img src=\"https://upload.jianshu.io/admin_banners/web_images/4838/fb1f935e01480f9ab450fab97c9e147952a2c37f.jpg?imageMogr2/auto-orient/strip|imageView2/1/w/1250/h/540\" alt=\"540\" /></a>\\n                  </div>\\n                </div>\\n                <div class=\"item \">\\n                  <div class=\"banner\" data-banner-name=\"圣诞徽章\">\\n                      <a target=\"_blank\" href=\"https://www.jianshu.com/p/d58d4986f1e3?utm_medium=index-banner&amp;utm_source=desktop\"><img src=\"https://upload.jianshu.io/admin_banners/web_images/4836/53373f4ac9ffa9b41d0aaf07f8ceaafe25d5a366.png?imageMogr2/auto-orient/strip|imageView2/1/w/1250/h/540\" alt=\"540\" /></a>\\n                  </div>\\n                </div>\\n            </div>\\n                <ol class=\"carousel-indicators\">\\n                    <li data-target=\"#indexCarousel\" data-slide-to=\"0\"\\n                      class=\"active\"></li>\\n                    <li data-target=\"#indexCarousel\" data-slide-to=\"1\"\\n                      class=\"\"></li>\\n                </ol>\\n                <a class=\"left carousel-control\" href=\"#indexCarousel\" role=\"button\" data-slide=\"prev\"><i class=\"iconfont ic-previous-s\"></i></a>\\n                <a class=\"right carousel-control\" href=\"#indexCarousel\" role=\"button\" data-slide=\"next\"><i class=\"iconfont ic-next-s\"></i></a>\\n          </div>\\n\\n      <!--\\n        <div class=\"recommend-collection\">\\n            <a class=\"collection\" target=\"_blank\" href=\"/c/7b2be866f564?utm_medium=index-collections&amp;utm_source=desktop\">\\n              <img src=\"https://upload.jianshu.io/collections/images/83/1.jpg?imageMogr2/auto-orient/strip|imageView2/1/w/64/h/64\" alt=\"64\" />\\n              <div class=\"name\">摄影</div>\\n</a>            <a class=\"collection\" target=\"_blank\" href=\"/c/fcd7a62be697?utm_medium=index-collections&amp;utm_source=desktop\">\\n              <img src=\"https://upload.jianshu.io/collections/images/95/1.jpg?imageMogr2/auto-orient/strip|imageView2/1/w/64/h/64\" alt=\"64\" />\\n              <div class=\"name\">故事</div>\\n</a>            <a class=\"collection\" target=\"_blank\" href=\"/c/cc7808b775b4?utm_medium=index-collections&amp;utm_source=desktop\">\\n              <img src=\"https://upload.jianshu.io/collections/images/76/12.jpg?imageMogr2/auto-orient/strip|imageView2/1/w/64/h/64\" alt=\"64\" />\\n              <div class=\"name\">自然科普</div>\\n</a>            <a class=\"collection\" target=\"_blank\" href=\"/c/yD9GAd?utm_medium=index-collections&amp;utm_source=desktop\">\\n              <img src=\"https://upload.jianshu.io/collections/images/4/sy_20091020135145113016.jpg?imageMogr2/auto-orient/strip|imageView2/1/w/64/h/64\" alt=\"64\" />\\n              <div class=\"name\">读书</div>\\n</a>            <a class=\"collection\" target=\"_blank\" href=\"/c/8c92f845cd4d?utm_medium=index-collections&amp;utm_source=desktop\">\\n              <img src=\"https://upload.jianshu.io/collections/images/283250/%E6%BC%AB%E7%94%BB%E4%B8%93%E9%A2%98.jpg?imageMogr2/auto-orient/strip|imageView2/1/w/64/h/64\" alt=\"64\" />\\n              <div class=\"name\">手绘</div>\\n</a>            <a class=\"collection\" target=\"_blank\" href=\"/c/V2CqjW?utm_medium=index-collections&amp;utm_source=desktop\">\\n              <img src=\"https://upload.jianshu.io/collections/images/14/6249340_194140034135_2.jpg?imageMogr2/auto-orient/strip|imageView2/1/w/64/h/64\" alt=\"64\" />\\n              <div class=\"name\">@IT·互联网</div>\\n</a>            <a class=\"collection\" target=\"_blank\" href=\"/c/5AUzod?utm_medium=index-collections&amp;utm_source=desktop\">\\n              <img src=\"https://upload.jianshu.io/collections/images/13/%E5%95%8A.png?imageMogr2/auto-orient/strip|imageView2/1/w/64/h/64\" alt=\"64\" />\\n              <div class=\"name\">旅行·在路上</div>\\n</a>\\n            <a class=\"more-hot-collection\" target=\"_blank\" href=\"/recommendations/collections?utm_medium=index-collections&amp;utm_source=desktop\">\\n              更多热门专题 <i class=\"iconfont ic-link\"></i>\\n</a>        </div>\\n      -->\\n      <div class=\"split-line\"></div>\\n      <div id=\"list-container\">\\n        <!-- 文章列表模块 -->\\n        <ul class=\"note-list\" infinite-scroll-url=\"/\">\\n          \\n    \\n\\n<li id=\"note-43945762\" data-note-id=\"43945762\" class=\"have-img\">\\n    <a class=\"wrap-img\" href=\"/p/ea8a67e94c50\" target=\"_blank\">\\n      <img data-echo=\"//upload-images.jianshu.io/upload_images/16235793-e783f97be4c4a2a0.jpeg?imageMogr2/auto-orient/strip|imageView2/1/w/360/h/240\" class=\"img-blur\" src=\"//upload-images.jianshu.io/upload_images/16235793-e783f97be4c4a2a0.jpeg?imageMogr2/auto-orient/strip|imageView2/1/w/180/h/120\" alt=\"120\" />\\n    </a>\\n  <div class=\"content\">\\n    <a class=\"title\" target=\"_blank\" href=\"/p/ea8a67e94c50\">提醒女人：男人逃避这些问题，就是爱上了别人</a>\\n    <p class=\"abstract\">\\n      女人单身的时候，会有很多追求者，根本不愁找不到对象。虽然身边围着很多人，但女人是很理智的，不会随便和男人确定关系，会找一个适合自己的人。 一旦和...\\n    </p>\\n    <div class=\"meta\">\\n        <span class=\"jsd-meta\">\\n          <i class=\"iconfont ic-paid1\"></i> 10.7\\n        </span>\\n      <a class=\"nickname\" target=\"_blank\" href=\"/u/8f29ba3025ea\">爱情摇篮</a>\\n        <a target=\"_blank\" href=\"/p/ea8a67e94c50#comments\">\\n          <i class=\"iconfont ic-list-comments\"></i> 1\\n</a>      <span><i class=\"iconfont ic-list-like\"></i> 43</span>\\n    </div>\\n  </div>\\n</li>\\n\\n    \\n\\n<li id=\"note-41511677\" data-note-id=\"41511677\" class=\"have-img\">\\n    <a class=\"wrap-img\" href=\"/p/44877f2190ae\" target=\"_blank\">\\n      <img data-echo=\"//upload-images.jianshu.io/upload_images/9602437-f52d89b790241b70.jpg?imageMogr2/auto-orient/strip|imageView2/1/w/360/h/240\" class=\"img-blur\" src=\"//upload-images.jianshu.io/upload_images/9602437-f52d89b790241b70.jpg?imageMogr2/auto-orient/strip|imageView2/1/w/180/h/120\" alt=\"120\" />\\n    </a>\\n  <div class=\"content\">\\n    <a class=\"title\" target=\"_blank\" href=\"/p/44877f2190ae\">脆皮鸡蛋豆腐，鲜嫩滑爽又补钙，老人孩子要多吃</a>\\n    <p class=\"abstract\">\\n      最近特别喜欢吃豆腐，不管是老豆腐嫩豆腐或冻豆腐，统统都吃个遍。也难怪，春节期间，大鱼大肉吃得太多太腻，胃肠终日超负荷运转，总得不到休息，难免就会...\\n    </p>\\n    <div class=\"meta\">\\n        <span class=\"jsd-meta\">\\n          <i class=\"iconfont ic-paid1\"></i> 24.3\\n        </span>\\n      <a class=\"nickname\" target=\"_blank\" href=\"/u/31895a9c9c88\">惠顾星辰</a>\\n        <a target=\"_blank\" href=\"/p/44877f2190ae#comments\">\\n          <i class=\"iconfont ic-list-comments\"></i> 16\\n</a>      <span><i class=\"iconfont ic-list-like\"></i> 55</span>\\n    </div>\\n  </div>\\n</li>\\n\\n      <div data-vcomp=\"youdao-flow-ad\"></div>\\n    \\n\\n<li id=\"note-41673876\" data-note-id=\"41673876\" class=\"have-img\">\\n    <a class=\"wrap-img\" href=\"/p/fba6a94e246f\" target=\"_blank\">\\n      <img data-echo=\"//upload-images.jianshu.io/upload_images/15527010-e2c1dfc9e42d1037.jpg?imageMogr2/auto-orient/strip|imageView2/1/w/360/h/240\" class=\"img-blur\" src=\"//upload-images.jianshu.io/upload_images/15527010-e2c1dfc9e42d1037.jpg?imageMogr2/auto-orient/strip|imageView2/1/w/180/h/120\" alt=\"120\" />\\n    </a>\\n  <div class=\"content\">\\n    <a class=\"title\" target=\"_blank\" href=\"/p/fba6a94e246f\">从100人裂变15000人的秘籍，你想知道吗？</a>\\n    <p class=\"abstract\">\\n      365日更第44天。 个人品牌5步：定位、理论、价值、传播、变现。 这两天我被动加好友100+人，怎么做到的最后再告诉你，先跟你讲讲最近妮妮姐在...\\n    </p>\\n    <div class=\"meta\">\\n        <span class=\"jsd-meta\">\\n          <i class=\"iconfont ic-paid1\"></i> 14.9\\n        </span>\\n      <a class=\"nickname\" target=\"_blank\" href=\"/u/4fb330688fc1\">小青小青呀</a>\\n        <a target=\"_blank\" href=\"/p/fba6a94e246f#comments\">\\n          <i class=\"iconfont ic-list-comments\"></i> 6\\n</a>      <span><i class=\"iconfont ic-list-like\"></i> 60</span>\\n    </div>\\n  </div>\\n</li>\\n\\n    \\n\\n<li id=\"note-43816936\" data-note-id=\"43816936\" class=\"\">\\n  <div class=\"content\">\\n    <a class=\"title\" target=\"_blank\" href=\"/p/0ff799dcbe9a\">十二星座性格大揭秘（下）</a>\\n    <p class=\"abstract\">\\n      天秤座常常追求平等、和谐，擅于察言观色，交际能力很强，因此真心朋友不少，因为你也足够真诚，但是最大的缺点就是面对选择总是犹豫不决。天秤男容易在乎...\\n    </p>\\n    <div class=\"meta\">\\n        <span class=\"jsd-meta\">\\n          <i class=\"iconfont ic-paid1\"></i> 8.1\\n        </span>\\n      <a class=\"nickname\" target=\"_blank\" href=\"/u/bc5bf5209f6f\">失眠情书</a>\\n        <a target=\"_blank\" href=\"/p/0ff799dcbe9a#comments\">\\n          <i class=\"iconfont ic-list-comments\"></i> 1\\n</a>      <span><i class=\"iconfont ic-list-like\"></i> 23</span>\\n    </div>\\n  </div>\\n</li>\\n\\n    \\n\\n<li id=\"note-42313128\" data-note-id=\"42313128\" class=\"have-img\">\\n    <a class=\"wrap-img\" href=\"/p/de073098fa7c\" target=\"_blank\">\\n      <img data-echo=\"//upload-images.jianshu.io/upload_images/16271499-e7daff1a121d3566.jpg?imageMogr2/auto-orient/strip|imageView2/1/w/360/h/240\" class=\"img-blur\" src=\"//upload-images.jianshu.io/upload_images/16271499-e7daff1a121d3566.jpg?imageMogr2/auto-orient/strip|imageView2/1/w/180/h/120\" alt=\"120\" />\\n    </a>\\n  <div class=\"content\">\\n    <a class=\"title\" target=\"_blank\" href=\"/p/de073098fa7c\">女生如何变得更优雅，干货预警！</a>\\n    <p class=\"abstract\">\\n      1.看手机     现在低头看手机的时间越来越多，但是大部分女生都会像下图右边一样，整只手悬浮在手机上，或者是两只手握着手机同时划拉。但如果稍微...\\n    </p>\\n    <div class=\"meta\">\\n        <span class=\"jsd-meta\">\\n          <i class=\"iconfont ic-paid1\"></i> 4.1\\n        </span>\\n      <a class=\"nickname\" target=\"_blank\" href=\"/u/a5798fec56b0\">yee只</a>\\n        <a target=\"_blank\" href=\"/p/de073098fa7c#comments\">\\n          <i class=\"iconfont ic-list-comments\"></i> 17\\n</a>      <span><i class=\"iconfont ic-list-like\"></i> 440</span>\\n    </div>\\n  </div>\\n</li>\\n\\n    \\n\\n<li id=\"note-44706517\" data-note-id=\"44706517\" class=\"\">\\n  <div class=\"content\">\\n    <a class=\"title\" target=\"_blank\" href=\"/p/2a528a544f1f\">步入中年的男士，为什么不愿意再碰妻子？</a>\\n    <p class=\"abstract\">\\n      01 家是一副磨盘。两片粗糙的圆片石叠放在一起，下面一片固定不动，由驴拉着上面一片一圈又一圈转动，这就是磨。 每人都有自己的个性，结成夫妻后就如...\\n    </p>\\n    <div class=\"meta\">\\n        <span class=\"jsd-meta\">\\n          <i class=\"iconfont ic-paid1\"></i> 13.6\\n        </span>\\n      <a class=\"nickname\" target=\"_blank\" href=\"/u/64ea1f32138e\">汉水幺妹</a>\\n        <a target=\"_blank\" href=\"/p/2a528a544f1f#comments\">\\n          <i class=\"iconfont ic-list-comments\"></i> 27\\n</a>      <span><i class=\"iconfont ic-list-like\"></i> 47</span>\\n    </div>\\n  </div>\\n</li>\\n\\n    \\n\\n<li id=\"note-41552614\" data-note-id=\"41552614\" class=\"\">\\n  <div class=\"content\">\\n    <a class=\"title\" target=\"_blank\" href=\"/p/b461c445779d\">睡老婆和睡情人的区别</a>\\n    <p class=\"abstract\">\\n      在这个世界，没有任何一场婚外恋会有好的结果，因为情人大多都只是为了金钱，所以她只能跟你同甘却不能共苦；而你眼里的糟糠之妻才是为了爱跟你在一起的，...\\n    </p>\\n    <div class=\"meta\">\\n        <span class=\"jsd-meta\">\\n          <i class=\"iconfont ic-paid1\"></i> 8.8\\n        </span>\\n      <a class=\"nickname\" target=\"_blank\" href=\"/u/530f5d6d4108\">侬农易购</a>\\n        <a target=\"_blank\" href=\"/p/b461c445779d#comments\">\\n          <i class=\"iconfont ic-list-comments\"></i> 16\\n</a>      <span><i class=\"iconfont ic-list-like\"></i> 42</span>\\n    </div>\\n  </div>\\n</li>\\n\\n\\n        </ul>\\n        <!-- 文章列表模块 -->\\n      </div>\\n    </div>\\n    <div class=\"col-xs-7 col-xs-offset-1 aside\">\\n      <div class=\"board\">\\n        <a target=\"_blank\" href=\"/mobile/club\"><img src=\"//cdn2.jianshu.io/assets/web/banner-s-club-aa8bdf19f8cf729a759da42e4a96f366.png\" alt=\"Banner s club\" /></a>\\n        <a utm_medium=\"index-banner-s\" target=\"_blank\" href=\"/mobile/books?category_id=284\"><img src=\"//cdn2.jianshu.io/assets/web/banner-s-7-1a0222c91694a1f38e610be4bf9669be.png\" alt=\"Banner s 7\" /></a>\\n        <a utm_medium=\"index-banner-s\" target=\"_blank\" href=\"/publications\"><img src=\"//cdn2.jianshu.io/assets/web/banner-s-5-4ba25cf5041931a0ed2062828b4064cb.png\" alt=\"Banner s 5\" /></a>\\n        <a target=\"_blank\" href=\"/c/e048f1a72e3d?utm_medium=index-banner-s&amp;utm_source=desktop\"><img src=\"//cdn2.jianshu.io/assets/web/banner-s-6-c4d6335bfd688f2ca1115b42b04c28a7.png\" alt=\"Banner s 6\" /></a>\\n      </div>\\n\\n      <!-- 首页右侧 App 下载提示 -->\\n      <a id=\"index-aside-download-qrbox\" class=\"col-xs-8 download\" data-toggle=\"popover\" data-placement=\"top\" data-html=\"true\" data-trigger=\"hover\" data-content=\"&lt;img src=&quot;//cdn2.jianshu.io/assets/web/download-index-side-qrcode-cb13fc9106a478795f8d10f9f632fccf.png&quot; alt=&quot;Download index side qrcode&quot; /&gt;\" href=\"/apps?utm_medium=desktop&amp;utm_source=index-aside-click\">\\n        <img class=\"qrcode\" src=\"//cdn2.jianshu.io/assets/web/download-index-side-qrcode-cb13fc9106a478795f8d10f9f632fccf.png\" alt=\"Download index side qrcode\" />\\n        <div class=\"info\">\\n          <div class=\"title\">下载简书手机App<i class=\"iconfont ic-link\"></i></div>\\n          <div class=\"description\">随时随地发现和创作内容</div>\\n        </div>\\n</a>\\n      <!-- 推荐作者 -->\\n      <div data-vcomp=\"recommended-author-list\"></div>\\n    </div>\\n  </div>\\n</div>\\n<div data-vcomp=\"side-tool\"></div>\\n<footer class=\"container\">\\n  <div class=\"row\">\\n    <div class=\"col-xs-17 main\">\\n      \\n\\n\\n\\n\\n\\n\\n<a target=\"_blank\" href=\"http://www.jianshu.com/c/jppzD2\">关于简书</a><em> · </em><a target=\"_blank\" href=\"http://www.jianshu.com/contact\">联系我们</a><em> · </em><a target=\"_blank\" href=\"http://www.jianshu.com/c/bfeec2e13990\">加入我们</a><em> · </em><a target=\"_blank\" href=\"http://www.jianshu.com/p/fc1c113e5b6b\">简书出版</a><em> · </em><a target=\"_blank\" href=\"http://www.jianshu.com/press\">品牌与徽标</a><em> · </em><a target=\"_blank\" href=\"http://www.jianshu.com/faqs\">帮助中心</a><em> · </em><a target=\"_blank\" href=\"http://www.jianshu.com/p/cabc8fa39830\">合作伙伴</a>      <div class=\"icp\">\\n        ©2012-2019 上海佰集信息科技有限公司 / 简书 / 沪ICP备11018329号-5 / \\n        <a target=\"_blank\" href=\"http://www.beian.gov.cn/portal/registerSystemInfo?recordcode=31010402002252\">\\n          <img src=\"//cdn2.jianshu.io/assets/web/smrz-557fa318122c99a66523209bf9753a27.png\" alt=\"Smrz\" />\\n</a>        <a target=\"_blank\" href=\"http://www.beian.gov.cn/portal/registerSystemInfo?recordcode=31010402002252\">沪公网安备31010402002252号 / </a>\\n        <a target=\"_blank\" href=\"http://www.shjbzx.cn/\">\\n          <img src=\"//cdn2.jianshu.io/assets/web/wxb-a216456895eb66c17497dbd3da443cf8.png\" alt=\"Wxb\" />\\n</a>        简书网举报电话：021-34770013 / \\n        <a target=\"_blank\" href=\"javascript:void(null)\">\\n          <img src=\"//cdn2.jianshu.io/assets/web/fanzha-10518f0f6b33635180b190975ae68ca6.jpg\" alt=\"Fanzha\" />\\n</a>        亲爱的市民朋友，上海警方反诈劝阻电话“962110”系专门针对避免您财产被骗受损而设，请您一旦收到来电，立即接听 / \\n        <a target=\"_blank\" href=\"http://218.242.124.22:8081/businessCheck/verifKey.do?showType=extShow&amp;serial=9031000020171107081457000002158769-SAIC_SHOW_310000-20171115131223587837&amp;signData=MEQCIADWZ5aTcBeER5SOVp0ly+ElvKnwtjczum6Gi6wZ7/wWAiB9MAPM22hp947ZaBobux5PDkd0lfqoCOkVV7zjCYME6g==\">\\n          <img src=\"//cdn2.jianshu.io/assets/web/zggsrz-5695587dccf490ca3e651f4228f7479e.png\" alt=\"Zggsrz\" />\\n</a>      </div>\\n    </div>\\n  </div>\\n</footer>\\n\\n    <script type=\"application/json\" data-name=\"page-data\">{\"user_signed_in\":false,\"locale\":\"zh-CN\",\"os\":\"other\",\"read_mode\":null,\"read_font\":null}</script>\\n    \\n    <script src=\"//cdn2.jianshu.io/assets/babel-polyfill-d171e3dec4b6c15634dd.js\" crossorigin=\"anonymous\"></script>\\n    <script src=\"//cdn2.jianshu.io/assets/web-base-888e2483eba1a72649a8.js\" crossorigin=\"anonymous\"></script>\\n<script src=\"//cdn2.jianshu.io/assets/web-a8349c5d82555e1a2fe8.js\" crossorigin=\"anonymous\"></script>\\n    \\n    <script src=\"//cdn2.jianshu.io/assets/web/pages/home/index/entry-9cf467ed12aa27826216.js\" crossorigin=\"anonymous\"></script>\\n    \\n  </body>\\n  <script data-ad-client=\"ca-pub-3077285224019295\" async src=\"https://pagead2.googlesyndication.com/pagead/js/adsbygoogle.js\"></script>\\n</html>\\n'"
      ]
     },
     "execution_count": 17,
     "metadata": {},
     "output_type": "execute_result"
    }
   ],
   "source": [
    "response_SimpleBook_home.text"
   ]
  },
  {
   "cell_type": "code",
   "execution_count": 18,
   "metadata": {
    "collapsed": true
   },
   "outputs": [],
   "source": [
    "html = etree.HTML(response_SimpleBook_home.text)"
   ]
  },
  {
   "cell_type": "code",
   "execution_count": 19,
   "metadata": {
    "collapsed": true
   },
   "outputs": [
    {
     "name": "stdout",
     "output_type": "stream",
     "text": [
      "12\n"
     ]
    }
   ],
   "source": [
    "lis = html.xpath('.//li')\n",
    "print(len(lis))"
   ]
  },
  {
   "cell_type": "code",
   "execution_count": 20,
   "metadata": {
    "collapsed": true
   },
   "outputs": [
    {
     "name": "stdout",
     "output_type": "stream",
     "text": [
      "[]\n",
      "[]\n",
      "[]\n",
      "[]\n",
      "[]\n",
      "['提醒女人：男人逃避这些问题，就是爱上了别人']\n",
      "['脆皮鸡蛋豆腐，鲜嫩滑爽又补钙，老人孩子要多吃']\n",
      "['从100人裂变15000人的秘籍，你想知道吗？']\n",
      "['十二星座性格大揭秘（下）']\n",
      "['女生如何变得更优雅，干货预警！']\n",
      "['步入中年的男士，为什么不愿意再碰妻子？']\n",
      "['睡老婆和睡情人的区别']\n"
     ]
    }
   ],
   "source": [
    "for li in lis:\n",
    "    title = li.xpath('./div[@class=\"content\"]/a/text()')\n",
    "    print(title)"
   ]
  },
  {
   "cell_type": "markdown",
   "metadata": {},
   "source": [
    "### 爬取上海二手房信息"
   ]
  },
  {
   "cell_type": "code",
   "execution_count": 3,
   "metadata": {
    "collapsed": true
   },
   "outputs": [],
   "source": [
    "import requests\n",
    "from lxml import etree\n",
    "url = 'http://bj.ganji.com/ershoufang/'\n",
    "headers = {\n",
    "    \"User-Agent\":\"Mozilla/5.0 (Windows NT 10.0; Win64; x64) AppleWebKit/537.36 (KHTML, like Gecko) Chrome/78.0.3904.87 Safari/537.36\"\n",
    "}\n",
    "response = requests.get(url,headers=headers)\n",
    "html = etree.HTML(response.text)"
   ]
  },
  {
   "cell_type": "code",
   "execution_count": 4,
   "metadata": {
    "collapsed": true
   },
   "outputs": [],
   "source": [
    "def write_file(content:str):\n",
    "    filename = \"二手房数据.csv\"\n",
    "    with open(filename, 'a+', encoding='gbk') as file:\n",
    "        file.write(content)\n",
    "        file.write('\\n')\n",
    "# w   字符串写\n",
    "# wb  二进制写\n",
    "# a+  追加写入"
   ]
  },
  {
   "cell_type": "code",
   "execution_count": 5,
   "metadata": {
    "collapsed": true
   },
   "outputs": [
    {
     "name": "stdout",
     "output_type": "stream",
     "text": [
      "['通州政府旁精装两居室总价66万，安贞医院北关东夏'] ['66', '万'] ['11000元/㎡'] ['60.00㎡'] ['2室1厅1卫']\n",
      "['通州政府旁精装两居室总价66万，安贞医院北关东夏', '66', '万', '11000元/㎡', '60.00㎡', '2室1厅1卫'] ----------------\n",
      "通州政府旁精装两居室总价66万，安贞医院北关东夏,66,万,11000元/㎡,60.00㎡,2室1厅1卫 ++++++++++++++++++\n",
      "\n",
      "\n",
      "['草桥欣园三区 复式 精装修业主自住 南北通透 采'] ['620', '万'] ['47187元/㎡'] ['131.39㎡'] ['4室3厅2卫']\n",
      "['草桥欣园三区 复式 精装修业主自住 南北通透 采', '620', '万', '47187元/㎡', '131.39㎡', '4室3厅2卫'] ----------------\n",
      "草桥欣园三区 复式 精装修业主自住 南北通透 采,620,万,47187元/㎡,131.39㎡,4室3厅2卫 ++++++++++++++++++\n",
      "\n",
      "\n",
      "['通州宋庄现房 均价1万 不户籍 紧邻地铁6号线 '] ['45', '万'] ['14062元/㎡'] ['32.00㎡'] ['1室1厅1卫']\n",
      "['通州宋庄现房 均价1万 不户籍 紧邻地铁6号线 ', '45', '万', '14062元/㎡', '32.00㎡', '1室1厅1卫'] ----------------\n",
      "通州宋庄现房 均价1万 不户籍 紧邻地铁6号线 ,45,万,14062元/㎡,32.00㎡,1室1厅1卫 ++++++++++++++++++\n",
      "\n",
      "\n",
      "['（中）固安孔雀城新机场首付25万 紧邻地铁口 5'] ['98', '万'] ['12405元/㎡'] ['79㎡'] ['2室2厅1卫']\n",
      "['（中）固安孔雀城新机场首付25万 紧邻地铁口 5', '98', '万', '12405元/㎡', '79㎡', '2室2厅1卫'] ----------------\n",
      "（中）固安孔雀城新机场首付25万 紧邻地铁口 5,98,万,12405元/㎡,79㎡,2室2厅1卫 ++++++++++++++++++\n",
      "\n",
      "\n",
      "['南口楼房~采光好~格局好~环境优美~观景房'] ['140', '万'] ['25735元/㎡'] ['54.4㎡'] ['2室1厅1卫']\n",
      "['南口楼房~采光好~格局好~环境优美~观景房', '140', '万', '25735元/㎡', '54.4㎡', '2室1厅1卫'] ----------------\n",
      "南口楼房~采光好~格局好~环境优美~观景房,140,万,25735元/㎡,54.4㎡,2室1厅1卫 ++++++++++++++++++\n",
      "\n",
      "\n",
      "['70年住宅 满五年  净首付90万'] ['180', '万'] ['50804元/㎡'] ['35.43㎡'] ['1室1厅1卫']\n",
      "['70年住宅 满五年  净首付90万', '180', '万', '50804元/㎡', '35.43㎡', '1室1厅1卫'] ----------------\n",
      "70年住宅 满五年  净首付90万,180,万,50804元/㎡,35.43㎡,1室1厅1卫 ++++++++++++++++++\n",
      "\n",
      "\n",
      "['好房出售中体奥林匹克花园小区南北通透三居室149'] ['490', '万'] ['32885元/㎡'] ['149㎡'] ['3室2厅2卫']\n",
      "['好房出售中体奥林匹克花园小区南北通透三居室149', '490', '万', '32885元/㎡', '149㎡', '3室2厅2卫'] ----------------\n",
      "好房出售中体奥林匹克花园小区南北通透三居室149,490,万,32885元/㎡,149㎡,3室2厅2卫 ++++++++++++++++++\n",
      "\n",
      "\n",
      "['雄~安新区现房首付8万得三居 五证齐全直接网签 '] ['59', '万'] ['6860元/㎡'] ['86㎡'] ['3室2厅2卫']\n",
      "['雄~安新区现房首付8万得三居 五证齐全直接网签 ', '59', '万', '6860元/㎡', '86㎡', '3室2厅2卫'] ----------------\n",
      "雄~安新区现房首付8万得三居 五证齐全直接网签 ,59,万,6860元/㎡,86㎡,3室2厅2卫 ++++++++++++++++++\n",
      "\n",
      "\n",
      "['西四环 万寿路 今 日家园小区 靠谱出售'] ['778', '万'] ['77052元/㎡'] ['100.97㎡'] ['2室2厅1卫']\n",
      "['西四环 万寿路 今 日家园小区 靠谱出售', '778', '万', '77052元/㎡', '100.97㎡', '2室2厅1卫'] ----------------\n",
      "西四环 万寿路 今 日家园小区 靠谱出售,778,万,77052元/㎡,100.97㎡,2室2厅1卫 ++++++++++++++++++\n",
      "\n",
      "\n",
      "['18分通勤新机场 买50平顶100平 70年豪华'] ['48', '万'] ['9512元/㎡'] ['50.46㎡'] ['2室2厅1卫']\n",
      "['18分通勤新机场 买50平顶100平 70年豪华', '48', '万', '9512元/㎡', '50.46㎡', '2室2厅1卫'] ----------------\n",
      "18分通勤新机场 买50平顶100平 70年豪华,48,万,9512元/㎡,50.46㎡,2室2厅1卫 ++++++++++++++++++\n",
      "\n",
      "\n",
      "['行宫南区 精装独立三居唯一住房   3层 228'] ['228', '万'] ['21505元/㎡'] ['106.02㎡'] ['3室2厅2卫']\n",
      "['行宫南区 精装独立三居唯一住房   3层 228', '228', '万', '21505元/㎡', '106.02㎡', '3室2厅2卫'] ----------------\n",
      "行宫南区 精装独立三居唯一住房   3层 228,228,万,21505元/㎡,106.02㎡,3室2厅2卫 ++++++++++++++++++\n",
      "\n",
      "\n",
      "['怀柔 北园小区 四层精装 装修没住过 三居无税 '] ['260', '万'] ['33197元/㎡'] ['78.32㎡'] ['3室1厅1卫']\n",
      "['怀柔 北园小区 四层精装 装修没住过 三居无税 ', '260', '万', '33197元/㎡', '78.32㎡', '3室1厅1卫'] ----------------\n",
      "怀柔 北园小区 四层精装 装修没住过 三居无税 ,260,万,33197元/㎡,78.32㎡,3室1厅1卫 ++++++++++++++++++\n",
      "\n",
      "\n",
      "['五期 新上两居 精装 少贷款几户没税 业主两口子'] ['435', '万'] ['47328元/㎡'] ['91.91㎡'] ['2室1厅1卫']\n",
      "['五期 新上两居 精装 少贷款几户没税 业主两口子', '435', '万', '47328元/㎡', '91.91㎡', '2室1厅1卫'] ----------------\n",
      "五期 新上两居 精装 少贷款几户没税 业主两口子,435,万,47328元/㎡,91.91㎡,2室1厅1卫 ++++++++++++++++++\n",
      "\n",
      "\n",
      "['临空经济区 现房均价六千 层高5.2经典复式 购'] ['56', '万'] ['11200元/㎡'] ['50㎡'] ['2室2厅1卫']\n",
      "['临空经济区 现房均价六千 层高5.2经典复式 购', '56', '万', '11200元/㎡', '50㎡', '2室2厅1卫'] ----------------\n",
      "临空经济区 现房均价六千 层高5.2经典复式 购,56,万,11200元/㎡,50㎡,2室2厅1卫 ++++++++++++++++++\n",
      "\n",
      "\n",
      "['碧桐园精装三居室 东南双朝向 采光视野近6号线'] ['280', '万'] ['56000元/㎡'] ['50㎡'] ['3室2厅2卫']\n",
      "['碧桐园精装三居室 东南双朝向 采光视野近6号线', '280', '万', '56000元/㎡', '50㎡', '3室2厅2卫'] ----------------\n",
      "碧桐园精装三居室 东南双朝向 采光视野近6号线,280,万,56000元/㎡,50㎡,3室2厅2卫 ++++++++++++++++++\n",
      "\n",
      "\n",
      "['纳丹堡 二手房随时看房.有钥匙   经典俩居室'] ['160', '万'] ['15686元/㎡'] ['102㎡'] ['2室2厅1卫']\n",
      "['纳丹堡 二手房随时看房.有钥匙   经典俩居室', '160', '万', '15686元/㎡', '102㎡', '2室2厅1卫'] ----------------\n",
      "纳丹堡 二手房随时看房.有钥匙   经典俩居室,160,万,15686元/㎡,102㎡,2室2厅1卫 ++++++++++++++++++\n",
      "\n",
      "\n",
      "['大兴机场旁，首付8W送精装外地人直接网签，小户型'] ['54', '万'] ['9310元/㎡'] ['58㎡'] ['2室1厅1卫']\n",
      "['大兴机场旁，首付8W送精装外地人直接网签，小户型', '54', '万', '9310元/㎡', '58㎡', '2室1厅1卫'] ----------------\n",
      "大兴机场旁，首付8W送精装外地人直接网签，小户型,54,万,9310元/㎡,58㎡,2室1厅1卫 ++++++++++++++++++\n",
      "\n",
      "\n",
      "['大兴机场旁 双校区房 首付11万得两居 外地人 '] ['71', '万'] ['10289元/㎡'] ['69㎡'] ['1室2厅1卫']\n",
      "['大兴机场旁 双校区房 首付11万得两居 外地人 ', '71', '万', '10289元/㎡', '69㎡', '1室2厅1卫'] ----------------\n",
      "大兴机场旁 双校区房 首付11万得两居 外地人 ,71,万,10289元/㎡,69㎡,1室2厅1卫 ++++++++++++++++++\n",
      "\n",
      "\n",
      "['（优选）雄.安东荣盛现房！特价6800！外地可买'] ['47.7', '万'] ['7014元/㎡'] ['68㎡'] ['1室1厅1卫']\n",
      "['（优选）雄.安东荣盛现房！特价6800！外地可买', '47.7', '万', '7014元/㎡', '68㎡', '1室1厅1卫'] ----------------\n",
      "（优选）雄.安东荣盛现房！特价6800！外地可买,47.7,万,7014元/㎡,68㎡,1室1厅1卫 ++++++++++++++++++\n",
      "\n",
      "\n",
      "['机场南，现房首付7万，买房送花园，校区房，外地人'] ['110', '万'] ['8661元/㎡'] ['127㎡'] ['3室2厅2卫']\n",
      "['机场南，现房首付7万，买房送花园，校区房，外地人', '110', '万', '8661元/㎡', '127㎡', '3室2厅2卫'] ----------------\n",
      "机场南，现房首付7万，买房送花园，校区房，外地人,110,万,8661元/㎡,127㎡,3室2厅2卫 ++++++++++++++++++\n",
      "\n",
      "\n",
      "['急售 120平米360万（含车位）南向大2居豪华'] ['750', '万'] ['62500元/㎡'] ['120㎡'] ['3室2厅2卫']\n",
      "['急售 120平米360万（含车位）南向大2居豪华', '750', '万', '62500元/㎡', '120㎡', '3室2厅2卫'] ----------------\n",
      "急售 120平米360万（含车位）南向大2居豪华,750,万,62500元/㎡,120㎡,3室2厅2卫 ++++++++++++++++++\n",
      "\n",
      "\n",
      "['燕郊一手房，外地人可买，首付7万，3.9米挑高，'] ['60', '万'] ['15384元/㎡'] ['39㎡'] ['1室1厅1卫']\n",
      "['燕郊一手房，外地人可买，首付7万，3.9米挑高，', '60', '万', '15384元/㎡', '39㎡', '1室1厅1卫'] ----------------\n",
      "燕郊一手房，外地人可买，首付7万，3.9米挑高，,60,万,15384元/㎡,39㎡,1室1厅1卫 ++++++++++++++++++\n",
      "\n",
      "\n",
      "['果园西里甲区 眼镜房双阳格局 南北通透 房本五年'] ['210', '万'] ['19090元/㎡'] ['110㎡'] ['3室2厅1卫']\n",
      "['果园西里甲区 眼镜房双阳格局 南北通透 房本五年', '210', '万', '19090元/㎡', '110㎡', '3室2厅1卫'] ----------------\n",
      "果园西里甲区 眼镜房双阳格局 南北通透 房本五年,210,万,19090元/㎡,110㎡,3室2厅1卫 ++++++++++++++++++\n",
      "\n",
      "\n",
      "['高铁站旁特价现房 特价3900可2公里上高速送花'] ['48', '万'] ['3779元/㎡'] ['127㎡'] ['3室2厅2卫']\n",
      "['高铁站旁特价现房 特价3900可2公里上高速送花', '48', '万', '3779元/㎡', '127㎡', '3室2厅2卫'] ----------------\n",
      "高铁站旁特价现房 特价3900可2公里上高速送花,48,万,3779元/㎡,127㎡,3室2厅2卫 ++++++++++++++++++\n",
      "\n",
      "\n",
      "['高铁旁，准现房，均价4000，送装修，送家电，送'] ['37.5', '万'] ['4807元/㎡'] ['78㎡'] ['1室1厅1卫']\n",
      "['高铁旁，准现房，均价4000，送装修，送家电，送', '37.5', '万', '4807元/㎡', '78㎡', '1室1厅1卫'] ----------------\n",
      "高铁旁，准现房，均价4000，送装修，送家电，送,37.5,万,4807元/㎡,78㎡,1室1厅1卫 ++++++++++++++++++\n",
      "\n",
      "\n",
      "['北京南 现房 一层带小院全款20万不到配套齐全紧'] ['20', '万'] ['4000元/㎡'] ['50㎡'] ['1室1厅1卫']\n",
      "['北京南 现房 一层带小院全款20万不到配套齐全紧', '20', '万', '4000元/㎡', '50㎡', '1室1厅1卫'] ----------------\n",
      "北京南 现房 一层带小院全款20万不到配套齐全紧,20,万,4000元/㎡,50㎡,1室1厅1卫 ++++++++++++++++++\n",
      "\n",
      "\n",
      "['首付155万，次新小区，精装婚房，高楼层，视野开'] ['410', '万'] ['45769元/㎡'] ['89.58㎡'] ['2室1厅1卫']\n",
      "['首付155万，次新小区，精装婚房，高楼层，视野开', '410', '万', '45769元/㎡', '89.58㎡', '2室1厅1卫'] ----------------\n",
      "首付155万，次新小区，精装婚房，高楼层，视野开,410,万,45769元/㎡,89.58㎡,2室1厅1卫 ++++++++++++++++++\n",
      "\n",
      "\n",
      "['特价房4200一水系公园一垂钓台一送菜园一送车位'] ['28', '万'] ['5490元/㎡'] ['51㎡'] ['1室1厅1卫']\n",
      "['特价房4200一水系公园一垂钓台一送菜园一送车位', '28', '万', '5490元/㎡', '51㎡', '1室1厅1卫'] ----------------\n",
      "特价房4200一水系公园一垂钓台一送菜园一送车位,28,万,5490元/㎡,51㎡,1室1厅1卫 ++++++++++++++++++\n",
      "\n",
      "\n",
      "['涿州铂悦山 首付9万起即可网签 五证齐全 紧邻房'] ['171.5', '万'] ['13503元/㎡'] ['127㎡'] ['3室2厅2卫']\n",
      "['涿州铂悦山 首付9万起即可网签 五证齐全 紧邻房', '171.5', '万', '13503元/㎡', '127㎡', '3室2厅2卫'] ----------------\n",
      "涿州铂悦山 首付9万起即可网签 五证齐全 紧邻房,171.5,万,13503元/㎡,127㎡,3室2厅2卫 ++++++++++++++++++\n",
      "\n",
      "\n",
      "['首二机场 首都南城214万 双阳台看房有钥匙 全'] ['205', '万'] ['21134元/㎡'] ['97㎡'] ['2室1厅1卫']\n",
      "['首二机场 首都南城214万 双阳台看房有钥匙 全', '205', '万', '21134元/㎡', '97㎡', '2室1厅1卫'] ----------------\n",
      "首二机场 首都南城214万 双阳台看房有钥匙 全,205,万,21134元/㎡,97㎡,2室1厅1卫 ++++++++++++++++++\n",
      "\n",
      "\n",
      "['新机场附近（智慧谷）高端公寓5.6米层高可以做两'] ['30.5', '万'] ['8714元/㎡'] ['35㎡'] ['2室1厅1卫']\n",
      "['新机场附近（智慧谷）高端公寓5.6米层高可以做两', '30.5', '万', '8714元/㎡', '35㎡', '2室1厅1卫'] ----------------\n",
      "新机场附近（智慧谷）高端公寓5.6米层高可以做两,30.5,万,8714元/㎡,35㎡,2室1厅1卫 ++++++++++++++++++\n",
      "\n",
      "\n",
      "['清退房！10分到新机场 首付22万（可分）70年'] ['45', '万'] ['9000元/㎡'] ['50㎡'] ['2室1厅1卫']\n",
      "['清退房！10分到新机场 首付22万（可分）70年', '45', '万', '9000元/㎡', '50㎡', '2室1厅1卫'] ----------------\n",
      "清退房！10分到新机场 首付22万（可分）70年,45,万,9000元/㎡,50㎡,2室1厅1卫 ++++++++++++++++++\n",
      "\n",
      "\n",
      "['特价3800即买即住 送车位送菜地 外地可买可 '] ['25', '万'] ['3787元/㎡'] ['66㎡'] ['2室1厅1卫']\n",
      "['特价3800即买即住 送车位送菜地 外地可买可 ', '25', '万', '3787元/㎡', '66㎡', '2室1厅1卫'] ----------------\n",
      "特价3800即买即住 送车位送菜地 外地可买可 ,25,万,3787元/㎡,66㎡,2室1厅1卫 ++++++++++++++++++\n",
      "\n",
      "\n",
      "['湖南小区一层贷小院72平米165万出售'] ['165', '万'] ['22916元/㎡'] ['72㎡'] ['2室1厅1卫']\n",
      "['湖南小区一层贷小院72平米165万出售', '165', '万', '22916元/㎡', '72㎡', '2室1厅1卫'] ----------------\n",
      "湖南小区一层贷小院72平米165万出售,165,万,22916元/㎡,72㎡,2室1厅1卫 ++++++++++++++++++\n",
      "\n",
      "\n",
      "['丰台 （新品）精装叠拼别墅花园50平 私家电梯 '] ['775', '万'] ['34598元/㎡'] ['224㎡'] ['3室2厅4卫']\n",
      "['丰台 （新品）精装叠拼别墅花园50平 私家电梯 ', '775', '万', '34598元/㎡', '224㎡', '3室2厅4卫'] ----------------\n",
      "丰台 （新品）精装叠拼别墅花园50平 私家电梯 ,775,万,34598元/㎡,224㎡,3室2厅4卫 ++++++++++++++++++\n",
      "\n",
      "\n",
      "['北京周边，高铁旁，现房，均价3900，送菜地，送'] ['61', '万'] ['4803元/㎡'] ['127㎡'] ['3室2厅2卫']\n",
      "['北京周边，高铁旁，现房，均价3900，送菜地，送', '61', '万', '4803元/㎡', '127㎡', '3室2厅2卫'] ----------------\n",
      "北京周边，高铁旁，现房，均价3900，送菜地，送,61,万,4803元/㎡,127㎡,3室2厅2卫 ++++++++++++++++++\n",
      "\n",
      "\n",
      "['机场员工团购房 亦时空首付7万 复式房高 紧邻地'] ['42', '万'] ['8659元/㎡'] ['48.5㎡'] ['2室1厅1卫']\n",
      "['机场员工团购房 亦时空首付7万 复式房高 紧邻地', '42', '万', '8659元/㎡', '48.5㎡', '2室1厅1卫'] ----------------\n",
      "机场员工团购房 亦时空首付7万 复式房高 紧邻地,42,万,8659元/㎡,48.5㎡,2室1厅1卫 ++++++++++++++++++\n",
      "\n",
      "\n",
      "['燕郊紧邻地铁站 嘉都国际新产品首付低至6万起 自'] ['70', '万'] ['14583元/㎡'] ['48㎡'] ['2室2厅2卫']\n",
      "['燕郊紧邻地铁站 嘉都国际新产品首付低至6万起 自', '70', '万', '14583元/㎡', '48㎡', '2室2厅2卫'] ----------------\n",
      "燕郊紧邻地铁站 嘉都国际新产品首付低至6万起 自,70,万,14583元/㎡,48㎡,2室2厅2卫 ++++++++++++++++++\n",
      "\n",
      "\n",
      "['廊坊高铁旁 特价现房7000 项目紧邻廊坊万达广'] ['73.5', '万'] ['9423元/㎡'] ['78㎡'] ['1室1厅1卫']\n",
      "['廊坊高铁旁 特价现房7000 项目紧邻廊坊万达广', '73.5', '万', '9423元/㎡', '78㎡', '1室1厅1卫'] ----------------\n",
      "廊坊高铁旁 特价现房7000 项目紧邻廊坊万达广,73.5,万,9423元/㎡,78㎡,1室1厅1卫 ++++++++++++++++++\n",
      "\n",
      "\n",
      "['韩村河雅苑 满五年 有装修 南北向 三居室 10'] ['179', '万'] ['16589元/㎡'] ['107.9㎡'] ['3室1厅1卫']\n",
      "['韩村河雅苑 满五年 有装修 南北向 三居室 10', '179', '万', '16589元/㎡', '107.9㎡', '3室1厅1卫'] ----------------\n",
      "韩村河雅苑 满五年 有装修 南北向 三居室 10,179,万,16589元/㎡,107.9㎡,3室1厅1卫 ++++++++++++++++++\n",
      "\n",
      "\n",
      "['优惠倒计时首付15万得精美三居 看到不能错过 可'] ['29', '万'] ['3052元/㎡'] ['95㎡'] ['3室2厅2卫']\n",
      "['优惠倒计时首付15万得精美三居 看到不能错过 可', '29', '万', '3052元/㎡', '95㎡', '3室2厅2卫'] ----------------\n",
      "优惠倒计时首付15万得精美三居 看到不能错过 可,29,万,3052元/㎡,95㎡,3室2厅2卫 ++++++++++++++++++\n",
      "\n",
      "\n",
      "['北京南，高铁旁现房，均价4100送车位，钥匙在手'] ['30', '万'] ['3846元/㎡'] ['78㎡'] ['1室1厅1卫']\n",
      "['北京南，高铁旁现房，均价4100送车位，钥匙在手', '30', '万', '3846元/㎡', '78㎡', '1室1厅1卫'] ----------------\n",
      "北京南，高铁旁现房，均价4100送车位，钥匙在手,30,万,3846元/㎡,78㎡,1室1厅1卫 ++++++++++++++++++\n",
      "\n",
      "\n",
      "['大2居双卫 紧邻奥森 地铁 车位足 大飘窗 精装'] ['650', '万'] ['59090元/㎡'] ['110㎡'] ['2室2厅2卫']\n",
      "['大2居双卫 紧邻奥森 地铁 车位足 大飘窗 精装', '650', '万', '59090元/㎡', '110㎡', '2室2厅2卫'] ----------------\n",
      "大2居双卫 紧邻奥森 地铁 车位足 大飘窗 精装,650,万,59090元/㎡,110㎡,2室2厅2卫 ++++++++++++++++++\n",
      "\n",
      "\n",
      "['北京通州副中心东 香河 首付六万 华夏孔雀城开发'] ['40', '万'] ['8888元/㎡'] ['45㎡'] ['1室2厅1卫']\n",
      "['北京通州副中心东 香河 首付六万 华夏孔雀城开发', '40', '万', '8888元/㎡', '45㎡', '1室2厅1卫'] ----------------\n",
      "北京通州副中心东 香河 首付六万 华夏孔雀城开发,40,万,8888元/㎡,45㎡,1室2厅1卫 ++++++++++++++++++\n",
      "\n",
      "\n",
      "['大兴机场旁，o首付o首付，准现房，校区房，免费看'] ['76', '万'] ['9743元/㎡'] ['78㎡'] ['1室1厅1卫']\n",
      "['大兴机场旁，o首付o首付，准现房，校区房，免费看', '76', '万', '9743元/㎡', '78㎡', '1室1厅1卫'] ----------------\n",
      "大兴机场旁，o首付o首付，准现房，校区房，免费看,76,万,9743元/㎡,78㎡,1室1厅1卫 ++++++++++++++++++\n",
      "\n",
      "\n",
      "['北京南，均价6500，机场旁，高铁旁，高速旁，五'] ['49', '万'] ['6282元/㎡'] ['78㎡'] ['1室1厅1卫']\n",
      "['北京南，均价6500，机场旁，高铁旁，高速旁，五', '49', '万', '6282元/㎡', '78㎡', '1室1厅1卫'] ----------------\n",
      "北京南，均价6500，机场旁，高铁旁，高速旁，五,49,万,6282元/㎡,78㎡,1室1厅1卫 ++++++++++++++++++\n",
      "\n",
      "\n",
      "['鹿牌家园 两居 190万'] ['195', '万'] ['24714元/㎡'] ['78.9㎡'] ['2室2厅1卫']\n",
      "['鹿牌家园 两居 190万', '195', '万', '24714元/㎡', '78.9㎡', '2室2厅1卫'] ----------------\n",
      "鹿牌家园 两居 190万,195,万,24714元/㎡,78.9㎡,2室2厅1卫 ++++++++++++++++++\n",
      "\n",
      "\n",
      "['新机场旁特价房购一层送一层送精装修 一 层价格享'] ['40', '万'] ['8333元/㎡'] ['48㎡'] ['1室1厅1卫']\n",
      "['新机场旁特价房购一层送一层送精装修 一 层价格享', '40', '万', '8333元/㎡', '48㎡', '1室1厅1卫'] ----------------\n",
      "新机场旁特价房购一层送一层送精装修 一 层价格享,40,万,8333元/㎡,48㎡,1室1厅1卫 ++++++++++++++++++\n",
      "\n",
      "\n",
      "['老本没税！三小，三中，大襟胡同南北通透，三居室。'] ['185', '万'] ['19892元/㎡'] ['93㎡'] ['3室2厅1卫']\n",
      "['老本没税！三小，三中，大襟胡同南北通透，三居室。', '185', '万', '19892元/㎡', '93㎡', '3室2厅1卫'] ----------------\n",
      "老本没税！三小，三中，大襟胡同南北通透，三居室。,185,万,19892元/㎡,93㎡,3室2厅1卫 ++++++++++++++++++\n",
      "\n",
      "\n",
      "['荣盛花语城首付25万有一套挑高6米的四居室 七十'] ['66', '万'] ['7764元/㎡'] ['85㎡'] ['2室2厅1卫']\n",
      "['荣盛花语城首付25万有一套挑高6米的四居室 七十', '66', '万', '7764元/㎡', '85㎡', '2室2厅1卫'] ----------------\n",
      "荣盛花语城首付25万有一套挑高6米的四居室 七十,66,万,7764元/㎡,85㎡,2室2厅1卫 ++++++++++++++++++\n",
      "\n",
      "\n",
      "['昌平新城 北京风景精装两居室 中间位置中楼层 车'] ['405', '万'] ['43548元/㎡'] ['93㎡'] ['2室2厅1卫']\n",
      "['昌平新城 北京风景精装两居室 中间位置中楼层 车', '405', '万', '43548元/㎡', '93㎡', '2室2厅1卫'] ----------------\n",
      "昌平新城 北京风景精装两居室 中间位置中楼层 车,405,万,43548元/㎡,93㎡,2室2厅1卫 ++++++++++++++++++\n",
      "\n",
      "\n",
      "['好户型！！全南双卫 小区中间位置 采光好 同比融'] ['255', '万'] ['26223元/㎡'] ['97.24㎡'] ['2室1厅2卫']\n",
      "['好户型！！全南双卫 小区中间位置 采光好 同比融', '255', '万', '26223元/㎡', '97.24㎡', '2室1厅2卫'] ----------------\n",
      "好户型！！全南双卫 小区中间位置 采光好 同比融,255,万,26223元/㎡,97.24㎡,2室1厅2卫 ++++++++++++++++++\n",
      "\n",
      "\n",
      "['雄~安新区，京雄复式购一层送一层，挑高5.2小户'] ['56', '万'] ['7179元/㎡'] ['78㎡'] ['1室1厅1卫']\n",
      "['雄~安新区，京雄复式购一层送一层，挑高5.2小户', '56', '万', '7179元/㎡', '78㎡', '1室1厅1卫'] ----------------\n",
      "雄~安新区，京雄复式购一层送一层，挑高5.2小户,56,万,7179元/㎡,78㎡,1室1厅1卫 ++++++++++++++++++\n",
      "\n",
      "\n",
      "['新区旁，现房，有复式，购一层送一层，家通便利，有'] ['70', '万'] ['8974元/㎡'] ['78㎡'] ['1室1厅1卫']\n",
      "['新区旁，现房，有复式，购一层送一层，家通便利，有', '70', '万', '8974元/㎡', '78㎡', '1室1厅1卫'] ----------------\n",
      "新区旁，现房，有复式，购一层送一层，家通便利，有,70,万,8974元/㎡,78㎡,1室1厅1卫 ++++++++++++++++++\n",
      "\n",
      "\n",
      "['大兴新机场（员工宿舍楼）两层复式网签现房 永清临'] ['50', '万'] ['10000元/㎡'] ['50㎡'] ['2室1厅1卫']\n",
      "['大兴新机场（员工宿舍楼）两层复式网签现房 永清临', '50', '万', '10000元/㎡', '50㎡', '2室1厅1卫'] ----------------\n",
      "大兴新机场（员工宿舍楼）两层复式网签现房 永清临,50,万,10000元/㎡,50㎡,2室1厅1卫 ++++++++++++++++++\n",
      "\n",
      "\n",
      "['机场南，首付6万，校区房，准现房，市中心交通方便'] ['70', '万'] ['8974元/㎡'] ['78㎡'] ['1室1厅1卫']\n",
      "['机场南，首付6万，校区房，准现房，市中心交通方便', '70', '万', '8974元/㎡', '78㎡', '1室1厅1卫'] ----------------\n",
      "机场南，首付6万，校区房，准现房，市中心交通方便,70,万,8974元/㎡,78㎡,1室1厅1卫 ++++++++++++++++++\n",
      "\n",
      "\n",
      "['羊耳峪里 两居室 南北通透 明厨明卫 60平米 '] ['98', '万'] ['16484元/㎡'] ['59.45㎡'] ['2室1厅1卫']\n",
      "['羊耳峪里 两居室 南北通透 明厨明卫 60平米 ', '98', '万', '16484元/㎡', '59.45㎡', '2室1厅1卫'] ----------------\n",
      "羊耳峪里 两居室 南北通透 明厨明卫 60平米 ,98,万,16484元/㎡,59.45㎡,2室1厅1卫 ++++++++++++++++++\n",
      "\n",
      "\n",
      "['通州南8500现房北京新机场永清新亦庄70年大产'] ['50', '万'] ['8620元/㎡'] ['58㎡'] ['2室1厅1卫']\n",
      "['通州南8500现房北京新机场永清新亦庄70年大产', '50', '万', '8620元/㎡', '58㎡', '2室1厅1卫'] ----------------\n",
      "通州南8500现房北京新机场永清新亦庄70年大产,50,万,8620元/㎡,58㎡,2室1厅1卫 ++++++++++++++++++\n",
      "\n",
      "\n",
      "['大兴机场旁，o首付o首付，准现房，校区房，免费看'] ['60', '万'] ['8695元/㎡'] ['69㎡'] ['1室2厅1卫']\n",
      "['大兴机场旁，o首付o首付，准现房，校区房，免费看', '60', '万', '8695元/㎡', '69㎡', '1室2厅1卫'] ----------------\n",
      "大兴机场旁，o首付o首付，准现房，校区房，免费看,60,万,8695元/㎡,69㎡,1室2厅1卫 ++++++++++++++++++\n",
      "\n",
      "\n",
      "['潮白河孔雀城潮白家园110万得90平三居有装修接'] ['110', '万'] ['12222元/㎡'] ['90㎡'] ['3室2厅1卫']\n",
      "['潮白河孔雀城潮白家园110万得90平三居有装修接', '110', '万', '12222元/㎡', '90㎡', '3室2厅1卫'] ----------------\n",
      "潮白河孔雀城潮白家园110万得90平三居有装修接,110,万,12222元/㎡,90㎡,3室2厅1卫 ++++++++++++++++++\n",
      "\n",
      "\n",
      "['山水华府精装两居电梯房。随时看'] ['195', '万'] ['22444元/㎡'] ['86.88㎡'] ['2室2厅1卫']\n",
      "['山水华府精装两居电梯房。随时看', '195', '万', '22444元/㎡', '86.88㎡', '2室2厅1卫'] ----------------\n",
      "山水华府精装两居电梯房。随时看,195,万,22444元/㎡,86.88㎡,2室2厅1卫 ++++++++++++++++++\n",
      "\n",
      "\n",
      "['大兴机场旁，o首付o首付，准现房，校区房，免费看'] ['120', '万'] ['9448元/㎡'] ['127㎡'] ['3室2厅2卫']\n",
      "['大兴机场旁，o首付o首付，准现房，校区房，免费看', '120', '万', '9448元/㎡', '127㎡', '3室2厅2卫'] ----------------\n",
      "大兴机场旁，o首付o首付，准现房，校区房，免费看,120,万,9448元/㎡,127㎡,3室2厅2卫 ++++++++++++++++++\n",
      "\n",
      "\n",
      "['京南紧邻高铁均价3800送车位特价房送花园看房有'] ['30', '万'] ['3846元/㎡'] ['78㎡'] ['1室1厅1卫']\n",
      "['京南紧邻高铁均价3800送车位特价房送花园看房有', '30', '万', '3846元/㎡', '78㎡', '1室1厅1卫'] ----------------\n",
      "京南紧邻高铁均价3800送车位特价房送花园看房有,30,万,3846元/㎡,78㎡,1室1厅1卫 ++++++++++++++++++\n",
      "\n",
      "\n",
      "['大兴机场旁央企大盘 首付15万现房 五证齐全直接'] ['71', '万'] ['8554元/㎡'] ['83㎡'] ['3室2厅1卫']\n",
      "['大兴机场旁央企大盘 首付15万现房 五证齐全直接', '71', '万', '8554元/㎡', '83㎡', '3室2厅1卫'] ----------------\n",
      "大兴机场旁央企大盘 首付15万现房 五证齐全直接,71,万,8554元/㎡,83㎡,3室2厅1卫 ++++++++++++++++++\n",
      "\n",
      "\n",
      "['万科时代之光 送精装修 8100送小院送车位 首'] ['68', '万'] ['8000元/㎡'] ['85㎡'] ['2室2厅1卫']\n",
      "['万科时代之光 送精装修 8100送小院送车位 首', '68', '万', '8000元/㎡', '85㎡', '2室2厅1卫'] ----------------\n",
      "万科时代之光 送精装修 8100送小院送车位 首,68,万,8000元/㎡,85㎡,2室2厅1卫 ++++++++++++++++++\n",
      "\n",
      "\n",
      "['雄.安后花园 白洋淀东 现房即买即住 门口公交车'] ['40', '万'] ['3636元/㎡'] ['110㎡'] ['3室2厅2卫']\n",
      "['雄.安后花园 白洋淀东 现房即买即住 门口公交车', '40', '万', '3636元/㎡', '110㎡', '3室2厅2卫'] ----------------\n",
      "雄.安后花园 白洋淀东 现房即买即住 门口公交车,40,万,3636元/㎡,110㎡,3室2厅2卫 ++++++++++++++++++\n",
      "\n",
      "\n",
      "['荣盛特价房6800 首付十万起温泉入户 门口94'] ['64', '万'] ['7441元/㎡'] ['86㎡'] ['3室2厅2卫']\n",
      "['荣盛特价房6800 首付十万起温泉入户 门口94', '64', '万', '7441元/㎡', '86㎡', '3室2厅2卫'] ----------------\n",
      "荣盛特价房6800 首付十万起温泉入户 门口94,64,万,7441元/㎡,86㎡,3室2厅2卫 ++++++++++++++++++\n",
      "\n",
      "\n",
      "['刚需自住看过来！京南永清城区现房！均价7800！'] ['100', '万'] ['11627元/㎡'] ['86㎡'] ['2室2厅1卫']\n",
      "['刚需自住看过来！京南永清城区现房！均价7800！', '100', '万', '11627元/㎡', '86㎡', '2室2厅1卫'] ----------------\n",
      "刚需自住看过来！京南永清城区现房！均价7800！,100,万,11627元/㎡,86㎡,2室2厅1卫 ++++++++++++++++++\n",
      "\n",
      "\n",
      "['大兴国际机场旁 现房 首付6万三居 一层送下跃花'] ['61', '万'] ['9384元/㎡'] ['65.00㎡'] ['1室2厅1卫']\n",
      "['大兴国际机场旁 现房 首付6万三居 一层送下跃花', '61', '万', '9384元/㎡', '65.00㎡', '1室2厅1卫'] ----------------\n",
      "大兴国际机场旁 现房 首付6万三居 一层送下跃花,61,万,9384元/㎡,65.00㎡,1室2厅1卫 ++++++++++++++++++\n",
      "\n",
      "\n",
      "['亦庄南 采育精装两居室 南北通透 次顶层，采光好'] ['185', '万'] ['21022元/㎡'] ['88㎡'] ['2室2厅1卫']\n",
      "['亦庄南 采育精装两居室 南北通透 次顶层，采光好', '185', '万', '21022元/㎡', '88㎡', '2室2厅1卫'] ----------------\n",
      "亦庄南 采育精装两居室 南北通透 次顶层，采光好,185,万,21022元/㎡,88㎡,2室2厅1卫 ++++++++++++++++++\n",
      "\n",
      "\n",
      "['北京正南荣盛大盘 特价5800高铁 火车 公交均'] ['40', '万'] ['4081元/㎡'] ['98㎡'] ['3室2厅1卫']\n",
      "['北京正南荣盛大盘 特价5800高铁 火车 公交均', '40', '万', '4081元/㎡', '98㎡', '3室2厅1卫'] ----------------\n",
      "北京正南荣盛大盘 特价5800高铁 火车 公交均,40,万,4081元/㎡,98㎡,3室2厅1卫 ++++++++++++++++++\n",
      "\n",
      "\n",
      "['御路园 南北通透 精装修 满五唯一 中楼层 采光'] ['305', '万'] ['34813元/㎡'] ['87.61㎡'] ['2室1厅1卫']\n",
      "['御路园 南北通透 精装修 满五唯一 中楼层 采光', '305', '万', '34813元/㎡', '87.61㎡', '2室1厅1卫'] ----------------\n",
      "御路园 南北通透 精装修 满五唯一 中楼层 采光,305,万,34813元/㎡,87.61㎡,2室1厅1卫 ++++++++++++++++++\n",
      "\n",
      "\n",
      "['北京南大兴机场旁央企开发高端品质社区现房航空住宅'] ['82', '万'] ['8453元/㎡'] ['97㎡'] ['3室2厅1卫']\n",
      "['北京南大兴机场旁央企开发高端品质社区现房航空住宅', '82', '万', '8453元/㎡', '97㎡', '3室2厅1卫'] ----------------\n",
      "北京南大兴机场旁央企开发高端品质社区现房航空住宅,82,万,8453元/㎡,97㎡,3室2厅1卫 ++++++++++++++++++\n",
      "\n",
      "\n",
      "['杏花西里 南北朝向 两居室 业主诚心108万出售'] ['108', '万'] ['18111元/㎡'] ['59.63㎡'] ['2室1厅1卫']\n",
      "['杏花西里 南北朝向 两居室 业主诚心108万出售', '108', '万', '18111元/㎡', '59.63㎡', '2室1厅1卫'] ----------------\n",
      "杏花西里 南北朝向 两居室 业主诚心108万出售,108,万,18111元/㎡,59.63㎡,2室1厅1卫 ++++++++++++++++++\n",
      "\n",
      "\n",
      "['南菜园二区~04年~中层三居~客厅带窗~采光非常'] ['200', '万'] ['22665元/㎡'] ['88.24㎡'] ['3室2厅1卫']\n",
      "['南菜园二区~04年~中层三居~客厅带窗~采光非常', '200', '万', '22665元/㎡', '88.24㎡', '3室2厅1卫'] ----------------\n",
      "南菜园二区~04年~中层三居~客厅带窗~采光非常,200,万,22665元/㎡,88.24㎡,3室2厅1卫 ++++++++++++++++++\n",
      "\n",
      "\n",
      "['南菜园二区~中间层~南北大阳台~楼间距大~采光好'] ['190', '万'] ['20314元/㎡'] ['93.53㎡'] ['3室2厅1卫']\n",
      "['南菜园二区~中间层~南北大阳台~楼间距大~采光好', '190', '万', '20314元/㎡', '93.53㎡', '3室2厅1卫'] ----------------\n",
      "南菜园二区~中间层~南北大阳台~楼间距大~采光好,190,万,20314元/㎡,93.53㎡,3室2厅1卫 ++++++++++++++++++\n",
      "\n",
      "\n",
      "['南菜园二区~单价1.9万~双卧朝南~干湿分离卫生'] ['190', '万'] ['19000元/㎡'] ['100㎡'] ['3室2厅2卫']\n",
      "['南菜园二区~单价1.9万~双卧朝南~干湿分离卫生', '190', '万', '19000元/㎡', '100㎡', '3室2厅2卫'] ----------------\n",
      "南菜园二区~单价1.9万~双卧朝南~干湿分离卫生,190,万,19000元/㎡,100㎡,3室2厅2卫 ++++++++++++++++++\n",
      "\n",
      "\n",
      "['君山别墅，北美风格，东临河，纯独栋，上下三层就卖'] ['1680', '万'] ['30220元/㎡'] ['555.92㎡'] ['6室6厅7卫']\n",
      "['君山别墅，北美风格，东临河，纯独栋，上下三层就卖', '1680', '万', '30220元/㎡', '555.92㎡', '6室6厅7卫'] ----------------\n",
      "君山别墅，北美风格，东临河，纯独栋，上下三层就卖,1680,万,30220元/㎡,555.92㎡,6室6厅7卫 ++++++++++++++++++\n",
      "\n",
      "\n",
      "['北京南大兴机场旁央企开发高端品质航空住宅即买即住'] ['82', '万'] ['8453元/㎡'] ['97㎡'] ['3室2厅2卫']\n",
      "['北京南大兴机场旁央企开发高端品质航空住宅即买即住', '82', '万', '8453元/㎡', '97㎡', '3室2厅2卫'] ----------------\n",
      "北京南大兴机场旁央企开发高端品质航空住宅即买即住,82,万,8453元/㎡,97㎡,3室2厅2卫 ++++++++++++++++++\n",
      "\n",
      "\n",
      "['高铁站旁温泉入户特价7500五证齐门口公交直达北'] ['64', '万'] ['8000元/㎡'] ['80㎡'] ['2室2厅1卫']\n",
      "['高铁站旁温泉入户特价7500五证齐门口公交直达北', '64', '万', '8000元/㎡', '80㎡', '2室2厅1卫'] ----------------\n",
      "高铁站旁温泉入户特价7500五证齐门口公交直达北,64,万,8000元/㎡,80㎡,2室2厅1卫 ++++++++++++++++++\n",
      "\n",
      "\n",
      "['南北通透一居室，采光充足，视野开阔。'] ['218', '万'] ['38618元/㎡'] ['56.45㎡'] ['1室1厅1卫']\n",
      "['南北通透一居室，采光充足，视野开阔。', '218', '万', '38618元/㎡', '56.45㎡', '1室1厅1卫'] ----------------\n",
      "南北通透一居室，采光充足，视野开阔。,218,万,38618元/㎡,56.45㎡,1室1厅1卫 ++++++++++++++++++\n",
      "\n",
      "\n",
      "['业主新降价~颖泽洲小区~89平米~三居~送8平米'] ['185', '万'] ['20642元/㎡'] ['89.62㎡'] ['3室1厅1卫']\n",
      "['业主新降价~颖泽洲小区~89平米~三居~送8平米', '185', '万', '20642元/㎡', '89.62㎡', '3室1厅1卫'] ----------------\n",
      "业主新降价~颖泽洲小区~89平米~三居~送8平米,185,万,20642元/㎡,89.62㎡,3室1厅1卫 ++++++++++++++++++\n",
      "\n",
      "\n",
      "['客厅朝阳~颖泽洲小区~两居室~南北通透~196万'] ['196', '万'] ['22711元/㎡'] ['86.3㎡'] ['2室1厅1卫']\n",
      "['客厅朝阳~颖泽洲小区~两居室~南北通透~196万', '196', '万', '22711元/㎡', '86.3㎡', '2室1厅1卫'] ----------------\n",
      "客厅朝阳~颖泽洲小区~两居室~南北通透~196万,196,万,22711元/㎡,86.3㎡,2室1厅1卫 ++++++++++++++++++\n",
      "\n",
      "\n",
      "['永清孔雀城现房特价8500 外地可买可贷款 交通'] ['66', '万'] ['8048元/㎡'] ['82㎡'] ['2室2厅1卫']\n",
      "['永清孔雀城现房特价8500 外地可买可贷款 交通', '66', '万', '8048元/㎡', '82㎡', '2室2厅1卫'] ----------------\n",
      "永清孔雀城现房特价8500 外地可买可贷款 交通,66,万,8048元/㎡,82㎡,2室2厅1卫 ++++++++++++++++++\n",
      "\n",
      "\n",
      "['大兴机场南现房五证齐全 南北通透送精装修 首付8'] ['48', '万'] ['8275元/㎡'] ['58㎡'] ['1室1厅1卫']\n",
      "['大兴机场南现房五证齐全 南北通透送精装修 首付8', '48', '万', '8275元/㎡', '58㎡', '1室1厅1卫'] ----------------\n",
      "大兴机场南现房五证齐全 南北通透送精装修 首付8,48,万,8275元/㎡,58㎡,1室1厅1卫 ++++++++++++++++++\n",
      "\n",
      "\n",
      "['雄，安旁特价 首付13万 距离高铁站1公里，门口'] ['47.6', '万'] ['7000元/㎡'] ['68㎡'] ['1室1厅1卫']\n",
      "['雄，安旁特价 首付13万 距离高铁站1公里，门口', '47.6', '万', '7000元/㎡', '68㎡', '1室1厅1卫'] ----------------\n",
      "雄，安旁特价 首付13万 距离高铁站1公里，门口,47.6,万,7000元/㎡,68㎡,1室1厅1卫 ++++++++++++++++++\n",
      "\n",
      "\n",
      "['固安中心 首付9万买精装修双校区房 五证齐全 门'] ['48', '万'] ['8727元/㎡'] ['55㎡'] ['2室1厅1卫']\n",
      "['固安中心 首付9万买精装修双校区房 五证齐全 门', '48', '万', '8727元/㎡', '55㎡', '2室1厅1卫'] ----------------\n",
      "固安中心 首付9万买精装修双校区房 五证齐全 门,48,万,8727元/㎡,55㎡,2室1厅1卫 ++++++++++++++++++\n",
      "\n",
      "\n",
      "['年末特价房，买房带车位，门口公交直达北京，海伦堡'] ['72', '万'] ['8089元/㎡'] ['89㎡'] ['3室2厅2卫']\n",
      "['年末特价房，买房带车位，门口公交直达北京，海伦堡', '72', '万', '8089元/㎡', '89㎡', '3室2厅2卫'] ----------------\n",
      "年末特价房，买房带车位，门口公交直达北京，海伦堡,72,万,8089元/㎡,89㎡,3室2厅2卫 ++++++++++++++++++\n",
      "\n",
      "\n",
      "['金色中介百一，于家园一区，豪华装修，南北通透，两'] ['265', '万'] ['34554元/㎡'] ['76.69㎡'] ['2室1厅1卫']\n",
      "['金色中介百一，于家园一区，豪华装修，南北通透，两', '265', '万', '34554元/㎡', '76.69㎡', '2室1厅1卫'] ----------------\n",
      "金色中介百一，于家园一区，豪华装修，南北通透，两,265,万,34554元/㎡,76.69㎡,2室1厅1卫 ++++++++++++++++++\n",
      "\n",
      "\n",
      "['燕郊一手房 外地人可买 地铁在门口 进京方便 小'] ['55', '万'] ['13750元/㎡'] ['40㎡'] ['1室1厅1卫']\n",
      "['燕郊一手房 外地人可买 地铁在门口 进京方便 小', '55', '万', '13750元/㎡', '40㎡', '1室1厅1卫'] ----------------\n",
      "燕郊一手房 外地人可买 地铁在门口 进京方便 小,55,万,13750元/㎡,40㎡,1室1厅1卫 ++++++++++++++++++\n",
      "\n",
      "\n",
      "['好房推荐 瀛海庄园 多边平层 三面采光 诚意出售'] ['850', '万'] ['38990元/㎡'] ['218㎡'] ['3室2厅3卫']\n",
      "['好房推荐 瀛海庄园 多边平层 三面采光 诚意出售', '850', '万', '38990元/㎡', '218㎡', '3室2厅3卫'] ----------------\n",
      "好房推荐 瀛海庄园 多边平层 三面采光 诚意出售,850,万,38990元/㎡,218㎡,3室2厅3卫 ++++++++++++++++++\n",
      "\n",
      "\n",
      "['特价，现房，高铁旁，高速环绕项目，送车位，可养老'] ['20', '万'] ['3389元/㎡'] ['59㎡'] ['1室1厅1卫']\n",
      "['特价，现房，高铁旁，高速环绕项目，送车位，可养老', '20', '万', '3389元/㎡', '59㎡', '1室1厅1卫'] ----------------\n",
      "特价，现房，高铁旁，高速环绕项目，送车位，可养老,20,万,3389元/㎡,59㎡,1室1厅1卫 ++++++++++++++++++\n",
      "\n",
      "\n",
      "['（乐园西小区）现浇房，低楼层，客厅带窗户采光好，'] ['225', '万'] ['22277元/㎡'] ['101㎡'] ['3室2厅1卫']\n",
      "['（乐园西小区）现浇房，低楼层，客厅带窗户采光好，', '225', '万', '22277元/㎡', '101㎡', '3室2厅1卫'] ----------------\n",
      "（乐园西小区）现浇房，低楼层，客厅带窗户采光好，,225,万,22277元/㎡,101㎡,3室2厅1卫 ++++++++++++++++++\n",
      "\n",
      "\n",
      "['（园丁小区）南北通透三居，精装修，低楼层价格便宜'] ['230', '万'] ['23958元/㎡'] ['96㎡'] ['3室2厅1卫']\n",
      "['（园丁小区）南北通透三居，精装修，低楼层价格便宜', '230', '万', '23958元/㎡', '96㎡', '3室2厅1卫'] ----------------\n",
      "（园丁小区）南北通透三居，精装修，低楼层价格便宜,230,万,23958元/㎡,96㎡,3室2厅1卫 ++++++++++++++++++\n",
      "\n",
      "\n",
      "['（海关北街）着急卖总价低，首付低，南北通透两居室'] ['155', '万'] ['22794元/㎡'] ['68㎡'] ['2室1厅1卫']\n",
      "['（海关北街）着急卖总价低，首付低，南北通透两居室', '155', '万', '22794元/㎡', '68㎡', '2室1厅1卫'] ----------------\n",
      "（海关北街）着急卖总价低，首付低，南北通透两居室,155,万,22794元/㎡,68㎡,2室1厅1卫 ++++++++++++++++++\n",
      "\n",
      "\n",
      "['金隅万科城两居~首付138万~低总价~保持好~有'] ['329', '万'] ['40259元/㎡'] ['81.72㎡'] ['2室2厅1卫']\n",
      "['金隅万科城两居~首付138万~低总价~保持好~有', '329', '万', '40259元/㎡', '81.72㎡', '2室2厅1卫'] ----------------\n",
      "金隅万科城两居~首付138万~低总价~保持好~有,329,万,40259元/㎡,81.72㎡,2室2厅1卫 ++++++++++++++++++\n",
      "\n",
      "\n",
      "['金色百一中介费迎宾中路 3室2厅 380万元 精'] ['380', '万'] ['28421元/㎡'] ['133.7㎡'] ['3室2厅1卫']\n",
      "['金色百一中介费迎宾中路 3室2厅 380万元 精', '380', '万', '28421元/㎡', '133.7㎡', '3室2厅1卫'] ----------------\n",
      "金色百一中介费迎宾中路 3室2厅 380万元 精,380,万,28421元/㎡,133.7㎡,3室2厅1卫 ++++++++++++++++++\n",
      "\n",
      "\n",
      "['世嘉光织谷(西区)~欧式洋房~环保装修~全明格局'] ['265', '万'] ['27725元/㎡'] ['95.58㎡'] ['2室2厅1卫']\n",
      "['世嘉光织谷(西区)~欧式洋房~环保装修~全明格局', '265', '万', '27725元/㎡', '95.58㎡', '2室2厅1卫'] ----------------\n",
      "世嘉光织谷(西区)~欧式洋房~环保装修~全明格局,265,万,27725元/㎡,95.58㎡,2室2厅1卫 ++++++++++++++++++\n",
      "\n",
      "\n",
      "['北京南首付七万得两居 七十年住宅 直接网签 一层'] ['69', '万'] ['8518元/㎡'] ['81㎡'] ['2室2厅1卫']\n",
      "['北京南首付七万得两居 七十年住宅 直接网签 一层', '69', '万', '8518元/㎡', '81㎡', '2室2厅1卫'] ----------------\n",
      "北京南首付七万得两居 七十年住宅 直接网签 一层,69,万,8518元/㎡,81㎡,2室2厅1卫 ++++++++++++++++++\n",
      "\n",
      "\n",
      "['川北小区~南北通透三居室~采光良好~出行方便~格'] ['215', '万'] ['18695元/㎡'] ['115㎡'] ['3室2厅1卫']\n",
      "['川北小区~南北通透三居室~采光良好~出行方便~格', '215', '万', '18695元/㎡', '115㎡', '3室2厅1卫'] ----------------\n",
      "川北小区~南北通透三居室~采光良好~出行方便~格,215,万,18695元/㎡,115㎡,3室2厅1卫 ++++++++++++++++++\n",
      "\n",
      "\n",
      "['VR全景看房~顶秀美泉一期~带阁楼~舒适通透大三'] ['390', '万'] ['30468元/㎡'] ['128㎡'] ['3室2厅2卫']\n",
      "['VR全景看房~顶秀美泉一期~带阁楼~舒适通透大三', '390', '万', '30468元/㎡', '128㎡', '3室2厅2卫'] ----------------\n",
      "VR全景看房~顶秀美泉一期~带阁楼~舒适通透大三,390,万,30468元/㎡,128㎡,3室2厅2卫 ++++++++++++++++++\n",
      "\n",
      "\n",
      "['杏花西里  南北通透 无税  两居室105诚心卖'] ['105', '万'] ['17754元/㎡'] ['59.14㎡'] ['2室1厅1卫']\n",
      "['杏花西里  南北通透 无税  两居室105诚心卖', '105', '万', '17754元/㎡', '59.14㎡', '2室1厅1卫'] ----------------\n",
      "杏花西里  南北通透 无税  两居室105诚心卖,105,万,17754元/㎡,59.14㎡,2室1厅1卫 ++++++++++++++++++\n",
      "\n",
      "\n",
      "['必 看  房山水华府 精装两居室 南北通透 好位'] ['190', '万'] ['21869元/㎡'] ['86.88㎡'] ['2室2厅1卫']\n",
      "['必 看  房山水华府 精装两居室 南北通透 好位', '190', '万', '21869元/㎡', '86.88㎡', '2室2厅1卫'] ----------------\n",
      "必 看  房山水华府 精装两居室 南北通透 好位,190,万,21869元/㎡,86.88㎡,2室2厅1卫 ++++++++++++++++++\n",
      "\n",
      "\n",
      "['雄。安新区旁首付十万外地人可买可直接网签温泉入户'] ['50', '万'] ['7352元/㎡'] ['68㎡'] ['2室2厅1卫']\n",
      "['雄。安新区旁首付十万外地人可买可直接网签温泉入户', '50', '万', '7352元/㎡', '68㎡', '2室2厅1卫'] ----------------\n",
      "雄。安新区旁首付十万外地人可买可直接网签温泉入户,50,万,7352元/㎡,68㎡,2室2厅1卫 ++++++++++++++++++\n",
      "\n",
      "\n",
      "['西环里小区两居~南北通透~中楼层~满五唯一~看房'] ['215', '万'] ['36348元/㎡'] ['59.15㎡'] ['2室1厅1卫']\n",
      "['西环里小区两居~南北通透~中楼层~满五唯一~看房', '215', '万', '36348元/㎡', '59.15㎡', '2室1厅1卫'] ----------------\n",
      "西环里小区两居~南北通透~中楼层~满五唯一~看房,215,万,36348元/㎡,59.15㎡,2室1厅1卫 ++++++++++++++++++\n",
      "\n",
      "\n",
      "['（年底特惠）通州k2十里春风，品质住宅，70年产'] ['182', '万'] ['23333元/㎡'] ['78㎡'] ['2室2厅1卫']\n",
      "['（年底特惠）通州k2十里春风，品质住宅，70年产', '182', '万', '23333元/㎡', '78㎡', '2室2厅1卫'] ----------------\n",
      "（年底特惠）通州k2十里春风，品质住宅，70年产,182,万,23333元/㎡,78㎡,2室2厅1卫 ++++++++++++++++++\n",
      "\n",
      "\n",
      "['滨湖小区~低层~两居室~采光好~通风好'] ['204', '万'] ['29991元/㎡'] ['68.02㎡'] ['2室1厅1卫']\n",
      "['滨湖小区~低层~两居室~采光好~通风好', '204', '万', '29991元/㎡', '68.02㎡', '2室1厅1卫'] ----------------\n",
      "滨湖小区~低层~两居室~采光好~通风好,204,万,29991元/㎡,68.02㎡,2室1厅1卫 ++++++++++++++++++\n",
      "\n",
      "\n",
      "['固安中南熙悦 紧邻一中配套齐交通便利上市房企紧邻'] ['120', '万'] ['12500元/㎡'] ['96㎡'] ['3室2厅1卫']\n",
      "['固安中南熙悦 紧邻一中配套齐交通便利上市房企紧邻', '120', '万', '12500元/㎡', '96㎡', '3室2厅1卫'] ----------------\n",
      "固安中南熙悦 紧邻一中配套齐交通便利上市房企紧邻,120,万,12500元/㎡,96㎡,3室2厅1卫 ++++++++++++++++++\n",
      "\n",
      "\n",
      "['世嘉光织谷(西区)~经典大3居~格局无浪费~电梯'] ['365', '万'] ['30225元/㎡'] ['120.76㎡'] ['3室2厅2卫']\n",
      "['世嘉光织谷(西区)~经典大3居~格局无浪费~电梯', '365', '万', '30225元/㎡', '120.76㎡', '3室2厅2卫'] ----------------\n",
      "世嘉光织谷(西区)~经典大3居~格局无浪费~电梯,365,万,30225元/㎡,120.76㎡,3室2厅2卫 ++++++++++++++++++\n",
      "\n",
      "\n",
      "['华夏孔雀城特价每平米7300 户型方正南北通透交'] ['98', '万'] ['7716元/㎡'] ['127㎡'] ['3室2厅2卫']\n",
      "['华夏孔雀城特价每平米7300 户型方正南北通透交', '98', '万', '7716元/㎡', '127㎡', '3室2厅2卫'] ----------------\n",
      "华夏孔雀城特价每平米7300 户型方正南北通透交,98,万,7716元/㎡,127㎡,3室2厅2卫 ++++++++++++++++++\n",
      "\n",
      "\n",
      "['12.17业主自荐~视野好~采光好~~无任何遮挡'] ['363', '万'] ['42248元/㎡'] ['85.92㎡'] ['2室2厅1卫']\n",
      "['12.17业主自荐~视野好~采光好~~无任何遮挡', '363', '万', '42248元/㎡', '85.92㎡', '2室2厅1卫'] ----------------\n",
      "12.17业主自荐~视野好~采光好~~无任何遮挡,363,万,42248元/㎡,85.92㎡,2室2厅1卫 ++++++++++++++++++\n",
      "\n",
      "\n",
      "['大兴4号线念潭公园6环里，免费停车，随时看房，诚'] ['248', '万'] ['28079元/㎡'] ['88.32㎡'] ['2室2厅1卫']\n",
      "['大兴4号线念潭公园6环里，免费停车，随时看房，诚', '248', '万', '28079元/㎡', '88.32㎡', '2室2厅1卫'] ----------------\n",
      "大兴4号线念潭公园6环里，免费停车，随时看房，诚,248,万,28079元/㎡,88.32㎡,2室2厅1卫 ++++++++++++++++++\n",
      "\n",
      "\n",
      "['现价420万 业主直降80万 全南向两居 眼镜户'] ['500', '万'] ['40000元/㎡'] ['125㎡'] ['2室2厅2卫']\n",
      "['现价420万 业主直降80万 全南向两居 眼镜户', '500', '万', '40000元/㎡', '125㎡', '2室2厅2卫'] ----------------\n",
      "现价420万 业主直降80万 全南向两居 眼镜户,500,万,40000元/㎡,125㎡,2室2厅2卫 ++++++++++++++++++\n",
      "\n",
      "\n"
     ]
    }
   ],
   "source": [
    "divs = html.xpath('.//div[@class=\"f-main-list\"]/div/div')\n",
    "for div in divs:\n",
    "    title = div.xpath('./dl/dd[1]/a/@title')\n",
    "    title = [t.replace(',', '，') for t in title]\n",
    "    price = div.xpath('./dl/dd[last()]/div/span/text()')\n",
    "    money = div.xpath('./dl/dd[last()]/div[2]/text()')\n",
    "    area = div.xpath('./dl/dd[2]/span[3]/text()')\n",
    "    huxing = div.xpath('./dl/dd[2]/span[1]/text()')\n",
    "    print(title, price,money,area,huxing)\n",
    "    info = []\n",
    "    info.extend(title)\n",
    "    info.extend(price)\n",
    "    info.extend(money)\n",
    "    info.extend(area)\n",
    "    info.extend(huxing)\n",
    "    print(info,'----------------')\n",
    "    info_str = \",\".join(info)\n",
    "    print(info_str,'++++++++++++++++++')\n",
    "    print('\\n')\n",
    "    write_file(info_str)"
   ]
  },
  {
   "cell_type": "markdown",
   "metadata": {},
   "source": [
    "### numpy库 数据分析基础"
   ]
  },
  {
   "cell_type": "code",
   "execution_count": 83,
   "metadata": {
    "collapsed": true
   },
   "outputs": [],
   "source": [
    "import numpy as np"
   ]
  },
  {
   "cell_type": "code",
   "execution_count": 43,
   "metadata": {
    "collapsed": true
   },
   "outputs": [],
   "source": [
    "data1 = np.array([1,2,3,4,5,6])  # 创建一维数组\n",
    "data2 = np.array([[1,2,3,4],[4,5,6,7]])  # 创建2维数组  每个维度的长度需要长度一样\n",
    "data00 = np.zeros(10) # 创建10个数值为0的数组，初始化用\n",
    "data01 = np.ones(10) # 创建10个数值为0的数组，初始化用\n",
    "data21 = np.ones((3,10)) # 创建二维数组，3行10列\n",
    "dataAR = np.arange(10) # 创建0到9的数组"
   ]
  },
  {
   "cell_type": "code",
   "execution_count": 45,
   "metadata": {
    "collapsed": true
   },
   "outputs": [
    {
     "name": "stdout",
     "output_type": "stream",
     "text": [
      "[[1 2 3 4]\n",
      " [4 5 6 7]]\n",
      "2\n",
      "(2, 4)\n",
      "[ 0.  0.  0.  0.  0.  0.  0.  0.  0.  0.]\n",
      "[ 1.  1.  1.  1.  1.  1.  1.  1.  1.  1.]\n",
      "[[ 1.  1.  1.  1.  1.  1.  1.  1.  1.  1.]\n",
      " [ 1.  1.  1.  1.  1.  1.  1.  1.  1.  1.]\n",
      " [ 1.  1.  1.  1.  1.  1.  1.  1.  1.  1.]]\n",
      "9\n",
      "7\n",
      "data2qp_copy： 7\n",
      "7\n",
      "[1 2]\n"
     ]
    }
   ],
   "source": [
    "print(data2)\n",
    "print(data2.ndim)  # 判断数组维度\n",
    "print(data2.shape)  # 判断数组各维度的长度\n",
    "type(data2)\n",
    "print(data00)\n",
    "print(data01)\n",
    "print(data21)\n",
    "print(dataAR[9]) # 获取数组中某个数字，索引\n",
    "data2qp = data2[1][3]\n",
    "print(data2qp) # 第二行第四列的数字, 切片得到的数据是原始的数据，data2qp的数据会同步改变data2里的数据\n",
    "data2qp_copy = data2[1][3].copy()\n",
    "print('data2qp_copy：',data2qp_copy)\n",
    "print(data2[1,3])  # 同上\n",
    "print(data1[0:2])"
   ]
  },
  {
   "cell_type": "code",
   "execution_count": 60,
   "metadata": {
    "collapsed": true
   },
   "outputs": [
    {
     "name": "stdout",
     "output_type": "stream",
     "text": [
      "[0 1 2 3 4 5 6 7 8 9]\n",
      "[[0 1 2 3 4]\n",
      " [5 6 7 8 9]]\n",
      "[[0 5]\n",
      " [1 6]\n",
      " [2 7]\n",
      " [3 8]\n",
      " [4 9]]\n",
      "[[0 1]\n",
      " [2 3]\n",
      " [4 5]\n",
      " [6 7]\n",
      " [8 9]]\n",
      "[ 0.          1.          1.41421356  1.73205081  2.          2.23606798\n",
      "  2.44948974  2.64575131  2.82842712  3.        ]\n"
     ]
    }
   ],
   "source": [
    "# 变换数组维度\n",
    "data = np.arange(10)\n",
    "print(data)\n",
    "print(data.reshape((2,5))) # 数组需要一一对应性，如果上面arange(10)改为9 则会报错\n",
    "print(data.reshape((2,5)).T) # 距阵转置,T必须大写，用的不多\n",
    "print(data.reshape((5,2))) # 变成5行2列,T必须大写\n",
    "print(np.sqrt(data))  # 求平方根"
   ]
  },
  {
   "cell_type": "markdown",
   "metadata": {},
   "source": [
    "### ndarray常用方法\n",
    "- abs 计算绝对值\n",
    "- sqrt 计算平方根\n",
    "- square 计算平方\n",
    "- exp 计算指数ex\n",
    "- sign 计算正负号：1，0，-1\n",
    "- ceil 计算大于该元素的最小整数（向上取整数，进一位）\n",
    "- floor 计算小于该元素的最大整数（向下取整，舍去小数位）\n",
    "- isnan 计算是否非数字"
   ]
  },
  {
   "cell_type": "code",
   "execution_count": 64,
   "metadata": {},
   "outputs": [
    {
     "name": "stdout",
     "output_type": "stream",
     "text": [
      "[ 0  2  4  6  8 10 12 14 16 18]\n",
      "[ 0  2  4  6  8 10 12 14 16 18]\n"
     ]
    }
   ],
   "source": [
    "# 数组相加\n",
    "data1 = np.arange(10)\n",
    "data2 = np.arange(10)\n",
    "print(data1+data2) # data1+data2 对应两两相加\n",
    "print(np.add(data1,data2)) # 同上 data1+data2"
   ]
  },
  {
   "cell_type": "markdown",
   "metadata": {},
   "source": [
    "### 常用两个数组可用的方法\n",
    "- add 两个数组相加\n",
    "- subtract 两数组相减去\n",
    "- multiply 两数组相相乘（不是距阵乘法）\n",
    "- divide 两数组相除\n",
    "- power 第一个数据元素A，第二数组元素B，计算A的B次方\n",
    "- fmax 计算两个元素各个位置上最大的那个\n",
    "- fmin 计算两个元素各个位置上最小的那个\n",
    "- sum 计算所有元素的和\n",
    "- mean 计算所有元素的平均值\n",
    "- std 计算所有元素的标准差\n",
    "- min,mix 计算所有元素的最大，最小值\n",
    "- argmin,argmax 计算所有元素的最大，最小值的位置\n",
    "- .sort 反序排序"
   ]
  },
  {
   "cell_type": "code",
   "execution_count": 70,
   "metadata": {},
   "outputs": [
    {
     "name": "stdout",
     "output_type": "stream",
     "text": [
      "5050 50.5\n"
     ]
    }
   ],
   "source": [
    "data = np.arange(1,101)\n",
    "data_sum = data.sum()\n",
    "data_mean = data.mean()\n",
    "print(data_sum,data_mean)"
   ]
  },
  {
   "cell_type": "code",
   "execution_count": null,
   "metadata": {
    "collapsed": true
   },
   "outputs": [],
   "source": [
    "data = np.genfromtxt('data.txt',delimiter=',') # 以，作为分隔符读取data.txt里的数据\n",
    "print(data)\n",
    "print(data.astype(int)) # 把读取到的数字转换为整型"
   ]
  },
  {
   "cell_type": "markdown",
   "metadata": {},
   "source": [
    "### 作业：读取rating.txt中的数据并分析\n",
    "- 共有10000本书，以数字id表示\n",
    "- 每个用户打分1-5\n",
    "- 每一行数字有3个数字，分别是用户ID，书本ID，该用户对书的打分\n",
    "#### 要求输出所有书本各自的平均得分\n",
    "\n"
   ]
  },
  {
   "cell_type": "code",
   "execution_count": 140,
   "metadata": {
    "collapsed": true
   },
   "outputs": [],
   "source": [
    "import numpy as np\n",
    "path = r'C:\\Users\\10746\\Desktop\\ptthon-test\\数据分析\\数据分析项目2-2\\rating.txt'\n",
    "data = np.genfromtxt(path,delimiter=',')\n",
    "data = data.astype(int)"
   ]
  },
  {
   "cell_type": "code",
   "execution_count": 141,
   "metadata": {
    "collapsed": true
   },
   "outputs": [],
   "source": [
    "rating_sum = np.zeros(10000)\n",
    "rating_people_count = np.zeros(10000)"
   ]
  },
  {
   "cell_type": "code",
   "execution_count": 142,
   "metadata": {},
   "outputs": [
    {
     "name": "stdout",
     "output_type": "stream",
     "text": [
      "[ 4.27970709  4.35135011  3.21434056 ...,  4.32352941  3.70769231\n",
      "  4.00900901]\n"
     ]
    }
   ],
   "source": [
    "for rating in data:\n",
    "    book_id = rating[1]-1\n",
    "    rating_sum[book_id] += rating[2]\n",
    "    rating_people_count[book_id]+=1\n",
    "print(rating_sum/rating_people_count)"
   ]
  },
  {
   "cell_type": "markdown",
   "metadata": {},
   "source": [
    "# Pandas基础"
   ]
  },
  {
   "cell_type": "code",
   "execution_count": 3,
   "metadata": {
    "collapsed": true
   },
   "outputs": [],
   "source": [
    "import pandas as pd"
   ]
  },
  {
   "cell_type": "code",
   "execution_count": 4,
   "metadata": {
    "collapsed": true
   },
   "outputs": [
    {
     "name": "stdout",
     "output_type": "stream",
     "text": [
      "0     2\n",
      "1     3\n",
      "2    33\n",
      "3    55\n",
      "dtype: int64\n",
      "[ 2  3 33 55]\n",
      "RangeIndex(start=0, stop=4, step=1)\n",
      "a    11\n",
      "b    22\n",
      "c    33\n",
      "d    34\n",
      "dtype: int64\n"
     ]
    }
   ],
   "source": [
    "data = pd.Series([2,3,33,55])  # 创建Series类型数据\n",
    "print(data)\n",
    "print(data.values) # 获取数据的值\n",
    "print(data.index)  # 获取索引\n",
    "list_data = [11,22,33,34]\n",
    "data_exp = pd.Series(list_data,index=['a','b','c','d']) # 创建特殊索引\n",
    "print(data_exp)\n",
    "data_exp.index = ['j','a','c','d'] # 重新修改索引\n",
    "print(data_exp)"
   ]
  },
  {
   "cell_type": "code",
   "execution_count": 5,
   "metadata": {
    "collapsed": true
   },
   "outputs": [
    {
     "name": "stdout",
     "output_type": "stream",
     "text": [
      "j    11\n",
      "a    22\n",
      "c    33\n",
      "d    34\n",
      "dtype: int64\n",
      "4\n",
      "22\n",
      "a    22\n",
      "c    33\n",
      "dtype: int64\n",
      "j    11\n",
      "a    22\n",
      "dtype: int64\n"
     ]
    }
   ],
   "source": [
    "print(len(data_exp))  # 获取长度\n",
    "print(data_exp['a'])  # 获取某个数据\n",
    "print(data_exp[['a','c']])  # 获取数组中的多个数据\n",
    "print(data_exp[0:2]) # 获取范围数据"
   ]
  },
  {
   "cell_type": "code",
   "execution_count": 12,
   "metadata": {},
   "outputs": [
    {
     "name": "stdout",
     "output_type": "stream",
     "text": [
      "33    3\n",
      "55    2\n",
      "44    1\n",
      "11    1\n",
      "22    1\n",
      "34    1\n",
      "dtype: int64\n",
      "True\n"
     ]
    }
   ],
   "source": [
    "list_data = [11,22,33,34,33,33,44,55,55]\n",
    "list_data = pd.Series(list_data)\n",
    "print(list_data.value_counts()) # 计算元素出现的次数\n",
    "print(1 in list_data)  # 判断索引是否在列表里"
   ]
  },
  {
   "cell_type": "code",
   "execution_count": 24,
   "metadata": {
    "collapsed": true
   },
   "outputs": [
    {
     "name": "stdout",
     "output_type": "stream",
     "text": [
      "A    100.0\n",
      "B    200.0\n",
      "C     30.0\n",
      "E      NaN\n",
      "F      NaN\n",
      "dtype: float64\n",
      "A    False\n",
      "B    False\n",
      "C    False\n",
      "E     True\n",
      "F     True\n",
      "dtype: bool\n",
      "ABCef\n",
      "A    100.0\n",
      "B    200.0\n",
      "C     30.0\n",
      "E      NaN\n",
      "F      NaN\n",
      "Name: ABC, dtype: float64\n"
     ]
    }
   ],
   "source": [
    "dict_data={\n",
    "    \"A\":100,\n",
    "    \"B\":200,\n",
    "    \"C\":30,\n",
    "    \"D\":200\n",
    "}\n",
    "dict_data = pd.Series(dict_data,index=['A','B','C','E','F']) \n",
    "print(dict_data)  # 可以通过字典来创建序列类型\n",
    "print(dict_data.isnull())  # isnull() 检测数据书否缺失  非空用notnull()\n",
    "dict_data.name = 'ABC'  # 定义对象名称\n",
    "dict_data.index.name = 'ABCef'  # 定义索引名称\n",
    "print(dict_data)"
   ]
  },
  {
   "cell_type": "code",
   "execution_count": 48,
   "metadata": {
    "collapsed": true
   },
   "outputs": [
    {
     "name": "stdout",
     "output_type": "stream",
     "text": [
      "  gender  score    student\n",
      "0      M    100      lilei\n",
      "1      F     80  hanmeimei\n",
      "2      F     33  madongmei\n",
      "  gender    student  score\n",
      "0      M      lilei    100\n",
      "1      F  hanmeimei     80\n",
      "2      F  madongmei     33\n",
      "Index(['gender', 'student', 'score'], dtype='object')\n",
      "student:\n",
      " 0        lilei\n",
      "1    hanmeimei\n",
      "2    madongmei\n",
      "Name: student, dtype: object\n",
      "student:\n",
      " 0        lilei\n",
      "1    hanmeimei\n",
      "2    madongmei\n",
      "Name: student, dtype: object\n",
      "iloc[0]:\n",
      " gender             F\n",
      "student    hanmeimei\n",
      "score             80\n",
      "Name: 1, dtype: object\n"
     ]
    }
   ],
   "source": [
    "dict_data = {\n",
    "    'student':['lilei','hanmeimei','madongmei'],\n",
    "    'score':[100,80,33],\n",
    "    'gender':['M','F','F']\n",
    "}\n",
    "dict_data = pd.DataFrame(dict_data)  # 创建DataFrame 数据类型\n",
    "print(dict_data)\n",
    "dict_data = pd.DataFrame(dict_data,columns=['gender','student','score'])  # 定义列的顺序\n",
    "print(dict_data)\n",
    "print(dict_data.columns) # 获取列头名称\n",
    "print('student:\\n',dict_data.student)  # 获取student列的值\n",
    "print('student:\\n',dict_data['student'])  # 获取student列的值,同上\n",
    "print('iloc[0]:\\n',dict_data.iloc[1]) # 获取行的数据 ，从第二行开始  头不算，\n",
    "# print('student:\\n',dict_data.loc['a']) # 特殊索引使用"
   ]
  },
  {
   "cell_type": "code",
   "execution_count": 58,
   "metadata": {},
   "outputs": [
    {
     "name": "stdout",
     "output_type": "stream",
     "text": [
      "  gender  score    student\n",
      "0      M    100      lilei\n",
      "1      F     80  hanmeimei\n",
      "2      F     33  madongmei \n",
      "\n",
      "0    100\n",
      "1     80\n",
      "2     33\n",
      "Name: score, dtype: int64 \n",
      "\n",
      "  gender  score    student\n",
      "0      M  66666      lilei\n",
      "1      F     80  hanmeimei\n",
      "2      F     33  madongmei\n"
     ]
    },
    {
     "name": "stderr",
     "output_type": "stream",
     "text": [
      "C:\\Users\\10746\\Anaconda3\\lib\\site-packages\\ipykernel_launcher.py:10: SettingWithCopyWarning: \n",
      "A value is trying to be set on a copy of a slice from a DataFrame\n",
      "\n",
      "See the caveats in the documentation: http://pandas.pydata.org/pandas-docs/stable/indexing.html#indexing-view-versus-copy\n",
      "  # Remove the CWD from sys.path while we load stuff.\n"
     ]
    }
   ],
   "source": [
    "dict_data = {\n",
    "    'student':['lilei','hanmeimei','madongmei'],\n",
    "    'score':[100,80,33],\n",
    "    'gender':['M','F','F']\n",
    "}\n",
    "dict_data = pd.DataFrame(dict_data)  # 创建DataFrame 数据类型\n",
    "print(dict_data,'\\n')\n",
    "slice_data = dict_data['score']\n",
    "print(slice_data,'\\n')   \n",
    "slice_data[0] = 66666  # 修改切片出来的数据会同步影响原始数据\n",
    "print(dict_data)  "
   ]
  },
  {
   "cell_type": "code",
   "execution_count": 60,
   "metadata": {
    "collapsed": true
   },
   "outputs": [
    {
     "name": "stdout",
     "output_type": "stream",
     "text": [
      "  gender  score    student\n",
      "0      M    100      lilei\n",
      "1      F     80  hanmeimei\n",
      "2      F     33  madongmei \n",
      "\n",
      "0    100\n",
      "1     80\n",
      "2     33\n",
      "Name: score, dtype: int64 \n",
      "\n",
      "  gender  score    student\n",
      "0      M    100      lilei\n",
      "1      F     80  hanmeimei\n",
      "2      F     33  madongmei \n",
      "\n",
      "0    66666\n",
      "1       80\n",
      "2       33\n",
      "Name: score, dtype: int64 \n",
      "\n"
     ]
    }
   ],
   "source": [
    "dict_data = {\n",
    "    'student':['lilei','hanmeimei','madongmei'],\n",
    "    'score':[100,80,33],\n",
    "    'gender':['M','F','F']\n",
    "}\n",
    "dict_data = pd.DataFrame(dict_data)  # 创建DataFrame 数据类型\n",
    "print(dict_data,'\\n')\n",
    "slice_data = dict_data['score'].copy()  # .copy后修改切片不会影响原来的数据\n",
    "print(slice_data,'\\n')   \n",
    "slice_data[0] = 66666  \n",
    "print(dict_data,'\\n')  \n",
    "print(slice_data,'\\n')  "
   ]
  },
  {
   "cell_type": "code",
   "execution_count": 63,
   "metadata": {
    "collapsed": true
   },
   "outputs": [
    {
     "name": "stdout",
     "output_type": "stream",
     "text": [
      "  gender  score    student\n",
      "0      M     95      lilei\n",
      "1      F     96  hanmeimei\n",
      "2      F     97  madongmei\n"
     ]
    }
   ],
   "source": [
    "dict_data = {\n",
    "    'student':['lilei','hanmeimei','madongmei'],\n",
    "    'score':[100,80,33],\n",
    "    'gender':['M','F','F']\n",
    "}\n",
    "dict_data = pd.DataFrame(dict_data)  # 创建DataFrame 数据类型\n",
    "dict_data['score'] = range(95,98)   #  通过range修改列的数据\n",
    "print(dict_data)"
   ]
  },
  {
   "cell_type": "code",
   "execution_count": 66,
   "metadata": {
    "collapsed": true
   },
   "outputs": [
    {
     "name": "stdout",
     "output_type": "stream",
     "text": [
      "  gender  score    student\n",
      "a      M    111      lilei\n",
      "b      F    222  hanmeimei\n",
      "c      F    333  madongmei\n"
     ]
    }
   ],
   "source": [
    "dict_data = {\n",
    "    'student':['lilei','hanmeimei','madongmei'],\n",
    "    'score':[100,80,33],\n",
    "    'gender':['M','F','F']\n",
    "}\n",
    "dict_data = pd.DataFrame(dict_data,index=['a','b','c']) \n",
    "score = pd.Series([111,222,333],index=['a','b','c'])  \n",
    "dict_data['score'] = score # 直接获取另一个系列的数据值\n",
    "print(dict_data)"
   ]
  },
  {
   "cell_type": "code",
   "execution_count": 74,
   "metadata": {
    "collapsed": true
   },
   "outputs": [
    {
     "name": "stdout",
     "output_type": "stream",
     "text": [
      "  gender    student\n",
      "a      M      lilei\n",
      "b      F  hanmeimei\n",
      "c      F  madongmei \n",
      "\n",
      "  gender    student\n",
      "c      F  madongmei\n",
      "b      F  hanmeimei\n",
      "a      M      lilei\n",
      "d      0          0\n"
     ]
    }
   ],
   "source": [
    "dict_data = {\n",
    "    'student':['lilei','hanmeimei','madongmei'],\n",
    "    'score':[100,80,33],\n",
    "    'gender':['M','F','F']\n",
    "}\n",
    "dict_data = pd.DataFrame(dict_data,index=['a','b','c']) \n",
    "del dict_data['score']  # 删除某列\n",
    "print(dict_data,'\\n')\n",
    "# 排列列表,fill_value=0,无数值的 默认为0，不设置fill_value 则默认为NaN\n",
    "dict_data = dict_data.reindex(['c','b','a','d'],fill_value = 0)  \n",
    "print(dict_data)\n"
   ]
  },
  {
   "cell_type": "code",
   "execution_count": 87,
   "metadata": {
    "collapsed": true
   },
   "outputs": [
    {
     "name": "stdout",
     "output_type": "stream",
     "text": [
      "  gender  score    student\n",
      "c      F     22  madongmei\n",
      "b      F     80  hanmeimei\n",
      "a      M    100      lilei\n",
      "d      F     22  madongmei \n",
      "\n"
     ]
    }
   ],
   "source": [
    "dict_data = {\n",
    "    'student':['lilei','hanmeimei','madongmei'],\n",
    "    'score':[100,80,22],\n",
    "    'gender':['M','F','F']\n",
    "}\n",
    "dict_data = pd.DataFrame(dict_data,index=['a','b','c']) \n",
    "# 排列列表,method=ffill,从前面计算插值\n",
    "dict_data = dict_data.reindex(['c','b','a','d'],method='ffill')\n",
    "print(dict_data,'\\n')\n",
    "# 排列列表,method=bfill,从后面计算插值\n",
    "# dict_data = dict_data.reindex(['c','b','a','d'],method='bfill')\n",
    "# print(dict_data,'\\n')"
   ]
  },
  {
   "cell_type": "code",
   "execution_count": 98,
   "metadata": {
    "collapsed": true
   },
   "outputs": [
    {
     "name": "stdout",
     "output_type": "stream",
     "text": [
      "  gender  score    student\n",
      "c      F   22.0  madongmei\n",
      "b      F   80.0  hanmeimei\n",
      "a      M  100.0      lilei\n",
      "d    NaN    NaN        NaN /\n",
      "\n",
      "  gender  score    student\n",
      "c      F   22.0  madongmei\n",
      "b      F   80.0  hanmeimei\n",
      "a      M  100.0      lilei\n"
     ]
    }
   ],
   "source": [
    "dict_data = {\n",
    "    'student':['lilei','hanmeimei','madongmei'],\n",
    "    'score':[100,80,22],\n",
    "    'gender':['M','F','F']\n",
    "}\n",
    "dict_data = pd.DataFrame(dict_data,index=['a','b','c']) \n",
    "dict_data = dict_data.reindex(['c','b','a','d'])\n",
    "print(dict_data,'/\\n')\n",
    "print(dict_data.dropna())  # .dropna() 删除有一个缺失数据的行\n",
    "# print(dict_data.dropna(how='all'))  #  删除整行数据都缺失的行\n",
    "# print(dict_data.fillna(0))  # 默认无数据的地方为0\n",
    "# print(dict_data.fillna({'gender':'M','student':'unknown'}))  # 指定列填入不同数值\n",
    "# dict_data = dict_data.drop('d') # 删除索引 为 d 行的数据"
   ]
  },
  {
   "cell_type": "markdown",
   "metadata": {},
   "source": [
    "### dict_data['score']>=90  常用数据筛选"
   ]
  },
  {
   "cell_type": "code",
   "execution_count": 102,
   "metadata": {
    "collapsed": true
   },
   "outputs": [
    {
     "name": "stdout",
     "output_type": "stream",
     "text": [
      "c    False\n",
      "b    False\n",
      "a     True\n",
      "d    False\n",
      "Name: score, dtype: bool\n",
      "\n",
      "  gender  score student\n",
      "a      M  100.0   lilei\n",
      "\n",
      "  gender  score    student\n",
      "c      F   22.0  madongmei\n",
      "a      M  100.0      lilei\n"
     ]
    }
   ],
   "source": [
    "dict_data = {\n",
    "    'student':['lilei','hanmeimei','madongmei'],\n",
    "    'score':[100,80,22],\n",
    "    'gender':['M','F','F']\n",
    "}\n",
    "dict_data = pd.DataFrame(dict_data,index=['a','b','c']) \n",
    "dict_data = dict_data.reindex(['c','b','a','d'])\n",
    "print(dict_data['score']>=90)   # 返回切片索引对应的真假\n",
    "print()\n",
    "print(dict_data[dict_data['score']>=90])   # 筛选数据 score 大于90的\n",
    "print()\n",
    "select_list = [100,22]\n",
    "print(dict_data[dict_data['score'].isin(select_list)]) # 筛选数据 score 里包含 select_list 的"
   ]
  },
  {
   "cell_type": "markdown",
   "metadata": {},
   "source": [
    "### 同id求和等计算"
   ]
  },
  {
   "cell_type": "code",
   "execution_count": 41,
   "metadata": {},
   "outputs": [
    {
     "name": "stdout",
     "output_type": "stream",
     "text": [
      "        count\n",
      "tag_id       \n",
      "a          35\n",
      "b          30\n",
      "c          42\n",
      "<pandas.core.groupby.DataFrameGroupBy object at 0x0000022AE6B83208>\n"
     ]
    }
   ],
   "source": [
    "import pandas as pd\n",
    "data = pd.DataFrame({\n",
    "    'tag_id':['a','b','c','a','a','c'],\n",
    "    'count':[10,30,20,10,15,22]\n",
    "})\n",
    "grouped_data = data.groupby('tag_id')  # 聚合函数 .groupby('id’)\n",
    "print(grouped_data.sum())  # 同id求和   也可以求mean 等\n",
    "print(grouped_data)  # 这样无法直接输出数值"
   ]
  },
  {
   "cell_type": "code",
   "execution_count": 12,
   "metadata": {
    "collapsed": true
   },
   "outputs": [
    {
     "name": "stdout",
     "output_type": "stream",
     "text": [
      "   count tag_id\n",
      "0     10      a\n",
      "1     30      b\n",
      "2     20      c\n",
      "3     10      a\n",
      "4     15      a\n",
      "5     22      c \n",
      "\n",
      "   count tag_id\n",
      "5     22      c\n",
      "4     15      a\n",
      "3     10      a\n",
      "2     20      c\n",
      "1     30      b\n",
      "0     10      a \n",
      "\n",
      "   count tag_id\n",
      "0     10      a\n",
      "3     10      a\n",
      "4     15      a\n",
      "2     20      c\n",
      "5     22      c\n",
      "1     30      b \n",
      "\n"
     ]
    }
   ],
   "source": [
    "print(data.sort_index(),'\\n')  # 对索引名称进行排序\n",
    "print(data.sort_index(ascending=False),'\\n')  # 倒叙\n",
    "print(data.sort_values(by='count'),'\\n')  # 按照某一列进行排序"
   ]
  },
  {
   "cell_type": "markdown",
   "metadata": {
    "collapsed": true
   },
   "source": [
    "### Pandas常用方法\n",
    "- count 计算非NaN数据的数量\n",
    "- min,max 计算最小，最值大\n",
    "- argmin,argmax 计算最小，最大值的位置\n",
    "- sum 计算和\n",
    "- mean 计算平均值\n",
    "- median 计算中位数\n",
    "- var 计算方差\n",
    "- std 计算标准差\n"
   ]
  },
  {
   "cell_type": "markdown",
   "metadata": {
    "collapsed": true
   },
   "source": [
    "### Pandas数据合并"
   ]
  },
  {
   "cell_type": "code",
   "execution_count": 25,
   "metadata": {
    "collapsed": true
   },
   "outputs": [
    {
     "name": "stdout",
     "output_type": "stream",
     "text": [
      "   data1 key  data2\n",
      "0      1   a      8\n",
      "1      3   a      8\n",
      "2      2   b      9\n",
      "3      5   b      9\n",
      "4      4   c      7\n"
     ]
    }
   ],
   "source": [
    "import pandas as pd\n",
    "data1 = pd.DataFrame({\n",
    "    'key':['a','b','a','c','b','d'],\n",
    "    'data1':[1,2,3,4,5,6]\n",
    "})\n",
    "data2 = pd.DataFrame({\n",
    "    'key':['a','b','c'],\n",
    "    'data2':[8,9,7]\n",
    "})\n",
    "print(pd.merge(data1,data2))  # 自动合并取【交集】，多出的d 会被自动去除"
   ]
  },
  {
   "cell_type": "code",
   "execution_count": 19,
   "metadata": {
    "collapsed": true
   },
   "outputs": [
    {
     "name": "stdout",
     "output_type": "stream",
     "text": [
      "   data1 key  data2\n",
      "0      1   a    8.0\n",
      "1      3   a    8.0\n",
      "2      2   b    9.0\n",
      "3      5   b    9.0\n",
      "4      4   c    7.0\n",
      "5      6   d    NaN\n"
     ]
    }
   ],
   "source": [
    "print(pd.merge(data1,data2,how='outer'))   # how='outer' ，取【并集】，没有数据的默认为NaN"
   ]
  },
  {
   "cell_type": "code",
   "execution_count": 20,
   "metadata": {
    "collapsed": true
   },
   "outputs": [
    {
     "name": "stdout",
     "output_type": "stream",
     "text": [
      "   data1 key  data2\n",
      "0      1   a    8.0\n",
      "1      2   b    9.0\n",
      "2      3   a    8.0\n",
      "3      4   c    7.0\n",
      "4      5   b    9.0\n",
      "5      6   d    NaN\n"
     ]
    }
   ],
   "source": [
    "print(pd.merge(data1,data2,how='left'))   # 以左边’data1‘为标准"
   ]
  },
  {
   "cell_type": "code",
   "execution_count": 21,
   "metadata": {
    "collapsed": true
   },
   "outputs": [
    {
     "name": "stdout",
     "output_type": "stream",
     "text": [
      "   data1 key  data2\n",
      "0      1   a      8\n",
      "1      3   a      8\n",
      "2      2   b      9\n",
      "3      5   b      9\n",
      "4      4   c      7\n"
     ]
    }
   ],
   "source": [
    "print(pd.merge(data1,data2,how='right')) # 以右边’data2‘为标准"
   ]
  },
  {
   "cell_type": "code",
   "execution_count": 28,
   "metadata": {
    "collapsed": true
   },
   "outputs": [
    {
     "name": "stdout",
     "output_type": "stream",
     "text": [
      "   data1 key  data2\n",
      "0      1   a    8.0\n",
      "1      3   a    8.0\n",
      "2      2   b    9.0\n",
      "3      5   b    9.0\n",
      "4      4   c    7.0\n",
      "5      6   d    NaN\n"
     ]
    }
   ],
   "source": [
    "print(pd.merge(data1,data2,on='key',how='outer')) #  on='key'指定列名称进行合并"
   ]
  },
  {
   "cell_type": "code",
   "execution_count": 31,
   "metadata": {
    "collapsed": true
   },
   "outputs": [
    {
     "name": "stdout",
     "output_type": "stream",
     "text": [
      "   data1 lkey  data2 rkey\n",
      "0      1    a    8.0    a\n",
      "1      3    a    8.0    a\n",
      "2      2    b    9.0    b\n",
      "3      5    b    9.0    b\n",
      "4      4    c    7.0    c\n",
      "5      6    d    NaN  NaN\n"
     ]
    }
   ],
   "source": [
    "import pandas as pd\n",
    "data1 = pd.DataFrame({\n",
    "    'lkey':['a','b','a','c','b','d'],\n",
    "    'data1':[1,2,3,4,5,6]\n",
    "})\n",
    "data2 = pd.DataFrame({\n",
    "    'rkey':['a','b','c'],\n",
    "    'data2':[8,9,7]\n",
    "})\n",
    "print(pd.merge(data1,data2,left_on='lkey',right_on='rkey',how='outer'))  # 列名不同时，指定多个列名合并"
   ]
  },
  {
   "cell_type": "markdown",
   "metadata": {},
   "source": [
    "### Pandas 读取文件\n",
    "- data = pd.read_csv(f,header=None) # 不需要标题行\n",
    "- data = pd.read_csv(f,names=['user_id,'book_id']) # 指定标题行名称\n",
    "- data = pd.read_csv(f,index='user_id') # 指定索引列\n",
    "- data = pd.read_csv(f,sep=',') # 指定分隔符"
   ]
  },
  {
   "cell_type": "code",
   "execution_count": 46,
   "metadata": {
    "collapsed": true
   },
   "outputs": [],
   "source": [
    "import pandas as pd\n",
    "path_read = r'C:\\Users\\10746\\Desktop\\ptthon-test\\数据分析\\数据分析项目2-1\\books.csv'\n",
    "path_save = r'C:\\Users\\10746\\Desktop\\pandas_save.csv'  # 设置保存的路径\n",
    "f = open(path,encoding='utf-8')  # 路径带有中文的时候 要先打开才能用pd读取\n",
    "data = pd.read_csv(f)\n",
    "# print(data)  # 默认把第一行作为标题名称\n",
    "data.to_csv(path_save)"
   ]
  },
  {
   "cell_type": "code",
   "execution_count": 49,
   "metadata": {
    "collapsed": true
   },
   "outputs": [
    {
     "name": "stdout",
     "output_type": "stream",
     "text": [
      "                     时间  新增扫码订单数  续订扫码订单数   扫码订单总数     扫码订单总金额  自然新增订单数  \\\n",
      "0   2019-01-01 00:00:00   1492.0     21.0   1513.0    94892.88    300.0   \n",
      "1   2019-02-01 00:00:00   5321.0     27.0   5348.0   321329.00    386.0   \n",
      "2   2019-03-01 00:00:00  13699.0     28.0  13727.0   831010.81    586.0   \n",
      "3   2019-04-01 00:00:00   3867.0     49.0   3916.0   245419.96   2565.0   \n",
      "4   2019-05-01 00:00:00   3740.0     76.0   3816.0   246391.00   1864.0   \n",
      "5   2019-06-01 00:00:00   4492.0     90.0   4582.0   286975.00   1608.0   \n",
      "6   2019-07-01 00:00:00   5295.0     68.0   5363.0   340839.00    903.0   \n",
      "7   2019-08-01 00:00:00   4508.0    528.0   5036.0   329795.00    916.0   \n",
      "8   2019-09-01 00:00:00   2630.0    507.0   3137.0   200637.34    796.0   \n",
      "9                    合计  45044.0   1394.0  46438.0  2897289.99   9924.0   \n",
      "10                  NaN      NaN      NaN      NaN         NaN      NaN   \n",
      "11                  NaN      NaN      NaN      NaN         NaN      NaN   \n",
      "12                  NaN      NaN      NaN      NaN         NaN      NaN   \n",
      "13                  NaN      NaN      NaN      NaN         NaN      NaN   \n",
      "14                  NaN      NaN      NaN      NaN         NaN      NaN   \n",
      "15                  NaN      NaN      NaN      NaN         NaN      NaN   \n",
      "16                  NaN      NaN      NaN      NaN         NaN      NaN   \n",
      "17                  NaN      NaN      NaN      NaN         NaN      NaN   \n",
      "18                  NaN      NaN      NaN      NaN         NaN      NaN   \n",
      "19                  NaN      NaN      NaN      NaN         NaN      NaN   \n",
      "\n",
      "    自然续订订单数   自然订单总数    自然订单总金额  旧版聚店长短信充值     ...       育客短信销售总额  \\\n",
      "0     210.0    510.0   33550.51     4921.0     ...          47016   \n",
      "1     274.0    660.0   47074.86     4806.0     ...          47638   \n",
      "2     297.0    883.0   56611.25    14182.0     ...          69090   \n",
      "3     310.0   2875.0  165511.66     1110.0     ...          99684   \n",
      "4     286.0   2150.0  132781.86     3600.0     ...          45428   \n",
      "5     358.0   1966.0  128996.27     6990.0     ...          96634   \n",
      "6     491.0   1394.0  105461.69     6770.0     ...          32652   \n",
      "7     471.0   1387.0   99284.56     2480.0     ...          29600   \n",
      "8     336.0   1132.0   83671.64     2038.0     ...          79652   \n",
      "9    3033.0  12957.0  852944.30    46897.0     ...         547394   \n",
      "10      NaN      NaN        NaN        NaN     ...            NaN   \n",
      "11      NaN      NaN        NaN        NaN     ...            NaN   \n",
      "12      NaN      NaN        NaN        NaN     ...            NaN   \n",
      "13      NaN      NaN        NaN        NaN     ...            NaN   \n",
      "14      NaN      NaN        NaN        NaN     ...            NaN   \n",
      "15      NaN      NaN        NaN        NaN     ...             软件   \n",
      "16      NaN      NaN        NaN        NaN     ...           13.7   \n",
      "17      NaN      NaN        NaN        NaN     ...           42.7   \n",
      "18      NaN      NaN        NaN        NaN     ...           28.8   \n",
      "19      NaN      NaN        NaN        NaN     ...             30   \n",
      "\n",
      "      聚店长短信销售总额       短信销售合计 时间.1     软件销售额Q      短信销售额Q        短信毛利  \\\n",
      "0        6432.5      53448.5   Q1  137236.62   289194.51   57838.902   \n",
      "1       17212.5      64850.5  NaN        NaN         NaN         NaN   \n",
      "2        101806       170896  NaN        NaN         NaN         NaN   \n",
      "3       89039.4       188723   Q2  427289.79   987938.14  197587.628   \n",
      "4        259766       305194  NaN        NaN         NaN         NaN   \n",
      "5        397386       494020  NaN        NaN         NaN         NaN   \n",
      "6        193016       225668   Q3  288417.89   875783.22  175156.644   \n",
      "7        217977       247577  NaN        NaN         NaN         NaN   \n",
      "8        322887       402539  NaN        NaN         NaN         NaN   \n",
      "9   1.60552e+06  2.15292e+06    0  852944.30  2152915.87  430583.174   \n",
      "10          NaN          NaN  NaN        NaN         NaN         NaN   \n",
      "11          NaN          NaN  NaN        NaN         NaN         NaN   \n",
      "12          NaN          NaN  NaN        NaN         NaN         NaN   \n",
      "13          NaN          NaN  NaN        NaN         NaN         NaN   \n",
      "14          NaN          NaN  NaN        NaN         NaN         NaN   \n",
      "15           短信           毛利  NaN        NaN         NaN         NaN   \n",
      "16         28.9         19.5  NaN        NaN         NaN         NaN   \n",
      "17         98.7         62.4  NaN        NaN         NaN         NaN   \n",
      "18         87.5         46.3  NaN        NaN         NaN         NaN   \n",
      "19          200          NaN  NaN        NaN         NaN         NaN   \n",
      "\n",
      "           毛利合计   目标  Unnamed: 21  \n",
      "0    195075.522  NaN          NaN  \n",
      "1           NaN  NaN          NaN  \n",
      "2           NaN  NaN          NaN  \n",
      "3    624877.418  NaN          NaN  \n",
      "4           NaN  NaN          NaN  \n",
      "5           NaN  NaN          NaN  \n",
      "6    463574.534  NaN          NaN  \n",
      "7           NaN  NaN          NaN  \n",
      "8           NaN  NaN          NaN  \n",
      "9   1283527.474  0.0          0.0  \n",
      "10          NaN  NaN          NaN  \n",
      "11          NaN  NaN          NaN  \n",
      "12          NaN  NaN          NaN  \n",
      "13          NaN  NaN          NaN  \n",
      "14          NaN  NaN          NaN  \n",
      "15          NaN  NaN          NaN  \n",
      "16          NaN  NaN          NaN  \n",
      "17          NaN  NaN          NaN  \n",
      "18          NaN  NaN          NaN  \n",
      "19          NaN  NaN          NaN  \n",
      "\n",
      "[20 rows x 22 columns]\n"
     ]
    }
   ],
   "source": [
    "path_excel = r'C:/Users/10746/Desktop/聚店长运营数据.xlsx'\n",
    "file = pd.ExcelFile(path_excel)  # 填入路径\n",
    "data = file.parse('2019年')  # '2019年'为要读取的sheet的名称\n",
    "print(data)"
   ]
  },
  {
   "cell_type": "markdown",
   "metadata": {},
   "source": [
    "### 作业 分析热门标签\n",
    "- 任务1:找出最多人想读的50本书的名称 \n",
    "- 任务2:找出这50本书对应最热门的10个标签\n",
    "- 文件 1: to_read.csv\n",
    "- 每行两个数据，用户id和该用户想读的书籍id \n",
    "- 文件2: books.csv \n",
    "- 书籍的各类id,名称，作者等信息 \n",
    "- 文件3: tags.csv\n",
    "- 每行两个数据，标签id和标签名称 \n",
    "- 文件4: book_tags.csv\n",
    "- 每行三个数据，_goodreads_book_id_ (和to_read中的书籍  \n",
    "id的对应关系可以在books.csv里找到）标签id,标记次数"
   ]
  },
  {
   "cell_type": "code",
   "execution_count": 53,
   "metadata": {
    "collapsed": true
   },
   "outputs": [],
   "source": [
    "import pandas as pd\n",
    "path_to_read = r'C:\\Users\\10746\\Desktop\\ptthon-test\\数据分析\\to_read.csv'\n",
    "path_books = r'C:\\Users\\10746\\Desktop\\ptthon-test\\数据分析\\books.csv'\n",
    "path_hot50_title_save= r'C:\\Users\\10746\\Desktop\\ptthon-test\\数据分析\\hottest_50_books_with_title.csv'\n",
    "path_book_tags = r'C:\\Users\\10746\\Desktop\\ptthon-test\\数据分析\\book_tags.csv'\n",
    "path_tags = r'C:\\Users\\10746\\Desktop\\ptthon-test\\数据分析\\tags.csv'\n",
    "path_hot10_with_tag_name_save = r'C:\\Users\\10746\\Desktop\\ptthon-test\\数据分析\\path_hot10_with_tag_name.csv'"
   ]
  },
  {
   "cell_type": "code",
   "execution_count": 54,
   "metadata": {
    "collapsed": true
   },
   "outputs": [
    {
     "name": "stdout",
     "output_type": "stream",
     "text": [
      "47      2772\n",
      "143     1967\n",
      "113     1840\n",
      "13      1812\n",
      "11      1767\n",
      "45      1717\n",
      "139     1650\n",
      "39      1619\n",
      "65      1608\n",
      "35      1576\n",
      "342     1521\n",
      "185     1502\n",
      "119     1499\n",
      "8       1498\n",
      "6       1484\n",
      "4       1478\n",
      "94      1460\n",
      "89      1458\n",
      "55      1441\n",
      "61      1435\n",
      "109     1432\n",
      "16      1425\n",
      "31      1417\n",
      "67      1352\n",
      "146     1342\n",
      "54      1339\n",
      "46      1325\n",
      "121     1313\n",
      "5       1293\n",
      "173     1292\n",
      "        ... \n",
      "6345       1\n",
      "9818       1\n",
      "8746       1\n",
      "3279       1\n",
      "5878       1\n",
      "8946       1\n",
      "9124       1\n",
      "9665       1\n",
      "9125       1\n",
      "6656       1\n",
      "9838       1\n",
      "9230       1\n",
      "9724       1\n",
      "9239       1\n",
      "9739       1\n",
      "6841       1\n",
      "4869       1\n",
      "8699       1\n",
      "8774       1\n",
      "7951       1\n",
      "9248       1\n",
      "9858       1\n",
      "6297       1\n",
      "3936       1\n",
      "9796       1\n",
      "9345       1\n",
      "9803       1\n",
      "3662       1\n",
      "4434       1\n",
      "9781       1\n",
      "Name: book_id, Length: 9986, dtype: int64\n"
     ]
    }
   ],
   "source": [
    "f = open(path_to_read,encoding='utf-8')  # 路径带有中文的时候 要先打开才能用pd读取\n",
    "to_read = pd.read_csv(f)\n",
    "# .value_counts()  计算元素出现的次数\n",
    "# .sort_values(ascending=False) 以降序排序，最热门的书在最上面\n",
    "to_read_counts = to_read['book_id'].value_counts().sort_values(ascending=False)\n",
    "print(to_read_counts)"
   ]
  },
  {
   "cell_type": "code",
   "execution_count": 55,
   "metadata": {},
   "outputs": [
    {
     "name": "stdout",
     "output_type": "stream",
     "text": [
      "Int64Index([ 47, 143, 113,  13,  11,  45, 139,  39,  65,  35, 342, 185, 119,\n",
      "              8,   6,   4,  94,  89,  55,  61, 109,  16,  31,  67, 146,  54,\n",
      "             46, 121,   5, 173, 115,  68,  36,  95, 167, 129, 265, 137, 277,\n",
      "             66, 267, 268,  28,  38,  60,  14, 225,  10, 233, 252],\n",
      "           dtype='int64')\n"
     ]
    }
   ],
   "source": [
    "# 获取前50个的bookid\n",
    "hottest_50_books_id = to_read_counts[:50].index  \n",
    "print(hottest_50_books_id)"
   ]
  },
  {
   "cell_type": "code",
   "execution_count": 56,
   "metadata": {},
   "outputs": [
    {
     "name": "stdout",
     "output_type": "stream",
     "text": [
      "[2772 1967 1840 1812 1767 1717 1650 1619 1608 1576 1521 1502 1499 1498 1484\n",
      " 1478 1460 1458 1441 1435 1432 1425 1417 1352 1342 1339 1325 1313 1293 1292\n",
      " 1285 1257 1211 1208 1188 1181 1180 1172 1160 1158 1154 1149 1148 1130 1129\n",
      " 1127 1111 1110 1106 1105]\n"
     ]
    }
   ],
   "source": [
    "# 获取前50个的bookid出现的次数\n",
    "hottest_50_books_counts = to_read_counts[:50].values\n",
    "print(hottest_50_books_counts)"
   ]
  },
  {
   "cell_type": "code",
   "execution_count": 57,
   "metadata": {
    "collapsed": true
   },
   "outputs": [
    {
     "name": "stdout",
     "output_type": "stream",
     "text": [
      "    book_id  to_read_counts\n",
      "0        47            2772\n",
      "1       143            1967\n",
      "2       113            1840\n",
      "3        13            1812\n",
      "4        11            1767\n",
      "5        45            1717\n",
      "6       139            1650\n",
      "7        39            1619\n",
      "8        65            1608\n",
      "9        35            1576\n",
      "10      342            1521\n",
      "11      185            1502\n",
      "12      119            1499\n",
      "13        8            1498\n",
      "14        6            1484\n",
      "15        4            1478\n",
      "16       94            1460\n",
      "17       89            1458\n",
      "18       55            1441\n",
      "19       61            1435\n",
      "20      109            1432\n",
      "21       16            1425\n",
      "22       31            1417\n",
      "23       67            1352\n",
      "24      146            1342\n",
      "25       54            1339\n",
      "26       46            1325\n",
      "27      121            1313\n",
      "28        5            1293\n",
      "29      173            1292\n",
      "30      115            1285\n",
      "31       68            1257\n",
      "32       36            1211\n",
      "33       95            1208\n",
      "34      167            1188\n",
      "35      129            1181\n",
      "36      265            1180\n",
      "37      137            1172\n",
      "38      277            1160\n",
      "39       66            1158\n",
      "40      267            1154\n",
      "41      268            1149\n",
      "42       28            1148\n",
      "43       38            1130\n",
      "44       60            1129\n",
      "45       14            1127\n",
      "46      225            1111\n",
      "47       10            1110\n",
      "48      233            1106\n",
      "49      252            1105\n"
     ]
    }
   ],
   "source": [
    "# 转换数据类型\n",
    "hottest_50_books = pd.DataFrame({\n",
    "    'book_id':hottest_50_books_id,\n",
    "    'to_read_counts':hottest_50_books_counts\n",
    "})\n",
    "print(hottest_50_books)"
   ]
  },
  {
   "cell_type": "code",
   "execution_count": 58,
   "metadata": {
    "collapsed": true
   },
   "outputs": [
    {
     "name": "stdout",
     "output_type": "stream",
     "text": [
      "      book_id  goodreads_book_id  \\\n",
      "0           1            2767052   \n",
      "1           2                  3   \n",
      "2           3              41865   \n",
      "3           4               2657   \n",
      "4           5               4671   \n",
      "5           6           11870085   \n",
      "6           7               5907   \n",
      "7           8               5107   \n",
      "8           9                960   \n",
      "9          10               1885   \n",
      "10         11              77203   \n",
      "11         12           13335037   \n",
      "12         13               5470   \n",
      "13         14               7613   \n",
      "14         15              48855   \n",
      "15         16            2429135   \n",
      "16         17            6148028   \n",
      "17         18                  5   \n",
      "18         19                 34   \n",
      "19         20            7260188   \n",
      "20         21                  2   \n",
      "21         22           12232938   \n",
      "22         23              15881   \n",
      "23         24                  6   \n",
      "24         25             136251   \n",
      "25         26                968   \n",
      "26         27                  1   \n",
      "27         28               7624   \n",
      "28         29              18135   \n",
      "29         30            8442457   \n",
      "...       ...                ...   \n",
      "9970     9971           12602078   \n",
      "9971     9972               4984   \n",
      "9972     9973             849380   \n",
      "9973     9974             116494   \n",
      "9974     9975             613991   \n",
      "9975     9976            6351939   \n",
      "9976     9977             202948   \n",
      "9977     9978             162332   \n",
      "9978     9979              16951   \n",
      "9979     9980             946899   \n",
      "9980     9981             106312   \n",
      "9981     9982           12444298   \n",
      "9982     9983            8539798   \n",
      "9983     9984             764165   \n",
      "9984     9985              19688   \n",
      "9985     9986             183092   \n",
      "9986     9987            8087038   \n",
      "9987     9988             129237   \n",
      "9988     9989           13489518   \n",
      "9989     9990             294081   \n",
      "9990     9991             101094   \n",
      "9991     9992           13616278   \n",
      "9992     9993            4936457   \n",
      "9993     9994            4769651   \n",
      "9994     9995              15613   \n",
      "9995     9996            7130616   \n",
      "9996     9997             208324   \n",
      "9997     9998              77431   \n",
      "9998     9999            8565083   \n",
      "9999    10000               8914   \n",
      "\n",
      "                                                  title  \n",
      "0               The Hunger Games (The Hunger Games, #1)  \n",
      "1     Harry Potter and the Sorcerer's Stone (Harry P...  \n",
      "2                               Twilight (Twilight, #1)  \n",
      "3                                 To Kill a Mockingbird  \n",
      "4                                      The Great Gatsby  \n",
      "5                                The Fault in Our Stars  \n",
      "6                                            The Hobbit  \n",
      "7                                The Catcher in the Rye  \n",
      "8                 Angels & Demons  (Robert Langdon, #1)  \n",
      "9                                   Pride and Prejudice  \n",
      "10                                      The Kite Runner  \n",
      "11                            Divergent (Divergent, #1)  \n",
      "12                                                 1984  \n",
      "13                                          Animal Farm  \n",
      "14                            The Diary of a Young Girl  \n",
      "15     The Girl with the Dragon Tattoo (Millennium, #1)  \n",
      "16                 Catching Fire (The Hunger Games, #2)  \n",
      "17    Harry Potter and the Prisoner of Azkaban (Harr...  \n",
      "18    The Fellowship of the Ring (The Lord of the Ri...  \n",
      "19                    Mockingjay (The Hunger Games, #3)  \n",
      "20    Harry Potter and the Order of the Phoenix (Har...  \n",
      "21                                     The Lovely Bones  \n",
      "22    Harry Potter and the Chamber of Secrets (Harry...  \n",
      "23    Harry Potter and the Goblet of Fire (Harry Pot...  \n",
      "24    Harry Potter and the Deathly Hallows (Harry Po...  \n",
      "25               The Da Vinci Code (Robert Langdon, #2)  \n",
      "26    Harry Potter and the Half-Blood Prince (Harry ...  \n",
      "27                                    Lord of the Flies  \n",
      "28                                     Romeo and Juliet  \n",
      "29                                            Gone Girl  \n",
      "...                                                 ...  \n",
      "9970  The Tycoon's Revenge (Baby for the Billionaire...  \n",
      "9971                                  Bagombo Snuff Box  \n",
      "9972  The Seven Principles for Making Marriage Work:...  \n",
      "9973          Anastasia Krupnik (Anastasia Krupnik, #1)  \n",
      "9974     The King Beyond the Gate (The Drenai Saga, #2)  \n",
      "9975                              Sea Glass (Glass, #2)  \n",
      "9976                                    Ladder of Years  \n",
      "9977        The Sailor Who Fell from Grace with the Sea  \n",
      "9978                 When the Lion Feeds (Courtney, #1)  \n",
      "9979                              The Measure of a Lady  \n",
      "9980               The Twelfth Card (Lincoln Rhyme, #6)  \n",
      "9981                              Feverborn (Fever, #8)  \n",
      "9982                              Blue exorcist, Tome 2  \n",
      "9983                                   The Snow Leopard  \n",
      "9984        Breaking Point (Tom Clancy's Net Force, #4)  \n",
      "9985                       Night Light (Restoration #2)  \n",
      "9986  Chasing The Night (Eve Duncan, #11; Catherine ...  \n",
      "9987                                A Theory of Justice  \n",
      "9988              Out of the Dark (The Grey Wolves, #4)  \n",
      "9989                 The Mambo Kings Play Songs of Love  \n",
      "9990                                  The Famished Road  \n",
      "9991         The Red Knight (The Traitor Son Cycle, #1)  \n",
      "9992  The Time Traveller's Guide to Medieval England...  \n",
      "9993          The Everafter War (The Sisters Grimm, #7)  \n",
      "9994                                 Billy Budd, Sailor  \n",
      "9995                          Bayou Moon (The Edge, #2)  \n",
      "9996  Means of Ascent (The Years of Lyndon Johnson, #2)  \n",
      "9997                              The Mauritius Command  \n",
      "9998  Cinderella Ate My Daughter: Dispatches from th...  \n",
      "9999                                The First World War  \n",
      "\n",
      "[10000 rows x 3 columns]\n"
     ]
    }
   ],
   "source": [
    "# 获取books.csv的这三列'book_id','goodreads_book_id','title'\n",
    "f = open(path_books,encoding='utf-8')  # 路径带有中文的时候 要先打开才能用pd读取\n",
    "books = pd.read_csv(f)\n",
    "book_id_and_title = books[['book_id','goodreads_book_id','title']]\n",
    "print(book_id_and_title)  "
   ]
  },
  {
   "cell_type": "code",
   "execution_count": 59,
   "metadata": {
    "collapsed": true
   },
   "outputs": [
    {
     "name": "stdout",
     "output_type": "stream",
     "text": [
      "    book_id  to_read_counts  goodreads_book_id  \\\n",
      "0        47            2772              19063   \n",
      "1       143            1967           18143977   \n",
      "2       113            1840             168668   \n",
      "3        13            1812               5470   \n",
      "4        11            1767              77203   \n",
      "5        45            1717               4214   \n",
      "6       139            1650            9460487   \n",
      "7        39            1619              13496   \n",
      "8        65            1608               4981   \n",
      "9        35            1576                865   \n",
      "10      342            1521           13497818   \n",
      "11      185            1502            9361589   \n",
      "12      119            1499              38447   \n",
      "13        8            1498               5107   \n",
      "14        6            1484           11870085   \n",
      "15        4            1478               2657   \n",
      "16       94            1460                320   \n",
      "17       89            1458              21787   \n",
      "18       55            1441               5129   \n",
      "19       61            1435           22557272   \n",
      "20      109            1432              24280   \n",
      "21       16            1425            2429135   \n",
      "22       31            1417            4667024   \n",
      "23       67            1352             128029   \n",
      "24      146            1342           17333223   \n",
      "25       54            1339                 11   \n",
      "26       46            1325              43641   \n",
      "27      121            1313               7604   \n",
      "28        5            1293               4671   \n",
      "29      173            1292             227463   \n",
      "30      115            1285               2187   \n",
      "31       68            1257              22628   \n",
      "32       36            1211               3636   \n",
      "33       95            1208               5297   \n",
      "34      167            1188               4407   \n",
      "35      129            1181             332613   \n",
      "36      265            1180              14891   \n",
      "37      137            1172              10964   \n",
      "38      277            1160           15783514   \n",
      "39       66            1158              18405   \n",
      "40      267            1154           21853621   \n",
      "41      268            1149               6334   \n",
      "42       28            1148               7624   \n",
      "43       38            1130              14050   \n",
      "44       60            1129               1618   \n",
      "45       14            1127               7613   \n",
      "46      225            1111               4406   \n",
      "47       10            1110               1885   \n",
      "48      233            1106               9712   \n",
      "49      252            1105           11235712   \n",
      "\n",
      "                                                title  \n",
      "0                                      The Book Thief  \n",
      "1                         All the Light We Cannot See  \n",
      "2                                            Catch-22  \n",
      "3                                                1984  \n",
      "4                                     The Kite Runner  \n",
      "5                                          Life of Pi  \n",
      "6   Miss Peregrine’s Home for Peculiar Children (M...  \n",
      "7      A Game of Thrones (A Song of Ice and Fire, #1)  \n",
      "8                                 Slaughterhouse-Five  \n",
      "9                                       The Alchemist  \n",
      "10                                 The Casual Vacancy  \n",
      "11                                   The Night Circus  \n",
      "12                                The Handmaid's Tale  \n",
      "13                             The Catcher in the Rye  \n",
      "14                             The Fault in Our Stars  \n",
      "15                              To Kill a Mockingbird  \n",
      "16                      One Hundred Years of Solitude  \n",
      "17                                The Princess Bride   \n",
      "18                                    Brave New World  \n",
      "19                              The Girl on the Train  \n",
      "20                                     Les Misérables  \n",
      "21   The Girl with the Dragon Tattoo (Millennium, #1)  \n",
      "22                                           The Help  \n",
      "23                           A Thousand Splendid Suns  \n",
      "24                                      The Goldfinch  \n",
      "25  The Hitchhiker's Guide to the Galaxy (Hitchhik...  \n",
      "26                                Water for Elephants  \n",
      "27                                             Lolita  \n",
      "28                                   The Great Gatsby  \n",
      "29                                 A Clockwork Orange  \n",
      "30                                          Middlesex  \n",
      "31                    The Perks of Being a Wallflower  \n",
      "32                          The Giver (The Giver, #1)  \n",
      "33                         The Picture of Dorian Gray  \n",
      "34                  American Gods (American Gods, #1)  \n",
      "35                    One Flew Over the Cuckoo's Nest  \n",
      "36                           A Tree Grows in Brooklyn  \n",
      "37                          Outlander (Outlander, #1)  \n",
      "38                   The Ocean at the End of the Lane  \n",
      "39                                 Gone with the Wind  \n",
      "40                                    The Nightingale  \n",
      "41                                    Never Let Me Go  \n",
      "42                                  Lord of the Flies  \n",
      "43                           The Time Traveler's Wife  \n",
      "44  The Curious Incident of the Dog in the Night-Time  \n",
      "45                                        Animal Farm  \n",
      "46                                       East of Eden  \n",
      "47                                Pride and Prejudice  \n",
      "48                        Love in the Time of Cholera  \n",
      "49                  Cinder (The Lunar Chronicles, #1)  \n"
     ]
    }
   ],
   "source": [
    "# 以'book_id' 以 hottest_50_books 为准（left）， 合并数据\n",
    "hottest_50_books_with_title = pd.merge(\n",
    "    hottest_50_books,\n",
    "    book_id_and_title,\n",
    "    on = 'book_id',\n",
    "    how = 'left')\n",
    "print(hottest_50_books_with_title)\n",
    "hottest_50_books_with_title.to_csv(path_hot50_title_save)"
   ]
  },
  {
   "cell_type": "code",
   "execution_count": 68,
   "metadata": {
    "collapsed": true
   },
   "outputs": [
    {
     "name": "stdout",
     "output_type": "stream",
     "text": [
      "        count\n",
      "tag_id       \n",
      "236      5802\n",
      "240      9649\n",
      "248       113\n",
      "251      4006\n",
      "254       623\n",
      "392       160\n",
      "414       422\n",
      "420       288\n",
      "442       312\n",
      "450       754\n",
      "461        92\n",
      "473        43\n",
      "509      1938\n",
      "603       156\n",
      "617       283\n",
      "671        79\n",
      "686        40\n",
      "698       182\n",
      "711       149\n",
      "718        29\n",
      "719        21\n",
      "722       673\n",
      "736       704\n",
      "747        79\n",
      "751      1269\n",
      "766       850\n",
      "767       125\n",
      "770       144\n",
      "780       473\n",
      "781       857\n",
      "...       ...\n",
      "32130    7684\n",
      "32514      54\n",
      "32586    7597\n",
      "32686    1379\n",
      "32688      27\n",
      "32724     132\n",
      "32799     104\n",
      "32808     853\n",
      "32812    1796\n",
      "32820     100\n",
      "32906    1462\n",
      "32917    3363\n",
      "32973      76\n",
      "32989   29521\n",
      "32996    1121\n",
      "33004     623\n",
      "33006      76\n",
      "33009     878\n",
      "33012    2488\n",
      "33023    1361\n",
      "33046     142\n",
      "33114   56829\n",
      "33116     132\n",
      "33124    1722\n",
      "33125     150\n",
      "33127     108\n",
      "33153     133\n",
      "33777    1330\n",
      "34248    4310\n",
      "34251     384\n",
      "\n",
      "[758 rows x 1 columns]\n"
     ]
    }
   ],
   "source": [
    "f = open(path_book_tags,encoding='utf-8')  \n",
    "book_tags = pd.read_csv(f)  # 读取book_tags文件\n",
    "# 如果 '_goodreads_book_id_' 列的值在 goodreads_book_id列里，则把数据给到 book_tags\n",
    "book_tags = book_tags[book_tags['_goodreads_book_id_'].isin(hottest_50_books_with_title['goodreads_book_id'])]\n",
    "del book_tags['_goodreads_book_id_'] # 删除 _goodreads_book_id_ 列\n",
    "hottest_10_tags = book_tags.groupby('tag_id').sum()  # tag_id 列 每个tag_id的值求和\n",
    "print(hottest_10_tags)"
   ]
  },
  {
   "cell_type": "code",
   "execution_count": 61,
   "metadata": {
    "collapsed": true
   },
   "outputs": [
    {
     "name": "stdout",
     "output_type": "stream",
     "text": [
      "          count\n",
      "tag_id         \n",
      "30574   6061902\n",
      "8717     412677\n",
      "11557    404973\n",
      "11743    299256\n",
      "7457     279578\n",
      "14487     80671\n",
      "11305     71863\n",
      "5207      71629\n",
      "22743     65001\n",
      "33114     56829\n"
     ]
    }
   ],
   "source": [
    "# 按照倒序（由多到少）排列取 前10个\n",
    "hottest_10_tags = hottest_10_tags.sort_values(by='count',ascending=False)[:10]\n",
    "print(hottest_10_tags)"
   ]
  },
  {
   "cell_type": "code",
   "execution_count": 69,
   "metadata": {
    "collapsed": true
   },
   "outputs": [],
   "source": [
    "f = open(path_tags,encoding='utf-8')\n",
    "tags = pd.read_csv(f)"
   ]
  },
  {
   "cell_type": "code",
   "execution_count": 70,
   "metadata": {
    "collapsed": true
   },
   "outputs": [
    {
     "ename": "KeyError",
     "evalue": "'tag_id'",
     "output_type": "error",
     "traceback": [
      "\u001b[1;31m---------------------------------------------------------------------------\u001b[0m",
      "\u001b[1;31mKeyError\u001b[0m                                  Traceback (most recent call last)",
      "\u001b[1;32mC:\\Users\\10746\\Anaconda3\\lib\\site-packages\\pandas\\core\\indexes\\base.py\u001b[0m in \u001b[0;36mget_loc\u001b[1;34m(self, key, method, tolerance)\u001b[0m\n\u001b[0;32m   2392\u001b[0m             \u001b[1;32mtry\u001b[0m\u001b[1;33m:\u001b[0m\u001b[1;33m\u001b[0m\u001b[0m\n\u001b[1;32m-> 2393\u001b[1;33m                 \u001b[1;32mreturn\u001b[0m \u001b[0mself\u001b[0m\u001b[1;33m.\u001b[0m\u001b[0m_engine\u001b[0m\u001b[1;33m.\u001b[0m\u001b[0mget_loc\u001b[0m\u001b[1;33m(\u001b[0m\u001b[0mkey\u001b[0m\u001b[1;33m)\u001b[0m\u001b[1;33m\u001b[0m\u001b[0m\n\u001b[0m\u001b[0;32m   2394\u001b[0m             \u001b[1;32mexcept\u001b[0m \u001b[0mKeyError\u001b[0m\u001b[1;33m:\u001b[0m\u001b[1;33m\u001b[0m\u001b[0m\n",
      "\u001b[1;32mpandas\\_libs\\index.pyx\u001b[0m in \u001b[0;36mpandas._libs.index.IndexEngine.get_loc (pandas\\_libs\\index.c:5239)\u001b[1;34m()\u001b[0m\n",
      "\u001b[1;32mpandas\\_libs\\index.pyx\u001b[0m in \u001b[0;36mpandas._libs.index.IndexEngine.get_loc (pandas\\_libs\\index.c:5085)\u001b[1;34m()\u001b[0m\n",
      "\u001b[1;32mpandas\\_libs\\hashtable_class_helper.pxi\u001b[0m in \u001b[0;36mpandas._libs.hashtable.PyObjectHashTable.get_item (pandas\\_libs\\hashtable.c:20405)\u001b[1;34m()\u001b[0m\n",
      "\u001b[1;32mpandas\\_libs\\hashtable_class_helper.pxi\u001b[0m in \u001b[0;36mpandas._libs.hashtable.PyObjectHashTable.get_item (pandas\\_libs\\hashtable.c:20359)\u001b[1;34m()\u001b[0m\n",
      "\u001b[1;31mKeyError\u001b[0m: 'tag_id'",
      "\nDuring handling of the above exception, another exception occurred:\n",
      "\u001b[1;31mKeyError\u001b[0m                                  Traceback (most recent call last)",
      "\u001b[1;32m<ipython-input-70-d3bcd452dd32>\u001b[0m in \u001b[0;36m<module>\u001b[1;34m()\u001b[0m\n\u001b[0;32m      3\u001b[0m     \u001b[0mtags\u001b[0m\u001b[1;33m,\u001b[0m\u001b[1;33m\u001b[0m\u001b[0m\n\u001b[0;32m      4\u001b[0m     \u001b[0mon\u001b[0m \u001b[1;33m=\u001b[0m \u001b[1;34m'tag_id'\u001b[0m\u001b[1;33m,\u001b[0m\u001b[1;33m\u001b[0m\u001b[0m\n\u001b[1;32m----> 5\u001b[1;33m     how = 'left')\n\u001b[0m\u001b[0;32m      6\u001b[0m \u001b[0mprint\u001b[0m\u001b[1;33m(\u001b[0m\u001b[0mhottest_10_tags_with_tag_name\u001b[0m\u001b[1;33m)\u001b[0m\u001b[1;33m\u001b[0m\u001b[0m\n",
      "\u001b[1;32mC:\\Users\\10746\\Anaconda3\\lib\\site-packages\\pandas\\core\\reshape\\merge.py\u001b[0m in \u001b[0;36mmerge\u001b[1;34m(left, right, how, on, left_on, right_on, left_index, right_index, sort, suffixes, copy, indicator)\u001b[0m\n\u001b[0;32m     51\u001b[0m                          \u001b[0mright_on\u001b[0m\u001b[1;33m=\u001b[0m\u001b[0mright_on\u001b[0m\u001b[1;33m,\u001b[0m \u001b[0mleft_index\u001b[0m\u001b[1;33m=\u001b[0m\u001b[0mleft_index\u001b[0m\u001b[1;33m,\u001b[0m\u001b[1;33m\u001b[0m\u001b[0m\n\u001b[0;32m     52\u001b[0m                          \u001b[0mright_index\u001b[0m\u001b[1;33m=\u001b[0m\u001b[0mright_index\u001b[0m\u001b[1;33m,\u001b[0m \u001b[0msort\u001b[0m\u001b[1;33m=\u001b[0m\u001b[0msort\u001b[0m\u001b[1;33m,\u001b[0m \u001b[0msuffixes\u001b[0m\u001b[1;33m=\u001b[0m\u001b[0msuffixes\u001b[0m\u001b[1;33m,\u001b[0m\u001b[1;33m\u001b[0m\u001b[0m\n\u001b[1;32m---> 53\u001b[1;33m                          copy=copy, indicator=indicator)\n\u001b[0m\u001b[0;32m     54\u001b[0m     \u001b[1;32mreturn\u001b[0m \u001b[0mop\u001b[0m\u001b[1;33m.\u001b[0m\u001b[0mget_result\u001b[0m\u001b[1;33m(\u001b[0m\u001b[1;33m)\u001b[0m\u001b[1;33m\u001b[0m\u001b[0m\n\u001b[0;32m     55\u001b[0m \u001b[1;33m\u001b[0m\u001b[0m\n",
      "\u001b[1;32mC:\\Users\\10746\\Anaconda3\\lib\\site-packages\\pandas\\core\\reshape\\merge.py\u001b[0m in \u001b[0;36m__init__\u001b[1;34m(self, left, right, how, on, left_on, right_on, axis, left_index, right_index, sort, suffixes, copy, indicator)\u001b[0m\n\u001b[0;32m    556\u001b[0m         (self.left_join_keys,\n\u001b[0;32m    557\u001b[0m          \u001b[0mself\u001b[0m\u001b[1;33m.\u001b[0m\u001b[0mright_join_keys\u001b[0m\u001b[1;33m,\u001b[0m\u001b[1;33m\u001b[0m\u001b[0m\n\u001b[1;32m--> 558\u001b[1;33m          self.join_names) = self._get_merge_keys()\n\u001b[0m\u001b[0;32m    559\u001b[0m \u001b[1;33m\u001b[0m\u001b[0m\n\u001b[0;32m    560\u001b[0m         \u001b[1;31m# validate the merge keys dtypes. We may need to coerce\u001b[0m\u001b[1;33m\u001b[0m\u001b[1;33m\u001b[0m\u001b[0m\n",
      "\u001b[1;32mC:\\Users\\10746\\Anaconda3\\lib\\site-packages\\pandas\\core\\reshape\\merge.py\u001b[0m in \u001b[0;36m_get_merge_keys\u001b[1;34m(self)\u001b[0m\n\u001b[0;32m    821\u001b[0m                         \u001b[0mright_keys\u001b[0m\u001b[1;33m.\u001b[0m\u001b[0mappend\u001b[0m\u001b[1;33m(\u001b[0m\u001b[0mrk\u001b[0m\u001b[1;33m)\u001b[0m\u001b[1;33m\u001b[0m\u001b[0m\n\u001b[0;32m    822\u001b[0m                     \u001b[1;32mif\u001b[0m \u001b[0mlk\u001b[0m \u001b[1;32mis\u001b[0m \u001b[1;32mnot\u001b[0m \u001b[1;32mNone\u001b[0m\u001b[1;33m:\u001b[0m\u001b[1;33m\u001b[0m\u001b[0m\n\u001b[1;32m--> 823\u001b[1;33m                         \u001b[0mleft_keys\u001b[0m\u001b[1;33m.\u001b[0m\u001b[0mappend\u001b[0m\u001b[1;33m(\u001b[0m\u001b[0mleft\u001b[0m\u001b[1;33m[\u001b[0m\u001b[0mlk\u001b[0m\u001b[1;33m]\u001b[0m\u001b[1;33m.\u001b[0m\u001b[0m_values\u001b[0m\u001b[1;33m)\u001b[0m\u001b[1;33m\u001b[0m\u001b[0m\n\u001b[0m\u001b[0;32m    824\u001b[0m                         \u001b[0mjoin_names\u001b[0m\u001b[1;33m.\u001b[0m\u001b[0mappend\u001b[0m\u001b[1;33m(\u001b[0m\u001b[0mlk\u001b[0m\u001b[1;33m)\u001b[0m\u001b[1;33m\u001b[0m\u001b[0m\n\u001b[0;32m    825\u001b[0m                     \u001b[1;32melse\u001b[0m\u001b[1;33m:\u001b[0m\u001b[1;33m\u001b[0m\u001b[0m\n",
      "\u001b[1;32mC:\\Users\\10746\\Anaconda3\\lib\\site-packages\\pandas\\core\\frame.py\u001b[0m in \u001b[0;36m__getitem__\u001b[1;34m(self, key)\u001b[0m\n\u001b[0;32m   2060\u001b[0m             \u001b[1;32mreturn\u001b[0m \u001b[0mself\u001b[0m\u001b[1;33m.\u001b[0m\u001b[0m_getitem_multilevel\u001b[0m\u001b[1;33m(\u001b[0m\u001b[0mkey\u001b[0m\u001b[1;33m)\u001b[0m\u001b[1;33m\u001b[0m\u001b[0m\n\u001b[0;32m   2061\u001b[0m         \u001b[1;32melse\u001b[0m\u001b[1;33m:\u001b[0m\u001b[1;33m\u001b[0m\u001b[0m\n\u001b[1;32m-> 2062\u001b[1;33m             \u001b[1;32mreturn\u001b[0m \u001b[0mself\u001b[0m\u001b[1;33m.\u001b[0m\u001b[0m_getitem_column\u001b[0m\u001b[1;33m(\u001b[0m\u001b[0mkey\u001b[0m\u001b[1;33m)\u001b[0m\u001b[1;33m\u001b[0m\u001b[0m\n\u001b[0m\u001b[0;32m   2063\u001b[0m \u001b[1;33m\u001b[0m\u001b[0m\n\u001b[0;32m   2064\u001b[0m     \u001b[1;32mdef\u001b[0m \u001b[0m_getitem_column\u001b[0m\u001b[1;33m(\u001b[0m\u001b[0mself\u001b[0m\u001b[1;33m,\u001b[0m \u001b[0mkey\u001b[0m\u001b[1;33m)\u001b[0m\u001b[1;33m:\u001b[0m\u001b[1;33m\u001b[0m\u001b[0m\n",
      "\u001b[1;32mC:\\Users\\10746\\Anaconda3\\lib\\site-packages\\pandas\\core\\frame.py\u001b[0m in \u001b[0;36m_getitem_column\u001b[1;34m(self, key)\u001b[0m\n\u001b[0;32m   2067\u001b[0m         \u001b[1;31m# get column\u001b[0m\u001b[1;33m\u001b[0m\u001b[1;33m\u001b[0m\u001b[0m\n\u001b[0;32m   2068\u001b[0m         \u001b[1;32mif\u001b[0m \u001b[0mself\u001b[0m\u001b[1;33m.\u001b[0m\u001b[0mcolumns\u001b[0m\u001b[1;33m.\u001b[0m\u001b[0mis_unique\u001b[0m\u001b[1;33m:\u001b[0m\u001b[1;33m\u001b[0m\u001b[0m\n\u001b[1;32m-> 2069\u001b[1;33m             \u001b[1;32mreturn\u001b[0m \u001b[0mself\u001b[0m\u001b[1;33m.\u001b[0m\u001b[0m_get_item_cache\u001b[0m\u001b[1;33m(\u001b[0m\u001b[0mkey\u001b[0m\u001b[1;33m)\u001b[0m\u001b[1;33m\u001b[0m\u001b[0m\n\u001b[0m\u001b[0;32m   2070\u001b[0m \u001b[1;33m\u001b[0m\u001b[0m\n\u001b[0;32m   2071\u001b[0m         \u001b[1;31m# duplicate columns & possible reduce dimensionality\u001b[0m\u001b[1;33m\u001b[0m\u001b[1;33m\u001b[0m\u001b[0m\n",
      "\u001b[1;32mC:\\Users\\10746\\Anaconda3\\lib\\site-packages\\pandas\\core\\generic.py\u001b[0m in \u001b[0;36m_get_item_cache\u001b[1;34m(self, item)\u001b[0m\n\u001b[0;32m   1532\u001b[0m         \u001b[0mres\u001b[0m \u001b[1;33m=\u001b[0m \u001b[0mcache\u001b[0m\u001b[1;33m.\u001b[0m\u001b[0mget\u001b[0m\u001b[1;33m(\u001b[0m\u001b[0mitem\u001b[0m\u001b[1;33m)\u001b[0m\u001b[1;33m\u001b[0m\u001b[0m\n\u001b[0;32m   1533\u001b[0m         \u001b[1;32mif\u001b[0m \u001b[0mres\u001b[0m \u001b[1;32mis\u001b[0m \u001b[1;32mNone\u001b[0m\u001b[1;33m:\u001b[0m\u001b[1;33m\u001b[0m\u001b[0m\n\u001b[1;32m-> 1534\u001b[1;33m             \u001b[0mvalues\u001b[0m \u001b[1;33m=\u001b[0m \u001b[0mself\u001b[0m\u001b[1;33m.\u001b[0m\u001b[0m_data\u001b[0m\u001b[1;33m.\u001b[0m\u001b[0mget\u001b[0m\u001b[1;33m(\u001b[0m\u001b[0mitem\u001b[0m\u001b[1;33m)\u001b[0m\u001b[1;33m\u001b[0m\u001b[0m\n\u001b[0m\u001b[0;32m   1535\u001b[0m             \u001b[0mres\u001b[0m \u001b[1;33m=\u001b[0m \u001b[0mself\u001b[0m\u001b[1;33m.\u001b[0m\u001b[0m_box_item_values\u001b[0m\u001b[1;33m(\u001b[0m\u001b[0mitem\u001b[0m\u001b[1;33m,\u001b[0m \u001b[0mvalues\u001b[0m\u001b[1;33m)\u001b[0m\u001b[1;33m\u001b[0m\u001b[0m\n\u001b[0;32m   1536\u001b[0m             \u001b[0mcache\u001b[0m\u001b[1;33m[\u001b[0m\u001b[0mitem\u001b[0m\u001b[1;33m]\u001b[0m \u001b[1;33m=\u001b[0m \u001b[0mres\u001b[0m\u001b[1;33m\u001b[0m\u001b[0m\n",
      "\u001b[1;32mC:\\Users\\10746\\Anaconda3\\lib\\site-packages\\pandas\\core\\internals.py\u001b[0m in \u001b[0;36mget\u001b[1;34m(self, item, fastpath)\u001b[0m\n\u001b[0;32m   3588\u001b[0m \u001b[1;33m\u001b[0m\u001b[0m\n\u001b[0;32m   3589\u001b[0m             \u001b[1;32mif\u001b[0m \u001b[1;32mnot\u001b[0m \u001b[0misnull\u001b[0m\u001b[1;33m(\u001b[0m\u001b[0mitem\u001b[0m\u001b[1;33m)\u001b[0m\u001b[1;33m:\u001b[0m\u001b[1;33m\u001b[0m\u001b[0m\n\u001b[1;32m-> 3590\u001b[1;33m                 \u001b[0mloc\u001b[0m \u001b[1;33m=\u001b[0m \u001b[0mself\u001b[0m\u001b[1;33m.\u001b[0m\u001b[0mitems\u001b[0m\u001b[1;33m.\u001b[0m\u001b[0mget_loc\u001b[0m\u001b[1;33m(\u001b[0m\u001b[0mitem\u001b[0m\u001b[1;33m)\u001b[0m\u001b[1;33m\u001b[0m\u001b[0m\n\u001b[0m\u001b[0;32m   3591\u001b[0m             \u001b[1;32melse\u001b[0m\u001b[1;33m:\u001b[0m\u001b[1;33m\u001b[0m\u001b[0m\n\u001b[0;32m   3592\u001b[0m                 \u001b[0mindexer\u001b[0m \u001b[1;33m=\u001b[0m \u001b[0mnp\u001b[0m\u001b[1;33m.\u001b[0m\u001b[0marange\u001b[0m\u001b[1;33m(\u001b[0m\u001b[0mlen\u001b[0m\u001b[1;33m(\u001b[0m\u001b[0mself\u001b[0m\u001b[1;33m.\u001b[0m\u001b[0mitems\u001b[0m\u001b[1;33m)\u001b[0m\u001b[1;33m)\u001b[0m\u001b[1;33m[\u001b[0m\u001b[0misnull\u001b[0m\u001b[1;33m(\u001b[0m\u001b[0mself\u001b[0m\u001b[1;33m.\u001b[0m\u001b[0mitems\u001b[0m\u001b[1;33m)\u001b[0m\u001b[1;33m]\u001b[0m\u001b[1;33m\u001b[0m\u001b[0m\n",
      "\u001b[1;32mC:\\Users\\10746\\Anaconda3\\lib\\site-packages\\pandas\\core\\indexes\\base.py\u001b[0m in \u001b[0;36mget_loc\u001b[1;34m(self, key, method, tolerance)\u001b[0m\n\u001b[0;32m   2393\u001b[0m                 \u001b[1;32mreturn\u001b[0m \u001b[0mself\u001b[0m\u001b[1;33m.\u001b[0m\u001b[0m_engine\u001b[0m\u001b[1;33m.\u001b[0m\u001b[0mget_loc\u001b[0m\u001b[1;33m(\u001b[0m\u001b[0mkey\u001b[0m\u001b[1;33m)\u001b[0m\u001b[1;33m\u001b[0m\u001b[0m\n\u001b[0;32m   2394\u001b[0m             \u001b[1;32mexcept\u001b[0m \u001b[0mKeyError\u001b[0m\u001b[1;33m:\u001b[0m\u001b[1;33m\u001b[0m\u001b[0m\n\u001b[1;32m-> 2395\u001b[1;33m                 \u001b[1;32mreturn\u001b[0m \u001b[0mself\u001b[0m\u001b[1;33m.\u001b[0m\u001b[0m_engine\u001b[0m\u001b[1;33m.\u001b[0m\u001b[0mget_loc\u001b[0m\u001b[1;33m(\u001b[0m\u001b[0mself\u001b[0m\u001b[1;33m.\u001b[0m\u001b[0m_maybe_cast_indexer\u001b[0m\u001b[1;33m(\u001b[0m\u001b[0mkey\u001b[0m\u001b[1;33m)\u001b[0m\u001b[1;33m)\u001b[0m\u001b[1;33m\u001b[0m\u001b[0m\n\u001b[0m\u001b[0;32m   2396\u001b[0m \u001b[1;33m\u001b[0m\u001b[0m\n\u001b[0;32m   2397\u001b[0m         \u001b[0mindexer\u001b[0m \u001b[1;33m=\u001b[0m \u001b[0mself\u001b[0m\u001b[1;33m.\u001b[0m\u001b[0mget_indexer\u001b[0m\u001b[1;33m(\u001b[0m\u001b[1;33m[\u001b[0m\u001b[0mkey\u001b[0m\u001b[1;33m]\u001b[0m\u001b[1;33m,\u001b[0m \u001b[0mmethod\u001b[0m\u001b[1;33m=\u001b[0m\u001b[0mmethod\u001b[0m\u001b[1;33m,\u001b[0m \u001b[0mtolerance\u001b[0m\u001b[1;33m=\u001b[0m\u001b[0mtolerance\u001b[0m\u001b[1;33m)\u001b[0m\u001b[1;33m\u001b[0m\u001b[0m\n",
      "\u001b[1;32mpandas\\_libs\\index.pyx\u001b[0m in \u001b[0;36mpandas._libs.index.IndexEngine.get_loc (pandas\\_libs\\index.c:5239)\u001b[1;34m()\u001b[0m\n",
      "\u001b[1;32mpandas\\_libs\\index.pyx\u001b[0m in \u001b[0;36mpandas._libs.index.IndexEngine.get_loc (pandas\\_libs\\index.c:5085)\u001b[1;34m()\u001b[0m\n",
      "\u001b[1;32mpandas\\_libs\\hashtable_class_helper.pxi\u001b[0m in \u001b[0;36mpandas._libs.hashtable.PyObjectHashTable.get_item (pandas\\_libs\\hashtable.c:20405)\u001b[1;34m()\u001b[0m\n",
      "\u001b[1;32mpandas\\_libs\\hashtable_class_helper.pxi\u001b[0m in \u001b[0;36mpandas._libs.hashtable.PyObjectHashTable.get_item (pandas\\_libs\\hashtable.c:20359)\u001b[1;34m()\u001b[0m\n",
      "\u001b[1;31mKeyError\u001b[0m: 'tag_id'"
     ]
    }
   ],
   "source": [
    "hottest_10_tags_with_tag_name = pd.merge(\n",
    "    hottest_10_tags,\n",
    "    tags,\n",
    "    on = 'tag_id',\n",
    "    how = 'left')\n",
    "print(hottest_10_tags_with_tag_name)\n",
    "#  在PYcharm 用3.8 就不会报错"
   ]
  },
  {
   "cell_type": "code",
   "execution_count": 12,
   "metadata": {
    "collapsed": true
   },
   "outputs": [
    {
     "ename": "NameError",
     "evalue": "name 'hottest_10_tags_with_tag_name' is not defined",
     "output_type": "error",
     "traceback": [
      "\u001b[1;31m---------------------------------------------------------------------------\u001b[0m",
      "\u001b[1;31mNameError\u001b[0m                                 Traceback (most recent call last)",
      "\u001b[1;32m<ipython-input-12-7059756d928d>\u001b[0m in \u001b[0;36m<module>\u001b[1;34m()\u001b[0m\n\u001b[1;32m----> 1\u001b[1;33m \u001b[0mhottest_10_tags_with_tag_name\u001b[0m\u001b[1;33m.\u001b[0m\u001b[0mto_csv\u001b[0m\u001b[1;33m(\u001b[0m\u001b[0mpath_hot10_with_tag_name_save\u001b[0m\u001b[1;33m)\u001b[0m\u001b[1;33m\u001b[0m\u001b[0m\n\u001b[0m",
      "\u001b[1;31mNameError\u001b[0m: name 'hottest_10_tags_with_tag_name' is not defined"
     ]
    }
   ],
   "source": [
    "hottest_10_tags_with_tag_name.to_csv(path_hot10_with_tag_name_save)"
   ]
  },
  {
   "cell_type": "markdown",
   "metadata": {},
   "source": [
    "# Pyecharts 基础"
   ]
  },
  {
   "cell_type": "code",
   "execution_count": 12,
   "metadata": {
    "collapsed": true
   },
   "outputs": [
    {
     "name": "stdout",
     "output_type": "stream",
     "text": [
      "Looking in indexes: https://pypi.tuna.tsinghua.edu.cn/simple\n",
      "Collecting cutecharts\n",
      "  Downloading https://pypi.tuna.tsinghua.edu.cn/packages/0e/e9/2269dc5450fca39d7dfacdf04faca176c4669eab9f2d9453d93405aaf070/cutecharts-1.2.0-py3-none-any.whl\n",
      "Requirement already satisfied: jinja2 in c:\\users\\10746\\anaconda3\\lib\\site-packages (from cutecharts) (2.9.6)\n",
      "Requirement already satisfied: MarkupSafe>=0.23 in c:\\users\\10746\\anaconda3\\lib\\site-packages (from jinja2->cutecharts) (0.23)\n",
      "Installing collected packages: cutecharts\n",
      "Successfully installed cutecharts-1.2.0\n"
     ]
    }
   ],
   "source": [
    "# !pip install pyecharts \n",
    "# !pip install cutecharts # 可爱类型的图型风格 \n",
    "https://github.com/chenjiandongx/cutecharts"
   ]
  },
  {
   "cell_type": "markdown",
   "metadata": {
    "collapsed": true
   },
   "source": [
    "### 图表绘制流程\n",
    "- char_name = 图表类型() 初始化类型图表\n",
    "- chart_name.add_xaxis() 添加横坐标名称/数据\n",
    "- chart_name.add_xaxis() 添加纵坐标名称/数据\n",
    "- chart_name.render() 生成.html文件"
   ]
  },
  {
   "cell_type": "code",
   "execution_count": 2,
   "metadata": {
    "collapsed": true
   },
   "outputs": [],
   "source": [
    "from pyecharts.faker import Faker  # 创建虚构随机数据用\n",
    "from pyecharts import options as opts   # 设置参数的库\n",
    "from pyecharts.globals import ThemeType # 配置主题的库\n",
    "\n",
    "from pyecharts.charts import Bar   # 柱状图的库\n",
    "from pyecharts.charts import Bar3D  # 3D柱状图\n",
    "from pyecharts.charts import Line # 折线图的库\n",
    "from pyecharts.charts import Pie # 饼图的库\n",
    "from pyecharts.charts import EffectScatter # 带涟漪的散点图\n",
    "from pyecharts.charts import Funnel # 漏斗图\n",
    "from pyecharts.charts import Geo # 地理图 \n",
    "from pyecharts.charts import Liquid # 水球图\n",
    "from pyecharts.charts import Radar # 雷达图\n",
    "from pyecharts.charts import WordCloud # 词云图"
   ]
  },
  {
   "cell_type": "markdown",
   "metadata": {},
   "source": [
    "### 作业\n",
    "#### 任务1：将50本书及对应想读的人数数据做成词云图\n",
    "#### 任务2：选择两种你认为适合10个热门标签进行数据展示的图表类型作图"
   ]
  },
  {
   "cell_type": "code",
   "execution_count": 1,
   "metadata": {
    "collapsed": true
   },
   "outputs": [
    {
     "ename": "SyntaxError",
     "evalue": "invalid syntax (<ipython-input-1-4d69597cd706>, line 6)",
     "output_type": "error",
     "traceback": [
      "\u001b[1;36m  File \u001b[1;32m\"<ipython-input-1-4d69597cd706>\"\u001b[1;36m, line \u001b[1;32m6\u001b[0m\n\u001b[1;33m    impor os\u001b[0m\n\u001b[1;37m           ^\u001b[0m\n\u001b[1;31mSyntaxError\u001b[0m\u001b[1;31m:\u001b[0m invalid syntax\n"
     ]
    }
   ],
   "source": [
    "from pyecharts import options as opts\n",
    "from pyecharts.charts import WordCloud # 词云图\n",
    "from pyecharts.charts import Bar   # 柱状图的库\n",
    "from pyecharts.charts import Pie # 饼图的库\n",
    "import pandas as pd"
   ]
  },
  {
   "cell_type": "code",
   "execution_count": 8,
   "metadata": {
    "collapsed": true
   },
   "outputs": [],
   "source": [
    "# 任务1 读取文件\n",
    "path_worldcloud =  r'C:\\Users\\10746\\Desktop\\ptthon-test\\数据分析\\hottest_50_books_with_title.csv'\n",
    "f = open(path_worldcloud)\n",
    "hottest_50_books = pd.read_csv(f)"
   ]
  },
  {
   "cell_type": "code",
   "execution_count": 9,
   "metadata": {
    "collapsed": true
   },
   "outputs": [],
   "source": [
    "title = hottest_50_books['title'].tolist()\n",
    "to_read_counts = hottest_50_books['to_read_counts'].tolist()\n",
    "cloud_max = list(zip(title,to_read_counts))"
   ]
  },
  {
   "cell_type": "code",
   "execution_count": 10,
   "metadata": {},
   "outputs": [
    {
     "data": {
      "text/plain": [
       "'C:\\\\Users\\\\10746\\\\render.html'"
      ]
     },
     "execution_count": 10,
     "metadata": {},
     "output_type": "execute_result"
    }
   ],
   "source": [
    "# 词云\n",
    "worldcloud = WordCloud()\n",
    "worldcloud.add('',cloud_max,word_size_range=[20,100])\n",
    "worldcloud.set_global_opts(title_opts = opts.TitleOpts(title='hottest_50_books'))\n",
    "worldcloud.render()"
   ]
  },
  {
   "cell_type": "code",
   "execution_count": 11,
   "metadata": {
    "collapsed": true
   },
   "outputs": [],
   "source": [
    "# 任务2\n",
    "# 读取文件\n",
    "path_hot10 =  r'C:\\Users\\10746\\Desktop\\ptthon-test\\数据分析\\path_hot10_with_tag_name.csv'\n",
    "f = open(path_hot10,encoding='utf-8')\n",
    "hottest_10_books = pd.read_csv(f)"
   ]
  },
  {
   "cell_type": "code",
   "execution_count": 12,
   "metadata": {},
   "outputs": [
    {
     "data": {
      "text/plain": [
       "'C:\\\\Users\\\\10746\\\\render.html'"
      ]
     },
     "execution_count": 12,
     "metadata": {},
     "output_type": "execute_result"
    }
   ],
   "source": [
    "# 柱状图\n",
    "bar = Bar(\n",
    "    init_opts = opts.InitOpts(\n",
    "#         theme = ThemeType.PURPLE_PASSION,\n",
    "        width = '1280px',\n",
    "        height = '720px'))\n",
    "bar.add_xaxis(hottest_10_books['tag_name'].tolist())\n",
    "bar.add_yaxis('',hottest_10_books['count'].tolist())\n",
    "bar.set_global_opts(\n",
    "    title_opts = opts.TitleOpts(title = \"hottest_10_tag_name\"),\n",
    "    xaxis_opts = opts.AxisOpts(axislabel_opts=opts.LabelOpts(rotate = 10)))\n",
    "bar.render()"
   ]
  },
  {
   "cell_type": "code",
   "execution_count": 13,
   "metadata": {},
   "outputs": [
    {
     "data": {
      "text/plain": [
       "'C:\\\\Users\\\\10746\\\\render.html'"
      ]
     },
     "execution_count": 13,
     "metadata": {},
     "output_type": "execute_result"
    }
   ],
   "source": [
    "# 饼状图\n",
    "pie = Pie()\n",
    "pie_tag_name = hottest_10_books['tag_name'].tolist()\n",
    "pie_count = hottest_10_books['count'].tolist()\n",
    "pie_max = list(zip(pie_tag_name,pie_count))\n",
    "pie.add(\"\",pie_max)\n",
    "pie.render()"
   ]
  },
  {
   "cell_type": "markdown",
   "metadata": {},
   "source": [
    "### 数据分析及可视化实战\n",
    "- https://github.com/fxsjy/jieba 结巴分词"
   ]
  },
  {
   "cell_type": "code",
   "execution_count": 1,
   "metadata": {
    "collapsed": true
   },
   "outputs": [],
   "source": [
    "import sqlite3  # 链接数据库的库\n",
    "import pandas as pd  \n",
    "import jieba  # 分词用的库\n",
    "import pyecharts.options as opts   # 设置参数的库\n",
    "from pyecharts.charts import HeatMap  # 热力图库\n",
    "from pyecharts.charts import WordCloud # 词云图\n",
    "from pyecharts.charts import Bar   # 柱状图的库\n",
    "import math  # 数学库\n",
    "import os"
   ]
  },
  {
   "cell_type": "code",
   "execution_count": 2,
   "metadata": {
    "collapsed": true
   },
   "outputs": [],
   "source": [
    "# 用来过滤的词\n",
    "FILTER_WORDS=['知道','影评','电影','影片','片子','这么','那么',\n",
    "              '怎么','是','的','这个','那个','一个','这种','时候',\n",
    "              '什么','\\n','...','一部','这部','没有','还有','is','觉得','of','to']"
   ]
  },
  {
   "cell_type": "code",
   "execution_count": 3,
   "metadata": {
    "collapsed": true
   },
   "outputs": [],
   "source": [
    "# 定义一个 输入最小评论数返回电影ID的函数\n",
    "def get_movie_id_list(min_comment_count):\n",
    "    movie_list = comment_data['MOVIEID'].value_counts() # 获取每个电影ID对应的评论总数\n",
    "    movie_list = movie_list[movie_list.values > min_comment_count] # 取大于min_comment_count的数据\n",
    "    return movie_list.index  # 返回电影ID"
   ]
  },
  {
   "cell_type": "code",
   "execution_count": 4,
   "metadata": {
    "collapsed": true
   },
   "outputs": [],
   "source": [
    "# 定义一个根据电影ID获取前count个热门电影评论词的函数 \n",
    "def get_comment_keywords_count(movie_id,count):  \n",
    "    comment_list = comment_data[comment_data['MOVIEID'] == movie_id]['CONTENT']\n",
    "    comment_str_all = ''  # 创建一个str\n",
    "    for comment in comment_list:  # 遍历ID对应的所有的评论\n",
    "        comment_str_all += comment + '\\n'   # 把评论放到一个str里\n",
    "    seg_list = list(jieba.cut(comment_str_all)) # 对str进行分词并变为列表类型\n",
    "    keywords_counts = pd.Series(seg_list)   # 把上面的列表变为 Series 类型\n",
    "    keywords_counts = keywords_counts[keywords_counts.str.len()>1]  # 筛选分词后长度大于1的词\n",
    "    # .contains('需要选取的内容')   \n",
    "    # '|'.join(FILTER_WORDS)  FILTER_WORDS里以|隔开取隔开后 包含的数据 ,\n",
    "    #  ~ 波浪线是取反  即 不包含\n",
    "    keywords_counts = keywords_counts[~keywords_counts.str.contains('|'.join(FILTER_WORDS))] \n",
    "    keywords_counts = keywords_counts.value_counts()[:count]                         \n",
    "    return keywords_counts"
   ]
  },
  {
   "cell_type": "code",
   "execution_count": 5,
   "metadata": {
    "collapsed": true
   },
   "outputs": [],
   "source": [
    "# 需要读取的数据\n",
    "path_douban = r'C:\\Users\\10746\\Desktop\\ptthon-test\\数据分析\\数据分析项目2-1\\douban_comment_data.db' \n",
    "path_movie_data = r'C:\\Users\\10746\\Desktop\\ptthon-test\\数据分析\\数据分析项目2-1\\douban_movie_data.xlsx'\n",
    "conn = sqlite3.connect(path_douban)  # 链接数据库  \n",
    "comment_data = pd.read_sql_query('select * from comment;',conn)   # SQL语句 获取表格的全部数据\n",
    "movie_data = pd.read_excel(path_movie_data) # 读取数据"
   ]
  },
  {
   "cell_type": "code",
   "execution_count": 6,
   "metadata": {
    "collapsed": true
   },
   "outputs": [],
   "source": [
    "# 生成词云的 并保存到本地的函数\n",
    "def generate_word_cloud(word_list):\n",
    "    wordcloud = WordCloud() \n",
    "    keywords_cloud = list(zip(keywords_counts.index,keywords_counts.values))\n",
    "    lst = []\n",
    "    for i in keywords_cloud:\n",
    "        lst.append((i[0],int(i[1])))\n",
    "    # path = r'C:\\Users\\10746\\Anaconda3\\Lib\\site-packages\\jupyterthemes\\fonts\\serif\\georgiaserif\\Lora-Regular.ttf'\n",
    "    # wordcloud = WordCloud(font_path=path,background_color=\"white\",width=800,height=600,max_font_size=50,max_words=1000)\n",
    "    wordcloud.add(\"\",lst,word_size_range = [20,100])\n",
    "    path_name = r'C:\\Users\\10746\\Desktop\\wordcloud_{}_{}.html'.format(movie_name,movie_score)\n",
    "    wordcloud.render(path_name)\n",
    "    print(f'词云图 图片已经报保存到:{path_name}')"
   ]
  },
  {
   "cell_type": "code",
   "execution_count": 7,
   "metadata": {
    "collapsed": true
   },
   "outputs": [],
   "source": [
    " # 保存为柱状图的函数，需要参数keywords_counts：数据源， path_name：保存地址\n",
    "def generate_bar(keywords_counts):  \n",
    "    bar = Bar(\n",
    "        init_opts = opts.InitOpts(\n",
    "#             theme = ThemeType.PURPLE_PASSION,\n",
    "            width = '1280px',\n",
    "            height = '720px'))\n",
    "    bar.add_xaxis(keywords_counts.index.tolist())\n",
    "    bar.add_yaxis('',keywords_counts.values.tolist())\n",
    "    bar.set_global_opts(\n",
    "        title_opts = opts.TitleOpts(title = movie_name),\n",
    "        xaxis_opts = opts.AxisOpts(axislabel_opts=opts.LabelOpts(rotate = 20)))\n",
    "    path_name = r'C:\\Users\\10746\\Desktop\\bar_{}_{}.html'.format(movie_name,movie_score)\n",
    "    bar.render(path_name)\n",
    "    print(f'柱状图 图片已经报保存到:{path_name}')"
   ]
  },
  {
   "cell_type": "code",
   "execution_count": 8,
   "metadata": {
    "collapsed": true
   },
   "outputs": [],
   "source": [
    "# 输入 movie_id 返回 movie_name,movie_score 电影名字和评分的函数\n",
    "def get_movie_name_and_score(movie_id):\n",
    "    movie_link = 'https://movie.douban.com/subject/{}/'.format(movie_id)\n",
    "    search_result = movie_data[movie_data['链接'] == movie_link].iloc[0]\n",
    "    movie_name = search_result['电影名']\n",
    "    movie_score = search_result['评分']\n",
    "    return(movie_name,movie_score)"
   ]
  },
  {
   "cell_type": "code",
   "execution_count": 9,
   "metadata": {},
   "outputs": [
    {
     "name": "stderr",
     "output_type": "stream",
     "text": [
      "Building prefix dict from the default dictionary ...\n",
      "Loading model from cache C:\\Users\\10746\\AppData\\Local\\Temp\\jieba.cache\n",
      "Loading model cost 0.892 seconds.\n",
      "Prefix dict has been built successfully.\n"
     ]
    }
   ],
   "source": [
    "movie_id = '1292052'\n",
    "counts = 30 # 取前counts个关键词\n",
    "keywords_counts = get_comment_keywords_count(movie_id,counts)\n",
    "movie_name,movie_score = get_movie_name_and_score(movie_id)"
   ]
  },
  {
   "cell_type": "code",
   "execution_count": 10,
   "metadata": {},
   "outputs": [
    {
     "name": "stdout",
     "output_type": "stream",
     "text": [
      "柱状图 图片已经报保存到:C:\\Users\\10746\\Desktop\\bar_肖申克的救赎_9.6.html\n",
      "词云图 图片已经报保存到:C:\\Users\\10746\\Desktop\\wordcloud_肖申克的救赎_9.6.html\n"
     ]
    }
   ],
   "source": [
    "generate_bar(keywords_counts)\n",
    "generate_word_cloud(keywords_counts)"
   ]
  },
  {
   "cell_type": "markdown",
   "metadata": {
    "collapsed": true
   },
   "source": [
    "### 关键词及评分关系分析"
   ]
  },
  {
   "cell_type": "code",
   "execution_count": 11,
   "metadata": {
    "collapsed": true
   },
   "outputs": [],
   "source": [
    "kw_list_by_score = [[] for i in range(10)]  # 创建含有10个空列表的列表\n",
    "kw_counts_list_by_score = [[] for i in range(10)]  # 创建含有10个空列表的列表"
   ]
  },
  {
   "cell_type": "code",
   "execution_count": 12,
   "metadata": {},
   "outputs": [
    {
     "name": "stdout",
     "output_type": "stream",
     "text": [
      "10512661\n",
      "22263645\n",
      "25765735\n",
      "6311303\n",
      "25808075\n",
      "26260853\n",
      "26607693\n"
     ]
    }
   ],
   "source": [
    "comment_counts = 300\n",
    "count = 30\n",
    "movie_id_list = get_movie_id_list(comment_counts)  # 获取有300个及以上评论的电影ID\n",
    "for movie_id in movie_id_list:  # 遍历这些ID\n",
    "    word_list = get_comment_keywords_count(movie_id,count)   # 获取ID对应的前counts个热门电影评论词和评论数\n",
    "    movie_name,movie_score = get_movie_name_and_score(movie_id)   # 获取ID对应的电影名字和评分的函数\n",
    "    # [1].extend[2]得[1,2] ,math.floor(1.9)==1\n",
    "    # 可能 kw_list_by_score 不是数字，或无数据，需要try一下\n",
    "    try:\n",
    "        # 把 floor处理后的【评分】和评论关键词添加到 kw_list_by_score 列表\n",
    "        kw_list_by_score[math.floor(movie_score)].extend(word_list.index)  \n",
    "        # 把 floor处理后的【评分】和【评论数】添加到 kw_counts_list_by_score 列表\n",
    "        kw_counts_list_by_score[math.floor(movie_score)].extend(word_list.values)\n",
    "    except:  # 如果上面没有添加成功则输出 该电影ID\n",
    "        print(movie_id)"
   ]
  },
  {
   "cell_type": "code",
   "execution_count": 23,
   "metadata": {
    "collapsed": true
   },
   "outputs": [],
   "source": [
    "path_movie = r'C:\\Users\\10746\\Desktop\\ptthon-test\\数据分析\\movie_keyword_by_score'"
   ]
  },
  {
   "cell_type": "code",
   "execution_count": 24,
   "metadata": {
    "collapsed": true
   },
   "outputs": [],
   "source": [
    "# 创建DataFrame数据\n",
    "# 保存该得分区间的TOP30关键词和出现的总次数\n",
    "for i in range(10):\n",
    "    if kw_list_by_score[i]:\n",
    "        kw30_with_counts = pd.DataFrame({\n",
    "            'kw':kw_list_by_score[i],\n",
    "            'counts':kw_counts_list_by_score[i]\n",
    "        })\n",
    "    # 统计关键词出现的次数，算出百分比 并存储\n",
    "        kw30_with_counts = kw30_with_counts.groupby('kw').sum()\n",
    "        kw30_with_counts = kw30_with_counts.sort_values(by='counts',ascending=False)[:30]\n",
    "        counts_sum = kw30_with_counts['counts'].sum()\n",
    "        kw30_with_counts['percentage'] = kw30_with_counts['counts']/counts_sum\n",
    "        path = os.path.join(path_movie,'{}_movie_keywords.csv'.format(i))\n",
    "        kw30_with_counts.to_csv(path)"
   ]
  },
  {
   "cell_type": "code",
   "execution_count": 25,
   "metadata": {},
   "outputs": [
    {
     "name": "stdout",
     "output_type": "stream",
     "text": [
      "    counts  percentage\n",
      "kw                    \n",
      "喜欢    1356    0.092289\n",
      "自己    1188    0.080855\n",
      "故事     864    0.058804\n",
      "最后     857    0.058327\n",
      "经典     793    0.053971\n",
      "我们     722    0.049139\n",
      "可以     613    0.041721\n",
      "感觉     610    0.041516\n",
      "世界     595    0.040495\n",
      "好看     485    0.033009\n",
      "教父     472    0.032124\n",
      "这样     465    0.031648\n",
      "生活     455    0.030967\n",
      "自由     437    0.029742\n",
      "看到     424    0.028857\n",
      "因为     418    0.028449\n",
      "人生     411    0.027973\n",
      "美国     373    0.025386\n",
      "剧情     363    0.024706\n",
      "导演     348    0.023685\n",
      "小时     324    0.022051\n",
      "爱情     278    0.018921\n",
      "音乐     270    0.018376\n",
      "感动     260    0.017696\n",
      "其实     259    0.017627\n",
      "诺兰     239    0.016266\n",
      "阿甘     212    0.014429\n",
      "男人     210    0.014293\n",
      "励志     196    0.013340\n",
      "人性     196    0.013340 <class 'pandas.core.frame.DataFrame'>\n"
     ]
    }
   ],
   "source": [
    "print(kw30_with_counts,type(kw30_with_counts))"
   ]
  },
  {
   "cell_type": "code",
   "execution_count": 41,
   "metadata": {},
   "outputs": [
    {
     "name": "stdout",
     "output_type": "stream",
     "text": [
      "      4    5    6    7    8    9\n",
      "kw                              \n",
      "喜欢  NaN  NaN  NaN  NaN  NaN  NaN\n",
      "自己  NaN  NaN  NaN  NaN  NaN  NaN\n",
      "故事  NaN  NaN  NaN  NaN  NaN  NaN\n",
      "最后  NaN  NaN  NaN  NaN  NaN  NaN\n",
      "经典  NaN  NaN  NaN  NaN  NaN  NaN\n",
      "我们  NaN  NaN  NaN  NaN  NaN  NaN\n",
      "可以  NaN  NaN  NaN  NaN  NaN  NaN\n",
      "感觉  NaN  NaN  NaN  NaN  NaN  NaN\n",
      "世界  NaN  NaN  NaN  NaN  NaN  NaN\n",
      "好看  NaN  NaN  NaN  NaN  NaN  NaN\n",
      "教父  NaN  NaN  NaN  NaN  NaN  NaN\n",
      "这样  NaN  NaN  NaN  NaN  NaN  NaN\n",
      "生活  NaN  NaN  NaN  NaN  NaN  NaN\n",
      "自由  NaN  NaN  NaN  NaN  NaN  NaN\n",
      "看到  NaN  NaN  NaN  NaN  NaN  NaN\n",
      "因为  NaN  NaN  NaN  NaN  NaN  NaN\n",
      "人生  NaN  NaN  NaN  NaN  NaN  NaN\n",
      "美国  NaN  NaN  NaN  NaN  NaN  NaN\n",
      "剧情  NaN  NaN  NaN  NaN  NaN  NaN\n",
      "导演  NaN  NaN  NaN  NaN  NaN  NaN\n"
     ]
    }
   ],
   "source": [
    "kw_counts_by_score = [[] for _ in range(10)] # 创建10个空列表\n",
    "\n",
    "for i in range(4,10):  # 只取4到9分的内容\n",
    "    path = os.path.join(path_movie,'{}_movie_keywords.csv'.format(i))\n",
    "    f = open(path)\n",
    "    kw_counts_by_score[i] = pd.read_csv(path,engine='python')  # engine='python' \n",
    "\n",
    "    kw_percentage_df = pd.DataFrame([],\n",
    "        columns = list(range(4,10)),\n",
    "        index = kw_counts_by_score[i]['kw'][:20])\n",
    "print(kw_percentage_df)"
   ]
  },
  {
   "cell_type": "code",
   "execution_count": 42,
   "metadata": {
    "collapsed": true
   },
   "outputs": [],
   "source": [
    "for i in range(4,10):\n",
    "    kw = kw_counts_by_score[i]\n",
    "    kw = kw[kw['kw'].isin(kw_percentage_df.index)]\n",
    "    kw_percentage_df[i] = pd.Series(list(kw['percentage']),index=kw['kw'])\n",
    "kw_percentage_df.fillna(0,inplace = True)"
   ]
  },
  {
   "cell_type": "code",
   "execution_count": 43,
   "metadata": {
    "collapsed": true
   },
   "outputs": [],
   "source": [
    "# 设计图表需要的数据\n",
    "# 由 x,y,z 三个坐标组成\n",
    "data = []\n",
    "i = 0\n",
    "for index in kw_percentage_df.index:\n",
    "    j = 0\n",
    "    for column in kw_percentage_df.columns:\n",
    "        data.append([j,i,kw_percentage_df[column][index]*100])\n",
    "        j+=1\n",
    "    i += 1"
   ]
  },
  {
   "cell_type": "code",
   "execution_count": 44,
   "metadata": {},
   "outputs": [
    {
     "data": {
      "text/plain": [
       "'C:\\\\Users\\\\10746\\\\Desktop\\\\heatmap.html'"
      ]
     },
     "execution_count": 44,
     "metadata": {},
     "output_type": "execute_result"
    }
   ],
   "source": [
    "heatmap = HeatMap()\n",
    "columns = list(range(4,10))\n",
    "heatmap.add_xaxis(columns)\n",
    "heatmap.add_yaxis(\"电影评论关键词热力图\",list(kw_percentage_df.index),data)\n",
    "heatmap.set_global_opts(\n",
    "    visualmap_opts = opts.VisualMapOpts(\n",
    "        min_ = 0,\n",
    "        max_ = 10,\n",
    "        orient = 'horizontal'\n",
    "    ),\n",
    ")\n",
    "path = r'C:\\Users\\10746\\Desktop\\heatmap.html'\n",
    "heatmap.render(path = path)"
   ]
  },
  {
   "cell_type": "code",
   "execution_count": null,
   "metadata": {
    "collapsed": true
   },
   "outputs": [],
   "source": []
  },
  {
   "cell_type": "code",
   "execution_count": null,
   "metadata": {
    "collapsed": true
   },
   "outputs": [],
   "source": []
  },
  {
   "cell_type": "code",
   "execution_count": null,
   "metadata": {
    "collapsed": true
   },
   "outputs": [],
   "source": []
  },
  {
   "cell_type": "code",
   "execution_count": null,
   "metadata": {
    "collapsed": true
   },
   "outputs": [],
   "source": []
  }
 ],
 "metadata": {
  "hide_input": false,
  "kernelspec": {
   "display_name": "Python 3",
   "language": "python",
   "name": "python3"
  },
  "language_info": {
   "codemirror_mode": {
    "name": "ipython",
    "version": 3
   },
   "file_extension": ".py",
   "mimetype": "text/x-python",
   "name": "python",
   "nbconvert_exporter": "python",
   "pygments_lexer": "ipython3",
   "version": "3.6.1"
  },
  "toc": {
   "base_numbering": 1,
   "nav_menu": {},
   "number_sections": true,
   "sideBar": true,
   "skip_h1_title": false,
   "title_cell": "Table of Contents",
   "title_sidebar": "Contents",
   "toc_cell": false,
   "toc_position": {},
   "toc_section_display": true,
   "toc_window_display": true
  },
  "varInspector": {
   "cols": {
    "lenName": 16,
    "lenType": 16,
    "lenVar": 40
   },
   "kernels_config": {
    "python": {
     "delete_cmd_postfix": "",
     "delete_cmd_prefix": "del ",
     "library": "var_list.py",
     "varRefreshCmd": "print(var_dic_list())"
    },
    "r": {
     "delete_cmd_postfix": ") ",
     "delete_cmd_prefix": "rm(",
     "library": "var_list.r",
     "varRefreshCmd": "cat(var_dic_list()) "
    }
   },
   "types_to_exclude": [
    "module",
    "function",
    "builtin_function_or_method",
    "instance",
    "_Feature"
   ],
   "window_display": false
  }
 },
 "nbformat": 4,
 "nbformat_minor": 2
}
