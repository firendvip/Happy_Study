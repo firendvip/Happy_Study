{
 "cells": [
  {
   "cell_type": "markdown",
   "metadata": {
    "collapsed": true
   },
   "source": [
    "# Linux安装\n",
    "- 历史 Linux 到 Unix\n",
    "- 版本：RedHat, Fedora Core, CentOS\n",
    "- 虚拟机 Oracle VM VirtualBox下载：https://www.virtualbox.org/wiki/Downloads\n",
    "- Unix镜像下载：http://isoredirect.centos.org/centos/8-stream/isos/x86_64/CentOS-Stream-8-x86_64-20191219-dvd1.iso\n",
    "- 虚拟机参数设置 课时264\n",
    "- Linux系统参数设置 课时267\n",
    "- Linux应用最多的领域：1嵌入式系统（电视，机顶盒，路由器等），2服务器"
   ]
  },
  {
   "cell_type": "markdown",
   "metadata": {},
   "source": [
    "# Linux命令\n",
    "## 安装命令\n",
    "- “httpd是Apache超文本传输协议(HTTP)服务器的主程序。被设计为一个独立运行的后台进程，它会建立一个处理请求的子进程或线程的池\n",
    "- yum search httpd 【搜索httpd开头的文件】\n",
    "- yum info httpd 【查看hhttpd的信息】\n",
    "- yum install httpd 【安装httpd】\n",
    "- sudo yum install httpd 【(super uer do)超级用户权限安装httpd】 后面提示输入用户密码，和Y或N\n",
    "- yum list install httpd 【查看httpd的安装文件列表】\n",
    "- yum delist httpd 【查看安装httpd所需要依赖的文件】\n",
    "- sudo yum remove httpd 【超级权限删除httpd,密码，Y或N，仅删除httpd，不包含依赖文件】\n",
    "- sudo yum autoremove httpd 【超级权限自动删除httpd，包含依赖文件】\n",
    "- which httpd 【查看httpd文件在哪里】\n",
    "- yum repolist 【默认列出所有的可用 Repo 源】"
   ]
  },
  {
   "cell_type": "markdown",
   "metadata": {},
   "source": [
    "## terminal之间切换\n",
    "- ctr+alt+F3到F6 【新建无图形命令行界面】\n",
    "- alt+F1 【切换回最初的界面】\n",
    "\n",
    "## 切换用户\n",
    "- whoami 【查看当前用户名】\n",
    "- su TOM 【切换到TOM账户】\n",
    "- exit 【退出当前账户】"
   ]
  },
  {
   "cell_type": "markdown",
   "metadata": {
    "collapsed": true
   },
   "source": [
    "## ls命令\n",
    "- ls【显示当前路径下的所有文件夹】\n",
    "- ls -l【显示当前路径下的所有文件夹的详细信息】\n",
    "- ls -a【显示当前路径下的所有文件夹的所有信息】\n",
    "- ls -R【显示显示当前路径下的所有文件夹及子孙及文件夹】\n",
    "- ls -S【按文件夹大到小排序】\n",
    "- ls -t【按修改时间近到远排序】"
   ]
  },
  {
   "cell_type": "markdown",
   "metadata": {},
   "source": [
    "## 关机命令\n",
    "- sync【将数据同步到磁盘中】\n",
    "- shutdown【关机指令】\n",
    "- init 0【立刻关机】\n",
    "- shutdown -h now【立马关机】\n",
    "- reboot【重启】\n",
    "- init 6【立刻重启】\n",
    "- shutdown -h +10(或10)【十分钟后关机】\n",
    "- shutdown -h 20:02【系统将在20:02关机】\n",
    "- shutdown -r now【系统立马重启】\n",
    "- shutdown -r +10【系统将在10分钟后重启】"
   ]
  },
  {
   "cell_type": "markdown",
   "metadata": {},
   "source": [
    "## top正在运行的程序\n",
    "- top【查看正在运行的程序】\n",
    "- h 【查看帮助】\n",
    "- q 【退出帮助】\n",
    "- q 【退出，回到命令行】"
   ]
  },
  {
   "cell_type": "markdown",
   "metadata": {},
   "source": [
    "## 查看机器信息\n",
    "- uname【查看系统内核名称】\n",
    "- uname -a或--all【显示全部的信息】\n",
    "- uname -m或--machine【显示电脑类型】\n",
    "- uname -n或-nodename【显示在网络上的主机名称】\n",
    "- uname -r或--release【显示操作系统的发行编号】\n",
    "- uname -s或--sysname【显示操作系统名称】\n",
    "- uname -v【显示操作系统的版本】\n",
    "- uname --help【显示帮助】\n",
    "- uname --version【显示版本信息】"
   ]
  },
  {
   "cell_type": "markdown",
   "metadata": {},
   "source": [
    "## 查看历史记录\n",
    "- ls -a 【查看所有文件】\n",
    "- cat .bash_history 【查看.bash_history文件(查看命令输入的历史记录)】\n",
    "- clear 或 ctrl+i 【清屏】\n",
    "- echo &HISTFLISIZE 【存储的记录数量，默认1000】\n",
    "- echo $HISTCONTROL 【控制历史的记录方式】  \n",
    "  默认ignoredups 【忽略重复选项】\n",
    "- history 【查看所有命令记录】  \n",
    "  !99【执行第99条记录的命令】\n"
   ]
  },
  {
   "cell_type": "markdown",
   "metadata": {},
   "source": [
    "## 变量与命令\n",
    "### 命令是变量\n",
    "- pwd 【查看当前路径，是个变量】\n",
    "- cd Desktop/ 【此时，pwd的内容变为Desktop的路径】\n",
    "- echo \\$PWD 【查看变量所存储的内容】\n",
    "- echo \\$OLDPWD【查看前一步所在位置】\n",
    "### path添加opt\n",
    "- echo \\$PATH【查看PATH路径】\n",
    "- PATH=\\$PATH:/OPT【在原来的path后面加上:/opt作为新的PATH】\n",
    "- echo \\$PATH【再次查看PATH路径】\n",
    "### 自定义命令1\n",
    "- env【查看所有环境变量】\n",
    "- TEST=\"I am testing right now\"【赋值号左右两边不需要空格,赋值需要用双引号\"\"】\n",
    "- echo \\$TEST 【打印刚刚赋值的I am testing right now】\n",
    "- export TEST 【导出TEST命令这样新建的bash也能执行这个命令】\n",
    "- echo \\$PATH 【打印PATH变量内容】\n",
    "### 自定义命令2\n",
    "- which ls【查看ls的文件路径】\n",
    "- env【查看所有环境变量】\n",
    "- 编辑自定义命令1：https://www.jianshu.com/p/7bfe6810d13f\n",
    "- 编辑自定义命令2：https://www.jianshu.com/p/7bfe6810d13f"
   ]
  },
  {
   "cell_type": "markdown",
   "metadata": {},
   "source": [
    "## 文件搜索\n",
    "- which【查看可执行文件的位置】\n",
    "- whereis【查看文件的位置】\n",
    "- locate【配合数据库查看文件位置】\n",
    "- find【实际搜寻硬盘查询文件名称】\n",
    "- 详细 http://blog.chinaunix.net/uid-20554039-id-3035417.html\n",
    "- find Desktop/test/ -name '*.txt'【查找文件名为.txt的文件】\n",
    "- whereis ls【查看ls文件位置】\n",
    "- which ls【查看ls文件位置】\n",
    "- ls *.txt【查看.txt为后缀的所有文件】\n",
    "- ls test?.txt 【查看test(任意字符).txt的文件】\n",
    "- ls [Tt]est[0-9]* 【T或t，0-9中的任意一个，*任何字符都可以匹配】"
   ]
  },
  {
   "cell_type": "markdown",
   "metadata": {},
   "source": [
    "## 单双引号的区别\n",
    "- echo 'User is \\$LOGNAME'【输出结果为 User is $LOGNAME】\n",
    "- echo \"User is \\$LOGNAME\"【输出结果为 User is Atrys,双引号里可放变量】"
   ]
  },
  {
   "cell_type": "markdown",
   "metadata": {},
   "source": [
    "## man/info说明书\n",
    "- man ls【查看ls命令的说明书】\n",
    "- https://www.cnblogs.com/linusflow/p/7371757.html"
   ]
  },
  {
   "cell_type": "markdown",
   "metadata": {},
   "source": [
    "## linux本地文档\n",
    "- cd /usr/share/doc/ 【切换到doc目录】\n",
    "- ls【查看doc目录下的文件】\n",
    "- ls which/【查看doc目录下的ls下的which文件】\n",
    "- cat which/README【README文件，readme读我】  \n",
    "- cd /【切换到最顶层的目录】\n",
    "- ls 【查看顶层目录下的文件夹】"
   ]
  },
  {
   "cell_type": "markdown",
   "metadata": {},
   "source": [
    "## 相对路径\n",
    "- cd ../.. 【相对路径回到上两层】"
   ]
  },
  {
   "cell_type": "markdown",
   "metadata": {
    "collapsed": true
   },
   "source": [
    "## 解压缩/压缩命令\n",
    "- tar.gz zip 解压缩 压缩命令:  \n",
    "https://www.cnblogs.com/wangluochong/p/7194037.html\n"
   ]
  },
  {
   "cell_type": "markdown",
   "metadata": {
    "collapsed": true
   },
   "source": [
    "## tail监控用户登陆\n"
   ]
  },
  {
   "cell_type": "markdown",
   "metadata": {
    "collapsed": true
   },
   "source": [
    "## 符号导入\n",
    "- nano【创建文件】  \n",
    "ctrl+x【退出】  \n",
    "Y【保存】【输入文件名】\n",
    "- cat 1.txt > name_list.txt  \n",
    "cat 2.txt > name_list.txt  \n",
    "- cat 1.txt > name_list.txt  \n",
    "cat 2.txt >> name_list.txt\n",
    "- \\>【表示覆盖原文件内容】\n",
    "- \\>>【表示追加内容】"
   ]
  },
  {
   "cell_type": "markdown",
   "metadata": {
    "collapsed": true
   },
   "source": [
    "## cut 内容切片\n",
    "- cat name_list.txt  \n",
    "内容：  \n",
    "I am Atrys.  \n",
    "I am Peter.\n",
    "- cut -d\" \" -f 3- name_list.txt > name_list_new.txt  \n",
    "-d\" \"【以空格作为切分】  \n",
    "-f【选取整块区域】  \n",
    "3-【取第3及之后的块】  \n",
    "name_list.txt【处理的目标文件】\n",
    "- cat name_list_new.txt  \n",
    "展示结果为：  \n",
    "Atrys  \n",
    "Peter  "
   ]
  },
  {
   "cell_type": "markdown",
   "metadata": {
    "collapsed": true
   },
   "source": [
    "## sort反转排序\n",
    "- sort name_list_new.txt > name_list_new_2.txt  \n",
    "sort【反转内容排序，默认取整块】\n",
    "- cat name_list_new_2.txt  \n",
    "展示结果为：  \n",
    "Peter  \n",
    "Atrys"
   ]
  },
  {
   "cell_type": "markdown",
   "metadata": {
    "collapsed": true
   },
   "source": [
    "## echo 与 >>\n",
    "- echo \"Lines Words Document\" >> name_list_new_2.txt\n",
    "- cat name_list_new_2.txt  \n",
    "展示结果为：  \n",
    "Atrys\n",
    "Peter\n",
    "Lines Words Document"
   ]
  },
  {
   "cell_type": "markdown",
   "metadata": {},
   "source": [
    "## wc文本统计\n",
    "- wc -c filename： 显示一个文件的字节数\n",
    "- wc -m filename：显示一个文件的字符数\n",
    "- wc -l filename：  显示一个文件的行数\n",
    "- wc -L filename： 显示一个文件中的最长行的长度\n",
    "- wc -w filename：显示一个文件的字数\n",
    "- wc -lw name_list_new_2.txt >> name_list_new_2.txt  \n",
    " -lw 【统计文件的行数和单词数】\n",
    "- cat name_list_new_2.txt"
   ]
  },
  {
   "cell_type": "markdown",
   "metadata": {},
   "source": [
    "## 正则表达式\n",
    "- grep -i '^love' filename\n",
    "grep【搜索】\n",
    "-i 【不分大小写】  \n",
    "'^love'【以love开头的整行】  \n",
    "filename【需要处理的文件名】\n",
    "- grep -i 'love\\$' filename\n",
    "'love$'【以love结尾的整行】\n",
    "- grep '^[AaBb]' filename\n",
    "'^[AaBb]'【以A或a或B或b开头的整行，[]表或的意思】\n",
    "- grep '^[^AaBb]' filename\n",
    "'^[^AaBb]'【找除了A或a或B或b以外开头的整行】\n",
    "- grep '^.[AaBb]' filename\n",
    "'^.[AaBb]'【.表可以是任何字符，第二个字符为A或a或B或b 开头的整行】\n",
    "- grep '^.[AaBb]' filename | less  \n",
    "| 【命令结果传递给下一个命令处理】\n"
   ]
  },
  {
   "cell_type": "markdown",
   "metadata": {},
   "source": [
    "## vim 系统文本编辑器\n",
    "https://www.runoob.com/linux/linux-vim.html"
   ]
  },
  {
   "cell_type": "markdown",
   "metadata": {},
   "source": [
    "## 报时间小程序\n",
    "- vim daily_routine.sh【vim编辑器创建 daily_routine.sh文件】\n",
    "- i进入编辑模式 写入以下代码  \n",
    "#!/bin/bash  \n",
    "#This is my daily routine!  \n",
    "#Check what date it is.  \n",
    "cal  \n",
    "#Check date and time.  \n",
    "date -u  \n",
    "#ZhongEr ing!  \n",
    "echo \"Greeting my Lord! $LOGNAME,You are handsome!\"  \n",
    "- esc键 :w :q 【:进入底线模式，w写入 :q退出】\n",
    "- chmod +x daily_routine.sh 【给daily_routine.sh加入可执行的权限】"
   ]
  },
  {
   "cell_type": "markdown",
   "metadata": {},
   "source": [
    "## 快捷命令\n",
    "- cd【回到根目录】\n",
    "- mkdir bin/【创建bin文件夹】\n",
    "- mv daily_routine.sh bin/ 【把daily_routine.sh移动到bin文件夹】\n",
    "- cd Desktop/【切到Desktop文件夹下】\n",
    "- daily_routine.sh【一样可以执行daily_routine.sh文件】"
   ]
  },
  {
   "cell_type": "markdown",
   "metadata": {
    "collapsed": true
   },
   "source": [
    "## daily_routine.sh逻辑判断\n",
    "- read -p \"Enter your Password\" pass【让用户输入密码】  \n",
    "if test \"$pass\" = \"110\"  \n",
    "then  \n",
    "    echo \"Right\"  \n",
    "else  \n",
    "    echo \"Wrong\"  \n",
    "fi"
   ]
  },
  {
   "cell_type": "code",
   "execution_count": null,
   "metadata": {
    "collapsed": true
   },
   "outputs": [],
   "source": []
  },
  {
   "cell_type": "code",
   "execution_count": null,
   "metadata": {
    "collapsed": true
   },
   "outputs": [],
   "source": []
  },
  {
   "cell_type": "code",
   "execution_count": null,
   "metadata": {
    "collapsed": true
   },
   "outputs": [],
   "source": []
  },
  {
   "cell_type": "code",
   "execution_count": null,
   "metadata": {
    "collapsed": true
   },
   "outputs": [],
   "source": []
  },
  {
   "cell_type": "code",
   "execution_count": null,
   "metadata": {
    "collapsed": true
   },
   "outputs": [],
   "source": []
  }
 ],
 "metadata": {
  "hide_input": false,
  "kernelspec": {
   "display_name": "Python 3",
   "language": "python",
   "name": "python3"
  },
  "language_info": {
   "codemirror_mode": {
    "name": "ipython",
    "version": 3
   },
   "file_extension": ".py",
   "mimetype": "text/x-python",
   "name": "python",
   "nbconvert_exporter": "python",
   "pygments_lexer": "ipython3",
   "version": "3.6.1"
  },
  "toc": {
   "base_numbering": 1,
   "nav_menu": {},
   "number_sections": true,
   "sideBar": true,
   "skip_h1_title": false,
   "title_cell": "Table of Contents",
   "title_sidebar": "Contents",
   "toc_cell": false,
   "toc_position": {
    "height": "calc(100% - 180px)",
    "left": "10px",
    "top": "150px",
    "width": "206px"
   },
   "toc_section_display": true,
   "toc_window_display": true
  },
  "varInspector": {
   "cols": {
    "lenName": 16,
    "lenType": 16,
    "lenVar": 40
   },
   "kernels_config": {
    "python": {
     "delete_cmd_postfix": "",
     "delete_cmd_prefix": "del ",
     "library": "var_list.py",
     "varRefreshCmd": "print(var_dic_list())"
    },
    "r": {
     "delete_cmd_postfix": ") ",
     "delete_cmd_prefix": "rm(",
     "library": "var_list.r",
     "varRefreshCmd": "cat(var_dic_list()) "
    }
   },
   "types_to_exclude": [
    "module",
    "function",
    "builtin_function_or_method",
    "instance",
    "_Feature"
   ],
   "window_display": false
  }
 },
 "nbformat": 4,
 "nbformat_minor": 2
}
