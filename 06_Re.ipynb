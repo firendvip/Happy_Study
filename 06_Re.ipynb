{
 "cells": [
  {
   "cell_type": "markdown",
   "metadata": {},
   "source": [
    "# 正则表达式"
   ]
  },
  {
   "cell_type": "code",
   "execution_count": 17,
   "metadata": {
    "collapsed": true
   },
   "outputs": [],
   "source": [
    "import re\n",
    "message = 'Hi there! My name is William jiami Williamace William ace and my wechat id is abcdefc10086,\\\n",
    "            can call me at (86)-18888888888,if it doesnot work,you can call\\\n",
    "            86-16666666666,if it doesnot work,you can call 86-17777777777'"
   ]
  },
  {
   "cell_type": "markdown",
   "metadata": {},
   "source": [
    "## 找手机号码"
   ]
  },
  {
   "cell_type": "code",
   "execution_count": 9,
   "metadata": {},
   "outputs": [
    {
     "name": "stdout",
     "output_type": "stream",
     "text": [
      "86-18888888888\n"
     ]
    }
   ],
   "source": [
    "# 定义 find_phone_number的编译获取条件 为 数字数字-数字....（11个数字） 【\\d为数字】\n",
    "find_phone_number = re.compile(r'\\d\\d-\\d\\d\\d\\d\\d\\d\\d\\d\\d\\d\\d') \n",
    "# find_phone_number.search 搜索(message)\n",
    "match_object = find_phone_number.search(message) \n",
    "print(match_object.group())"
   ]
  },
  {
   "cell_type": "markdown",
   "metadata": {},
   "source": [
    "## 找所有手机号码"
   ]
  },
  {
   "cell_type": "code",
   "execution_count": 10,
   "metadata": {},
   "outputs": [
    {
     "name": "stdout",
     "output_type": "stream",
     "text": [
      "['86-18888888888', '86-16666666666', '86-17777777777']\n"
     ]
    }
   ],
   "source": [
    "match_object = find_phone_number.findall(message) # .findall查找所有符合条件的\n",
    "print(match_object) # 打印出来的为列表"
   ]
  },
  {
   "cell_type": "markdown",
   "metadata": {},
   "source": [
    "## 分组找号码"
   ]
  },
  {
   "cell_type": "code",
   "execution_count": 10,
   "metadata": {},
   "outputs": [
    {
     "name": "stdout",
     "output_type": "stream",
     "text": [
      "(86)\n",
      "18888888888\n",
      "<class 'str'>\n"
     ]
    }
   ],
   "source": [
    "# 分成两个小组\n",
    "find_phone_number = re.compile(r'(\\(\\d\\d\\))-(\\d\\d\\d\\d\\d\\d\\d\\d\\d\\d\\d)') \n",
    "# find_phone_number.search 搜索(message)\n",
    "match_object = find_phone_number.search(message) \n",
    "print(match_object.group(1)) # 搜索小组1 即86\n",
    "print(match_object.group(2)) # 搜索小组2 即电话号码\n",
    "print(type(match_object.group(2)))"
   ]
  },
  {
   "cell_type": "markdown",
   "metadata": {},
   "source": [
    "## 找单个人名"
   ]
  },
  {
   "cell_type": "code",
   "execution_count": 18,
   "metadata": {},
   "outputs": [
    {
     "name": "stdout",
     "output_type": "stream",
     "text": [
      "William jiami\n"
     ]
    }
   ],
   "source": [
    "# 找到下面其中一个的 第一个\n",
    "Willianm_Regex = re.compile(r'William( jiami| ace | teach)')\n",
    "mo = Willianm_Regex.search(message)\n",
    "print(mo.group())"
   ]
  },
  {
   "cell_type": "markdown",
   "metadata": {},
   "source": [
    "## ()? 可选搜索"
   ]
  },
  {
   "cell_type": "code",
   "execution_count": 23,
   "metadata": {},
   "outputs": [
    {
     "name": "stdout",
     "output_type": "stream",
     "text": [
      "Monkey D Lufy\n"
     ]
    }
   ],
   "source": [
    "message = 'I am Monkey D Lufy. I am the king of the see'\n",
    "# （D ）？如果有D空格或无D空格  都可以搜索出来    \n",
    "#  ()? : ()里面是可选的\n",
    "Lufy_Regex = re.compile(r'Monkey (D )?Lufy')\n",
    "mo = Lufy_Regex.search(message)\n",
    "print(mo.group())"
   ]
  },
  {
   "cell_type": "markdown",
   "metadata": {},
   "source": [
    "## *包含多个搜索"
   ]
  },
  {
   "cell_type": "code",
   "execution_count": 28,
   "metadata": {},
   "outputs": [
    {
     "name": "stdout",
     "output_type": "stream",
     "text": [
      "yeah~~~~~~~~~~~\n"
     ]
    }
   ],
   "source": [
    "text = 'I am soooooo happy right now, yeah~~~~~~~~~~~'\n",
    "Happy_guy_Regex = re.compile(r'yeah(~)*') # * 表示有0个或多个\n",
    "# Happy_guy_Regex = re.compile(r'yeah(~)+') # * 表示有1个或多个\n",
    "mo = Happy_guy_Regex.search(text)\n",
    "print(mo.group())"
   ]
  },
  {
   "cell_type": "markdown",
   "metadata": {},
   "source": [
    "## {3}指定找N个"
   ]
  },
  {
   "cell_type": "code",
   "execution_count": 30,
   "metadata": {},
   "outputs": [
    {
     "name": "stdout",
     "output_type": "stream",
     "text": [
      "yeah~~~\n"
     ]
    }
   ],
   "source": [
    "text = 'I am soooooo happy right now, yeah~~~~~~~~~~~'\n",
    "Happy_guy_Regex = re.compile(r'yeah(~){3}') # {3}表示要找3个~\n",
    "mo = Happy_guy_Regex.search(text)\n",
    "print(mo.group())"
   ]
  },
  {
   "cell_type": "markdown",
   "metadata": {},
   "source": [
    "## 优化搜索号码"
   ]
  },
  {
   "cell_type": "code",
   "execution_count": 40,
   "metadata": {},
   "outputs": [
    {
     "name": "stdout",
     "output_type": "stream",
     "text": [
      "(86)-18888888888\n",
      "(86)\n",
      "18888888888\n"
     ]
    }
   ],
   "source": [
    "message = 'Hi there! My name is William jiami Williamace William ace and my wechat id is abcdefc10086,\\\n",
    "            can call me at (86)-18888888888,if it doesnot work,you can call\\\n",
    "            86-16666666666,if it doesnot work,you can call 86-17777777777'\n",
    "# 分成两个小组\n",
    "find_phone_number = re.compile(r'(\\(\\d{2}\\))-(\\d{11})') \n",
    "# find_phone_number.search 搜索(message)\n",
    "match_object = find_phone_number.search(message) \n",
    "print(match_object.group())\n",
    "print(match_object.group(1))\n",
    "print(match_object.group(2))"
   ]
  },
  {
   "cell_type": "markdown",
   "metadata": {},
   "source": [
    "## 范围搜索"
   ]
  },
  {
   "cell_type": "code",
   "execution_count": 42,
   "metadata": {},
   "outputs": [
    {
     "name": "stdout",
     "output_type": "stream",
     "text": [
      "(0)-18888\n",
      "(0)\n",
      "18888\n"
     ]
    }
   ],
   "source": [
    "message = 'Hi there! My name is William jiami Williamace William ace and my wechat id is abcdefc10086,\\\n",
    "            can call me at (0)-188888888888,if it doesnot work,you can call\\\n",
    "            86-16666666666,if it doesnot work,you can call 86-17777777777'\n",
    "# {0,3} 0到3个都可以   {5,13}?表示最多找到5个，如果不加？ 则最多找到13个\n",
    "find_phone_number = re.compile(r'(\\(\\d{0,3}\\))-(\\d{5,13}?)') \n",
    "# find_phone_number.search 搜索(message)\n",
    "match_object = find_phone_number.search(message) \n",
    "print(match_object.group())\n",
    "print(match_object.group(1))\n",
    "print(match_object.group(2))"
   ]
  },
  {
   "cell_type": "markdown",
   "metadata": {},
   "source": [
    "## findall搜索号码"
   ]
  },
  {
   "cell_type": "code",
   "execution_count": 47,
   "metadata": {},
   "outputs": [
    {
     "name": "stdout",
     "output_type": "stream",
     "text": [
      "[('400', '921', '3900'), ('400', '800', '8888'), ('400', '921', '9999'), ('400', '099', '8998')]\n",
      "('400', '921', '3900')\n",
      "921\n"
     ]
    }
   ],
   "source": [
    "text = \"\"\"百度热线\t400-921-3900\n",
    "百度推广售前\t400-800-8888\n",
    "百度推广售后\t400-921-9999\n",
    "百度地图\t400-099-8998\n",
    "百度钱包、百度理财\t95055\"\"\"\n",
    "phone_number_Regex = re.compile(r'(\\d\\d\\d)-(\\d\\d\\d)-(\\d\\d\\d\\d)') \n",
    "match_list = phone_number_Regex.findall(text) \n",
    "print(match_list)\n",
    "print(match_list[0])\n",
    "print(match_list[0][1])"
   ]
  },
  {
   "cell_type": "code",
   "execution_count": null,
   "metadata": {
    "collapsed": true
   },
   "outputs": [],
   "source": []
  }
 ],
 "metadata": {
  "hide_input": false,
  "kernelspec": {
   "display_name": "Python 3",
   "language": "python",
   "name": "python3"
  },
  "language_info": {
   "codemirror_mode": {
    "name": "ipython",
    "version": 3
   },
   "file_extension": ".py",
   "mimetype": "text/x-python",
   "name": "python",
   "nbconvert_exporter": "python",
   "pygments_lexer": "ipython3",
   "version": "3.6.1"
  },
  "toc": {
   "base_numbering": 1,
   "nav_menu": {},
   "number_sections": true,
   "sideBar": true,
   "skip_h1_title": false,
   "title_cell": "Table of Contents",
   "title_sidebar": "Contents",
   "toc_cell": false,
   "toc_position": {},
   "toc_section_display": true,
   "toc_window_display": true
  },
  "varInspector": {
   "cols": {
    "lenName": 16,
    "lenType": 16,
    "lenVar": 40
   },
   "kernels_config": {
    "python": {
     "delete_cmd_postfix": "",
     "delete_cmd_prefix": "del ",
     "library": "var_list.py",
     "varRefreshCmd": "print(var_dic_list())"
    },
    "r": {
     "delete_cmd_postfix": ") ",
     "delete_cmd_prefix": "rm(",
     "library": "var_list.r",
     "varRefreshCmd": "cat(var_dic_list()) "
    }
   },
   "types_to_exclude": [
    "module",
    "function",
    "builtin_function_or_method",
    "instance",
    "_Feature"
   ],
   "window_display": false
  }
 },
 "nbformat": 4,
 "nbformat_minor": 2
}
