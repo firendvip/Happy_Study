{
 "cells": [
  {
   "cell_type": "markdown",
   "metadata": {},
   "source": [
    "#### cd C:/Users/10746/HappyStudy && git add . && git commit -m \"backups\" && git push happy_study master"
   ]
  },
  {
   "cell_type": "markdown",
   "metadata": {},
   "source": [
    "# 02_Python_Basics\n",
    "### Class基础"
   ]
  },
  {
   "cell_type": "code",
   "execution_count": 16,
   "metadata": {},
   "outputs": [
    {
     "name": "stdout",
     "output_type": "stream",
     "text": [
      "WW Jevon 29\n"
     ]
    }
   ],
   "source": [
    "import datetime\n",
    "class User:   # 定义类\n",
    "    \"\"\" Storing User Information \"\"\"\n",
    "    def __init__(self,full_name,birthday):  \n",
    "        self.name = full_name\n",
    "        self.birthday = birthday\n",
    "        \n",
    "        name_splits = full_name.split(' ') # 以空格作为切割\n",
    "        self.first_name = name_splits[0]  # 第一个切割的值作为first_name\n",
    "        self.last_name = name_splits[-1]  # 最后一个切割的值作为last_name\n",
    "    \n",
    "    def age(self):\n",
    "        \"\"\" Calculate the age of the User \"\"\"\n",
    "        today = datetime.date(2020,1,13) # 定义今天日期为 2020,1,13\n",
    "        years = int(self.birthday[0:4])  # 切割前四个为年 \n",
    "        months = int(self.birthday[4:6])\n",
    "        days = int(self.birthday[6:8])\n",
    "        \n",
    "        birth_data = datetime.date(years,months,days)  # 按照上面today的格式存储 birth_data 数据\n",
    "        your_days = (today - birth_data).days # 今天-生日 算出你一共活了多少天\n",
    "        your_years = your_days/365   # 天/365 = 年\n",
    "        return int(your_years)\n",
    "\n",
    "user1 = User('WW Jevon','19900510')\n",
    "print(user1.name,user1.age())"
   ]
  },
  {
   "cell_type": "code",
   "execution_count": 5,
   "metadata": {},
   "outputs": [
    {
     "name": "stdout",
     "output_type": "stream",
     "text": [
      "5450.6875\n"
     ]
    }
   ],
   "source": []
  },
  {
   "cell_type": "code",
   "execution_count": 6,
   "metadata": {},
   "outputs": [
    {
     "name": "stdout",
     "output_type": "stream",
     "text": [
      "13\n"
     ]
    }
   ],
   "source": [
    "base_num = 2.2\n",
    "person = 10000\n",
    "max_person = 140000000\n",
    "count = 0\n",
    "while(person <= max_person):\n",
    "    person = person * base_num\n",
    "    count += 1\n",
    "print(count)"
   ]
  },
  {
   "cell_type": "code",
   "execution_count": 5,
   "metadata": {},
   "outputs": [
    {
     "name": "stdout",
     "output_type": "stream",
     "text": [
      "11\n"
     ]
    }
   ],
   "source": [
    "base_num = 0.4\n",
    "person = 20000\n",
    "max_person = 1\n",
    "count = 0\n",
    "while(person >= max_person):\n",
    "    person = person * base_num\n",
    "    count += 1\n",
    "print(count)"
   ]
  },
  {
   "cell_type": "code",
   "execution_count": null,
   "metadata": {
    "collapsed": true
   },
   "outputs": [],
   "source": []
  }
 ],
 "metadata": {
  "hide_input": false,
  "kernelspec": {
   "display_name": "Python 3",
   "language": "python",
   "name": "python3"
  },
  "language_info": {
   "codemirror_mode": {
    "name": "ipython",
    "version": 3
   },
   "file_extension": ".py",
   "mimetype": "text/x-python",
   "name": "python",
   "nbconvert_exporter": "python",
   "pygments_lexer": "ipython3",
   "version": "3.6.1"
  },
  "toc": {
   "base_numbering": 1,
   "nav_menu": {},
   "number_sections": true,
   "sideBar": true,
   "skip_h1_title": false,
   "title_cell": "Table of Contents",
   "title_sidebar": "Contents",
   "toc_cell": false,
   "toc_position": {},
   "toc_section_display": true,
   "toc_window_display": true
  },
  "varInspector": {
   "cols": {
    "lenName": 16,
    "lenType": 16,
    "lenVar": 40
   },
   "kernels_config": {
    "python": {
     "delete_cmd_postfix": "",
     "delete_cmd_prefix": "del ",
     "library": "var_list.py",
     "varRefreshCmd": "print(var_dic_list())"
    },
    "r": {
     "delete_cmd_postfix": ") ",
     "delete_cmd_prefix": "rm(",
     "library": "var_list.r",
     "varRefreshCmd": "cat(var_dic_list()) "
    }
   },
   "types_to_exclude": [
    "module",
    "function",
    "builtin_function_or_method",
    "instance",
    "_Feature"
   ],
   "window_display": false
  }
 },
 "nbformat": 4,
 "nbformat_minor": 2
}
