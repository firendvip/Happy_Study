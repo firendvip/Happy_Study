{
 "cells": [
  {
   "cell_type": "markdown",
   "metadata": {},
   "source": [
    "### 算数运算符\n",
    "- 小括号具有最高优先级\n",
    "- 运算符的优先级：\n",
    "- 指数运算符具有最高优先级（**）\n",
    "- ‘~’ ,’+’ ,’-’ 按位翻转，一元加号和减号（最后两个的方法名为 +@ 和 -@）\n",
    "- ‘*’ ,’/’ ,’%’ ,’//’, 乘，除，取模和取整除\n",
    "- “+”,\"-\"加减法\n",
    "- “>>” \"<< 右移，左移运算符\n",
    "- & 位 ‘AND’\n",
    "- ~ | 位运算符\n",
    "- <= >= < > 比较运算符\n",
    "- == != 等于运算符\n",
    "- = %= /= //= -= += *= **= 赋值运算符\n",
    "- is is not 身份运算符\n",
    "- in not in 成员运算符\n",
    "- not or and 逻辑运算符"
   ]
  },
  {
   "cell_type": "markdown",
   "metadata": {},
   "source": [
    "### 输入年龄和性别判断运势"
   ]
  },
  {
   "cell_type": "code",
   "execution_count": 1,
   "metadata": {},
   "outputs": [
    {
     "name": "stdout",
     "output_type": "stream",
     "text": [
      "请输入您的性别（F/M）：f\n",
      "请输入您的年龄：33\n",
      "***你今年的运势***\n",
      "你会考上清华并找到一个男盆友\n"
     ]
    }
   ],
   "source": [
    "while 1:\n",
    "    gender = input('请输入您的性别（F/M）：')\n",
    "    if gender == 'F' or gender == 'f' or gender == 'M' or gender == 'm':\n",
    "        break\n",
    "    else:\n",
    "        print('性别输入错误，请输入F或M')\n",
    "        continue\n",
    "while 1:\n",
    "    age = input('请输入您的年龄：')\n",
    "    if age.isdigit() == False:\n",
    "        print('年龄输入错误，请输入整数')\n",
    "        continue\n",
    "    else:\n",
    "        if  gender == 'F' or gender == 'f':\n",
    "            print('***你今年的运势***\\n你会考上清华并找到一个男盆友')\n",
    "            break\n",
    "        else:\n",
    "            print('***你今年的运势***\\n你会考上清华并找到一个女盆友')\n",
    "            break"
   ]
  },
  {
   "cell_type": "markdown",
   "metadata": {},
   "source": [
    "### 输入4位判断是否为闰年"
   ]
  },
  {
   "cell_type": "code",
   "execution_count": null,
   "metadata": {
    "collapsed": true
   },
   "outputs": [],
   "source": [
    "# 用户输入4位整数作为年份，\n",
    "# 判断其是否为闰年。\n",
    "# 如果年份能被400整除，则为闰年；\n",
    "# 如果年份能被4整除但不能被100整除也为闰年。\n",
    "# 判断\n",
    "# 要求输入位4位整数，否则重新输入\n",
    "while 1:\n",
    "    year = input('请输入年份(4位整数)：')\n",
    "    if  year.isdigit() == False:\n",
    "        print('输入错误，请重新输入')\n",
    "        continue\n",
    "    else:\n",
    "        break\n",
    "# 把input接收的str变为int类型\n",
    "int_year = int(year)\n",
    "# 闰年判断：（被400整除） 或 （被4整除且不能被100）\n",
    "if  (int_year% 400 == 0) or (int_year % 4==0 and int_year % 100 != 0):\n",
    "    print(f'{int_year}是闰年')\n",
    "else:\n",
    "    print(f'{int_year}不是闰年')"
   ]
  },
  {
   "cell_type": "markdown",
   "metadata": {},
   "source": [
    "### 1万元存银行多少年翻倍"
   ]
  },
  {
   "cell_type": "code",
   "execution_count": 1,
   "metadata": {},
   "outputs": [
    {
     "name": "stdout",
     "output_type": "stream",
     "text": [
      "1万元单利计算 31 年后连本带息会翻番\n",
      "1万元复利计算 22 年后连本带息会翻番\n"
     ]
    }
   ],
   "source": [
    "# 利率：3.25% 本金：10000\n",
    "# 定期单利，即利息不产生利息\n",
    "money_danli = 10000\n",
    "year_danli = 0\n",
    "while money_danli <= 20000 :\n",
    "        money_danli = money_danli + 0.0325 * 10000\n",
    "        year_danli += 1\n",
    "print(f'1万元单利计算 {year_danli} 年后连本带息会翻番')\n",
    "\n",
    "# 定期复利，即利息会产生利息\n",
    "money_fuli = 10000\n",
    "year_fuli = 0\n",
    "while money_fuli <= 20000 :\n",
    "        year_fuli += 1\n",
    "        money_fuli = money_fuli * (1 + 0.0325)\n",
    "print(f'1万元复利计算 {year_fuli} 年后连本带息会翻番')"
   ]
  },
  {
   "cell_type": "markdown",
   "metadata": {},
   "source": [
    "### 奇数偶数分开"
   ]
  },
  {
   "cell_type": "code",
   "execution_count": 3,
   "metadata": {},
   "outputs": [
    {
     "name": "stdout",
     "output_type": "stream",
     "text": [
      "奇数列表是[1, 3, 5, 7, 9, 33, 77]\n",
      "偶数列表是[2, 4, 6, 8, 10, 44, 66, 100]\n"
     ]
    }
   ],
   "source": [
    "nums = [1,2,3,4,5,6,7,8,9,10,33,44,66,77,100]\n",
    "nums_jishu = []\n",
    "nums_oushu = []\n",
    "i = 0\n",
    "while i < len(nums):\n",
    "    if nums[i] % 2 == 0:\n",
    "        nums_oushu.append(nums[i])\n",
    "    else:\n",
    "        nums_jishu.append(nums[i])\n",
    "    i += 1\n",
    "print(f'奇数列表是{nums_jishu}')\n",
    "print(f'偶数列表是{nums_oushu}')"
   ]
  },
  {
   "cell_type": "code",
   "execution_count": null,
   "metadata": {
    "collapsed": true
   },
   "outputs": [],
   "source": []
  },
  {
   "cell_type": "markdown",
   "metadata": {},
   "source": [
    "### 对话游戏"
   ]
  },
  {
   "cell_type": "code",
   "execution_count": 2,
   "metadata": {},
   "outputs": [
    {
     "name": "stdout",
     "output_type": "stream",
     "text": [
      "\n",
      "老王's hp/mp is 300/80.\n",
      "敌人1's hp/mp is 100/0.\n",
      "敌人2's hp/mp is 200/0.\n",
      "【A1/A2：普通攻击第1/2个敌人】【J1/J2：技能攻击第1/2个敌人】【D：防御】\n",
      "请输入A1/A2/J1/J2/D:a1\n",
      "\n",
      "老王's hp/mp is 300/80.\n",
      "敌人1's hp/mp is 100/0.\n",
      "敌人2's hp/mp is 200/0.\n",
      "【A1/A2：普通攻击第1/2个敌人】【J1/J2：技能攻击第1/2个敌人】【D：防御】\n",
      "请输入A1/A2/J1/J2/D:a2\n",
      "\n",
      "老王's hp/mp is 300/80.\n",
      "敌人1's hp/mp is 100/0.\n",
      "敌人2's hp/mp is 200/0.\n",
      "【A1/A2：普通攻击第1/2个敌人】【J1/J2：技能攻击第1/2个敌人】【D：防御】\n",
      "请输入A1/A2/J1/J2/D:a1\n",
      "\n",
      "老王's hp/mp is 300/80.\n",
      "敌人1's hp/mp is 100/0.\n",
      "敌人2's hp/mp is 200/0.\n",
      "【A1/A2：普通攻击第1/2个敌人】【J1/J2：技能攻击第1/2个敌人】【D：防御】\n",
      "请输入A1/A2/J1/J2/D:a1\n",
      "\n",
      "老王's hp/mp is 300/80.\n",
      "敌人1's hp/mp is 100/0.\n",
      "敌人2's hp/mp is 200/0.\n",
      "【A1/A2：普通攻击第1/2个敌人】【J1/J2：技能攻击第1/2个敌人】【D：防御】\n",
      "请输入A1/A2/J1/J2/D:a1\n",
      "\n",
      "老王's hp/mp is 300/80.\n",
      "敌人1's hp/mp is 100/0.\n",
      "敌人2's hp/mp is 200/0.\n",
      "【A1/A2：普通攻击第1/2个敌人】【J1/J2：技能攻击第1/2个敌人】【D：防御】\n",
      "请输入A1/A2/J1/J2/D:a1\n",
      "\n",
      "老王's hp/mp is 300/80.\n",
      "敌人1's hp/mp is 100/0.\n",
      "敌人2's hp/mp is 200/0.\n",
      "【A1/A2：普通攻击第1/2个敌人】【J1/J2：技能攻击第1/2个敌人】【D：防御】\n",
      "请输入A1/A2/J1/J2/D:a1\n",
      "\n",
      "老王's hp/mp is 300/80.\n",
      "敌人1's hp/mp is 100/0.\n",
      "敌人2's hp/mp is 200/0.\n",
      "【A1/A2：普通攻击第1/2个敌人】【J1/J2：技能攻击第1/2个敌人】【D：防御】\n",
      "请输入A1/A2/J1/J2/D:a2\n",
      "\n",
      "老王's hp/mp is 300/80.\n",
      "敌人1's hp/mp is 100/0.\n",
      "敌人2's hp/mp is 200/0.\n",
      "【A1/A2：普通攻击第1/2个敌人】【J1/J2：技能攻击第1/2个敌人】【D：防御】\n",
      "请输入A1/A2/J1/J2/D:A2\n",
      "\n",
      "老王's hp/mp is 280/90.0.\n",
      "敌人1's hp/mp is 100/0.\n",
      "敌人2's hp/mp is 190/5.0.\n",
      "【A1/A2：普通攻击第1/2个敌人】【J1/J2：技能攻击第1/2个敌人】【D：防御】\n",
      "请输入A1/A2/J1/J2/D:A1\n",
      "\n",
      "老王's hp/mp is 260/100.0.\n",
      "敌人1's hp/mp is 90/5.0.\n",
      "敌人2's hp/mp is 190/5.0.\n",
      "【A1/A2：普通攻击第1/2个敌人】【J1/J2：技能攻击第1/2个敌人】【D：防御】\n",
      "请输入A1/A2/J1/J2/D:A1\n",
      "\n",
      "老王's hp/mp is 240/110.0.\n",
      "敌人1's hp/mp is 80/10.0.\n",
      "敌人2's hp/mp is 190/5.0.\n",
      "【A1/A2：普通攻击第1/2个敌人】【J1/J2：技能攻击第1/2个敌人】【D：防御】\n",
      "请输入A1/A2/J1/J2/D:A1\n",
      "\n",
      "老王's hp/mp is 220/120.0.\n",
      "敌人1's hp/mp is 70/15.0.\n",
      "敌人2's hp/mp is 190/5.0.\n",
      "【A1/A2：普通攻击第1/2个敌人】【J1/J2：技能攻击第1/2个敌人】【D：防御】\n",
      "请输入A1/A2/J1/J2/D:A1\n",
      "\n",
      "老王's hp/mp is 200/130.0.\n",
      "敌人1's hp/mp is 60/20.0.\n",
      "敌人2's hp/mp is 190/5.0.\n",
      "【A1/A2：普通攻击第1/2个敌人】【J1/J2：技能攻击第1/2个敌人】【D：防御】\n",
      "请输入A1/A2/J1/J2/D:J1\n",
      "\n",
      "老王's hp/mp is 180.0/120.0.\n",
      "敌人1's hp/mp is 40/30.0.\n",
      "敌人2's hp/mp is 190/5.0.\n",
      "【A1/A2：普通攻击第1/2个敌人】【J1/J2：技能攻击第1/2个敌人】【D：防御】\n",
      "请输入A1/A2/J1/J2/D:J1\n",
      "\n",
      "老王's hp/mp is 160.0/110.0.\n",
      "敌人1's hp/mp is 20/40.0.\n",
      "敌人2's hp/mp is 190/5.0.\n",
      "【A1/A2：普通攻击第1/2个敌人】【J1/J2：技能攻击第1/2个敌人】【D：防御】\n",
      "请输入A1/A2/J1/J2/D:J1\n",
      "******* 敌人1已死亡 *******\n",
      "\n",
      "老王's hp/mp is 140.0/100.0.\n",
      "敌人1's hp/mp is 0/50.0.\n",
      "敌人2's hp/mp is 190/5.0.\n",
      "【A1/A2：普通攻击第1/2个敌人】【J1/J2：技能攻击第1/2个敌人】【D：防御】\n",
      "请输入A1/A2/J1/J2/D:J1\n",
      "******* 敌人1已死亡，请攻击其他敌人 *******\n",
      "\n",
      "老王's hp/mp is 140.0/100.0.\n",
      "敌人1's hp/mp is 0/50.0.\n",
      "敌人2's hp/mp is 190/5.0.\n",
      "【A1/A2：普通攻击第1/2个敌人】【J1/J2：技能攻击第1/2个敌人】【D：防御】\n",
      "请输入A1/A2/J1/J2/D:J2\n",
      "******* 敌人1已死亡 *******\n",
      "\n",
      "老王's hp/mp is 130.0/85.0.\n",
      "敌人1's hp/mp is 0/50.0.\n",
      "敌人2's hp/mp is 170/15.0.\n",
      "【A1/A2：普通攻击第1/2个敌人】【J1/J2：技能攻击第1/2个敌人】【D：防御】\n",
      "请输入A1/A2/J1/J2/D:J2\n",
      "******* 敌人1已死亡 *******\n",
      "\n",
      "老王's hp/mp is 120.0/70.0.\n",
      "敌人1's hp/mp is 0/50.0.\n",
      "敌人2's hp/mp is 150/25.0.\n",
      "【A1/A2：普通攻击第1/2个敌人】【J1/J2：技能攻击第1/2个敌人】【D：防御】\n",
      "请输入A1/A2/J1/J2/D:J2\n",
      "******* 敌人1已死亡 *******\n",
      "\n",
      "老王's hp/mp is 110.0/55.0.\n",
      "敌人1's hp/mp is 0/50.0.\n",
      "敌人2's hp/mp is 130/35.0.\n",
      "【A1/A2：普通攻击第1/2个敌人】【J1/J2：技能攻击第1/2个敌人】【D：防御】\n",
      "请输入A1/A2/J1/J2/D:J2\n",
      "******* 敌人1已死亡 *******\n",
      "\n",
      "老王's hp/mp is 100.0/40.0.\n",
      "敌人1's hp/mp is 0/50.0.\n",
      "敌人2's hp/mp is 110/45.0.\n",
      "【A1/A2：普通攻击第1/2个敌人】【J1/J2：技能攻击第1/2个敌人】【D：防御】\n",
      "请输入A1/A2/J1/J2/D:J2\n",
      "******* 敌人1已死亡 *******\n",
      "\n",
      "老王's hp/mp is 90.0/25.0.\n",
      "敌人1's hp/mp is 0/50.0.\n",
      "敌人2's hp/mp is 90/55.0.\n",
      "【A1/A2：普通攻击第1/2个敌人】【J1/J2：技能攻击第1/2个敌人】【D：防御】\n",
      "请输入A1/A2/J1/J2/D:J2\n",
      "******* 敌人1已死亡 *******\n",
      "\n",
      "老王's hp/mp is 80.0/10.0.\n",
      "敌人1's hp/mp is 0/50.0.\n",
      "敌人2's hp/mp is 70/65.0.\n",
      "【A1/A2：普通攻击第1/2个敌人】【J1/J2：技能攻击第1/2个敌人】【D：防御】\n",
      "请输入A1/A2/J1/J2/D:J1\n",
      "******* mp<20,无法使用技能请使用普通攻击 *******\n",
      "\n",
      "老王's hp/mp is 80.0/10.0.\n",
      "敌人1's hp/mp is 0/50.0.\n",
      "敌人2's hp/mp is 70/65.0.\n",
      "【A1/A2：普通攻击第1/2个敌人】【J1/J2：技能攻击第1/2个敌人】【D：防御】\n",
      "请输入A1/A2/J1/J2/D:J2\n",
      "******* mp<20,无法使用技能请使用普通攻击 *******\n",
      "\n",
      "老王's hp/mp is 80.0/10.0.\n",
      "敌人1's hp/mp is 0/50.0.\n",
      "敌人2's hp/mp is 70/65.0.\n",
      "【A1/A2：普通攻击第1/2个敌人】【J1/J2：技能攻击第1/2个敌人】【D：防御】\n",
      "请输入A1/A2/J1/J2/D:J2\n",
      "******* mp<20,无法使用技能请使用普通攻击 *******\n",
      "\n",
      "老王's hp/mp is 80.0/10.0.\n",
      "敌人1's hp/mp is 0/50.0.\n",
      "敌人2's hp/mp is 70/65.0.\n",
      "【A1/A2：普通攻击第1/2个敌人】【J1/J2：技能攻击第1/2个敌人】【D：防御】\n",
      "请输入A1/A2/J1/J2/D:A2\n",
      "******* 敌人1已死亡 *******\n",
      "\n",
      "老王's hp/mp is 70.0/15.0.\n",
      "敌人1's hp/mp is 0/50.0.\n",
      "敌人2's hp/mp is 60/70.0.\n",
      "【A1/A2：普通攻击第1/2个敌人】【J1/J2：技能攻击第1/2个敌人】【D：防御】\n",
      "请输入A1/A2/J1/J2/D:A2\n",
      "******* 敌人1已死亡 *******\n",
      "\n",
      "老王's hp/mp is 60.0/20.0.\n",
      "敌人1's hp/mp is 0/50.0.\n",
      "敌人2's hp/mp is 50/75.0.\n",
      "【A1/A2：普通攻击第1/2个敌人】【J1/J2：技能攻击第1/2个敌人】【D：防御】\n",
      "请输入A1/A2/J1/J2/D:A2\n",
      "******* 敌人1已死亡 *******\n",
      "\n",
      "老王's hp/mp is 50.0/25.0.\n",
      "敌人1's hp/mp is 0/50.0.\n",
      "敌人2's hp/mp is 40/80.0.\n",
      "【A1/A2：普通攻击第1/2个敌人】【J1/J2：技能攻击第1/2个敌人】【D：防御】\n",
      "请输入A1/A2/J1/J2/D:A2\n",
      "******* 敌人1已死亡 *******\n",
      "\n",
      "老王's hp/mp is 40.0/30.0.\n",
      "敌人1's hp/mp is 0/50.0.\n",
      "敌人2's hp/mp is 30/85.0.\n",
      "【A1/A2：普通攻击第1/2个敌人】【J1/J2：技能攻击第1/2个敌人】【D：防御】\n",
      "请输入A1/A2/J1/J2/D:J2\n",
      "******* 敌人1已死亡 *******\n",
      "\n",
      "老王's hp/mp is 30.0/15.0.\n",
      "敌人1's hp/mp is 0/50.0.\n",
      "敌人2's hp/mp is 10/95.0.\n",
      "【A1/A2：普通攻击第1/2个敌人】【J1/J2：技能攻击第1/2个敌人】【D：防御】\n",
      "请输入A1/A2/J1/J2/D:J2\n",
      "******* mp<20,无法使用技能请使用普通攻击 *******\n",
      "\n",
      "老王's hp/mp is 30.0/15.0.\n",
      "敌人1's hp/mp is 0/50.0.\n",
      "敌人2's hp/mp is 10/95.0.\n",
      "【A1/A2：普通攻击第1/2个敌人】【J1/J2：技能攻击第1/2个敌人】【D：防御】\n",
      "请输入A1/A2/J1/J2/D:A2\n",
      "******* 敌人1已死亡 *******\n",
      "******* 敌人2已死亡 *******\n",
      "******* You Win! *******\n"
     ]
    }
   ],
   "source": [
    "import random  # 随机数\n",
    "class Creature():\n",
    "    # 人物属性有 名字，血量，魔法量\n",
    "    def __init__(self,name,hp,mp):\n",
    "        self.name = name\n",
    "        self.hp = hp\n",
    "        self.mp = mp\n",
    "\n",
    "    def attack(self):\n",
    "        # 普通攻击数值\n",
    "        if user_input == 'A1' or user_input == 'A2' or user_input == 'D':\n",
    "            attack_value = random.randint(10, 10) # 只生成数字10 方便测试是否有BUG\n",
    "\n",
    "            # 技能攻击数值为普通攻击数值的2倍\n",
    "        elif user_input == 'J1' or user_input == 'J2':\n",
    "            attack_value = random.randint(10, 10)*2 # 只生成数字10 方便测试是否有BUG\n",
    "\n",
    "        return attack_value\n",
    "\n",
    "    def being_attack(self,attack_value):\n",
    "        # 被普通攻击后的 hp=hp-通攻击值，  mp=mp+普通攻击值*0.5\n",
    "        if user_input == 'A1' or user_input == 'A2' or user_input == 'J1' or user_input == 'J2' or user_input == 'D':\n",
    "                self.hp = self.hp - attack_value\n",
    "                self.mp = self.mp + attack_value * 0.5\n",
    "        # 使用技能攻击后，hp=hp-通攻击值*2  mp=mp+普通攻击值*2*0.5\n",
    "\n",
    "\n",
    "    def dead(self):\n",
    "        # 定义死亡\n",
    "        if self.hp <= 0:\n",
    "            return True\n",
    "        else:\n",
    "            return False\n",
    "\n",
    "    def dead_p(self):\n",
    "        # 死亡后输出死亡信息\n",
    "        if self.hp <= 0:\n",
    "            print(f'******* {self.name}已死亡 *******')\n",
    "\n",
    "    def show_status(self):\n",
    "        # 输出人物属性信息\n",
    "        print('{}\\'s hp/mp is {}/{}.'.format(self.name,self.hp,self.mp))\n",
    "\n",
    "\n",
    "# 人物属性信息赋值\n",
    "player = Creature('老王',300,80)\n",
    "enemy1 = Creature('敌人1',100,0)\n",
    "enemy2 = Creature('敌人2',200,0)\n",
    "\n",
    "\n",
    "while (1): # 游戏不结束，不跳出循环\n",
    "\n",
    "    # 显示所有人物信息\n",
    "    print() # 每次攻击完，换行 方便看有无BUG\n",
    "    player.show_status()\n",
    "    enemy1.show_status()\n",
    "    enemy2.show_status()\n",
    "    user_input = input('【A1/A2：普通攻击第1/2个敌人】【J1/J2：技能攻击第1/2个敌人】【D：防御】\\n请输入A1/A2/J1/J2/D:')\n",
    "\n",
    "    if user_input == 'A1':\n",
    "        # 如果攻击的敌人死了就不能再攻击，重新输入\n",
    "        if enemy1.hp <= 0:\n",
    "            print('******* 敌人1已死亡，请攻击其他敌人 *******')\n",
    "            continue\n",
    "\n",
    "        # 敌人2死了就不发起攻击，只承受敌人1的攻击，只有敌人1掉血\n",
    "        if  enemy2.hp <= 0 and enemy1.hp > 0:\n",
    "            player_attack_value = player.attack()\n",
    "            enemy1_attack_value = enemy1.attack()\n",
    "            # 攻击敌人1，只有敌人1掉血\n",
    "            player.being_attack(enemy1_attack_value)\n",
    "            enemy1.being_attack(player_attack_value)\n",
    "\n",
    "        # 如果两个敌人都没死，玩家承受两个敌人的攻击，\n",
    "        elif enemy1.hp > 0 and enemy2.hp > 0:\n",
    "             player_attack_value = player.attack()\n",
    "             enemy1_attack_value = enemy1.attack()\n",
    "             enemy2_attack_value = enemy2.attack()\n",
    "\n",
    "             player.being_attack(enemy1_attack_value + enemy2_attack_value)\n",
    "             # 攻击敌人1，只有敌人1掉血\n",
    "             enemy1.being_attack(player_attack_value)\n",
    "\n",
    "        # 判断是否有人死亡，实时输出死亡信息\n",
    "        player.dead_p()\n",
    "        enemy1.dead_p()\n",
    "        enemy2.dead_p()\n",
    "        # 攻击完判断是否结束游戏，实时跳出循环\n",
    "        if player.dead() or (enemy1.dead() and enemy2.dead()):\n",
    "            if player.dead():\n",
    "                print('******* You lose! *******')\n",
    "            else:\n",
    "                print('******* You Win! *******')\n",
    "            break\n",
    "\n",
    "    elif user_input == 'A2':\n",
    "        # 如果敌人死了就不能再攻击，重新输入\n",
    "        if enemy2.hp <= 0:\n",
    "            print('******* 敌人2已死亡，请攻击其他敌人 *******')\n",
    "            continue\n",
    "\n",
    "        # 敌人1死了，敌人1就不发起攻击，只承受敌人2的攻击\n",
    "        if  enemy1.hp <= 0 and enemy2.hp > 0:\n",
    "            player_attack_value = player.attack()\n",
    "            enemy2_attack_value = enemy2.attack()\n",
    "            player.being_attack(enemy2_attack_value)\n",
    "            # 攻击敌人2，只有敌人2掉血\n",
    "            enemy2.being_attack(player_attack_value)\n",
    "\n",
    "        # 如果两个敌人都没死，玩家承受两个敌人的攻击\n",
    "        elif enemy1.hp > 0 and enemy2.hp > 0:\n",
    "             player_attack_value = player.attack()\n",
    "             enemy1_attack_value = enemy1.attack()\n",
    "             enemy2_attack_value = enemy2.attack()\n",
    "             player.being_attack(enemy1_attack_value + enemy2_attack_value)\n",
    "             # 攻击敌人2，只有敌人2掉血\n",
    "             enemy2.being_attack(player_attack_value)\n",
    "\n",
    "        # 判断是否有人死亡，实时输出死亡信息\n",
    "        player.dead_p()\n",
    "        enemy1.dead_p()\n",
    "        enemy2.dead_p()\n",
    "        # 攻击完判断是否结束游戏，实时跳出循环\n",
    "        if player.dead() or (enemy1.dead() and enemy2.dead()):\n",
    "            if player.dead():\n",
    "                print('******* You lose! *******')\n",
    "            else:\n",
    "                print('******* You Win! *******')\n",
    "            break\n",
    "\n",
    "    elif user_input == 'D':\n",
    "        # 游戏未结束且防御时三种情况，情况1：敌人1死亡，敌人2活着\n",
    "        if enemy1.hp <= 0 and enemy2.hp > 0:\n",
    "            enemy2_attack_value = enemy2.attack() * 0.1\n",
    "            player.being_attack(enemy2_attack_value)\n",
    "\n",
    "        # 情况2：敌人2死亡，敌人1活着\n",
    "        elif enemy2.hp <= 0 and enemy1.hp > 0:\n",
    "            enemy1_attack_value = enemy1.attack() * 0.1\n",
    "            player.being_attack(enemy1_attack_value)\n",
    "\n",
    "        # 情况3：敌人1活着，敌人2活着\n",
    "        elif enemy1.hp > 0 and enemy2.hp > 0:\n",
    "            enemy1_attack_value = enemy1.attack() * 0.1\n",
    "            enemy2_attack_value = enemy2.attack() * 0.1\n",
    "            player.being_attack(enemy2_attack_value + enemy1_attack_value)\n",
    "\n",
    "        # 判断是否有人死亡，实时输出死亡信息\n",
    "        player.dead_p()\n",
    "        enemy1.dead_p()\n",
    "        enemy2.dead_p()\n",
    "\n",
    "        # 攻击完判断是否结束游戏，实时跳出循环\n",
    "        if player.dead() or (enemy1.dead() and enemy2.dead()):\n",
    "            if player.dead():\n",
    "                print('******* You lose! *******')\n",
    "            else:\n",
    "                print('******* You Win! *******')\n",
    "            break\n",
    "\n",
    "    elif user_input == 'J1':\n",
    "        # mp不足20时，无法使用技能提示\n",
    "        if player.mp < 20:\n",
    "            print('******* mp<20,无法使用技能请使用普通攻击 *******')\n",
    "            continue\n",
    "\n",
    "        # 如果攻击的敌人死了就不能再攻击，重新输入\n",
    "        if enemy1.hp <= 0:\n",
    "            print('******* 敌人1已死亡，请攻击其他敌人 *******')\n",
    "            continue\n",
    "\n",
    "        # 敌人2死了就不发起攻击，只承受敌人1的攻击，只有敌人1掉血\n",
    "        if enemy2.hp <= 0 and enemy1.hp > 0:\n",
    "            player_attack_value = player.attack()\n",
    "            # 方法里为放技能为攻击值的2倍，这里把敌人的攻击*0.5还原成普通攻击\n",
    "            enemy1_attack_value = enemy1.attack() * 0.5\n",
    "            # 攻击敌人1，只有敌人1掉血\n",
    "            player.being_attack(enemy1_attack_value)\n",
    "            player.mp = player.mp - 20\n",
    "            enemy1.being_attack(player_attack_value)\n",
    "\n",
    "\n",
    "        # 如果两个敌人都没死，玩家承受两个敌人的攻击，\n",
    "        elif enemy1.hp > 0 and enemy2.hp > 0:\n",
    "            player_attack_value = player.attack()\n",
    "            # 方法里为放技能为攻击值的2倍，这里把敌人的攻击*0.5还原成普通攻击\n",
    "            enemy1_attack_value = enemy1.attack() * 0.5\n",
    "            enemy2_attack_value = enemy2.attack() * 0.5\n",
    "\n",
    "            player.being_attack(enemy1_attack_value + enemy2_attack_value)\n",
    "            player.mp = player.mp - 20\n",
    "            # 攻击敌人1，只有敌人1掉血\n",
    "            enemy1.being_attack(player_attack_value)\n",
    "\n",
    "\n",
    "        # 判断是否有人死亡，实时输出死亡信息\n",
    "        player.dead_p()\n",
    "        enemy1.dead_p()\n",
    "        enemy2.dead_p()\n",
    "        # 攻击完判断是否结束游戏，实时跳出循环\n",
    "        if player.dead() or (enemy1.dead() and enemy2.dead()):\n",
    "            if player.dead():\n",
    "                print('******* You lose! *******')\n",
    "            else:\n",
    "                print('******* You Win! *******')\n",
    "            break\n",
    "\n",
    "    elif user_input == 'J2':\n",
    "        # mp不足20时，无法使用技能提示\n",
    "        if player.mp < 20:\n",
    "            print('******* mp<20,无法使用技能请使用普通攻击 *******')\n",
    "            continue\n",
    "\n",
    "        # 如果敌人死了就不能再攻击，重新输入\n",
    "        if enemy2.hp <= 0:\n",
    "            print('******* 敌人2已死亡，请攻击其他敌人 *******')\n",
    "            continue\n",
    "\n",
    "        # 敌人1死了，敌人1就不发起攻击，只承受敌人2的攻击\n",
    "        if enemy1.hp <= 0 and enemy2.hp > 0:\n",
    "            player_attack_value = player.attack()\n",
    "            # 方法里为放技能为攻击值的2倍，这里把敌人的攻击*0.5还原成普通攻击\n",
    "            enemy2_attack_value = enemy2.attack() * 0.5\n",
    "            player.being_attack(enemy2_attack_value)\n",
    "            player.mp = player.mp - 20\n",
    "            # 攻击敌人2，只有敌人2掉血\n",
    "            enemy2.being_attack(player_attack_value)\n",
    "\n",
    "        # 如果两个敌人都没死，玩家承受两个敌人的攻击\n",
    "        elif enemy1.hp > 0 and enemy2.hp > 0:\n",
    "            player_attack_value = player.attack()\n",
    "            # 方法里为放技能为攻击值的2倍，这里把敌人的攻击*0.5还原成普通攻击\n",
    "            enemy1_attack_value = enemy1.attack() * 0.5\n",
    "            enemy2_attack_value = enemy2.attack() * 0.5\n",
    "            player.being_attack(enemy1_attack_value + enemy2_attack_value)\n",
    "            player.mp = player.mp - 20\n",
    "            # 攻击敌人2，只有敌人2掉血\n",
    "            enemy2.being_attack(player_attack_value)\n",
    "\n",
    "        # 判断是否有人死亡，实时输出死亡信息\n",
    "        player.dead_p()\n",
    "        enemy1.dead_p()\n",
    "        enemy2.dead_p()\n",
    "        # 攻击完判断是否结束游戏，实时跳出循环\n",
    "        if player.dead() or (enemy1.dead() and enemy2.dead()):\n",
    "            if player.dead():\n",
    "                print('******* You lose! *******')\n",
    "            else:\n",
    "                print('******* You Win! *******')\n",
    "            break"
   ]
  },
  {
   "cell_type": "markdown",
   "metadata": {
    "collapsed": true
   },
   "source": [
    "### lambda表达式，快速定义简单函数"
   ]
  },
  {
   "cell_type": "code",
   "execution_count": 2,
   "metadata": {
    "collapsed": true
   },
   "outputs": [
    {
     "data": {
      "text/plain": [
       "6"
      ]
     },
     "execution_count": 2,
     "metadata": {},
     "output_type": "execute_result"
    }
   ],
   "source": [
    "multiply = lambda a,b:a*b   # 参数a,b,返回a*b\n",
    "multiply(2,3) "
   ]
  },
  {
   "cell_type": "markdown",
   "metadata": {},
   "source": [
    "### filter()，过滤序列，返回新列表"
   ]
  },
  {
   "cell_type": "code",
   "execution_count": 9,
   "metadata": {
    "collapsed": true
   },
   "outputs": [
    {
     "name": "stdout",
     "output_type": "stream",
     "text": [
      "['Monkey00000000']\n"
     ]
    }
   ],
   "source": [
    "names = ['Tom','William','Tommy','Monkey00000000']\n",
    "def fake_name(name):\n",
    "    return len(name)>10\n",
    "fake_name_list = list(filter(fake_name,names))   # 放入定义的函数和列表做参数\n",
    "print(fake_name_list)"
   ]
  },
  {
   "cell_type": "markdown",
   "metadata": {},
   "source": [
    "### map(), 接收一个函数 f 和一个 list，并通过把函数 f 依次作用在 list 的每个元素上，得到一个新的object并返回"
   ]
  },
  {
   "cell_type": "code",
   "execution_count": 10,
   "metadata": {
    "collapsed": true
   },
   "outputs": [
    {
     "name": "stdout",
     "output_type": "stream",
     "text": [
      "[1, 4, 9, 16, 25]\n"
     ]
    }
   ],
   "source": [
    "list_1 = [1,2,3,4,5]\n",
    "def suquare(x):\n",
    "    return x**2\n",
    "list_2 = list(map(suquare,list_1))\n",
    "print(list_2)"
   ]
  },
  {
   "cell_type": "markdown",
   "metadata": {},
   "source": [
    "### 迭代器和生成器"
   ]
  },
  {
   "cell_type": "code",
   "execution_count": 12,
   "metadata": {
    "collapsed": true
   },
   "outputs": [
    {
     "name": "stdout",
     "output_type": "stream",
     "text": [
      "[(0, 'a'), (1, 'b'), (2, 'c'), (3, 'd')]\n"
     ]
    }
   ],
   "source": [
    "list_1 = ['a','b','c','d']\n",
    "print(list(enumerate(list_1)))"
   ]
  },
  {
   "cell_type": "code",
   "execution_count": 15,
   "metadata": {
    "collapsed": true
   },
   "outputs": [
    {
     "name": "stdout",
     "output_type": "stream",
     "text": [
      "[0, 1, 2, 3, 4, 5, 6, 7, 8, 9, 10, 11, 12, 13, 14, 15, 16, 17, 18, 19, 20, 21, 22, 23, 24, 25, 26, 27, 28, 29, 30, 31, 32, 33, 34, 35, 36, 37, 38, 39, 40, 41, 42, 43, 44, 45, 46, 47, 48, 49, 50, 51, 52, 53, 54, 55, 56, 57, 58, 59, 60, 61, 62, 63, 64, 65, 66, 67, 68, 69, 70, 71, 72, 73, 74, 75, 76, 77, 78, 79, 80, 81, 82, 83, 84, 85, 86, 87, 88, 89, 90, 91, 92, 93, 94, 95, 96, 97, 98, 99]\n"
     ]
    }
   ],
   "source": [
    "# 生成器 生成 迭代器\n",
    "def my_range(x):\n",
    "    a = 0\n",
    "    while a <= x:\n",
    "        yield a\n",
    "        a+=1\n",
    "print(list(my_range(99)))"
   ]
  },
  {
   "cell_type": "markdown",
   "metadata": {},
   "source": [
    "### 生成器对大数据进行切分"
   ]
  },
  {
   "cell_type": "code",
   "execution_count": 18,
   "metadata": {
    "collapsed": true
   },
   "outputs": [
    {
     "name": "stdout",
     "output_type": "stream",
     "text": [
      "[0, 1, 2, 3, 4, 5, 6, 7, 8, 9, 10, 11, 12, 13, 14, 15, 16, 17, 18, 19]\n",
      "[20, 21, 22, 23, 24, 25, 26, 27, 28, 29, 30, 31, 32, 33, 34, 35, 36, 37, 38, 39]\n",
      "[40, 41, 42, 43, 44, 45, 46, 47, 48, 49, 50, 51, 52, 53, 54, 55, 56, 57, 58, 59]\n",
      "[60, 61, 62, 63, 64, 65, 66, 67, 68, 69, 70, 71, 72, 73, 74, 75, 76, 77, 78, 79]\n",
      "[80, 81, 82, 83, 84, 85, 86, 87, 88, 89, 90, 91, 92, 93, 94, 95, 96, 97, 98, 99]\n"
     ]
    }
   ],
   "source": [
    "def chunker(iterable,size):\n",
    "    for i in range(0,len(iterable),size):\n",
    "        yield iterable[i:i+size]\n",
    "\n",
    "for chunk in chunker(range(100),20):\n",
    "    print(list(chunk))\n",
    "    "
   ]
  },
  {
   "cell_type": "code",
   "execution_count": 23,
   "metadata": {
    "collapsed": true
   },
   "outputs": [
    {
     "name": "stdout",
     "output_type": "stream",
     "text": [
      "[2, 2]\n"
     ]
    }
   ],
   "source": [
    "iterable=[1,2,2,3,3]\n",
    "print(iterable[1:3])"
   ]
  },
  {
   "cell_type": "markdown",
   "metadata": {},
   "source": [
    "### 异常处理"
   ]
  },
  {
   "cell_type": "code",
   "execution_count": 6,
   "metadata": {},
   "outputs": [
    {
     "name": "stdout",
     "output_type": "stream",
     "text": [
      "Enter a int number please:2\n",
      "please try again:\n"
     ]
    }
   ],
   "source": [
    "while True:\n",
    "    try:\n",
    "        x=int(input('Enter a int number please:'))\n",
    "        break\n",
    "    except:\n",
    "        print('That\\'s not a int number! ')\n",
    "    finally:\n",
    "        print('please try again:') #finally的代码是肯定执行的，不管是否有异常,但是finally语块是可选的。\n",
    "       "
   ]
  },
  {
   "cell_type": "markdown",
   "metadata": {},
   "source": [
    "### bash shell基本的用法\n",
    "- echo 打印\n",
    "- ls 查看当前路径下的目录\n",
    "- ls -l 查看文件详细信息\n",
    "- ls -l /User/(路径) 指定路径下的详细文件信息\n",
    "- ls -l /User/(路径) *.py 指定路径下的所有py文件的详细信息\n",
    "- ls ~  初始路径下的文件\n",
    "- cd 路径 改变路径\n",
    "- cd .. 改成上一个目录\n",
    "- cd ~ 回到默认目录\n",
    "- pwd 查看当前路径\n",
    "- mkdir /c/Users/10746/1112 创建文件夹\n",
    "- mv 路径1/*.py 路径2  把所有py文件移动到路径2\n",
    "- curl 'www.baidu.com' 获取百度的源代码，需要加www\n",
    "- curl -l 'www.baidu.com' 获取百度的源代码，需要加www，-l为重定向\n",
    "- curl -l -o desktop/baidu.html 'www.baidu.com' 保存百度的源代码到本地桌面，-o保存到本地，无法保存异步数据\n",
    "- cat desktop/baidu.html 读取百度文件\n",
    "- less desktop/baidu.html 一页一页显示（按空格显示下一页）打开百度文件  \n",
    "b:上一页，空格:下一页， /baidu:搜索baidu   q:退出\n",
    "- touch alibaba.txt  创建alibaba.txt文件\n",
    "- rm trash2.txt 删除trash2.txt文件，并且回收站里的也一并删除\n",
    "- rm -i trash2.txt 删除trash2.txt文件，删除前提示是否确定删除 y/n\n",
    "- rmdir trash/ 删除 trash/ 文件夹\n",
    "- nano 写入文件，ctrl+x 退出  退出时提示是否保存 y，保存文件名及后缀\n",
    "- grep apple trash2.txt | less  在trash2.txt文件搜索 apple 关键词 以less（分页）形式返回\n",
    "- curl -l 'www.baidu.com' | grep baidu | wc -l  搜索baidu在 baidu.com源码中出现的行数  \n",
    "wc:word count，l:line  \n",
    "- curl -l 'www.baidu.com' | grep -c baidu 搜索baidu在 baidu.com源码中出现的次数"
   ]
  },
  {
   "cell_type": "code",
   "execution_count": null,
   "metadata": {
    "collapsed": true
   },
   "outputs": [],
   "source": []
  }
 ],
 "metadata": {
  "hide_input": false,
  "kernelspec": {
   "display_name": "Python 3",
   "language": "python",
   "name": "python3"
  },
  "language_info": {
   "codemirror_mode": {
    "name": "ipython",
    "version": 3
   },
   "file_extension": ".py",
   "mimetype": "text/x-python",
   "name": "python",
   "nbconvert_exporter": "python",
   "pygments_lexer": "ipython3",
   "version": "3.6.1"
  },
  "toc": {
   "base_numbering": 1,
   "nav_menu": {},
   "number_sections": true,
   "sideBar": false,
   "skip_h1_title": false,
   "title_cell": "Table of Contents",
   "title_sidebar": "Contents",
   "toc_cell": false,
   "toc_position": {
    "height": "46px",
    "left": "1205px",
    "top": "54px",
    "width": "163px"
   },
   "toc_section_display": false,
   "toc_window_display": true
  },
  "varInspector": {
   "cols": {
    "lenName": 16,
    "lenType": 16,
    "lenVar": 40
   },
   "kernels_config": {
    "python": {
     "delete_cmd_postfix": "",
     "delete_cmd_prefix": "del ",
     "library": "var_list.py",
     "varRefreshCmd": "print(var_dic_list())"
    },
    "r": {
     "delete_cmd_postfix": ") ",
     "delete_cmd_prefix": "rm(",
     "library": "var_list.r",
     "varRefreshCmd": "cat(var_dic_list()) "
    }
   },
   "types_to_exclude": [
    "module",
    "function",
    "builtin_function_or_method",
    "instance",
    "_Feature"
   ],
   "window_display": false
  }
 },
 "nbformat": 4,
 "nbformat_minor": 2
}
